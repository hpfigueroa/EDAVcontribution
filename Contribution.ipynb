{
 "cells": [
  {
   "cell_type": "markdown",
   "metadata": {},
   "source": [
    "## Reference to convert functions from R ggplot to Python bokeh\n",
    "\n",
    "I hope this guide helps you convert a useful graph developed used in R ggplot to Python [bokeh](https://bokeh.pydata.org/). Bokeh is a library that can create interactive plots. However, bokeh has limited integrated statistics functionality.   \n",
    "This guide converts some sections included in [the ggplot reference](https://ggplot2.tidyverse.org/reference/index.html)"
   ]
  },
  {
   "cell_type": "markdown",
   "metadata": {},
   "source": [
    "### Loading the library\n",
    "We can load multiple bokeh.plotting modules, similarly to loading library(ggplot2). To use statistical functions such as count, sum and mean, we use the numpy and pandas libraries. Bokeh, numpy and pandas are included in Anaconda.\n",
    "Also to create similar plots to the ggplot2 reference guide, we use the ggplot2 datasets from [scilab](https://forge.scilab.org/index.php/p/rdataset/source/tree/master/csv/ggplot2)"
   ]
  },
  {
   "cell_type": "code",
   "execution_count": 1,
   "metadata": {},
   "outputs": [
    {
     "data": {
      "text/html": [
       "\n",
       "    <div class=\"bk-root\">\n",
       "        <a href=\"https://bokeh.pydata.org\" target=\"_blank\" class=\"bk-logo bk-logo-small bk-logo-notebook\"></a>\n",
       "        <span id=\"18678c8a-dec5-4f10-b7c8-8a6e29933ee8\">Loading BokehJS ...</span>\n",
       "    </div>"
      ]
     },
     "metadata": {},
     "output_type": "display_data"
    },
    {
     "data": {
      "application/javascript": [
       "\n",
       "(function(root) {\n",
       "  function now() {\n",
       "    return new Date();\n",
       "  }\n",
       "\n",
       "  var force = true;\n",
       "\n",
       "  if (typeof (root._bokeh_onload_callbacks) === \"undefined\" || force === true) {\n",
       "    root._bokeh_onload_callbacks = [];\n",
       "    root._bokeh_is_loading = undefined;\n",
       "  }\n",
       "\n",
       "  var JS_MIME_TYPE = 'application/javascript';\n",
       "  var HTML_MIME_TYPE = 'text/html';\n",
       "  var EXEC_MIME_TYPE = 'application/vnd.bokehjs_exec.v0+json';\n",
       "  var CLASS_NAME = 'output_bokeh rendered_html';\n",
       "\n",
       "  /**\n",
       "   * Render data to the DOM node\n",
       "   */\n",
       "  function render(props, node) {\n",
       "    var script = document.createElement(\"script\");\n",
       "    node.appendChild(script);\n",
       "  }\n",
       "\n",
       "  /**\n",
       "   * Handle when an output is cleared or removed\n",
       "   */\n",
       "  function handleClearOutput(event, handle) {\n",
       "    var cell = handle.cell;\n",
       "\n",
       "    var id = cell.output_area._bokeh_element_id;\n",
       "    var server_id = cell.output_area._bokeh_server_id;\n",
       "    // Clean up Bokeh references\n",
       "    if (id != null && id in Bokeh.index) {\n",
       "      Bokeh.index[id].model.document.clear();\n",
       "      delete Bokeh.index[id];\n",
       "    }\n",
       "\n",
       "    if (server_id !== undefined) {\n",
       "      // Clean up Bokeh references\n",
       "      var cmd = \"from bokeh.io.state import curstate; print(curstate().uuid_to_server['\" + server_id + \"'].get_sessions()[0].document.roots[0]._id)\";\n",
       "      cell.notebook.kernel.execute(cmd, {\n",
       "        iopub: {\n",
       "          output: function(msg) {\n",
       "            var id = msg.content.text.trim();\n",
       "            if (id in Bokeh.index) {\n",
       "              Bokeh.index[id].model.document.clear();\n",
       "              delete Bokeh.index[id];\n",
       "            }\n",
       "          }\n",
       "        }\n",
       "      });\n",
       "      // Destroy server and session\n",
       "      var cmd = \"import bokeh.io.notebook as ion; ion.destroy_server('\" + server_id + \"')\";\n",
       "      cell.notebook.kernel.execute(cmd);\n",
       "    }\n",
       "  }\n",
       "\n",
       "  /**\n",
       "   * Handle when a new output is added\n",
       "   */\n",
       "  function handleAddOutput(event, handle) {\n",
       "    var output_area = handle.output_area;\n",
       "    var output = handle.output;\n",
       "\n",
       "    // limit handleAddOutput to display_data with EXEC_MIME_TYPE content only\n",
       "    if ((output.output_type != \"display_data\") || (!output.data.hasOwnProperty(EXEC_MIME_TYPE))) {\n",
       "      return\n",
       "    }\n",
       "\n",
       "    var toinsert = output_area.element.find(\".\" + CLASS_NAME.split(' ')[0]);\n",
       "\n",
       "    if (output.metadata[EXEC_MIME_TYPE][\"id\"] !== undefined) {\n",
       "      toinsert[toinsert.length - 1].firstChild.textContent = output.data[JS_MIME_TYPE];\n",
       "      // store reference to embed id on output_area\n",
       "      output_area._bokeh_element_id = output.metadata[EXEC_MIME_TYPE][\"id\"];\n",
       "    }\n",
       "    if (output.metadata[EXEC_MIME_TYPE][\"server_id\"] !== undefined) {\n",
       "      var bk_div = document.createElement(\"div\");\n",
       "      bk_div.innerHTML = output.data[HTML_MIME_TYPE];\n",
       "      var script_attrs = bk_div.children[0].attributes;\n",
       "      for (var i = 0; i < script_attrs.length; i++) {\n",
       "        toinsert[toinsert.length - 1].firstChild.setAttribute(script_attrs[i].name, script_attrs[i].value);\n",
       "      }\n",
       "      // store reference to server id on output_area\n",
       "      output_area._bokeh_server_id = output.metadata[EXEC_MIME_TYPE][\"server_id\"];\n",
       "    }\n",
       "  }\n",
       "\n",
       "  function register_renderer(events, OutputArea) {\n",
       "\n",
       "    function append_mime(data, metadata, element) {\n",
       "      // create a DOM node to render to\n",
       "      var toinsert = this.create_output_subarea(\n",
       "        metadata,\n",
       "        CLASS_NAME,\n",
       "        EXEC_MIME_TYPE\n",
       "      );\n",
       "      this.keyboard_manager.register_events(toinsert);\n",
       "      // Render to node\n",
       "      var props = {data: data, metadata: metadata[EXEC_MIME_TYPE]};\n",
       "      render(props, toinsert[toinsert.length - 1]);\n",
       "      element.append(toinsert);\n",
       "      return toinsert\n",
       "    }\n",
       "\n",
       "    /* Handle when an output is cleared or removed */\n",
       "    events.on('clear_output.CodeCell', handleClearOutput);\n",
       "    events.on('delete.Cell', handleClearOutput);\n",
       "\n",
       "    /* Handle when a new output is added */\n",
       "    events.on('output_added.OutputArea', handleAddOutput);\n",
       "\n",
       "    /**\n",
       "     * Register the mime type and append_mime function with output_area\n",
       "     */\n",
       "    OutputArea.prototype.register_mime_type(EXEC_MIME_TYPE, append_mime, {\n",
       "      /* Is output safe? */\n",
       "      safe: true,\n",
       "      /* Index of renderer in `output_area.display_order` */\n",
       "      index: 0\n",
       "    });\n",
       "  }\n",
       "\n",
       "  // register the mime type if in Jupyter Notebook environment and previously unregistered\n",
       "  if (root.Jupyter !== undefined) {\n",
       "    var events = require('base/js/events');\n",
       "    var OutputArea = require('notebook/js/outputarea').OutputArea;\n",
       "\n",
       "    if (OutputArea.prototype.mime_types().indexOf(EXEC_MIME_TYPE) == -1) {\n",
       "      register_renderer(events, OutputArea);\n",
       "    }\n",
       "  }\n",
       "\n",
       "  \n",
       "  if (typeof (root._bokeh_timeout) === \"undefined\" || force === true) {\n",
       "    root._bokeh_timeout = Date.now() + 5000;\n",
       "    root._bokeh_failed_load = false;\n",
       "  }\n",
       "\n",
       "  var NB_LOAD_WARNING = {'data': {'text/html':\n",
       "     \"<div style='background-color: #fdd'>\\n\"+\n",
       "     \"<p>\\n\"+\n",
       "     \"BokehJS does not appear to have successfully loaded. If loading BokehJS from CDN, this \\n\"+\n",
       "     \"may be due to a slow or bad network connection. Possible fixes:\\n\"+\n",
       "     \"</p>\\n\"+\n",
       "     \"<ul>\\n\"+\n",
       "     \"<li>re-rerun `output_notebook()` to attempt to load from CDN again, or</li>\\n\"+\n",
       "     \"<li>use INLINE resources instead, as so:</li>\\n\"+\n",
       "     \"</ul>\\n\"+\n",
       "     \"<code>\\n\"+\n",
       "     \"from bokeh.resources import INLINE\\n\"+\n",
       "     \"output_notebook(resources=INLINE)\\n\"+\n",
       "     \"</code>\\n\"+\n",
       "     \"</div>\"}};\n",
       "\n",
       "  function display_loaded() {\n",
       "    var el = document.getElementById(\"18678c8a-dec5-4f10-b7c8-8a6e29933ee8\");\n",
       "    if (el != null) {\n",
       "      el.textContent = \"BokehJS is loading...\";\n",
       "    }\n",
       "    if (root.Bokeh !== undefined) {\n",
       "      if (el != null) {\n",
       "        el.textContent = \"BokehJS \" + root.Bokeh.version + \" successfully loaded.\";\n",
       "      }\n",
       "    } else if (Date.now() < root._bokeh_timeout) {\n",
       "      setTimeout(display_loaded, 100)\n",
       "    }\n",
       "  }\n",
       "\n",
       "\n",
       "  function run_callbacks() {\n",
       "    try {\n",
       "      root._bokeh_onload_callbacks.forEach(function(callback) { callback() });\n",
       "    }\n",
       "    finally {\n",
       "      delete root._bokeh_onload_callbacks\n",
       "    }\n",
       "    console.info(\"Bokeh: all callbacks have finished\");\n",
       "  }\n",
       "\n",
       "  function load_libs(js_urls, callback) {\n",
       "    root._bokeh_onload_callbacks.push(callback);\n",
       "    if (root._bokeh_is_loading > 0) {\n",
       "      console.log(\"Bokeh: BokehJS is being loaded, scheduling callback at\", now());\n",
       "      return null;\n",
       "    }\n",
       "    if (js_urls == null || js_urls.length === 0) {\n",
       "      run_callbacks();\n",
       "      return null;\n",
       "    }\n",
       "    console.log(\"Bokeh: BokehJS not loaded, scheduling load and callback at\", now());\n",
       "    root._bokeh_is_loading = js_urls.length;\n",
       "    for (var i = 0; i < js_urls.length; i++) {\n",
       "      var url = js_urls[i];\n",
       "      var s = document.createElement('script');\n",
       "      s.src = url;\n",
       "      s.async = false;\n",
       "      s.onreadystatechange = s.onload = function() {\n",
       "        root._bokeh_is_loading--;\n",
       "        if (root._bokeh_is_loading === 0) {\n",
       "          console.log(\"Bokeh: all BokehJS libraries loaded\");\n",
       "          run_callbacks()\n",
       "        }\n",
       "      };\n",
       "      s.onerror = function() {\n",
       "        console.warn(\"failed to load library \" + url);\n",
       "      };\n",
       "      console.log(\"Bokeh: injecting script tag for BokehJS library: \", url);\n",
       "      document.getElementsByTagName(\"head\")[0].appendChild(s);\n",
       "    }\n",
       "  };var element = document.getElementById(\"18678c8a-dec5-4f10-b7c8-8a6e29933ee8\");\n",
       "  if (element == null) {\n",
       "    console.log(\"Bokeh: ERROR: autoload.js configured with elementid '18678c8a-dec5-4f10-b7c8-8a6e29933ee8' but no matching script tag was found. \")\n",
       "    return false;\n",
       "  }\n",
       "\n",
       "  var js_urls = [\"https://cdn.pydata.org/bokeh/release/bokeh-0.13.0.min.js\", \"https://cdn.pydata.org/bokeh/release/bokeh-widgets-0.13.0.min.js\", \"https://cdn.pydata.org/bokeh/release/bokeh-tables-0.13.0.min.js\", \"https://cdn.pydata.org/bokeh/release/bokeh-gl-0.13.0.min.js\"];\n",
       "\n",
       "  var inline_js = [\n",
       "    function(Bokeh) {\n",
       "      Bokeh.set_log_level(\"info\");\n",
       "    },\n",
       "    \n",
       "    function(Bokeh) {\n",
       "      \n",
       "    },\n",
       "    function(Bokeh) {\n",
       "      console.log(\"Bokeh: injecting CSS: https://cdn.pydata.org/bokeh/release/bokeh-0.13.0.min.css\");\n",
       "      Bokeh.embed.inject_css(\"https://cdn.pydata.org/bokeh/release/bokeh-0.13.0.min.css\");\n",
       "      console.log(\"Bokeh: injecting CSS: https://cdn.pydata.org/bokeh/release/bokeh-widgets-0.13.0.min.css\");\n",
       "      Bokeh.embed.inject_css(\"https://cdn.pydata.org/bokeh/release/bokeh-widgets-0.13.0.min.css\");\n",
       "      console.log(\"Bokeh: injecting CSS: https://cdn.pydata.org/bokeh/release/bokeh-tables-0.13.0.min.css\");\n",
       "      Bokeh.embed.inject_css(\"https://cdn.pydata.org/bokeh/release/bokeh-tables-0.13.0.min.css\");\n",
       "    }\n",
       "  ];\n",
       "\n",
       "  function run_inline_js() {\n",
       "    \n",
       "    if ((root.Bokeh !== undefined) || (force === true)) {\n",
       "      for (var i = 0; i < inline_js.length; i++) {\n",
       "        inline_js[i].call(root, root.Bokeh);\n",
       "      }if (force === true) {\n",
       "        display_loaded();\n",
       "      }} else if (Date.now() < root._bokeh_timeout) {\n",
       "      setTimeout(run_inline_js, 100);\n",
       "    } else if (!root._bokeh_failed_load) {\n",
       "      console.log(\"Bokeh: BokehJS failed to load within specified timeout.\");\n",
       "      root._bokeh_failed_load = true;\n",
       "    } else if (force !== true) {\n",
       "      var cell = $(document.getElementById(\"18678c8a-dec5-4f10-b7c8-8a6e29933ee8\")).parents('.cell').data().cell;\n",
       "      cell.output_area.append_execute_result(NB_LOAD_WARNING)\n",
       "    }\n",
       "\n",
       "  }\n",
       "\n",
       "  if (root._bokeh_is_loading === 0) {\n",
       "    console.log(\"Bokeh: BokehJS loaded, going straight to plotting\");\n",
       "    run_inline_js();\n",
       "  } else {\n",
       "    load_libs(js_urls, function() {\n",
       "      console.log(\"Bokeh: BokehJS plotting callback run at\", now());\n",
       "      run_inline_js();\n",
       "    });\n",
       "  }\n",
       "}(window));"
      ],
      "application/vnd.bokehjs_load.v0+json": "\n(function(root) {\n  function now() {\n    return new Date();\n  }\n\n  var force = true;\n\n  if (typeof (root._bokeh_onload_callbacks) === \"undefined\" || force === true) {\n    root._bokeh_onload_callbacks = [];\n    root._bokeh_is_loading = undefined;\n  }\n\n  \n\n  \n  if (typeof (root._bokeh_timeout) === \"undefined\" || force === true) {\n    root._bokeh_timeout = Date.now() + 5000;\n    root._bokeh_failed_load = false;\n  }\n\n  var NB_LOAD_WARNING = {'data': {'text/html':\n     \"<div style='background-color: #fdd'>\\n\"+\n     \"<p>\\n\"+\n     \"BokehJS does not appear to have successfully loaded. If loading BokehJS from CDN, this \\n\"+\n     \"may be due to a slow or bad network connection. Possible fixes:\\n\"+\n     \"</p>\\n\"+\n     \"<ul>\\n\"+\n     \"<li>re-rerun `output_notebook()` to attempt to load from CDN again, or</li>\\n\"+\n     \"<li>use INLINE resources instead, as so:</li>\\n\"+\n     \"</ul>\\n\"+\n     \"<code>\\n\"+\n     \"from bokeh.resources import INLINE\\n\"+\n     \"output_notebook(resources=INLINE)\\n\"+\n     \"</code>\\n\"+\n     \"</div>\"}};\n\n  function display_loaded() {\n    var el = document.getElementById(\"18678c8a-dec5-4f10-b7c8-8a6e29933ee8\");\n    if (el != null) {\n      el.textContent = \"BokehJS is loading...\";\n    }\n    if (root.Bokeh !== undefined) {\n      if (el != null) {\n        el.textContent = \"BokehJS \" + root.Bokeh.version + \" successfully loaded.\";\n      }\n    } else if (Date.now() < root._bokeh_timeout) {\n      setTimeout(display_loaded, 100)\n    }\n  }\n\n\n  function run_callbacks() {\n    try {\n      root._bokeh_onload_callbacks.forEach(function(callback) { callback() });\n    }\n    finally {\n      delete root._bokeh_onload_callbacks\n    }\n    console.info(\"Bokeh: all callbacks have finished\");\n  }\n\n  function load_libs(js_urls, callback) {\n    root._bokeh_onload_callbacks.push(callback);\n    if (root._bokeh_is_loading > 0) {\n      console.log(\"Bokeh: BokehJS is being loaded, scheduling callback at\", now());\n      return null;\n    }\n    if (js_urls == null || js_urls.length === 0) {\n      run_callbacks();\n      return null;\n    }\n    console.log(\"Bokeh: BokehJS not loaded, scheduling load and callback at\", now());\n    root._bokeh_is_loading = js_urls.length;\n    for (var i = 0; i < js_urls.length; i++) {\n      var url = js_urls[i];\n      var s = document.createElement('script');\n      s.src = url;\n      s.async = false;\n      s.onreadystatechange = s.onload = function() {\n        root._bokeh_is_loading--;\n        if (root._bokeh_is_loading === 0) {\n          console.log(\"Bokeh: all BokehJS libraries loaded\");\n          run_callbacks()\n        }\n      };\n      s.onerror = function() {\n        console.warn(\"failed to load library \" + url);\n      };\n      console.log(\"Bokeh: injecting script tag for BokehJS library: \", url);\n      document.getElementsByTagName(\"head\")[0].appendChild(s);\n    }\n  };var element = document.getElementById(\"18678c8a-dec5-4f10-b7c8-8a6e29933ee8\");\n  if (element == null) {\n    console.log(\"Bokeh: ERROR: autoload.js configured with elementid '18678c8a-dec5-4f10-b7c8-8a6e29933ee8' but no matching script tag was found. \")\n    return false;\n  }\n\n  var js_urls = [\"https://cdn.pydata.org/bokeh/release/bokeh-0.13.0.min.js\", \"https://cdn.pydata.org/bokeh/release/bokeh-widgets-0.13.0.min.js\", \"https://cdn.pydata.org/bokeh/release/bokeh-tables-0.13.0.min.js\", \"https://cdn.pydata.org/bokeh/release/bokeh-gl-0.13.0.min.js\"];\n\n  var inline_js = [\n    function(Bokeh) {\n      Bokeh.set_log_level(\"info\");\n    },\n    \n    function(Bokeh) {\n      \n    },\n    function(Bokeh) {\n      console.log(\"Bokeh: injecting CSS: https://cdn.pydata.org/bokeh/release/bokeh-0.13.0.min.css\");\n      Bokeh.embed.inject_css(\"https://cdn.pydata.org/bokeh/release/bokeh-0.13.0.min.css\");\n      console.log(\"Bokeh: injecting CSS: https://cdn.pydata.org/bokeh/release/bokeh-widgets-0.13.0.min.css\");\n      Bokeh.embed.inject_css(\"https://cdn.pydata.org/bokeh/release/bokeh-widgets-0.13.0.min.css\");\n      console.log(\"Bokeh: injecting CSS: https://cdn.pydata.org/bokeh/release/bokeh-tables-0.13.0.min.css\");\n      Bokeh.embed.inject_css(\"https://cdn.pydata.org/bokeh/release/bokeh-tables-0.13.0.min.css\");\n    }\n  ];\n\n  function run_inline_js() {\n    \n    if ((root.Bokeh !== undefined) || (force === true)) {\n      for (var i = 0; i < inline_js.length; i++) {\n        inline_js[i].call(root, root.Bokeh);\n      }if (force === true) {\n        display_loaded();\n      }} else if (Date.now() < root._bokeh_timeout) {\n      setTimeout(run_inline_js, 100);\n    } else if (!root._bokeh_failed_load) {\n      console.log(\"Bokeh: BokehJS failed to load within specified timeout.\");\n      root._bokeh_failed_load = true;\n    } else if (force !== true) {\n      var cell = $(document.getElementById(\"18678c8a-dec5-4f10-b7c8-8a6e29933ee8\")).parents('.cell').data().cell;\n      cell.output_area.append_execute_result(NB_LOAD_WARNING)\n    }\n\n  }\n\n  if (root._bokeh_is_loading === 0) {\n    console.log(\"Bokeh: BokehJS loaded, going straight to plotting\");\n    run_inline_js();\n  } else {\n    load_libs(js_urls, function() {\n      console.log(\"Bokeh: BokehJS plotting callback run at\", now());\n      run_inline_js();\n    });\n  }\n}(window));"
     },
     "metadata": {},
     "output_type": "display_data"
    }
   ],
   "source": [
    "import pandas as pd\n",
    "import numpy as np\n",
    "from bokeh.plotting import figure, show\n",
    "from bokeh.io import output_notebook\n",
    "\n",
    "mtcars = pd.read_csv('mtcars.csv', index_col=0)\n",
    "mpg =  pd.read_csv('mpg.csv', index_col=0)\n",
    "diamonds =  pd.read_csv('diamonds.csv', index_col=0)\n",
    "for var in ['x','y','carat','price']:\n",
    "    diamonds[var] = pd.to_numeric(diamonds[var])\n",
    "output_notebook()"
   ]
  },
  {
   "cell_type": "markdown",
   "metadata": {},
   "source": [
    "### Layer:geom\n",
    "A geom layer in ggplot2 combines data, aesthetic mapping, geometric objects and a position adjustment. In bokeh, a rendering level is similar to a ggplot2 layer, and geometric objects are called glyphs. The options for glyphs are similar to those in ggplot2: \n",
    "\n",
    "| ggplot2    | bokeh       |\n",
    "|-----------|-------------|\n",
    "| x         | x           |\n",
    "| y         | y           |\n",
    "| color     | line_color, fill_color |\n",
    "| alpha     | line_alpha, fill_alpha |\n",
    "\n",
    "A major difference between ggplot2 and bokeh is that in bokeh, layers are not added with the `+` operator, but by calling a plotting function from plotting object created with the figure function. This will become clear in the following examples"
   ]
  },
  {
   "cell_type": "code",
   "execution_count": 2,
   "metadata": {},
   "outputs": [],
   "source": [
    "#p <- ggplot(mtcars, aes(wt, mpg)) + geom_point()\n",
    "def create_p():\n",
    "    p = figure(title=\"My plot\", plot_width=800, plot_height=400)\n",
    "    p.circle(x='wt',y='mpg',source=mtcars)\n",
    "    return p"
   ]
  },
  {
   "cell_type": "markdown",
   "metadata": {},
   "source": [
    "#### Layer: geoms\n"
   ]
  },
  {
   "cell_type": "markdown",
   "metadata": {},
   "source": [
    "#### geom_abline() geom_hline() geom_vline() \n",
    "Reference lines: horizontal, vertical, and diagonal. Unfortunately this functionality is not directly accessible in bokeh. The vline and hline functionality can be replicated with the ray glyph and special options. The ray will maintain its angle even after changing axis limits, so we should use the segment function instead.\n",
    "Notes: The default angle_units are \"rad\" but can also be changed to \"deg\". To have an “infinite” ray, that always extends to the edge of the plot, specify 0 for the length."
   ]
  },
  {
   "cell_type": "code",
   "execution_count": 3,
   "metadata": {},
   "outputs": [
    {
     "data": {
      "text/html": [
       "\n",
       "\n",
       "\n",
       "\n",
       "\n",
       "\n",
       "  <div class=\"bk-root\" id=\"f5a99d1b-f408-4d33-9609-12c08ae396e0\"></div>\n"
      ]
     },
     "metadata": {},
     "output_type": "display_data"
    },
    {
     "data": {
      "application/javascript": [
       "(function(root) {\n",
       "  function embed_document(root) {\n",
       "    \n",
       "  var docs_json = {\"978e9429-6c4f-4cdd-9b5e-9a87da166631\":{\"roots\":{\"references\":[{\"attributes\":{},\"id\":\"e71f81b5-8152-4544-b9e0-e361d72a8399\",\"type\":\"UnionRenderers\"},{\"attributes\":{\"callback\":null,\"data\":{\"am\":[1,1,1,0,0,0,0,0,0,0,0,0,0,0,0,0,0,1,1,1,0,0,0,0,0,1,1,1,1,1,1,1],\"carb\":[4,4,1,1,2,1,4,2,2,4,4,3,3,3,4,4,4,1,2,1,1,2,2,4,2,1,2,2,4,6,8,2],\"cyl\":[6,6,4,6,8,6,8,4,4,6,6,8,8,8,8,8,8,4,4,4,4,8,8,8,8,4,4,4,8,6,8,4],\"disp\":{\"__ndarray__\":\"AAAAAAAAZEAAAAAAAABkQAAAAAAAAFtAAAAAAAAgcEAAAAAAAIB2QAAAAAAAIGxAAAAAAACAdkBmZmZmZlZiQJqZmZmZmWFAMzMzMzPzZEAzMzMzM/NkQM3MzMzMPHFAzczMzMw8cUDNzMzMzDxxQAAAAAAAgH1AAAAAAADAfEAAAAAAAIB7QM3MzMzMrFNAzczMzMzsUkBmZmZmZsZRQGZmZmZmBl5AAAAAAADgc0AAAAAAAABzQAAAAAAA4HVAAAAAAAAAeUAAAAAAAMBTQDMzMzMzE15AZmZmZmbGV0AAAAAAAPB1QAAAAAAAIGJAAAAAAADQckAAAAAAAEBeQA==\",\"dtype\":\"float64\",\"shape\":[32]},\"drat\":{\"__ndarray__\":\"MzMzMzMzD0AzMzMzMzMPQM3MzMzMzA5ApHA9CtejCEAzMzMzMzMJQBSuR+F6FAZArkfhehSuCUCF61G4HoUNQFyPwvUoXA9AXI/C9ShcD0Bcj8L1KFwPQI/C9ShcjwhAj8L1KFyPCECPwvUoXI8IQHE9CtejcAdAAAAAAAAACEDXo3A9CtcJQFK4HoXrURBAuB6F61G4E0DhehSuR+EQQJqZmZmZmQ1AFK5H4XoUBkAzMzMzMzMJQNejcD0K1w1ApHA9CtejCEBSuB6F61EQQLgehetRuBFAKVyPwvUoDkDhehSuR+EQQPYoXI/C9QxAUrgehetRDEBxPQrXo3AQQA==\",\"dtype\":\"float64\",\"shape\":[32]},\"gear\":[4,4,4,3,3,3,3,4,4,4,4,3,3,3,3,3,3,4,4,4,3,3,3,3,3,4,5,5,5,5,5,4],\"hp\":[110,110,93,110,175,105,245,62,95,123,123,180,180,180,205,215,230,66,52,65,97,150,150,245,175,66,91,113,264,175,335,109],\"model\":[\"Mazda RX4\",\"Mazda RX4 Wag\",\"Datsun 710\",\"Hornet 4 Drive\",\"Hornet Sportabout\",\"Valiant\",\"Duster 360\",\"Merc 240D\",\"Merc 230\",\"Merc 280\",\"Merc 280C\",\"Merc 450SE\",\"Merc 450SL\",\"Merc 450SLC\",\"Cadillac Fleetwood\",\"Lincoln Continental\",\"Chrysler Imperial\",\"Fiat 128\",\"Honda Civic\",\"Toyota Corolla\",\"Toyota Corona\",\"Dodge Challenger\",\"AMC Javelin\",\"Camaro Z28\",\"Pontiac Firebird\",\"Fiat X1-9\",\"Porsche 914-2\",\"Lotus Europa\",\"Ford Pantera L\",\"Ferrari Dino\",\"Maserati Bora\",\"Volvo 142E\"],\"mpg\":{\"__ndarray__\":\"AAAAAAAANUAAAAAAAAA1QM3MzMzMzDZAZmZmZmZmNUAzMzMzM7MyQJqZmZmZGTJAmpmZmZmZLEBmZmZmZmY4QM3MzMzMzDZAMzMzMzMzM0DNzMzMzMwxQGZmZmZmZjBAzczMzMxMMUBmZmZmZmYuQM3MzMzMzCRAzczMzMzMJEBmZmZmZmYtQDMzMzMzM0BAZmZmZmZmPkAzMzMzM/NAQAAAAAAAgDVAAAAAAAAAL0BmZmZmZmYuQJqZmZmZmSpAMzMzMzMzM0DNzMzMzEw7QAAAAAAAADpAZmZmZmZmPkCamZmZmZkvQDMzMzMzszNAAAAAAAAALkBmZmZmZmY1QA==\",\"dtype\":\"float64\",\"shape\":[32]},\"qsec\":{\"__ndarray__\":\"9ihcj8J1MECF61G4HgUxQFyPwvUonDJAcT0K16NwM0CF61G4HgUxQLgehetRODRArkfhehSuL0AAAAAAAAA0QGZmZmZm5jZAzczMzMxMMkBmZmZmZuYyQGZmZmZmZjFAmpmZmZmZMUAAAAAAAAAyQHsUrkfh+jFAUrgehevRMUDsUbgehWsxQLgehetReDNAhetRuB6FMkBmZmZmZuYzQMP1KFyPAjRAH4XrUbjeMEDNzMzMzEwxQFK4HoXr0S5AzczMzMwMMUBmZmZmZuYyQDMzMzMzszBAZmZmZmbmMEAAAAAAAAAtQAAAAAAAAC9AMzMzMzMzLUCamZmZmZkyQA==\",\"dtype\":\"float64\",\"shape\":[32]},\"vs\":[0,0,1,1,0,1,0,1,1,1,1,0,0,0,0,0,0,1,1,1,1,0,0,0,0,1,0,1,0,0,0,1],\"wt\":{\"__ndarray__\":\"9ihcj8L1BEAAAAAAAAAHQI/C9ShcjwJAuB6F61G4CUCF61G4HoULQK5H4XoUrgtAj8L1KFyPDECF61G4HoUJQDMzMzMzMwlAhetRuB6FC0CF61G4HoULQEjhehSuRxBA16NwPQrXDUA9CtejcD0OQAAAAAAAABVAGARWDi2yFUDhehSuR2EVQJqZmZmZmQFA16NwPQrX+T9cj8L1KFz9P7gehetRuANAKVyPwvUoDEB7FK5H4XoLQLgehetRuA5Aw/UoXI/CDkD2KFyPwvX+Px+F61G4HgFAaZHtfD81+D9cj8L1KFwJQClcj8L1KAZAj8L1KFyPDEA9CtejcD0GQA==\",\"dtype\":\"float64\",\"shape\":[32]}},\"selected\":{\"id\":\"7b62f56c-648f-4743-95f2-e79b53726b1e\",\"type\":\"Selection\"},\"selection_policy\":{\"id\":\"e71f81b5-8152-4544-b9e0-e361d72a8399\",\"type\":\"UnionRenderers\"}},\"id\":\"24408bfc-1186-41b6-bde4-82b750a0f674\",\"type\":\"ColumnDataSource\"},{\"attributes\":{},\"id\":\"dc6854bd-9c24-46b2-9a9b-853930b2812c\",\"type\":\"HelpTool\"},{\"attributes\":{\"overlay\":{\"id\":\"136619e1-572d-409b-b55d-4149b7c95bff\",\"type\":\"BoxAnnotation\"}},\"id\":\"1442190d-c3f7-4505-8d19-1173d3743192\",\"type\":\"BoxZoomTool\"},{\"attributes\":{},\"id\":\"dc8ac20f-e9d0-4223-812f-5d87a51a7c1f\",\"type\":\"ResetTool\"},{\"attributes\":{},\"id\":\"60cb7aa8-f4aa-4fdb-a93c-6556428c4b8c\",\"type\":\"SaveTool\"},{\"attributes\":{\"bottom_units\":\"screen\",\"fill_alpha\":{\"value\":0.5},\"fill_color\":{\"value\":\"lightgrey\"},\"left_units\":\"screen\",\"level\":\"overlay\",\"line_alpha\":{\"value\":1.0},\"line_color\":{\"value\":\"black\"},\"line_dash\":[4,4],\"line_width\":{\"value\":2},\"plot\":null,\"render_mode\":\"css\",\"right_units\":\"screen\",\"top_units\":\"screen\"},\"id\":\"136619e1-572d-409b-b55d-4149b7c95bff\",\"type\":\"BoxAnnotation\"},{\"attributes\":{},\"id\":\"97a9341a-9ec1-44d6-aae3-155610333a19\",\"type\":\"BasicTickFormatter\"},{\"attributes\":{\"source\":{\"id\":\"9c05ddc7-ad25-4a27-b5d0-0fa2ee09ae9d\",\"type\":\"ColumnDataSource\"}},\"id\":\"c0563aeb-43a2-40cc-8473-547f2b53fb83\",\"type\":\"CDSView\"},{\"attributes\":{\"data_source\":{\"id\":\"9c05ddc7-ad25-4a27-b5d0-0fa2ee09ae9d\",\"type\":\"ColumnDataSource\"},\"glyph\":{\"id\":\"19d8aff9-3349-4b42-b787-403376f9e6ea\",\"type\":\"Ray\"},\"hover_glyph\":null,\"muted_glyph\":null,\"nonselection_glyph\":{\"id\":\"ff42d25a-b2e3-43e5-a6fb-57f864bc550b\",\"type\":\"Ray\"},\"selection_glyph\":null,\"view\":{\"id\":\"c0563aeb-43a2-40cc-8473-547f2b53fb83\",\"type\":\"CDSView\"}},\"id\":\"fba8fc0e-605b-43c2-837a-94cdcb05954d\",\"type\":\"GlyphRenderer\"},{\"attributes\":{\"angle\":{\"units\":\"deg\",\"value\":90},\"length\":{\"units\":\"data\",\"value\":0},\"line_alpha\":{\"value\":0.1},\"line_color\":{\"value\":\"#1f77b4\"},\"x\":{\"value\":5},\"y\":{\"value\":0}},\"id\":\"ff42d25a-b2e3-43e5-a6fb-57f864bc550b\",\"type\":\"Ray\"},{\"attributes\":{\"angle\":{\"units\":\"deg\",\"value\":90},\"length\":{\"units\":\"data\",\"value\":0},\"line_color\":{\"value\":\"#1f77b4\"},\"x\":{\"value\":5},\"y\":{\"value\":0}},\"id\":\"19d8aff9-3349-4b42-b787-403376f9e6ea\",\"type\":\"Ray\"},{\"attributes\":{\"source\":{\"id\":\"24408bfc-1186-41b6-bde4-82b750a0f674\",\"type\":\"ColumnDataSource\"}},\"id\":\"506d7fe4-938f-4c93-a833-5b11ac4a48c0\",\"type\":\"CDSView\"},{\"attributes\":{},\"id\":\"b4d18e84-d691-402e-992a-bbaf3b192a73\",\"type\":\"BasicTickFormatter\"},{\"attributes\":{},\"id\":\"62cf7c7e-4cd2-4c0b-b2f8-47a799a9a055\",\"type\":\"Selection\"},{\"attributes\":{},\"id\":\"145726e5-faf1-4bbd-b4ef-08d1d246b711\",\"type\":\"UnionRenderers\"},{\"attributes\":{\"dimension\":1,\"plot\":{\"id\":\"bd5bb0b0-a285-4d03-9075-d000bef3a207\",\"subtype\":\"Figure\",\"type\":\"Plot\"},\"ticker\":{\"id\":\"788570d5-1ab5-4acf-af48-c9e8a2119b90\",\"type\":\"BasicTicker\"}},\"id\":\"2dbe6fed-71ca-4966-945e-af0af7bad8d5\",\"type\":\"Grid\"},{\"attributes\":{\"formatter\":{\"id\":\"b4d18e84-d691-402e-992a-bbaf3b192a73\",\"type\":\"BasicTickFormatter\"},\"plot\":{\"id\":\"bd5bb0b0-a285-4d03-9075-d000bef3a207\",\"subtype\":\"Figure\",\"type\":\"Plot\"},\"ticker\":{\"id\":\"52821b35-604e-4952-a55e-f8dba090fc3b\",\"type\":\"BasicTicker\"}},\"id\":\"2f421b0f-ce7c-4b52-828f-5f9875850380\",\"type\":\"LinearAxis\"},{\"attributes\":{},\"id\":\"52821b35-604e-4952-a55e-f8dba090fc3b\",\"type\":\"BasicTicker\"},{\"attributes\":{\"plot\":{\"id\":\"bd5bb0b0-a285-4d03-9075-d000bef3a207\",\"subtype\":\"Figure\",\"type\":\"Plot\"},\"ticker\":{\"id\":\"52821b35-604e-4952-a55e-f8dba090fc3b\",\"type\":\"BasicTicker\"}},\"id\":\"eeadc514-0a75-4cca-bb1b-b69bae1bdb41\",\"type\":\"Grid\"},{\"attributes\":{\"formatter\":{\"id\":\"97a9341a-9ec1-44d6-aae3-155610333a19\",\"type\":\"BasicTickFormatter\"},\"plot\":{\"id\":\"bd5bb0b0-a285-4d03-9075-d000bef3a207\",\"subtype\":\"Figure\",\"type\":\"Plot\"},\"ticker\":{\"id\":\"788570d5-1ab5-4acf-af48-c9e8a2119b90\",\"type\":\"BasicTicker\"}},\"id\":\"580a96fc-7352-4c36-a14e-cffbaacfbb2b\",\"type\":\"LinearAxis\"},{\"attributes\":{},\"id\":\"788570d5-1ab5-4acf-af48-c9e8a2119b90\",\"type\":\"BasicTicker\"},{\"attributes\":{},\"id\":\"7b62f56c-648f-4743-95f2-e79b53726b1e\",\"type\":\"Selection\"},{\"attributes\":{\"callback\":null},\"id\":\"3826c296-7c13-4d01-a117-95d686941633\",\"type\":\"DataRange1d\"},{\"attributes\":{},\"id\":\"8cae5f60-24ae-4eff-88bd-4efc666dbbe8\",\"type\":\"LinearScale\"},{\"attributes\":{},\"id\":\"f4ff2ae4-3bf6-455c-b175-056f00ad0cc7\",\"type\":\"LinearScale\"},{\"attributes\":{\"active_drag\":\"auto\",\"active_inspect\":\"auto\",\"active_multi\":null,\"active_scroll\":\"auto\",\"active_tap\":\"auto\",\"tools\":[{\"id\":\"e0d2fea1-2004-47fb-afa4-ebbf996072ac\",\"type\":\"PanTool\"},{\"id\":\"d4fe3216-50ec-4acc-99f6-d73dc14afee0\",\"type\":\"WheelZoomTool\"},{\"id\":\"1442190d-c3f7-4505-8d19-1173d3743192\",\"type\":\"BoxZoomTool\"},{\"id\":\"60cb7aa8-f4aa-4fdb-a93c-6556428c4b8c\",\"type\":\"SaveTool\"},{\"id\":\"dc8ac20f-e9d0-4223-812f-5d87a51a7c1f\",\"type\":\"ResetTool\"},{\"id\":\"dc6854bd-9c24-46b2-9a9b-853930b2812c\",\"type\":\"HelpTool\"}]},\"id\":\"9d62bd7c-5549-4675-ac1d-7bddbd0ddced\",\"type\":\"Toolbar\"},{\"attributes\":{\"callback\":null},\"id\":\"d2e17fad-aa9d-40f7-b2c5-82ac0ff98c40\",\"type\":\"DataRange1d\"},{\"attributes\":{\"callback\":null,\"data\":{},\"selected\":{\"id\":\"62cf7c7e-4cd2-4c0b-b2f8-47a799a9a055\",\"type\":\"Selection\"},\"selection_policy\":{\"id\":\"145726e5-faf1-4bbd-b4ef-08d1d246b711\",\"type\":\"UnionRenderers\"}},\"id\":\"9c05ddc7-ad25-4a27-b5d0-0fa2ee09ae9d\",\"type\":\"ColumnDataSource\"},{\"attributes\":{\"plot\":null,\"text\":\"My plot\"},\"id\":\"e361e6ec-7dbe-4e94-b785-6b8be761f3b7\",\"type\":\"Title\"},{\"attributes\":{},\"id\":\"e0d2fea1-2004-47fb-afa4-ebbf996072ac\",\"type\":\"PanTool\"},{\"attributes\":{},\"id\":\"d4fe3216-50ec-4acc-99f6-d73dc14afee0\",\"type\":\"WheelZoomTool\"},{\"attributes\":{\"fill_alpha\":{\"value\":0.1},\"fill_color\":{\"value\":\"#1f77b4\"},\"line_alpha\":{\"value\":0.1},\"line_color\":{\"value\":\"#1f77b4\"},\"x\":{\"field\":\"wt\"},\"y\":{\"field\":\"mpg\"}},\"id\":\"819e3b01-c760-4697-9faa-e975bb69da07\",\"type\":\"Circle\"},{\"attributes\":{\"below\":[{\"id\":\"2f421b0f-ce7c-4b52-828f-5f9875850380\",\"type\":\"LinearAxis\"}],\"left\":[{\"id\":\"580a96fc-7352-4c36-a14e-cffbaacfbb2b\",\"type\":\"LinearAxis\"}],\"plot_height\":400,\"plot_width\":800,\"renderers\":[{\"id\":\"2f421b0f-ce7c-4b52-828f-5f9875850380\",\"type\":\"LinearAxis\"},{\"id\":\"eeadc514-0a75-4cca-bb1b-b69bae1bdb41\",\"type\":\"Grid\"},{\"id\":\"580a96fc-7352-4c36-a14e-cffbaacfbb2b\",\"type\":\"LinearAxis\"},{\"id\":\"2dbe6fed-71ca-4966-945e-af0af7bad8d5\",\"type\":\"Grid\"},{\"id\":\"136619e1-572d-409b-b55d-4149b7c95bff\",\"type\":\"BoxAnnotation\"},{\"id\":\"3ccb1e3b-7adb-4e33-9f0b-8c6e135a9407\",\"type\":\"GlyphRenderer\"},{\"id\":\"fba8fc0e-605b-43c2-837a-94cdcb05954d\",\"type\":\"GlyphRenderer\"}],\"title\":{\"id\":\"e361e6ec-7dbe-4e94-b785-6b8be761f3b7\",\"type\":\"Title\"},\"toolbar\":{\"id\":\"9d62bd7c-5549-4675-ac1d-7bddbd0ddced\",\"type\":\"Toolbar\"},\"x_range\":{\"id\":\"d2e17fad-aa9d-40f7-b2c5-82ac0ff98c40\",\"type\":\"DataRange1d\"},\"x_scale\":{\"id\":\"f4ff2ae4-3bf6-455c-b175-056f00ad0cc7\",\"type\":\"LinearScale\"},\"y_range\":{\"id\":\"3826c296-7c13-4d01-a117-95d686941633\",\"type\":\"DataRange1d\"},\"y_scale\":{\"id\":\"8cae5f60-24ae-4eff-88bd-4efc666dbbe8\",\"type\":\"LinearScale\"}},\"id\":\"bd5bb0b0-a285-4d03-9075-d000bef3a207\",\"subtype\":\"Figure\",\"type\":\"Plot\"},{\"attributes\":{\"fill_color\":{\"value\":\"#1f77b4\"},\"line_color\":{\"value\":\"#1f77b4\"},\"x\":{\"field\":\"wt\"},\"y\":{\"field\":\"mpg\"}},\"id\":\"97be6d2a-b214-4b95-837b-19dd90837d8f\",\"type\":\"Circle\"},{\"attributes\":{\"data_source\":{\"id\":\"24408bfc-1186-41b6-bde4-82b750a0f674\",\"type\":\"ColumnDataSource\"},\"glyph\":{\"id\":\"97be6d2a-b214-4b95-837b-19dd90837d8f\",\"type\":\"Circle\"},\"hover_glyph\":null,\"muted_glyph\":null,\"nonselection_glyph\":{\"id\":\"819e3b01-c760-4697-9faa-e975bb69da07\",\"type\":\"Circle\"},\"selection_glyph\":null,\"view\":{\"id\":\"506d7fe4-938f-4c93-a833-5b11ac4a48c0\",\"type\":\"CDSView\"}},\"id\":\"3ccb1e3b-7adb-4e33-9f0b-8c6e135a9407\",\"type\":\"GlyphRenderer\"}],\"root_ids\":[\"bd5bb0b0-a285-4d03-9075-d000bef3a207\"]},\"title\":\"Bokeh Application\",\"version\":\"0.13.0\"}};\n",
       "  var render_items = [{\"docid\":\"978e9429-6c4f-4cdd-9b5e-9a87da166631\",\"roots\":{\"bd5bb0b0-a285-4d03-9075-d000bef3a207\":\"f5a99d1b-f408-4d33-9609-12c08ae396e0\"}}];\n",
       "  root.Bokeh.embed.embed_items_notebook(docs_json, render_items);\n",
       "\n",
       "  }\n",
       "  if (root.Bokeh !== undefined) {\n",
       "    embed_document(root);\n",
       "  } else {\n",
       "    var attempts = 0;\n",
       "    var timer = setInterval(function(root) {\n",
       "      if (root.Bokeh !== undefined) {\n",
       "        embed_document(root);\n",
       "        clearInterval(timer);\n",
       "      }\n",
       "      attempts++;\n",
       "      if (attempts > 100) {\n",
       "        console.log(\"Bokeh: ERROR: Unable to run BokehJS code because BokehJS library is missing\")\n",
       "        clearInterval(timer);\n",
       "      }\n",
       "    }, 10, root)\n",
       "  }\n",
       "})(window);"
      ],
      "application/vnd.bokehjs_exec.v0+json": ""
     },
     "metadata": {
      "application/vnd.bokehjs_exec.v0+json": {
       "id": "bd5bb0b0-a285-4d03-9075-d000bef3a207"
      }
     },
     "output_type": "display_data"
    }
   ],
   "source": [
    "p = create_p()\n",
    "#p + geom_vline(xintercept = 5)\n",
    "p.ray(x=5, y=0, length=0, angle=90, angle_units=\"deg\")\n",
    "show(p)"
   ]
  },
  {
   "cell_type": "code",
   "execution_count": 4,
   "metadata": {},
   "outputs": [
    {
     "data": {
      "text/html": [
       "\n",
       "\n",
       "\n",
       "\n",
       "\n",
       "\n",
       "  <div class=\"bk-root\" id=\"750a1419-a631-4c90-a5ba-14732d2e4691\"></div>\n"
      ]
     },
     "metadata": {},
     "output_type": "display_data"
    },
    {
     "data": {
      "application/javascript": [
       "(function(root) {\n",
       "  function embed_document(root) {\n",
       "    \n",
       "  var docs_json = {\"b811a8d1-66a4-48fc-a80d-074e26b911f8\":{\"roots\":{\"references\":[{\"attributes\":{},\"id\":\"31923188-f0dc-4904-8efc-67b545ff1a45\",\"type\":\"PanTool\"},{\"attributes\":{},\"id\":\"cf5493e7-c0fb-4dcf-9b62-f45bcf4a2a22\",\"type\":\"Selection\"},{\"attributes\":{\"callback\":null,\"data\":{\"am\":[1,1,1,0,0,0,0,0,0,0,0,0,0,0,0,0,0,1,1,1,0,0,0,0,0,1,1,1,1,1,1,1],\"carb\":[4,4,1,1,2,1,4,2,2,4,4,3,3,3,4,4,4,1,2,1,1,2,2,4,2,1,2,2,4,6,8,2],\"cyl\":[6,6,4,6,8,6,8,4,4,6,6,8,8,8,8,8,8,4,4,4,4,8,8,8,8,4,4,4,8,6,8,4],\"disp\":{\"__ndarray__\":\"AAAAAAAAZEAAAAAAAABkQAAAAAAAAFtAAAAAAAAgcEAAAAAAAIB2QAAAAAAAIGxAAAAAAACAdkBmZmZmZlZiQJqZmZmZmWFAMzMzMzPzZEAzMzMzM/NkQM3MzMzMPHFAzczMzMw8cUDNzMzMzDxxQAAAAAAAgH1AAAAAAADAfEAAAAAAAIB7QM3MzMzMrFNAzczMzMzsUkBmZmZmZsZRQGZmZmZmBl5AAAAAAADgc0AAAAAAAABzQAAAAAAA4HVAAAAAAAAAeUAAAAAAAMBTQDMzMzMzE15AZmZmZmbGV0AAAAAAAPB1QAAAAAAAIGJAAAAAAADQckAAAAAAAEBeQA==\",\"dtype\":\"float64\",\"shape\":[32]},\"drat\":{\"__ndarray__\":\"MzMzMzMzD0AzMzMzMzMPQM3MzMzMzA5ApHA9CtejCEAzMzMzMzMJQBSuR+F6FAZArkfhehSuCUCF61G4HoUNQFyPwvUoXA9AXI/C9ShcD0Bcj8L1KFwPQI/C9ShcjwhAj8L1KFyPCECPwvUoXI8IQHE9CtejcAdAAAAAAAAACEDXo3A9CtcJQFK4HoXrURBAuB6F61G4E0DhehSuR+EQQJqZmZmZmQ1AFK5H4XoUBkAzMzMzMzMJQNejcD0K1w1ApHA9CtejCEBSuB6F61EQQLgehetRuBFAKVyPwvUoDkDhehSuR+EQQPYoXI/C9QxAUrgehetRDEBxPQrXo3AQQA==\",\"dtype\":\"float64\",\"shape\":[32]},\"gear\":[4,4,4,3,3,3,3,4,4,4,4,3,3,3,3,3,3,4,4,4,3,3,3,3,3,4,5,5,5,5,5,4],\"hp\":[110,110,93,110,175,105,245,62,95,123,123,180,180,180,205,215,230,66,52,65,97,150,150,245,175,66,91,113,264,175,335,109],\"model\":[\"Mazda RX4\",\"Mazda RX4 Wag\",\"Datsun 710\",\"Hornet 4 Drive\",\"Hornet Sportabout\",\"Valiant\",\"Duster 360\",\"Merc 240D\",\"Merc 230\",\"Merc 280\",\"Merc 280C\",\"Merc 450SE\",\"Merc 450SL\",\"Merc 450SLC\",\"Cadillac Fleetwood\",\"Lincoln Continental\",\"Chrysler Imperial\",\"Fiat 128\",\"Honda Civic\",\"Toyota Corolla\",\"Toyota Corona\",\"Dodge Challenger\",\"AMC Javelin\",\"Camaro Z28\",\"Pontiac Firebird\",\"Fiat X1-9\",\"Porsche 914-2\",\"Lotus Europa\",\"Ford Pantera L\",\"Ferrari Dino\",\"Maserati Bora\",\"Volvo 142E\"],\"mpg\":{\"__ndarray__\":\"AAAAAAAANUAAAAAAAAA1QM3MzMzMzDZAZmZmZmZmNUAzMzMzM7MyQJqZmZmZGTJAmpmZmZmZLEBmZmZmZmY4QM3MzMzMzDZAMzMzMzMzM0DNzMzMzMwxQGZmZmZmZjBAzczMzMxMMUBmZmZmZmYuQM3MzMzMzCRAzczMzMzMJEBmZmZmZmYtQDMzMzMzM0BAZmZmZmZmPkAzMzMzM/NAQAAAAAAAgDVAAAAAAAAAL0BmZmZmZmYuQJqZmZmZmSpAMzMzMzMzM0DNzMzMzEw7QAAAAAAAADpAZmZmZmZmPkCamZmZmZkvQDMzMzMzszNAAAAAAAAALkBmZmZmZmY1QA==\",\"dtype\":\"float64\",\"shape\":[32]},\"qsec\":{\"__ndarray__\":\"9ihcj8J1MECF61G4HgUxQFyPwvUonDJAcT0K16NwM0CF61G4HgUxQLgehetRODRArkfhehSuL0AAAAAAAAA0QGZmZmZm5jZAzczMzMxMMkBmZmZmZuYyQGZmZmZmZjFAmpmZmZmZMUAAAAAAAAAyQHsUrkfh+jFAUrgehevRMUDsUbgehWsxQLgehetReDNAhetRuB6FMkBmZmZmZuYzQMP1KFyPAjRAH4XrUbjeMEDNzMzMzEwxQFK4HoXr0S5AzczMzMwMMUBmZmZmZuYyQDMzMzMzszBAZmZmZmbmMEAAAAAAAAAtQAAAAAAAAC9AMzMzMzMzLUCamZmZmZkyQA==\",\"dtype\":\"float64\",\"shape\":[32]},\"vs\":[0,0,1,1,0,1,0,1,1,1,1,0,0,0,0,0,0,1,1,1,1,0,0,0,0,1,0,1,0,0,0,1],\"wt\":{\"__ndarray__\":\"9ihcj8L1BEAAAAAAAAAHQI/C9ShcjwJAuB6F61G4CUCF61G4HoULQK5H4XoUrgtAj8L1KFyPDECF61G4HoUJQDMzMzMzMwlAhetRuB6FC0CF61G4HoULQEjhehSuRxBA16NwPQrXDUA9CtejcD0OQAAAAAAAABVAGARWDi2yFUDhehSuR2EVQJqZmZmZmQFA16NwPQrX+T9cj8L1KFz9P7gehetRuANAKVyPwvUoDEB7FK5H4XoLQLgehetRuA5Aw/UoXI/CDkD2KFyPwvX+Px+F61G4HgFAaZHtfD81+D9cj8L1KFwJQClcj8L1KAZAj8L1KFyPDEA9CtejcD0GQA==\",\"dtype\":\"float64\",\"shape\":[32]}},\"selected\":{\"id\":\"cf5493e7-c0fb-4dcf-9b62-f45bcf4a2a22\",\"type\":\"Selection\"},\"selection_policy\":{\"id\":\"1e128097-bcff-4b87-a303-3374b363946e\",\"type\":\"UnionRenderers\"}},\"id\":\"293dbaeb-ce27-4809-9798-425181063a23\",\"type\":\"ColumnDataSource\"},{\"attributes\":{},\"id\":\"6e2ef66e-050a-4330-8e23-3c996f5f09f6\",\"type\":\"WheelZoomTool\"},{\"attributes\":{\"overlay\":{\"id\":\"9c0d5fb4-0926-4110-9fa3-665823cbedf0\",\"type\":\"BoxAnnotation\"}},\"id\":\"25c81e7d-65bd-42fe-95a5-631e5a2c36a4\",\"type\":\"BoxZoomTool\"},{\"attributes\":{},\"id\":\"074f9fd6-7032-4417-b348-2e9619eae0e5\",\"type\":\"SaveTool\"},{\"attributes\":{\"formatter\":{\"id\":\"aa0a44fe-721f-4321-a515-44bdef071d12\",\"type\":\"BasicTickFormatter\"},\"plot\":{\"id\":\"3546c1f3-a5e1-4708-82ed-85e6860fa727\",\"subtype\":\"Figure\",\"type\":\"Plot\"},\"ticker\":{\"id\":\"a92a7349-8c58-4bd6-9d05-527290008623\",\"type\":\"BasicTicker\"}},\"id\":\"ee0ce0ea-88e1-4d23-a561-60d096f1c4dd\",\"type\":\"LinearAxis\"},{\"attributes\":{},\"id\":\"4cdf581e-f138-4149-913e-a30bb741efbb\",\"type\":\"ResetTool\"},{\"attributes\":{},\"id\":\"fd5efd60-61a3-4d6a-98e4-0af2126ebe4b\",\"type\":\"HelpTool\"},{\"attributes\":{\"bottom_units\":\"screen\",\"fill_alpha\":{\"value\":0.5},\"fill_color\":{\"value\":\"lightgrey\"},\"left_units\":\"screen\",\"level\":\"overlay\",\"line_alpha\":{\"value\":1.0},\"line_color\":{\"value\":\"black\"},\"line_dash\":[4,4],\"line_width\":{\"value\":2},\"plot\":null,\"render_mode\":\"css\",\"right_units\":\"screen\",\"top_units\":\"screen\"},\"id\":\"9c0d5fb4-0926-4110-9fa3-665823cbedf0\",\"type\":\"BoxAnnotation\"},{\"attributes\":{},\"id\":\"1e128097-bcff-4b87-a303-3374b363946e\",\"type\":\"UnionRenderers\"},{\"attributes\":{},\"id\":\"9d8d6ed5-52b0-498a-bca2-e09e4606ef7d\",\"type\":\"BasicTickFormatter\"},{\"attributes\":{\"source\":{\"id\":\"86b6fd67-5d5a-4354-8637-e839dcaa74ee\",\"type\":\"ColumnDataSource\"}},\"id\":\"fd74bf90-5e1b-42ed-8709-5606302cfe6d\",\"type\":\"CDSView\"},{\"attributes\":{\"data_source\":{\"id\":\"86b6fd67-5d5a-4354-8637-e839dcaa74ee\",\"type\":\"ColumnDataSource\"},\"glyph\":{\"id\":\"16ae1922-61b6-46f5-8666-831e1d7df40d\",\"type\":\"Ray\"},\"hover_glyph\":null,\"muted_glyph\":null,\"nonselection_glyph\":{\"id\":\"f6b08dec-f2d7-4767-9ca9-be446bcbde6f\",\"type\":\"Ray\"},\"selection_glyph\":null,\"view\":{\"id\":\"fd74bf90-5e1b-42ed-8709-5606302cfe6d\",\"type\":\"CDSView\"}},\"id\":\"5d83af22-9979-4a71-be4b-e673c99554b1\",\"type\":\"GlyphRenderer\"},{\"attributes\":{\"below\":[{\"id\":\"ee0ce0ea-88e1-4d23-a561-60d096f1c4dd\",\"type\":\"LinearAxis\"}],\"left\":[{\"id\":\"c7972523-4ddd-43be-9cd6-da55f5e42d6e\",\"type\":\"LinearAxis\"}],\"plot_height\":400,\"plot_width\":800,\"renderers\":[{\"id\":\"ee0ce0ea-88e1-4d23-a561-60d096f1c4dd\",\"type\":\"LinearAxis\"},{\"id\":\"a64daf0a-f2bf-4419-80ee-9bfac526a875\",\"type\":\"Grid\"},{\"id\":\"c7972523-4ddd-43be-9cd6-da55f5e42d6e\",\"type\":\"LinearAxis\"},{\"id\":\"25b4268f-66fc-4231-9783-2d176667d594\",\"type\":\"Grid\"},{\"id\":\"9c0d5fb4-0926-4110-9fa3-665823cbedf0\",\"type\":\"BoxAnnotation\"},{\"id\":\"6000fcf1-f6c4-4a10-9d16-fd5f57d12fb5\",\"type\":\"GlyphRenderer\"},{\"id\":\"5d83af22-9979-4a71-be4b-e673c99554b1\",\"type\":\"GlyphRenderer\"}],\"title\":{\"id\":\"25f5f482-6c37-42dd-bb61-24e671e345c8\",\"type\":\"Title\"},\"toolbar\":{\"id\":\"82bbb018-6dc9-4bf5-8e60-2cd157520ccb\",\"type\":\"Toolbar\"},\"x_range\":{\"id\":\"f20a3c1c-59b6-4469-92a7-cc5bd5f66094\",\"type\":\"DataRange1d\"},\"x_scale\":{\"id\":\"376e4b17-8258-4e3f-94bd-630d68c2c4b9\",\"type\":\"LinearScale\"},\"y_range\":{\"id\":\"265db452-8a02-4673-b14d-8508d3d5b98d\",\"type\":\"DataRange1d\"},\"y_scale\":{\"id\":\"4d535f10-7861-4a87-a695-ce7eb3776b89\",\"type\":\"LinearScale\"}},\"id\":\"3546c1f3-a5e1-4708-82ed-85e6860fa727\",\"subtype\":\"Figure\",\"type\":\"Plot\"},{\"attributes\":{\"angle\":{\"units\":\"deg\",\"value\":90},\"length\":{\"units\":\"data\",\"value\":0},\"line_alpha\":{\"value\":0.1},\"line_color\":{\"value\":\"#1f77b4\"},\"x\":{\"field\":\"x\"},\"y\":{\"field\":\"y\"}},\"id\":\"f6b08dec-f2d7-4767-9ca9-be446bcbde6f\",\"type\":\"Ray\"},{\"attributes\":{\"plot\":{\"id\":\"3546c1f3-a5e1-4708-82ed-85e6860fa727\",\"subtype\":\"Figure\",\"type\":\"Plot\"},\"ticker\":{\"id\":\"a92a7349-8c58-4bd6-9d05-527290008623\",\"type\":\"BasicTicker\"}},\"id\":\"a64daf0a-f2bf-4419-80ee-9bfac526a875\",\"type\":\"Grid\"},{\"attributes\":{\"source\":{\"id\":\"293dbaeb-ce27-4809-9798-425181063a23\",\"type\":\"ColumnDataSource\"}},\"id\":\"c3e0646e-7054-4da5-90fa-ac64d84fd383\",\"type\":\"CDSView\"},{\"attributes\":{},\"id\":\"4d535f10-7861-4a87-a695-ce7eb3776b89\",\"type\":\"LinearScale\"},{\"attributes\":{\"callback\":null,\"data\":{\"x\":[1,2,3,4,5],\"y\":[0,0,0,0,0]},\"selected\":{\"id\":\"5d11226c-893e-4b78-8ee1-a4e527ada03d\",\"type\":\"Selection\"},\"selection_policy\":{\"id\":\"e302b9e6-25d2-480c-8be5-940333c05a52\",\"type\":\"UnionRenderers\"}},\"id\":\"86b6fd67-5d5a-4354-8637-e839dcaa74ee\",\"type\":\"ColumnDataSource\"},{\"attributes\":{},\"id\":\"aa0a44fe-721f-4321-a515-44bdef071d12\",\"type\":\"BasicTickFormatter\"},{\"attributes\":{\"callback\":null},\"id\":\"265db452-8a02-4673-b14d-8508d3d5b98d\",\"type\":\"DataRange1d\"},{\"attributes\":{},\"id\":\"e302b9e6-25d2-480c-8be5-940333c05a52\",\"type\":\"UnionRenderers\"},{\"attributes\":{},\"id\":\"5d11226c-893e-4b78-8ee1-a4e527ada03d\",\"type\":\"Selection\"},{\"attributes\":{\"data_source\":{\"id\":\"293dbaeb-ce27-4809-9798-425181063a23\",\"type\":\"ColumnDataSource\"},\"glyph\":{\"id\":\"38e7f1fb-2576-469c-9482-e10435ec43b5\",\"type\":\"Circle\"},\"hover_glyph\":null,\"muted_glyph\":null,\"nonselection_glyph\":{\"id\":\"31e5c1f4-b159-447a-8eae-6a22c3db481c\",\"type\":\"Circle\"},\"selection_glyph\":null,\"view\":{\"id\":\"c3e0646e-7054-4da5-90fa-ac64d84fd383\",\"type\":\"CDSView\"}},\"id\":\"6000fcf1-f6c4-4a10-9d16-fd5f57d12fb5\",\"type\":\"GlyphRenderer\"},{\"attributes\":{},\"id\":\"376e4b17-8258-4e3f-94bd-630d68c2c4b9\",\"type\":\"LinearScale\"},{\"attributes\":{\"angle\":{\"units\":\"deg\",\"value\":90},\"length\":{\"units\":\"data\",\"value\":0},\"line_color\":{\"value\":\"#1f77b4\"},\"x\":{\"field\":\"x\"},\"y\":{\"field\":\"y\"}},\"id\":\"16ae1922-61b6-46f5-8666-831e1d7df40d\",\"type\":\"Ray\"},{\"attributes\":{},\"id\":\"a92a7349-8c58-4bd6-9d05-527290008623\",\"type\":\"BasicTicker\"},{\"attributes\":{\"callback\":null},\"id\":\"f20a3c1c-59b6-4469-92a7-cc5bd5f66094\",\"type\":\"DataRange1d\"},{\"attributes\":{\"active_drag\":\"auto\",\"active_inspect\":\"auto\",\"active_multi\":null,\"active_scroll\":\"auto\",\"active_tap\":\"auto\",\"tools\":[{\"id\":\"31923188-f0dc-4904-8efc-67b545ff1a45\",\"type\":\"PanTool\"},{\"id\":\"6e2ef66e-050a-4330-8e23-3c996f5f09f6\",\"type\":\"WheelZoomTool\"},{\"id\":\"25c81e7d-65bd-42fe-95a5-631e5a2c36a4\",\"type\":\"BoxZoomTool\"},{\"id\":\"074f9fd6-7032-4417-b348-2e9619eae0e5\",\"type\":\"SaveTool\"},{\"id\":\"4cdf581e-f138-4149-913e-a30bb741efbb\",\"type\":\"ResetTool\"},{\"id\":\"fd5efd60-61a3-4d6a-98e4-0af2126ebe4b\",\"type\":\"HelpTool\"}]},\"id\":\"82bbb018-6dc9-4bf5-8e60-2cd157520ccb\",\"type\":\"Toolbar\"},{\"attributes\":{\"plot\":null,\"text\":\"My plot\"},\"id\":\"25f5f482-6c37-42dd-bb61-24e671e345c8\",\"type\":\"Title\"},{\"attributes\":{\"fill_alpha\":{\"value\":0.1},\"fill_color\":{\"value\":\"#1f77b4\"},\"line_alpha\":{\"value\":0.1},\"line_color\":{\"value\":\"#1f77b4\"},\"x\":{\"field\":\"wt\"},\"y\":{\"field\":\"mpg\"}},\"id\":\"31e5c1f4-b159-447a-8eae-6a22c3db481c\",\"type\":\"Circle\"},{\"attributes\":{\"fill_color\":{\"value\":\"#1f77b4\"},\"line_color\":{\"value\":\"#1f77b4\"},\"x\":{\"field\":\"wt\"},\"y\":{\"field\":\"mpg\"}},\"id\":\"38e7f1fb-2576-469c-9482-e10435ec43b5\",\"type\":\"Circle\"},{\"attributes\":{},\"id\":\"96402479-491b-498e-b686-44bd74771fa8\",\"type\":\"BasicTicker\"},{\"attributes\":{\"dimension\":1,\"plot\":{\"id\":\"3546c1f3-a5e1-4708-82ed-85e6860fa727\",\"subtype\":\"Figure\",\"type\":\"Plot\"},\"ticker\":{\"id\":\"96402479-491b-498e-b686-44bd74771fa8\",\"type\":\"BasicTicker\"}},\"id\":\"25b4268f-66fc-4231-9783-2d176667d594\",\"type\":\"Grid\"},{\"attributes\":{\"formatter\":{\"id\":\"9d8d6ed5-52b0-498a-bca2-e09e4606ef7d\",\"type\":\"BasicTickFormatter\"},\"plot\":{\"id\":\"3546c1f3-a5e1-4708-82ed-85e6860fa727\",\"subtype\":\"Figure\",\"type\":\"Plot\"},\"ticker\":{\"id\":\"96402479-491b-498e-b686-44bd74771fa8\",\"type\":\"BasicTicker\"}},\"id\":\"c7972523-4ddd-43be-9cd6-da55f5e42d6e\",\"type\":\"LinearAxis\"}],\"root_ids\":[\"3546c1f3-a5e1-4708-82ed-85e6860fa727\"]},\"title\":\"Bokeh Application\",\"version\":\"0.13.0\"}};\n",
       "  var render_items = [{\"docid\":\"b811a8d1-66a4-48fc-a80d-074e26b911f8\",\"roots\":{\"3546c1f3-a5e1-4708-82ed-85e6860fa727\":\"750a1419-a631-4c90-a5ba-14732d2e4691\"}}];\n",
       "  root.Bokeh.embed.embed_items_notebook(docs_json, render_items);\n",
       "\n",
       "  }\n",
       "  if (root.Bokeh !== undefined) {\n",
       "    embed_document(root);\n",
       "  } else {\n",
       "    var attempts = 0;\n",
       "    var timer = setInterval(function(root) {\n",
       "      if (root.Bokeh !== undefined) {\n",
       "        embed_document(root);\n",
       "        clearInterval(timer);\n",
       "      }\n",
       "      attempts++;\n",
       "      if (attempts > 100) {\n",
       "        console.log(\"Bokeh: ERROR: Unable to run BokehJS code because BokehJS library is missing\")\n",
       "        clearInterval(timer);\n",
       "      }\n",
       "    }, 10, root)\n",
       "  }\n",
       "})(window);"
      ],
      "application/vnd.bokehjs_exec.v0+json": ""
     },
     "metadata": {
      "application/vnd.bokehjs_exec.v0+json": {
       "id": "3546c1f3-a5e1-4708-82ed-85e6860fa727"
      }
     },
     "output_type": "display_data"
    }
   ],
   "source": [
    "p = create_p()\n",
    "#p + geom_vline(xintercept = 1:5)\n",
    "p = figure(title=\"My plot\", plot_width=800, plot_height=400)\n",
    "p.circle(x='wt',y='mpg',source=mtcars)\n",
    "p.ray(x=list(range(1,6)), y=[0]*5, length=0, angle=90, angle_units=\"deg\")\n",
    "show(p)"
   ]
  },
  {
   "cell_type": "code",
   "execution_count": 5,
   "metadata": {},
   "outputs": [
    {
     "data": {
      "text/html": [
       "\n",
       "\n",
       "\n",
       "\n",
       "\n",
       "\n",
       "  <div class=\"bk-root\" id=\"d59c6a33-4c0d-4ba3-bde0-1514f7d21a88\"></div>\n"
      ]
     },
     "metadata": {},
     "output_type": "display_data"
    },
    {
     "data": {
      "application/javascript": [
       "(function(root) {\n",
       "  function embed_document(root) {\n",
       "    \n",
       "  var docs_json = {\"675836f6-37ee-42bc-8b71-4159f9c484d3\":{\"roots\":{\"references\":[{\"attributes\":{\"fill_color\":{\"value\":\"#1f77b4\"},\"line_color\":{\"value\":\"#1f77b4\"},\"x\":{\"field\":\"wt\"},\"y\":{\"field\":\"mpg\"}},\"id\":\"760bf007-6a7f-426b-b829-d2f04c9d85ed\",\"type\":\"Circle\"},{\"attributes\":{\"dimension\":1,\"plot\":{\"id\":\"59d67755-6beb-4248-b775-7d6aad5c68ea\",\"subtype\":\"Figure\",\"type\":\"Plot\"},\"ticker\":{\"id\":\"04923a81-b886-493c-bb8d-7a3c6aaf22ae\",\"type\":\"BasicTicker\"}},\"id\":\"72172631-db99-4886-83a8-4a2d2bd30d65\",\"type\":\"Grid\"},{\"attributes\":{},\"id\":\"04923a81-b886-493c-bb8d-7a3c6aaf22ae\",\"type\":\"BasicTicker\"},{\"attributes\":{\"formatter\":{\"id\":\"eef590c7-6fb7-49db-8f1f-11ca0b8ec6a7\",\"type\":\"BasicTickFormatter\"},\"plot\":{\"id\":\"59d67755-6beb-4248-b775-7d6aad5c68ea\",\"subtype\":\"Figure\",\"type\":\"Plot\"},\"ticker\":{\"id\":\"04923a81-b886-493c-bb8d-7a3c6aaf22ae\",\"type\":\"BasicTicker\"}},\"id\":\"b6f084f2-7762-41a4-86fa-46fe12890dc4\",\"type\":\"LinearAxis\"},{\"attributes\":{},\"id\":\"0e8e3a61-a821-4c98-81c6-ddfde74fcd99\",\"type\":\"BasicTicker\"},{\"attributes\":{\"formatter\":{\"id\":\"3cdcb718-55a4-4d1a-8b78-1bf856019b76\",\"type\":\"BasicTickFormatter\"},\"plot\":{\"id\":\"59d67755-6beb-4248-b775-7d6aad5c68ea\",\"subtype\":\"Figure\",\"type\":\"Plot\"},\"ticker\":{\"id\":\"0e8e3a61-a821-4c98-81c6-ddfde74fcd99\",\"type\":\"BasicTicker\"}},\"id\":\"b66a275f-7f95-45ce-9ac3-bd4e6044d75b\",\"type\":\"LinearAxis\"},{\"attributes\":{\"plot\":{\"id\":\"59d67755-6beb-4248-b775-7d6aad5c68ea\",\"subtype\":\"Figure\",\"type\":\"Plot\"},\"ticker\":{\"id\":\"0e8e3a61-a821-4c98-81c6-ddfde74fcd99\",\"type\":\"BasicTicker\"}},\"id\":\"1faed31d-1334-43e6-b2a8-48c5e2b3cd50\",\"type\":\"Grid\"},{\"attributes\":{\"callback\":null},\"id\":\"ed62c8d2-9b3b-4628-a365-9d4cb9f53ae0\",\"type\":\"DataRange1d\"},{\"attributes\":{},\"id\":\"7404865c-1cce-4213-9f9e-118ace73af39\",\"type\":\"LinearScale\"},{\"attributes\":{},\"id\":\"eef590c7-6fb7-49db-8f1f-11ca0b8ec6a7\",\"type\":\"BasicTickFormatter\"},{\"attributes\":{\"data_source\":{\"id\":\"7c678f64-6e5d-4754-be9e-94815a88fbef\",\"type\":\"ColumnDataSource\"},\"glyph\":{\"id\":\"82f20378-2857-4d05-8536-a2cde8f4847d\",\"type\":\"Ray\"},\"hover_glyph\":null,\"muted_glyph\":null,\"nonselection_glyph\":{\"id\":\"de990c19-d118-4743-b66d-3b025431f745\",\"type\":\"Ray\"},\"selection_glyph\":null,\"view\":{\"id\":\"e8b650fe-7713-48d7-9ad0-d2576b5fec14\",\"type\":\"CDSView\"}},\"id\":\"a4e614ed-820b-41de-af72-48dccd72f81a\",\"type\":\"GlyphRenderer\"},{\"attributes\":{\"callback\":null},\"id\":\"8c0c106e-722d-43ed-8e97-2d319c01352c\",\"type\":\"DataRange1d\"},{\"attributes\":{},\"id\":\"25d115ca-ad49-46e0-a12e-73d3d5f07c72\",\"type\":\"LinearScale\"},{\"attributes\":{},\"id\":\"65627605-22ed-4a75-880d-6b8446ebb8e7\",\"type\":\"SaveTool\"},{\"attributes\":{\"source\":{\"id\":\"7c678f64-6e5d-4754-be9e-94815a88fbef\",\"type\":\"ColumnDataSource\"}},\"id\":\"e8b650fe-7713-48d7-9ad0-d2576b5fec14\",\"type\":\"CDSView\"},{\"attributes\":{\"angle\":{\"units\":\"deg\",\"value\":0},\"length\":{\"units\":\"data\",\"value\":0},\"line_alpha\":{\"value\":0.1},\"line_color\":{\"value\":\"#1f77b4\"},\"x\":{\"value\":0},\"y\":{\"value\":20}},\"id\":\"de990c19-d118-4743-b66d-3b025431f745\",\"type\":\"Ray\"},{\"attributes\":{\"callback\":null,\"data\":{},\"selected\":{\"id\":\"8d64c64a-563b-4ef3-a8e7-d07d393b5180\",\"type\":\"Selection\"},\"selection_policy\":{\"id\":\"1603e6d4-6fcd-4e39-a95a-3cd367cb612b\",\"type\":\"UnionRenderers\"}},\"id\":\"7c678f64-6e5d-4754-be9e-94815a88fbef\",\"type\":\"ColumnDataSource\"},{\"attributes\":{\"bottom_units\":\"screen\",\"fill_alpha\":{\"value\":0.5},\"fill_color\":{\"value\":\"lightgrey\"},\"left_units\":\"screen\",\"level\":\"overlay\",\"line_alpha\":{\"value\":1.0},\"line_color\":{\"value\":\"black\"},\"line_dash\":[4,4],\"line_width\":{\"value\":2},\"plot\":null,\"render_mode\":\"css\",\"right_units\":\"screen\",\"top_units\":\"screen\"},\"id\":\"246e40b2-4ba4-47cd-80f2-733eff615d2e\",\"type\":\"BoxAnnotation\"},{\"attributes\":{},\"id\":\"edd81660-715f-454b-82a4-1069ba609cb4\",\"type\":\"HelpTool\"},{\"attributes\":{},\"id\":\"405ca44f-312c-42fd-b43d-2433f47cd15f\",\"type\":\"ResetTool\"},{\"attributes\":{\"overlay\":{\"id\":\"246e40b2-4ba4-47cd-80f2-733eff615d2e\",\"type\":\"BoxAnnotation\"}},\"id\":\"acdc6bb8-c35c-498f-99b9-ae91e4014b36\",\"type\":\"BoxZoomTool\"},{\"attributes\":{\"source\":{\"id\":\"3a2d8b88-ffcf-430b-9685-9d05a8dfb587\",\"type\":\"ColumnDataSource\"}},\"id\":\"84a4a0ab-23ef-49c5-a056-19bfd02f214a\",\"type\":\"CDSView\"},{\"attributes\":{},\"id\":\"3f45ba8a-f707-40ae-985b-88752ccec2f3\",\"type\":\"Selection\"},{\"attributes\":{},\"id\":\"ae5aabaf-d844-40e8-b3a7-afa3677dda81\",\"type\":\"WheelZoomTool\"},{\"attributes\":{\"fill_alpha\":{\"value\":0.1},\"fill_color\":{\"value\":\"#1f77b4\"},\"line_alpha\":{\"value\":0.1},\"line_color\":{\"value\":\"#1f77b4\"},\"x\":{\"field\":\"wt\"},\"y\":{\"field\":\"mpg\"}},\"id\":\"cc3eb236-a937-455c-98e0-724c213202a7\",\"type\":\"Circle\"},{\"attributes\":{\"data_source\":{\"id\":\"3a2d8b88-ffcf-430b-9685-9d05a8dfb587\",\"type\":\"ColumnDataSource\"},\"glyph\":{\"id\":\"760bf007-6a7f-426b-b829-d2f04c9d85ed\",\"type\":\"Circle\"},\"hover_glyph\":null,\"muted_glyph\":null,\"nonselection_glyph\":{\"id\":\"cc3eb236-a937-455c-98e0-724c213202a7\",\"type\":\"Circle\"},\"selection_glyph\":null,\"view\":{\"id\":\"84a4a0ab-23ef-49c5-a056-19bfd02f214a\",\"type\":\"CDSView\"}},\"id\":\"3618dc5d-67c4-479a-909a-977e082bf022\",\"type\":\"GlyphRenderer\"},{\"attributes\":{\"angle\":{\"units\":\"deg\",\"value\":0},\"length\":{\"units\":\"data\",\"value\":0},\"line_color\":{\"value\":\"#1f77b4\"},\"x\":{\"value\":0},\"y\":{\"value\":20}},\"id\":\"82f20378-2857-4d05-8536-a2cde8f4847d\",\"type\":\"Ray\"},{\"attributes\":{},\"id\":\"d427540a-867d-4bd1-ba43-9f47b4748b9e\",\"type\":\"UnionRenderers\"},{\"attributes\":{},\"id\":\"3cdcb718-55a4-4d1a-8b78-1bf856019b76\",\"type\":\"BasicTickFormatter\"},{\"attributes\":{},\"id\":\"8d64c64a-563b-4ef3-a8e7-d07d393b5180\",\"type\":\"Selection\"},{\"attributes\":{\"below\":[{\"id\":\"b66a275f-7f95-45ce-9ac3-bd4e6044d75b\",\"type\":\"LinearAxis\"}],\"left\":[{\"id\":\"b6f084f2-7762-41a4-86fa-46fe12890dc4\",\"type\":\"LinearAxis\"}],\"plot_height\":400,\"plot_width\":800,\"renderers\":[{\"id\":\"b66a275f-7f95-45ce-9ac3-bd4e6044d75b\",\"type\":\"LinearAxis\"},{\"id\":\"1faed31d-1334-43e6-b2a8-48c5e2b3cd50\",\"type\":\"Grid\"},{\"id\":\"b6f084f2-7762-41a4-86fa-46fe12890dc4\",\"type\":\"LinearAxis\"},{\"id\":\"72172631-db99-4886-83a8-4a2d2bd30d65\",\"type\":\"Grid\"},{\"id\":\"246e40b2-4ba4-47cd-80f2-733eff615d2e\",\"type\":\"BoxAnnotation\"},{\"id\":\"3618dc5d-67c4-479a-909a-977e082bf022\",\"type\":\"GlyphRenderer\"},{\"id\":\"a4e614ed-820b-41de-af72-48dccd72f81a\",\"type\":\"GlyphRenderer\"}],\"title\":{\"id\":\"1976539c-616d-4f03-a5da-924a1ff2eff6\",\"type\":\"Title\"},\"toolbar\":{\"id\":\"247e207c-3257-4182-9422-09635960712b\",\"type\":\"Toolbar\"},\"x_range\":{\"id\":\"ed62c8d2-9b3b-4628-a365-9d4cb9f53ae0\",\"type\":\"DataRange1d\"},\"x_scale\":{\"id\":\"25d115ca-ad49-46e0-a12e-73d3d5f07c72\",\"type\":\"LinearScale\"},\"y_range\":{\"id\":\"8c0c106e-722d-43ed-8e97-2d319c01352c\",\"type\":\"DataRange1d\"},\"y_scale\":{\"id\":\"7404865c-1cce-4213-9f9e-118ace73af39\",\"type\":\"LinearScale\"}},\"id\":\"59d67755-6beb-4248-b775-7d6aad5c68ea\",\"subtype\":\"Figure\",\"type\":\"Plot\"},{\"attributes\":{},\"id\":\"1603e6d4-6fcd-4e39-a95a-3cd367cb612b\",\"type\":\"UnionRenderers\"},{\"attributes\":{},\"id\":\"6e6c29ec-fd8b-4bd3-bc60-9072396f3bed\",\"type\":\"PanTool\"},{\"attributes\":{\"active_drag\":\"auto\",\"active_inspect\":\"auto\",\"active_multi\":null,\"active_scroll\":\"auto\",\"active_tap\":\"auto\",\"tools\":[{\"id\":\"6e6c29ec-fd8b-4bd3-bc60-9072396f3bed\",\"type\":\"PanTool\"},{\"id\":\"ae5aabaf-d844-40e8-b3a7-afa3677dda81\",\"type\":\"WheelZoomTool\"},{\"id\":\"acdc6bb8-c35c-498f-99b9-ae91e4014b36\",\"type\":\"BoxZoomTool\"},{\"id\":\"65627605-22ed-4a75-880d-6b8446ebb8e7\",\"type\":\"SaveTool\"},{\"id\":\"405ca44f-312c-42fd-b43d-2433f47cd15f\",\"type\":\"ResetTool\"},{\"id\":\"edd81660-715f-454b-82a4-1069ba609cb4\",\"type\":\"HelpTool\"}]},\"id\":\"247e207c-3257-4182-9422-09635960712b\",\"type\":\"Toolbar\"},{\"attributes\":{\"callback\":null,\"data\":{\"am\":[1,1,1,0,0,0,0,0,0,0,0,0,0,0,0,0,0,1,1,1,0,0,0,0,0,1,1,1,1,1,1,1],\"carb\":[4,4,1,1,2,1,4,2,2,4,4,3,3,3,4,4,4,1,2,1,1,2,2,4,2,1,2,2,4,6,8,2],\"cyl\":[6,6,4,6,8,6,8,4,4,6,6,8,8,8,8,8,8,4,4,4,4,8,8,8,8,4,4,4,8,6,8,4],\"disp\":{\"__ndarray__\":\"AAAAAAAAZEAAAAAAAABkQAAAAAAAAFtAAAAAAAAgcEAAAAAAAIB2QAAAAAAAIGxAAAAAAACAdkBmZmZmZlZiQJqZmZmZmWFAMzMzMzPzZEAzMzMzM/NkQM3MzMzMPHFAzczMzMw8cUDNzMzMzDxxQAAAAAAAgH1AAAAAAADAfEAAAAAAAIB7QM3MzMzMrFNAzczMzMzsUkBmZmZmZsZRQGZmZmZmBl5AAAAAAADgc0AAAAAAAABzQAAAAAAA4HVAAAAAAAAAeUAAAAAAAMBTQDMzMzMzE15AZmZmZmbGV0AAAAAAAPB1QAAAAAAAIGJAAAAAAADQckAAAAAAAEBeQA==\",\"dtype\":\"float64\",\"shape\":[32]},\"drat\":{\"__ndarray__\":\"MzMzMzMzD0AzMzMzMzMPQM3MzMzMzA5ApHA9CtejCEAzMzMzMzMJQBSuR+F6FAZArkfhehSuCUCF61G4HoUNQFyPwvUoXA9AXI/C9ShcD0Bcj8L1KFwPQI/C9ShcjwhAj8L1KFyPCECPwvUoXI8IQHE9CtejcAdAAAAAAAAACEDXo3A9CtcJQFK4HoXrURBAuB6F61G4E0DhehSuR+EQQJqZmZmZmQ1AFK5H4XoUBkAzMzMzMzMJQNejcD0K1w1ApHA9CtejCEBSuB6F61EQQLgehetRuBFAKVyPwvUoDkDhehSuR+EQQPYoXI/C9QxAUrgehetRDEBxPQrXo3AQQA==\",\"dtype\":\"float64\",\"shape\":[32]},\"gear\":[4,4,4,3,3,3,3,4,4,4,4,3,3,3,3,3,3,4,4,4,3,3,3,3,3,4,5,5,5,5,5,4],\"hp\":[110,110,93,110,175,105,245,62,95,123,123,180,180,180,205,215,230,66,52,65,97,150,150,245,175,66,91,113,264,175,335,109],\"model\":[\"Mazda RX4\",\"Mazda RX4 Wag\",\"Datsun 710\",\"Hornet 4 Drive\",\"Hornet Sportabout\",\"Valiant\",\"Duster 360\",\"Merc 240D\",\"Merc 230\",\"Merc 280\",\"Merc 280C\",\"Merc 450SE\",\"Merc 450SL\",\"Merc 450SLC\",\"Cadillac Fleetwood\",\"Lincoln Continental\",\"Chrysler Imperial\",\"Fiat 128\",\"Honda Civic\",\"Toyota Corolla\",\"Toyota Corona\",\"Dodge Challenger\",\"AMC Javelin\",\"Camaro Z28\",\"Pontiac Firebird\",\"Fiat X1-9\",\"Porsche 914-2\",\"Lotus Europa\",\"Ford Pantera L\",\"Ferrari Dino\",\"Maserati Bora\",\"Volvo 142E\"],\"mpg\":{\"__ndarray__\":\"AAAAAAAANUAAAAAAAAA1QM3MzMzMzDZAZmZmZmZmNUAzMzMzM7MyQJqZmZmZGTJAmpmZmZmZLEBmZmZmZmY4QM3MzMzMzDZAMzMzMzMzM0DNzMzMzMwxQGZmZmZmZjBAzczMzMxMMUBmZmZmZmYuQM3MzMzMzCRAzczMzMzMJEBmZmZmZmYtQDMzMzMzM0BAZmZmZmZmPkAzMzMzM/NAQAAAAAAAgDVAAAAAAAAAL0BmZmZmZmYuQJqZmZmZmSpAMzMzMzMzM0DNzMzMzEw7QAAAAAAAADpAZmZmZmZmPkCamZmZmZkvQDMzMzMzszNAAAAAAAAALkBmZmZmZmY1QA==\",\"dtype\":\"float64\",\"shape\":[32]},\"qsec\":{\"__ndarray__\":\"9ihcj8J1MECF61G4HgUxQFyPwvUonDJAcT0K16NwM0CF61G4HgUxQLgehetRODRArkfhehSuL0AAAAAAAAA0QGZmZmZm5jZAzczMzMxMMkBmZmZmZuYyQGZmZmZmZjFAmpmZmZmZMUAAAAAAAAAyQHsUrkfh+jFAUrgehevRMUDsUbgehWsxQLgehetReDNAhetRuB6FMkBmZmZmZuYzQMP1KFyPAjRAH4XrUbjeMEDNzMzMzEwxQFK4HoXr0S5AzczMzMwMMUBmZmZmZuYyQDMzMzMzszBAZmZmZmbmMEAAAAAAAAAtQAAAAAAAAC9AMzMzMzMzLUCamZmZmZkyQA==\",\"dtype\":\"float64\",\"shape\":[32]},\"vs\":[0,0,1,1,0,1,0,1,1,1,1,0,0,0,0,0,0,1,1,1,1,0,0,0,0,1,0,1,0,0,0,1],\"wt\":{\"__ndarray__\":\"9ihcj8L1BEAAAAAAAAAHQI/C9ShcjwJAuB6F61G4CUCF61G4HoULQK5H4XoUrgtAj8L1KFyPDECF61G4HoUJQDMzMzMzMwlAhetRuB6FC0CF61G4HoULQEjhehSuRxBA16NwPQrXDUA9CtejcD0OQAAAAAAAABVAGARWDi2yFUDhehSuR2EVQJqZmZmZmQFA16NwPQrX+T9cj8L1KFz9P7gehetRuANAKVyPwvUoDEB7FK5H4XoLQLgehetRuA5Aw/UoXI/CDkD2KFyPwvX+Px+F61G4HgFAaZHtfD81+D9cj8L1KFwJQClcj8L1KAZAj8L1KFyPDEA9CtejcD0GQA==\",\"dtype\":\"float64\",\"shape\":[32]}},\"selected\":{\"id\":\"3f45ba8a-f707-40ae-985b-88752ccec2f3\",\"type\":\"Selection\"},\"selection_policy\":{\"id\":\"d427540a-867d-4bd1-ba43-9f47b4748b9e\",\"type\":\"UnionRenderers\"}},\"id\":\"3a2d8b88-ffcf-430b-9685-9d05a8dfb587\",\"type\":\"ColumnDataSource\"},{\"attributes\":{\"plot\":null,\"text\":\"My plot\"},\"id\":\"1976539c-616d-4f03-a5da-924a1ff2eff6\",\"type\":\"Title\"}],\"root_ids\":[\"59d67755-6beb-4248-b775-7d6aad5c68ea\"]},\"title\":\"Bokeh Application\",\"version\":\"0.13.0\"}};\n",
       "  var render_items = [{\"docid\":\"675836f6-37ee-42bc-8b71-4159f9c484d3\",\"roots\":{\"59d67755-6beb-4248-b775-7d6aad5c68ea\":\"d59c6a33-4c0d-4ba3-bde0-1514f7d21a88\"}}];\n",
       "  root.Bokeh.embed.embed_items_notebook(docs_json, render_items);\n",
       "\n",
       "  }\n",
       "  if (root.Bokeh !== undefined) {\n",
       "    embed_document(root);\n",
       "  } else {\n",
       "    var attempts = 0;\n",
       "    var timer = setInterval(function(root) {\n",
       "      if (root.Bokeh !== undefined) {\n",
       "        embed_document(root);\n",
       "        clearInterval(timer);\n",
       "      }\n",
       "      attempts++;\n",
       "      if (attempts > 100) {\n",
       "        console.log(\"Bokeh: ERROR: Unable to run BokehJS code because BokehJS library is missing\")\n",
       "        clearInterval(timer);\n",
       "      }\n",
       "    }, 10, root)\n",
       "  }\n",
       "})(window);"
      ],
      "application/vnd.bokehjs_exec.v0+json": ""
     },
     "metadata": {
      "application/vnd.bokehjs_exec.v0+json": {
       "id": "59d67755-6beb-4248-b775-7d6aad5c68ea"
      }
     },
     "output_type": "display_data"
    }
   ],
   "source": [
    "p = create_p()\n",
    "#p + geom_hline(yintercept = 20)\n",
    "p.ray(x=0, y=20, length=0, angle=0, angle_units=\"deg\")\n",
    "show(p)"
   ]
  },
  {
   "cell_type": "code",
   "execution_count": 6,
   "metadata": {},
   "outputs": [
    {
     "data": {
      "text/html": [
       "\n",
       "\n",
       "\n",
       "\n",
       "\n",
       "\n",
       "  <div class=\"bk-root\" id=\"1d4fda92-ab10-4e4d-892d-ce0151d34628\"></div>\n"
      ]
     },
     "metadata": {},
     "output_type": "display_data"
    },
    {
     "data": {
      "application/javascript": [
       "(function(root) {\n",
       "  function embed_document(root) {\n",
       "    \n",
       "  var docs_json = {\"0bfaf841-ba43-4d8b-8f19-5b8b970ab02a\":{\"roots\":{\"references\":[{\"attributes\":{\"below\":[{\"id\":\"c68297a2-515e-4b61-a083-f7fd95829ab1\",\"type\":\"LinearAxis\"}],\"left\":[{\"id\":\"7c5b59ce-3c5a-47bb-bb94-9aaca4de8307\",\"type\":\"LinearAxis\"}],\"plot_height\":400,\"plot_width\":800,\"renderers\":[{\"id\":\"c68297a2-515e-4b61-a083-f7fd95829ab1\",\"type\":\"LinearAxis\"},{\"id\":\"6b84ea03-43ce-4878-ae39-31b29d049c93\",\"type\":\"Grid\"},{\"id\":\"7c5b59ce-3c5a-47bb-bb94-9aaca4de8307\",\"type\":\"LinearAxis\"},{\"id\":\"e0cbd355-792b-4c90-8b1d-579ff2f4dff3\",\"type\":\"Grid\"},{\"id\":\"03e894b7-ee81-466a-9732-6cefd23e1a04\",\"type\":\"BoxAnnotation\"},{\"id\":\"4bf36f7c-c10e-4b6d-aeab-d9d3364f9801\",\"type\":\"GlyphRenderer\"},{\"id\":\"69917b8d-076d-40ef-a191-061dff847605\",\"type\":\"GlyphRenderer\"}],\"title\":{\"id\":\"47ffb226-b17d-43af-b4cf-959d785e89ee\",\"type\":\"Title\"},\"toolbar\":{\"id\":\"fc9f0d02-ed4d-4920-85a9-cee190a9a487\",\"type\":\"Toolbar\"},\"x_range\":{\"id\":\"ac8cb387-556f-40d0-bcf2-bbb90727761c\",\"type\":\"DataRange1d\"},\"x_scale\":{\"id\":\"8d38697e-84c8-409d-a2e2-390fbee79150\",\"type\":\"LinearScale\"},\"y_range\":{\"id\":\"dd47ab5b-6f93-4302-9ad8-71a951edbc4b\",\"type\":\"DataRange1d\"},\"y_scale\":{\"id\":\"c6bf95ba-f9ed-4048-9fc5-6b9882f88863\",\"type\":\"LinearScale\"}},\"id\":\"cd56e244-0c5c-4aa6-8fb4-17ed19c27d3e\",\"subtype\":\"Figure\",\"type\":\"Plot\"},{\"attributes\":{\"callback\":null},\"id\":\"ac8cb387-556f-40d0-bcf2-bbb90727761c\",\"type\":\"DataRange1d\"},{\"attributes\":{\"line_alpha\":{\"value\":0.1},\"line_color\":{\"value\":\"#1f77b4\"},\"x0\":{\"value\":1},\"x1\":{\"value\":6},\"y0\":{\"value\":32},\"y1\":{\"value\":7}},\"id\":\"40051154-dbb9-4de0-9d04-3444f770577f\",\"type\":\"Segment\"},{\"attributes\":{\"data_source\":{\"id\":\"c9aecce0-a079-4f79-ba76-0b14c6fce71b\",\"type\":\"ColumnDataSource\"},\"glyph\":{\"id\":\"1602eb03-6b17-4fc9-a712-4846eb40d1ce\",\"type\":\"Segment\"},\"hover_glyph\":null,\"muted_glyph\":null,\"nonselection_glyph\":{\"id\":\"40051154-dbb9-4de0-9d04-3444f770577f\",\"type\":\"Segment\"},\"selection_glyph\":null,\"view\":{\"id\":\"4f81c3cc-b783-466a-8c68-a8066d73c616\",\"type\":\"CDSView\"}},\"id\":\"69917b8d-076d-40ef-a191-061dff847605\",\"type\":\"GlyphRenderer\"},{\"attributes\":{\"callback\":null,\"data\":{\"am\":[1,1,1,0,0,0,0,0,0,0,0,0,0,0,0,0,0,1,1,1,0,0,0,0,0,1,1,1,1,1,1,1],\"carb\":[4,4,1,1,2,1,4,2,2,4,4,3,3,3,4,4,4,1,2,1,1,2,2,4,2,1,2,2,4,6,8,2],\"cyl\":[6,6,4,6,8,6,8,4,4,6,6,8,8,8,8,8,8,4,4,4,4,8,8,8,8,4,4,4,8,6,8,4],\"disp\":{\"__ndarray__\":\"AAAAAAAAZEAAAAAAAABkQAAAAAAAAFtAAAAAAAAgcEAAAAAAAIB2QAAAAAAAIGxAAAAAAACAdkBmZmZmZlZiQJqZmZmZmWFAMzMzMzPzZEAzMzMzM/NkQM3MzMzMPHFAzczMzMw8cUDNzMzMzDxxQAAAAAAAgH1AAAAAAADAfEAAAAAAAIB7QM3MzMzMrFNAzczMzMzsUkBmZmZmZsZRQGZmZmZmBl5AAAAAAADgc0AAAAAAAABzQAAAAAAA4HVAAAAAAAAAeUAAAAAAAMBTQDMzMzMzE15AZmZmZmbGV0AAAAAAAPB1QAAAAAAAIGJAAAAAAADQckAAAAAAAEBeQA==\",\"dtype\":\"float64\",\"shape\":[32]},\"drat\":{\"__ndarray__\":\"MzMzMzMzD0AzMzMzMzMPQM3MzMzMzA5ApHA9CtejCEAzMzMzMzMJQBSuR+F6FAZArkfhehSuCUCF61G4HoUNQFyPwvUoXA9AXI/C9ShcD0Bcj8L1KFwPQI/C9ShcjwhAj8L1KFyPCECPwvUoXI8IQHE9CtejcAdAAAAAAAAACEDXo3A9CtcJQFK4HoXrURBAuB6F61G4E0DhehSuR+EQQJqZmZmZmQ1AFK5H4XoUBkAzMzMzMzMJQNejcD0K1w1ApHA9CtejCEBSuB6F61EQQLgehetRuBFAKVyPwvUoDkDhehSuR+EQQPYoXI/C9QxAUrgehetRDEBxPQrXo3AQQA==\",\"dtype\":\"float64\",\"shape\":[32]},\"gear\":[4,4,4,3,3,3,3,4,4,4,4,3,3,3,3,3,3,4,4,4,3,3,3,3,3,4,5,5,5,5,5,4],\"hp\":[110,110,93,110,175,105,245,62,95,123,123,180,180,180,205,215,230,66,52,65,97,150,150,245,175,66,91,113,264,175,335,109],\"model\":[\"Mazda RX4\",\"Mazda RX4 Wag\",\"Datsun 710\",\"Hornet 4 Drive\",\"Hornet Sportabout\",\"Valiant\",\"Duster 360\",\"Merc 240D\",\"Merc 230\",\"Merc 280\",\"Merc 280C\",\"Merc 450SE\",\"Merc 450SL\",\"Merc 450SLC\",\"Cadillac Fleetwood\",\"Lincoln Continental\",\"Chrysler Imperial\",\"Fiat 128\",\"Honda Civic\",\"Toyota Corolla\",\"Toyota Corona\",\"Dodge Challenger\",\"AMC Javelin\",\"Camaro Z28\",\"Pontiac Firebird\",\"Fiat X1-9\",\"Porsche 914-2\",\"Lotus Europa\",\"Ford Pantera L\",\"Ferrari Dino\",\"Maserati Bora\",\"Volvo 142E\"],\"mpg\":{\"__ndarray__\":\"AAAAAAAANUAAAAAAAAA1QM3MzMzMzDZAZmZmZmZmNUAzMzMzM7MyQJqZmZmZGTJAmpmZmZmZLEBmZmZmZmY4QM3MzMzMzDZAMzMzMzMzM0DNzMzMzMwxQGZmZmZmZjBAzczMzMxMMUBmZmZmZmYuQM3MzMzMzCRAzczMzMzMJEBmZmZmZmYtQDMzMzMzM0BAZmZmZmZmPkAzMzMzM/NAQAAAAAAAgDVAAAAAAAAAL0BmZmZmZmYuQJqZmZmZmSpAMzMzMzMzM0DNzMzMzEw7QAAAAAAAADpAZmZmZmZmPkCamZmZmZkvQDMzMzMzszNAAAAAAAAALkBmZmZmZmY1QA==\",\"dtype\":\"float64\",\"shape\":[32]},\"qsec\":{\"__ndarray__\":\"9ihcj8J1MECF61G4HgUxQFyPwvUonDJAcT0K16NwM0CF61G4HgUxQLgehetRODRArkfhehSuL0AAAAAAAAA0QGZmZmZm5jZAzczMzMxMMkBmZmZmZuYyQGZmZmZmZjFAmpmZmZmZMUAAAAAAAAAyQHsUrkfh+jFAUrgehevRMUDsUbgehWsxQLgehetReDNAhetRuB6FMkBmZmZmZuYzQMP1KFyPAjRAH4XrUbjeMEDNzMzMzEwxQFK4HoXr0S5AzczMzMwMMUBmZmZmZuYyQDMzMzMzszBAZmZmZmbmMEAAAAAAAAAtQAAAAAAAAC9AMzMzMzMzLUCamZmZmZkyQA==\",\"dtype\":\"float64\",\"shape\":[32]},\"vs\":[0,0,1,1,0,1,0,1,1,1,1,0,0,0,0,0,0,1,1,1,1,0,0,0,0,1,0,1,0,0,0,1],\"wt\":{\"__ndarray__\":\"9ihcj8L1BEAAAAAAAAAHQI/C9ShcjwJAuB6F61G4CUCF61G4HoULQK5H4XoUrgtAj8L1KFyPDECF61G4HoUJQDMzMzMzMwlAhetRuB6FC0CF61G4HoULQEjhehSuRxBA16NwPQrXDUA9CtejcD0OQAAAAAAAABVAGARWDi2yFUDhehSuR2EVQJqZmZmZmQFA16NwPQrX+T9cj8L1KFz9P7gehetRuANAKVyPwvUoDEB7FK5H4XoLQLgehetRuA5Aw/UoXI/CDkD2KFyPwvX+Px+F61G4HgFAaZHtfD81+D9cj8L1KFwJQClcj8L1KAZAj8L1KFyPDEA9CtejcD0GQA==\",\"dtype\":\"float64\",\"shape\":[32]}},\"selected\":{\"id\":\"7483dc0d-ff7b-40f6-9887-537870b5b1e6\",\"type\":\"Selection\"},\"selection_policy\":{\"id\":\"c05453e5-11fc-4bd5-8193-9a31dedea708\",\"type\":\"UnionRenderers\"}},\"id\":\"e946ffb1-f566-4ab3-952f-ec57858b25ef\",\"type\":\"ColumnDataSource\"},{\"attributes\":{\"source\":{\"id\":\"c9aecce0-a079-4f79-ba76-0b14c6fce71b\",\"type\":\"ColumnDataSource\"}},\"id\":\"4f81c3cc-b783-466a-8c68-a8066d73c616\",\"type\":\"CDSView\"},{\"attributes\":{\"plot\":null,\"text\":\"My plot\"},\"id\":\"47ffb226-b17d-43af-b4cf-959d785e89ee\",\"type\":\"Title\"},{\"attributes\":{},\"id\":\"deba3224-b16f-4ed7-a6d1-1208a076bf69\",\"type\":\"BasicTickFormatter\"},{\"attributes\":{\"active_drag\":\"auto\",\"active_inspect\":\"auto\",\"active_multi\":null,\"active_scroll\":\"auto\",\"active_tap\":\"auto\",\"tools\":[{\"id\":\"078f75e4-1e88-47ff-be33-35619230b82f\",\"type\":\"PanTool\"},{\"id\":\"0387b7b1-613b-4c69-9ef6-6bdff4b96c7d\",\"type\":\"WheelZoomTool\"},{\"id\":\"0e441b30-546f-40bb-bf44-0336d4d8116d\",\"type\":\"BoxZoomTool\"},{\"id\":\"27973258-04a1-441a-927c-80f127d31116\",\"type\":\"SaveTool\"},{\"id\":\"23dc376e-24f9-4b48-a0de-0da3490a83b3\",\"type\":\"ResetTool\"},{\"id\":\"a4c2278a-4184-4892-85c8-b8943c5a6879\",\"type\":\"HelpTool\"}]},\"id\":\"fc9f0d02-ed4d-4920-85a9-cee190a9a487\",\"type\":\"Toolbar\"},{\"attributes\":{},\"id\":\"8d38697e-84c8-409d-a2e2-390fbee79150\",\"type\":\"LinearScale\"},{\"attributes\":{},\"id\":\"9f05d999-02a3-4eab-adc2-668390ac8ba9\",\"type\":\"UnionRenderers\"},{\"attributes\":{},\"id\":\"7483dc0d-ff7b-40f6-9887-537870b5b1e6\",\"type\":\"Selection\"},{\"attributes\":{\"plot\":{\"id\":\"cd56e244-0c5c-4aa6-8fb4-17ed19c27d3e\",\"subtype\":\"Figure\",\"type\":\"Plot\"},\"ticker\":{\"id\":\"d5d631ab-e452-4570-8e46-1c7bb4b78ee2\",\"type\":\"BasicTicker\"}},\"id\":\"6b84ea03-43ce-4878-ae39-31b29d049c93\",\"type\":\"Grid\"},{\"attributes\":{},\"id\":\"c6bf95ba-f9ed-4048-9fc5-6b9882f88863\",\"type\":\"LinearScale\"},{\"attributes\":{},\"id\":\"c2638278-53dd-49d6-bc05-d0e7ae033680\",\"type\":\"Selection\"},{\"attributes\":{\"callback\":null},\"id\":\"dd47ab5b-6f93-4302-9ad8-71a951edbc4b\",\"type\":\"DataRange1d\"},{\"attributes\":{},\"id\":\"23dc376e-24f9-4b48-a0de-0da3490a83b3\",\"type\":\"ResetTool\"},{\"attributes\":{},\"id\":\"d5d631ab-e452-4570-8e46-1c7bb4b78ee2\",\"type\":\"BasicTicker\"},{\"attributes\":{},\"id\":\"c05453e5-11fc-4bd5-8193-9a31dedea708\",\"type\":\"UnionRenderers\"},{\"attributes\":{\"dimension\":1,\"plot\":{\"id\":\"cd56e244-0c5c-4aa6-8fb4-17ed19c27d3e\",\"subtype\":\"Figure\",\"type\":\"Plot\"},\"ticker\":{\"id\":\"e5194cde-d680-479d-be08-c98df4fc3415\",\"type\":\"BasicTicker\"}},\"id\":\"e0cbd355-792b-4c90-8b1d-579ff2f4dff3\",\"type\":\"Grid\"},{\"attributes\":{\"overlay\":{\"id\":\"03e894b7-ee81-466a-9732-6cefd23e1a04\",\"type\":\"BoxAnnotation\"}},\"id\":\"0e441b30-546f-40bb-bf44-0336d4d8116d\",\"type\":\"BoxZoomTool\"},{\"attributes\":{\"bottom_units\":\"screen\",\"fill_alpha\":{\"value\":0.5},\"fill_color\":{\"value\":\"lightgrey\"},\"left_units\":\"screen\",\"level\":\"overlay\",\"line_alpha\":{\"value\":1.0},\"line_color\":{\"value\":\"black\"},\"line_dash\":[4,4],\"line_width\":{\"value\":2},\"plot\":null,\"render_mode\":\"css\",\"right_units\":\"screen\",\"top_units\":\"screen\"},\"id\":\"03e894b7-ee81-466a-9732-6cefd23e1a04\",\"type\":\"BoxAnnotation\"},{\"attributes\":{\"callback\":null,\"data\":{},\"selected\":{\"id\":\"c2638278-53dd-49d6-bc05-d0e7ae033680\",\"type\":\"Selection\"},\"selection_policy\":{\"id\":\"9f05d999-02a3-4eab-adc2-668390ac8ba9\",\"type\":\"UnionRenderers\"}},\"id\":\"c9aecce0-a079-4f79-ba76-0b14c6fce71b\",\"type\":\"ColumnDataSource\"},{\"attributes\":{},\"id\":\"0387b7b1-613b-4c69-9ef6-6bdff4b96c7d\",\"type\":\"WheelZoomTool\"},{\"attributes\":{\"formatter\":{\"id\":\"3320e200-7927-4d5b-bbe8-e2f58ee53743\",\"type\":\"BasicTickFormatter\"},\"plot\":{\"id\":\"cd56e244-0c5c-4aa6-8fb4-17ed19c27d3e\",\"subtype\":\"Figure\",\"type\":\"Plot\"},\"ticker\":{\"id\":\"d5d631ab-e452-4570-8e46-1c7bb4b78ee2\",\"type\":\"BasicTicker\"}},\"id\":\"c68297a2-515e-4b61-a083-f7fd95829ab1\",\"type\":\"LinearAxis\"},{\"attributes\":{},\"id\":\"3320e200-7927-4d5b-bbe8-e2f58ee53743\",\"type\":\"BasicTickFormatter\"},{\"attributes\":{},\"id\":\"078f75e4-1e88-47ff-be33-35619230b82f\",\"type\":\"PanTool\"},{\"attributes\":{\"fill_alpha\":{\"value\":0.1},\"fill_color\":{\"value\":\"#1f77b4\"},\"line_alpha\":{\"value\":0.1},\"line_color\":{\"value\":\"#1f77b4\"},\"x\":{\"field\":\"wt\"},\"y\":{\"field\":\"mpg\"}},\"id\":\"4eb460bd-82b6-4fa1-8478-1facbc14080d\",\"type\":\"Circle\"},{\"attributes\":{},\"id\":\"a4c2278a-4184-4892-85c8-b8943c5a6879\",\"type\":\"HelpTool\"},{\"attributes\":{\"formatter\":{\"id\":\"deba3224-b16f-4ed7-a6d1-1208a076bf69\",\"type\":\"BasicTickFormatter\"},\"plot\":{\"id\":\"cd56e244-0c5c-4aa6-8fb4-17ed19c27d3e\",\"subtype\":\"Figure\",\"type\":\"Plot\"},\"ticker\":{\"id\":\"e5194cde-d680-479d-be08-c98df4fc3415\",\"type\":\"BasicTicker\"}},\"id\":\"7c5b59ce-3c5a-47bb-bb94-9aaca4de8307\",\"type\":\"LinearAxis\"},{\"attributes\":{\"fill_color\":{\"value\":\"#1f77b4\"},\"line_color\":{\"value\":\"#1f77b4\"},\"x\":{\"field\":\"wt\"},\"y\":{\"field\":\"mpg\"}},\"id\":\"58515e61-041e-4a07-96dc-ebac62bf0824\",\"type\":\"Circle\"},{\"attributes\":{\"data_source\":{\"id\":\"e946ffb1-f566-4ab3-952f-ec57858b25ef\",\"type\":\"ColumnDataSource\"},\"glyph\":{\"id\":\"58515e61-041e-4a07-96dc-ebac62bf0824\",\"type\":\"Circle\"},\"hover_glyph\":null,\"muted_glyph\":null,\"nonselection_glyph\":{\"id\":\"4eb460bd-82b6-4fa1-8478-1facbc14080d\",\"type\":\"Circle\"},\"selection_glyph\":null,\"view\":{\"id\":\"a031068d-462d-4742-a245-fbaa4953aea2\",\"type\":\"CDSView\"}},\"id\":\"4bf36f7c-c10e-4b6d-aeab-d9d3364f9801\",\"type\":\"GlyphRenderer\"},{\"attributes\":{\"source\":{\"id\":\"e946ffb1-f566-4ab3-952f-ec57858b25ef\",\"type\":\"ColumnDataSource\"}},\"id\":\"a031068d-462d-4742-a245-fbaa4953aea2\",\"type\":\"CDSView\"},{\"attributes\":{},\"id\":\"27973258-04a1-441a-927c-80f127d31116\",\"type\":\"SaveTool\"},{\"attributes\":{\"line_color\":{\"value\":\"#1f77b4\"},\"x0\":{\"value\":1},\"x1\":{\"value\":6},\"y0\":{\"value\":32},\"y1\":{\"value\":7}},\"id\":\"1602eb03-6b17-4fc9-a712-4846eb40d1ce\",\"type\":\"Segment\"},{\"attributes\":{},\"id\":\"e5194cde-d680-479d-be08-c98df4fc3415\",\"type\":\"BasicTicker\"}],\"root_ids\":[\"cd56e244-0c5c-4aa6-8fb4-17ed19c27d3e\"]},\"title\":\"Bokeh Application\",\"version\":\"0.13.0\"}};\n",
       "  var render_items = [{\"docid\":\"0bfaf841-ba43-4d8b-8f19-5b8b970ab02a\",\"roots\":{\"cd56e244-0c5c-4aa6-8fb4-17ed19c27d3e\":\"1d4fda92-ab10-4e4d-892d-ce0151d34628\"}}];\n",
       "  root.Bokeh.embed.embed_items_notebook(docs_json, render_items);\n",
       "\n",
       "  }\n",
       "  if (root.Bokeh !== undefined) {\n",
       "    embed_document(root);\n",
       "  } else {\n",
       "    var attempts = 0;\n",
       "    var timer = setInterval(function(root) {\n",
       "      if (root.Bokeh !== undefined) {\n",
       "        embed_document(root);\n",
       "        clearInterval(timer);\n",
       "      }\n",
       "      attempts++;\n",
       "      if (attempts > 100) {\n",
       "        console.log(\"Bokeh: ERROR: Unable to run BokehJS code because BokehJS library is missing\")\n",
       "        clearInterval(timer);\n",
       "      }\n",
       "    }, 10, root)\n",
       "  }\n",
       "})(window);"
      ],
      "application/vnd.bokehjs_exec.v0+json": ""
     },
     "metadata": {
      "application/vnd.bokehjs_exec.v0+json": {
       "id": "cd56e244-0c5c-4aa6-8fb4-17ed19c27d3e"
      }
     },
     "output_type": "display_data"
    }
   ],
   "source": [
    "p = create_p()\n",
    "#p + geom_abline(intercept = 37, slope = -5)\n",
    "def abline(xx, intercept, slope): return intercept + slope*xx\n",
    "p.segment(x0 = 1, x1 = 6, y0 = abline(1,37,-5), y1 = abline(6,37,-5))\n",
    "show(p)"
   ]
  },
  {
   "cell_type": "markdown",
   "metadata": {},
   "source": [
    "#### geom_bar() geom_col() stat_count()\n",
    "ggplot2 excels in plotting stats. For example, geom_bar() uses stat_count() by default while geom_col() uses stat_identity().\n",
    "In bokeh, stats functions are not included yet, so the pandas Series functionality is used prior to plotting.  \n",
    "Note: The bar `y` variable in ggplot2 is called `top` in bokeh. Also the bottom and width of the bars should be indicated. "
   ]
  },
  {
   "cell_type": "code",
   "execution_count": 7,
   "metadata": {},
   "outputs": [],
   "source": [
    "#g <- ggplot(mpg, aes(class))\n",
    "mpg['counts'] = 0\n",
    "mpg_plot = mpg[['class','counts']].groupby(by='class',as_index=False).count()\n",
    "def create_gv():\n",
    "    g = figure(title=\"My plot\", plot_width=800, plot_height=400, x_range = mpg_plot['class'])\n",
    "    return g\n",
    "def create_gh():\n",
    "    g = figure(title=\"My plot\", plot_width=800, plot_height=400, y_range = mpg_plot['class'])\n",
    "    return g"
   ]
  },
  {
   "cell_type": "code",
   "execution_count": 8,
   "metadata": {},
   "outputs": [
    {
     "data": {
      "text/html": [
       "\n",
       "\n",
       "\n",
       "\n",
       "\n",
       "\n",
       "  <div class=\"bk-root\" id=\"d8746802-b7bf-477b-8b8c-3940f46ef874\"></div>\n"
      ]
     },
     "metadata": {},
     "output_type": "display_data"
    },
    {
     "data": {
      "application/javascript": [
       "(function(root) {\n",
       "  function embed_document(root) {\n",
       "    \n",
       "  var docs_json = {\"35f4efbe-3a05-403d-89f2-9cd477be09ac\":{\"roots\":{\"references\":[{\"attributes\":{\"callback\":null,\"factors\":[\"2seater\",\"compact\",\"midsize\",\"minivan\",\"pickup\",\"subcompact\",\"suv\"]},\"id\":\"d83ba608-1826-4490-ac82-51d2a096c4e6\",\"type\":\"FactorRange\"},{\"attributes\":{\"formatter\":{\"id\":\"4e7cb5c6-bc85-4837-af2b-d1b1ea7dda93\",\"type\":\"BasicTickFormatter\"},\"plot\":{\"id\":\"87ec9189-0130-438a-96cd-b88a045716f9\",\"subtype\":\"Figure\",\"type\":\"Plot\"},\"ticker\":{\"id\":\"812da33c-1863-4677-a48e-a6558b2e0b0a\",\"type\":\"BasicTicker\"}},\"id\":\"a5486efd-3f4b-407a-95df-f98a2c89860a\",\"type\":\"LinearAxis\"},{\"attributes\":{\"bottom_units\":\"screen\",\"fill_alpha\":{\"value\":0.5},\"fill_color\":{\"value\":\"lightgrey\"},\"left_units\":\"screen\",\"level\":\"overlay\",\"line_alpha\":{\"value\":1.0},\"line_color\":{\"value\":\"black\"},\"line_dash\":[4,4],\"line_width\":{\"value\":2},\"plot\":null,\"render_mode\":\"css\",\"right_units\":\"screen\",\"top_units\":\"screen\"},\"id\":\"b0d2b910-b734-46e5-a1a6-36b855783cdf\",\"type\":\"BoxAnnotation\"},{\"attributes\":{\"below\":[{\"id\":\"87462a04-b17c-4416-ba4e-75467876237a\",\"type\":\"CategoricalAxis\"}],\"left\":[{\"id\":\"a5486efd-3f4b-407a-95df-f98a2c89860a\",\"type\":\"LinearAxis\"}],\"plot_height\":400,\"plot_width\":800,\"renderers\":[{\"id\":\"87462a04-b17c-4416-ba4e-75467876237a\",\"type\":\"CategoricalAxis\"},{\"id\":\"7858488b-ca80-4df8-89ca-ae70079a351b\",\"type\":\"Grid\"},{\"id\":\"a5486efd-3f4b-407a-95df-f98a2c89860a\",\"type\":\"LinearAxis\"},{\"id\":\"4e979541-bb5a-4673-9d7a-568667a6a5b2\",\"type\":\"Grid\"},{\"id\":\"b0d2b910-b734-46e5-a1a6-36b855783cdf\",\"type\":\"BoxAnnotation\"},{\"id\":\"f3ba1c85-f4ee-43d7-8c4c-f81549521c27\",\"type\":\"GlyphRenderer\"}],\"title\":{\"id\":\"530154fe-c60c-4011-b408-c90b26001da8\",\"type\":\"Title\"},\"toolbar\":{\"id\":\"7cdddabe-e878-4570-8208-fe78d9b8d682\",\"type\":\"Toolbar\"},\"x_range\":{\"id\":\"d83ba608-1826-4490-ac82-51d2a096c4e6\",\"type\":\"FactorRange\"},\"x_scale\":{\"id\":\"89382f5b-d2bf-476b-a5c2-f269b7c1f8be\",\"type\":\"CategoricalScale\"},\"y_range\":{\"id\":\"942cb5b1-b68d-4e2d-971d-41d40f110186\",\"type\":\"DataRange1d\"},\"y_scale\":{\"id\":\"c2063950-b862-4bcf-8fb9-6f139ae42d5d\",\"type\":\"LinearScale\"}},\"id\":\"87ec9189-0130-438a-96cd-b88a045716f9\",\"subtype\":\"Figure\",\"type\":\"Plot\"},{\"attributes\":{\"active_drag\":\"auto\",\"active_inspect\":\"auto\",\"active_multi\":null,\"active_scroll\":\"auto\",\"active_tap\":\"auto\",\"tools\":[{\"id\":\"0d005dfe-b8d4-44bc-a110-7d9bea11b2f4\",\"type\":\"PanTool\"},{\"id\":\"f7f44679-0fc4-425e-a5c6-e26650470ead\",\"type\":\"WheelZoomTool\"},{\"id\":\"1908ee85-2f6e-4abf-9f8e-52b752579b68\",\"type\":\"BoxZoomTool\"},{\"id\":\"84b51322-1b18-4992-b611-1c3a9501b502\",\"type\":\"SaveTool\"},{\"id\":\"07c0d4a5-e83e-4095-8e0f-02ddbe640ff9\",\"type\":\"ResetTool\"},{\"id\":\"921823e9-6b09-41cb-b33a-86ed1c533e8d\",\"type\":\"HelpTool\"}]},\"id\":\"7cdddabe-e878-4570-8208-fe78d9b8d682\",\"type\":\"Toolbar\"},{\"attributes\":{},\"id\":\"1ee7dc17-8a80-421d-8290-66694aad4411\",\"type\":\"CategoricalTickFormatter\"},{\"attributes\":{},\"id\":\"f7f44679-0fc4-425e-a5c6-e26650470ead\",\"type\":\"WheelZoomTool\"},{\"attributes\":{\"source\":{\"id\":\"5079ac3f-bf64-4c4a-a471-096949d2e3fc\",\"type\":\"ColumnDataSource\"}},\"id\":\"d1edfbf0-9ea9-4c8c-bfd1-acb070dacceb\",\"type\":\"CDSView\"},{\"attributes\":{\"plot\":{\"id\":\"87ec9189-0130-438a-96cd-b88a045716f9\",\"subtype\":\"Figure\",\"type\":\"Plot\"},\"ticker\":{\"id\":\"6538b793-9c75-4cf5-80cd-c717933f6400\",\"type\":\"CategoricalTicker\"}},\"id\":\"7858488b-ca80-4df8-89ca-ae70079a351b\",\"type\":\"Grid\"},{\"attributes\":{\"plot\":null,\"text\":\"My plot\"},\"id\":\"530154fe-c60c-4011-b408-c90b26001da8\",\"type\":\"Title\"},{\"attributes\":{\"callback\":null,\"data\":{\"class\":[\"2seater\",\"compact\",\"midsize\",\"minivan\",\"pickup\",\"subcompact\",\"suv\"],\"counts\":[5,47,41,11,33,35,62],\"index\":[0,1,2,3,4,5,6]},\"selected\":{\"id\":\"92acb3e1-d0fc-4e1f-8b93-d4d27152aeaa\",\"type\":\"Selection\"},\"selection_policy\":{\"id\":\"aa5d1d06-0057-419b-b231-89c21e2813f7\",\"type\":\"UnionRenderers\"}},\"id\":\"5079ac3f-bf64-4c4a-a471-096949d2e3fc\",\"type\":\"ColumnDataSource\"},{\"attributes\":{},\"id\":\"c2063950-b862-4bcf-8fb9-6f139ae42d5d\",\"type\":\"LinearScale\"},{\"attributes\":{\"data_source\":{\"id\":\"5079ac3f-bf64-4c4a-a471-096949d2e3fc\",\"type\":\"ColumnDataSource\"},\"glyph\":{\"id\":\"436b0875-2076-4d82-a364-796a4babb160\",\"type\":\"VBar\"},\"hover_glyph\":null,\"muted_glyph\":null,\"nonselection_glyph\":{\"id\":\"73656360-0a05-4230-a069-5eff28af668a\",\"type\":\"VBar\"},\"selection_glyph\":null,\"view\":{\"id\":\"d1edfbf0-9ea9-4c8c-bfd1-acb070dacceb\",\"type\":\"CDSView\"}},\"id\":\"f3ba1c85-f4ee-43d7-8c4c-f81549521c27\",\"type\":\"GlyphRenderer\"},{\"attributes\":{},\"id\":\"4e7cb5c6-bc85-4837-af2b-d1b1ea7dda93\",\"type\":\"BasicTickFormatter\"},{\"attributes\":{\"callback\":null},\"id\":\"942cb5b1-b68d-4e2d-971d-41d40f110186\",\"type\":\"DataRange1d\"},{\"attributes\":{\"overlay\":{\"id\":\"b0d2b910-b734-46e5-a1a6-36b855783cdf\",\"type\":\"BoxAnnotation\"}},\"id\":\"1908ee85-2f6e-4abf-9f8e-52b752579b68\",\"type\":\"BoxZoomTool\"},{\"attributes\":{\"formatter\":{\"id\":\"1ee7dc17-8a80-421d-8290-66694aad4411\",\"type\":\"CategoricalTickFormatter\"},\"plot\":{\"id\":\"87ec9189-0130-438a-96cd-b88a045716f9\",\"subtype\":\"Figure\",\"type\":\"Plot\"},\"ticker\":{\"id\":\"6538b793-9c75-4cf5-80cd-c717933f6400\",\"type\":\"CategoricalTicker\"}},\"id\":\"87462a04-b17c-4416-ba4e-75467876237a\",\"type\":\"CategoricalAxis\"},{\"attributes\":{\"dimension\":1,\"plot\":{\"id\":\"87ec9189-0130-438a-96cd-b88a045716f9\",\"subtype\":\"Figure\",\"type\":\"Plot\"},\"ticker\":{\"id\":\"812da33c-1863-4677-a48e-a6558b2e0b0a\",\"type\":\"BasicTicker\"}},\"id\":\"4e979541-bb5a-4673-9d7a-568667a6a5b2\",\"type\":\"Grid\"},{\"attributes\":{\"fill_color\":{\"value\":\"#1f77b4\"},\"line_color\":{\"value\":\"#1f77b4\"},\"top\":{\"field\":\"counts\"},\"width\":{\"value\":0.9},\"x\":{\"field\":\"class\"}},\"id\":\"436b0875-2076-4d82-a364-796a4babb160\",\"type\":\"VBar\"},{\"attributes\":{},\"id\":\"92acb3e1-d0fc-4e1f-8b93-d4d27152aeaa\",\"type\":\"Selection\"},{\"attributes\":{},\"id\":\"0d005dfe-b8d4-44bc-a110-7d9bea11b2f4\",\"type\":\"PanTool\"},{\"attributes\":{},\"id\":\"84b51322-1b18-4992-b611-1c3a9501b502\",\"type\":\"SaveTool\"},{\"attributes\":{},\"id\":\"812da33c-1863-4677-a48e-a6558b2e0b0a\",\"type\":\"BasicTicker\"},{\"attributes\":{},\"id\":\"aa5d1d06-0057-419b-b231-89c21e2813f7\",\"type\":\"UnionRenderers\"},{\"attributes\":{},\"id\":\"07c0d4a5-e83e-4095-8e0f-02ddbe640ff9\",\"type\":\"ResetTool\"},{\"attributes\":{},\"id\":\"6538b793-9c75-4cf5-80cd-c717933f6400\",\"type\":\"CategoricalTicker\"},{\"attributes\":{\"fill_alpha\":{\"value\":0.1},\"fill_color\":{\"value\":\"#1f77b4\"},\"line_alpha\":{\"value\":0.1},\"line_color\":{\"value\":\"#1f77b4\"},\"top\":{\"field\":\"counts\"},\"width\":{\"value\":0.9},\"x\":{\"field\":\"class\"}},\"id\":\"73656360-0a05-4230-a069-5eff28af668a\",\"type\":\"VBar\"},{\"attributes\":{},\"id\":\"89382f5b-d2bf-476b-a5c2-f269b7c1f8be\",\"type\":\"CategoricalScale\"},{\"attributes\":{},\"id\":\"921823e9-6b09-41cb-b33a-86ed1c533e8d\",\"type\":\"HelpTool\"}],\"root_ids\":[\"87ec9189-0130-438a-96cd-b88a045716f9\"]},\"title\":\"Bokeh Application\",\"version\":\"0.13.0\"}};\n",
       "  var render_items = [{\"docid\":\"35f4efbe-3a05-403d-89f2-9cd477be09ac\",\"roots\":{\"87ec9189-0130-438a-96cd-b88a045716f9\":\"d8746802-b7bf-477b-8b8c-3940f46ef874\"}}];\n",
       "  root.Bokeh.embed.embed_items_notebook(docs_json, render_items);\n",
       "\n",
       "  }\n",
       "  if (root.Bokeh !== undefined) {\n",
       "    embed_document(root);\n",
       "  } else {\n",
       "    var attempts = 0;\n",
       "    var timer = setInterval(function(root) {\n",
       "      if (root.Bokeh !== undefined) {\n",
       "        embed_document(root);\n",
       "        clearInterval(timer);\n",
       "      }\n",
       "      attempts++;\n",
       "      if (attempts > 100) {\n",
       "        console.log(\"Bokeh: ERROR: Unable to run BokehJS code because BokehJS library is missing\")\n",
       "        clearInterval(timer);\n",
       "      }\n",
       "    }, 10, root)\n",
       "  }\n",
       "})(window);"
      ],
      "application/vnd.bokehjs_exec.v0+json": ""
     },
     "metadata": {
      "application/vnd.bokehjs_exec.v0+json": {
       "id": "87ec9189-0130-438a-96cd-b88a045716f9"
      }
     },
     "output_type": "display_data"
    }
   ],
   "source": [
    "g = create_gv()\n",
    "#g + geom_bar()\n",
    "g.vbar(x='class', top='counts', width=0.9, bottom=0, source = mpg_plot)\n",
    "show(g)"
   ]
  },
  {
   "cell_type": "code",
   "execution_count": 9,
   "metadata": {},
   "outputs": [
    {
     "data": {
      "text/html": [
       "\n",
       "\n",
       "\n",
       "\n",
       "\n",
       "\n",
       "  <div class=\"bk-root\" id=\"9161c040-b303-45f2-9e01-94bf0c1561f5\"></div>\n"
      ]
     },
     "metadata": {},
     "output_type": "display_data"
    },
    {
     "data": {
      "application/javascript": [
       "(function(root) {\n",
       "  function embed_document(root) {\n",
       "    \n",
       "  var docs_json = {\"14a255d8-7463-4b11-9a4d-2ec93d1d7e5a\":{\"roots\":{\"references\":[{\"attributes\":{\"callback\":null,\"data\":{\"class\":[\"2seater\",\"compact\",\"midsize\",\"minivan\",\"pickup\",\"subcompact\",\"suv\"],\"displ\":{\"__ndarray__\":\"zczMzMzMPkAyMzMzM1NbQDIzMzMz811AZ2ZmZmamQkCbmZmZmTliQGhmZmZmRldAy8zMzMxEcUA=\",\"dtype\":\"float64\",\"shape\":[7]},\"index\":[0,1,2,3,4,5,6]},\"selected\":{\"id\":\"3768640a-eee9-46f0-a58f-219b0c900f82\",\"type\":\"Selection\"},\"selection_policy\":{\"id\":\"c1b47189-cd8b-4f39-a0ef-0a1d2460e8f5\",\"type\":\"UnionRenderers\"}},\"id\":\"71beafd9-6de7-4733-ba82-ff1df0c08e13\",\"type\":\"ColumnDataSource\"},{\"attributes\":{\"fill_color\":{\"value\":\"#1f77b4\"},\"line_color\":{\"value\":\"#1f77b4\"},\"top\":{\"field\":\"displ\"},\"width\":{\"value\":0.9},\"x\":{\"field\":\"class\"}},\"id\":\"25c3915b-11d7-4952-b603-a99a9ebf4782\",\"type\":\"VBar\"},{\"attributes\":{},\"id\":\"461b5167-07e6-476f-9e4e-65c5eedc2e2f\",\"type\":\"BasicTickFormatter\"},{\"attributes\":{},\"id\":\"9173aacf-d805-47cb-8197-ab8e31832ea9\",\"type\":\"WheelZoomTool\"},{\"attributes\":{},\"id\":\"0b603f93-c16f-4b9f-a620-c9c27e7f59a2\",\"type\":\"SaveTool\"},{\"attributes\":{\"formatter\":{\"id\":\"7d15eee1-776a-414d-8916-f970dab2f0a1\",\"type\":\"CategoricalTickFormatter\"},\"plot\":{\"id\":\"3b198d02-e0dd-41ed-9345-ef21df313b38\",\"subtype\":\"Figure\",\"type\":\"Plot\"},\"ticker\":{\"id\":\"bd47fabc-f83c-4996-8a81-367ec0b0304c\",\"type\":\"CategoricalTicker\"}},\"id\":\"f4a42f75-d843-4dcc-b613-50c39aa4f849\",\"type\":\"CategoricalAxis\"},{\"attributes\":{},\"id\":\"79e91205-6630-400b-81a3-9679f69ce7d5\",\"type\":\"ResetTool\"},{\"attributes\":{\"plot\":{\"id\":\"3b198d02-e0dd-41ed-9345-ef21df313b38\",\"subtype\":\"Figure\",\"type\":\"Plot\"},\"ticker\":{\"id\":\"bd47fabc-f83c-4996-8a81-367ec0b0304c\",\"type\":\"CategoricalTicker\"}},\"id\":\"bac35968-9ff6-44de-abcf-4d8f93464c2e\",\"type\":\"Grid\"},{\"attributes\":{},\"id\":\"8d3b48b7-7b43-41db-9375-2074ed103e34\",\"type\":\"HelpTool\"},{\"attributes\":{},\"id\":\"a0162e7d-f76e-44d9-addf-90dcf7aa6acb\",\"type\":\"LinearScale\"},{\"attributes\":{\"plot\":null,\"text\":\"My plot\"},\"id\":\"c0053e7f-d63a-4f6d-a562-33dfe95d436f\",\"type\":\"Title\"},{\"attributes\":{},\"id\":\"3768640a-eee9-46f0-a58f-219b0c900f82\",\"type\":\"Selection\"},{\"attributes\":{\"overlay\":{\"id\":\"03fbe91c-a5a8-49f3-96a0-14d5e3781005\",\"type\":\"BoxAnnotation\"}},\"id\":\"0f8cb536-7d3b-4e61-8842-5b9c4c5341e9\",\"type\":\"BoxZoomTool\"},{\"attributes\":{\"data_source\":{\"id\":\"71beafd9-6de7-4733-ba82-ff1df0c08e13\",\"type\":\"ColumnDataSource\"},\"glyph\":{\"id\":\"25c3915b-11d7-4952-b603-a99a9ebf4782\",\"type\":\"VBar\"},\"hover_glyph\":null,\"muted_glyph\":null,\"nonselection_glyph\":{\"id\":\"f97055c1-4800-4d69-badb-ac950143555d\",\"type\":\"VBar\"},\"selection_glyph\":null,\"view\":{\"id\":\"c77952c9-364e-481b-b36f-6b4955c9df9c\",\"type\":\"CDSView\"}},\"id\":\"08089951-39b4-49ca-b94d-4fdb032fa5f6\",\"type\":\"GlyphRenderer\"},{\"attributes\":{},\"id\":\"d7e559db-e273-4f91-b8e1-7bf879b9875a\",\"type\":\"CategoricalScale\"},{\"attributes\":{\"callback\":null,\"factors\":[\"2seater\",\"compact\",\"midsize\",\"minivan\",\"pickup\",\"subcompact\",\"suv\"]},\"id\":\"68fbd5be-120d-4555-9ad4-f9b676c930ef\",\"type\":\"FactorRange\"},{\"attributes\":{},\"id\":\"b62acf6a-2019-47f0-913c-d62aaee7af4c\",\"type\":\"PanTool\"},{\"attributes\":{\"formatter\":{\"id\":\"461b5167-07e6-476f-9e4e-65c5eedc2e2f\",\"type\":\"BasicTickFormatter\"},\"plot\":{\"id\":\"3b198d02-e0dd-41ed-9345-ef21df313b38\",\"subtype\":\"Figure\",\"type\":\"Plot\"},\"ticker\":{\"id\":\"1cc2998c-32e2-43f1-a3d1-4a8b7d5a1807\",\"type\":\"BasicTicker\"}},\"id\":\"3e7cbe98-dc35-4808-8026-645c5a23094f\",\"type\":\"LinearAxis\"},{\"attributes\":{\"below\":[{\"id\":\"f4a42f75-d843-4dcc-b613-50c39aa4f849\",\"type\":\"CategoricalAxis\"}],\"left\":[{\"id\":\"3e7cbe98-dc35-4808-8026-645c5a23094f\",\"type\":\"LinearAxis\"}],\"plot_height\":400,\"plot_width\":800,\"renderers\":[{\"id\":\"f4a42f75-d843-4dcc-b613-50c39aa4f849\",\"type\":\"CategoricalAxis\"},{\"id\":\"bac35968-9ff6-44de-abcf-4d8f93464c2e\",\"type\":\"Grid\"},{\"id\":\"3e7cbe98-dc35-4808-8026-645c5a23094f\",\"type\":\"LinearAxis\"},{\"id\":\"f8bba367-39cc-482e-b803-11406d56ce3c\",\"type\":\"Grid\"},{\"id\":\"03fbe91c-a5a8-49f3-96a0-14d5e3781005\",\"type\":\"BoxAnnotation\"},{\"id\":\"08089951-39b4-49ca-b94d-4fdb032fa5f6\",\"type\":\"GlyphRenderer\"}],\"title\":{\"id\":\"c0053e7f-d63a-4f6d-a562-33dfe95d436f\",\"type\":\"Title\"},\"toolbar\":{\"id\":\"1994e261-e2d6-4c00-b31b-7b583ede6700\",\"type\":\"Toolbar\"},\"x_range\":{\"id\":\"68fbd5be-120d-4555-9ad4-f9b676c930ef\",\"type\":\"FactorRange\"},\"x_scale\":{\"id\":\"d7e559db-e273-4f91-b8e1-7bf879b9875a\",\"type\":\"CategoricalScale\"},\"y_range\":{\"id\":\"a5d7bc48-0d10-4e47-a9e7-28dcf06d2143\",\"type\":\"DataRange1d\"},\"y_scale\":{\"id\":\"a0162e7d-f76e-44d9-addf-90dcf7aa6acb\",\"type\":\"LinearScale\"}},\"id\":\"3b198d02-e0dd-41ed-9345-ef21df313b38\",\"subtype\":\"Figure\",\"type\":\"Plot\"},{\"attributes\":{\"active_drag\":\"auto\",\"active_inspect\":\"auto\",\"active_multi\":null,\"active_scroll\":\"auto\",\"active_tap\":\"auto\",\"tools\":[{\"id\":\"b62acf6a-2019-47f0-913c-d62aaee7af4c\",\"type\":\"PanTool\"},{\"id\":\"9173aacf-d805-47cb-8197-ab8e31832ea9\",\"type\":\"WheelZoomTool\"},{\"id\":\"0f8cb536-7d3b-4e61-8842-5b9c4c5341e9\",\"type\":\"BoxZoomTool\"},{\"id\":\"0b603f93-c16f-4b9f-a620-c9c27e7f59a2\",\"type\":\"SaveTool\"},{\"id\":\"79e91205-6630-400b-81a3-9679f69ce7d5\",\"type\":\"ResetTool\"},{\"id\":\"8d3b48b7-7b43-41db-9375-2074ed103e34\",\"type\":\"HelpTool\"}]},\"id\":\"1994e261-e2d6-4c00-b31b-7b583ede6700\",\"type\":\"Toolbar\"},{\"attributes\":{\"callback\":null},\"id\":\"a5d7bc48-0d10-4e47-a9e7-28dcf06d2143\",\"type\":\"DataRange1d\"},{\"attributes\":{\"fill_alpha\":{\"value\":0.1},\"fill_color\":{\"value\":\"#1f77b4\"},\"line_alpha\":{\"value\":0.1},\"line_color\":{\"value\":\"#1f77b4\"},\"top\":{\"field\":\"displ\"},\"width\":{\"value\":0.9},\"x\":{\"field\":\"class\"}},\"id\":\"f97055c1-4800-4d69-badb-ac950143555d\",\"type\":\"VBar\"},{\"attributes\":{},\"id\":\"7d15eee1-776a-414d-8916-f970dab2f0a1\",\"type\":\"CategoricalTickFormatter\"},{\"attributes\":{},\"id\":\"bd47fabc-f83c-4996-8a81-367ec0b0304c\",\"type\":\"CategoricalTicker\"},{\"attributes\":{},\"id\":\"c1b47189-cd8b-4f39-a0ef-0a1d2460e8f5\",\"type\":\"UnionRenderers\"},{\"attributes\":{\"dimension\":1,\"plot\":{\"id\":\"3b198d02-e0dd-41ed-9345-ef21df313b38\",\"subtype\":\"Figure\",\"type\":\"Plot\"},\"ticker\":{\"id\":\"1cc2998c-32e2-43f1-a3d1-4a8b7d5a1807\",\"type\":\"BasicTicker\"}},\"id\":\"f8bba367-39cc-482e-b803-11406d56ce3c\",\"type\":\"Grid\"},{\"attributes\":{\"bottom_units\":\"screen\",\"fill_alpha\":{\"value\":0.5},\"fill_color\":{\"value\":\"lightgrey\"},\"left_units\":\"screen\",\"level\":\"overlay\",\"line_alpha\":{\"value\":1.0},\"line_color\":{\"value\":\"black\"},\"line_dash\":[4,4],\"line_width\":{\"value\":2},\"plot\":null,\"render_mode\":\"css\",\"right_units\":\"screen\",\"top_units\":\"screen\"},\"id\":\"03fbe91c-a5a8-49f3-96a0-14d5e3781005\",\"type\":\"BoxAnnotation\"},{\"attributes\":{},\"id\":\"1cc2998c-32e2-43f1-a3d1-4a8b7d5a1807\",\"type\":\"BasicTicker\"},{\"attributes\":{\"source\":{\"id\":\"71beafd9-6de7-4733-ba82-ff1df0c08e13\",\"type\":\"ColumnDataSource\"}},\"id\":\"c77952c9-364e-481b-b36f-6b4955c9df9c\",\"type\":\"CDSView\"}],\"root_ids\":[\"3b198d02-e0dd-41ed-9345-ef21df313b38\"]},\"title\":\"Bokeh Application\",\"version\":\"0.13.0\"}};\n",
       "  var render_items = [{\"docid\":\"14a255d8-7463-4b11-9a4d-2ec93d1d7e5a\",\"roots\":{\"3b198d02-e0dd-41ed-9345-ef21df313b38\":\"9161c040-b303-45f2-9e01-94bf0c1561f5\"}}];\n",
       "  root.Bokeh.embed.embed_items_notebook(docs_json, render_items);\n",
       "\n",
       "  }\n",
       "  if (root.Bokeh !== undefined) {\n",
       "    embed_document(root);\n",
       "  } else {\n",
       "    var attempts = 0;\n",
       "    var timer = setInterval(function(root) {\n",
       "      if (root.Bokeh !== undefined) {\n",
       "        embed_document(root);\n",
       "        clearInterval(timer);\n",
       "      }\n",
       "      attempts++;\n",
       "      if (attempts > 100) {\n",
       "        console.log(\"Bokeh: ERROR: Unable to run BokehJS code because BokehJS library is missing\")\n",
       "        clearInterval(timer);\n",
       "      }\n",
       "    }, 10, root)\n",
       "  }\n",
       "})(window);"
      ],
      "application/vnd.bokehjs_exec.v0+json": ""
     },
     "metadata": {
      "application/vnd.bokehjs_exec.v0+json": {
       "id": "3b198d02-e0dd-41ed-9345-ef21df313b38"
      }
     },
     "output_type": "display_data"
    }
   ],
   "source": [
    "g = create_gv()\n",
    "#g + geom_bar(aes(weight = displ))\n",
    "mpg_plot = mpg[['class','displ']].groupby(by='class',as_index=False).sum()\n",
    "g.vbar(x='class', top='displ', width=0.9, bottom=0, source = mpg_plot)\n",
    "show(g)"
   ]
  },
  {
   "cell_type": "code",
   "execution_count": 10,
   "metadata": {},
   "outputs": [
    {
     "data": {
      "text/html": [
       "\n",
       "\n",
       "\n",
       "\n",
       "\n",
       "\n",
       "  <div class=\"bk-root\" id=\"68766908-22c7-4b16-b09b-e49648d29886\"></div>\n"
      ]
     },
     "metadata": {},
     "output_type": "display_data"
    },
    {
     "data": {
      "application/javascript": [
       "(function(root) {\n",
       "  function embed_document(root) {\n",
       "    \n",
       "  var docs_json = {\"eecaa7cc-73a3-4b3c-bac8-e3af31e9ca4d\":{\"roots\":{\"references\":[{\"attributes\":{\"items\":[{\"id\":\"52e847c9-45bc-4294-aafc-ee260bab0591\",\"type\":\"LegendItem\"},{\"id\":\"b5c1f58c-366e-4b73-8c75-c0da79d5d469\",\"type\":\"LegendItem\"},{\"id\":\"83297a8e-8bd6-4ad1-950a-5bb826fbc236\",\"type\":\"LegendItem\"}],\"location\":\"top_left\",\"plot\":{\"id\":\"3d53222f-805b-4af7-8a38-5dfc7a77b446\",\"subtype\":\"Figure\",\"type\":\"Plot\"}},\"id\":\"82884591-1000-4299-ac91-448961c99e8c\",\"type\":\"Legend\"},{\"attributes\":{\"fields\":[\"4\",\"f\",\"r\"]},\"id\":\"16cb73f9-4933-4e1a-b9f8-54e35b3280c5\",\"type\":\"Stack\"},{\"attributes\":{\"callback\":null,\"data\":{\"4\":[0,12,3,0,33,4,51],\"class\":[\"2seater\",\"compact\",\"midsize\",\"minivan\",\"pickup\",\"subcompact\",\"suv\"],\"f\":[0,35,38,11,0,22,0],\"r\":[5,0,0,0,0,9,11]},\"selected\":{\"id\":\"b2e35927-0737-45af-a461-133d56ba215c\",\"type\":\"Selection\"},\"selection_policy\":{\"id\":\"380c86d1-d9bb-4fc9-a44e-5d0a20f6a36d\",\"type\":\"UnionRenderers\"}},\"id\":\"5d4fe4c9-3995-405c-86b2-20af143b7d34\",\"type\":\"ColumnDataSource\"},{\"attributes\":{\"data_source\":{\"id\":\"5d4fe4c9-3995-405c-86b2-20af143b7d34\",\"type\":\"ColumnDataSource\"},\"glyph\":{\"id\":\"044808f3-c254-41bf-b5e6-5986a607b6e7\",\"type\":\"VBar\"},\"hover_glyph\":null,\"muted_glyph\":null,\"name\":\"4\",\"nonselection_glyph\":{\"id\":\"36abccf5-75ad-477c-b5ee-6b8121f73663\",\"type\":\"VBar\"},\"selection_glyph\":null,\"view\":{\"id\":\"96ff2efa-688f-43de-b590-144822a6d112\",\"type\":\"CDSView\"}},\"id\":\"85a9367e-c566-4525-ab03-7b968ffc8afb\",\"type\":\"GlyphRenderer\"},{\"attributes\":{\"fields\":[\"4\"]},\"id\":\"2550be0b-0c8b-4378-968f-e81d6c3936fa\",\"type\":\"Stack\"},{\"attributes\":{},\"id\":\"3fa14621-d1b7-4bd7-b3e9-f0c0b50d82e1\",\"type\":\"CategoricalTickFormatter\"},{\"attributes\":{\"source\":{\"id\":\"5d4fe4c9-3995-405c-86b2-20af143b7d34\",\"type\":\"ColumnDataSource\"}},\"id\":\"96ff2efa-688f-43de-b590-144822a6d112\",\"type\":\"CDSView\"},{\"attributes\":{\"callback\":null},\"id\":\"a8a06683-3a47-457f-bb02-2a6aeb66cd24\",\"type\":\"DataRange1d\"},{\"attributes\":{\"bottom\":{\"expr\":{\"id\":\"bf2bf0bc-31ff-418a-ad32-b5d1a4c27701\",\"type\":\"Stack\"}},\"fill_alpha\":{\"value\":0.1},\"fill_color\":{\"value\":\"#1f77b4\"},\"line_alpha\":{\"value\":0.1},\"line_color\":{\"value\":\"#1f77b4\"},\"top\":{\"expr\":{\"id\":\"2550be0b-0c8b-4378-968f-e81d6c3936fa\",\"type\":\"Stack\"}},\"width\":{\"value\":0.9},\"x\":{\"field\":\"class\"}},\"id\":\"36abccf5-75ad-477c-b5ee-6b8121f73663\",\"type\":\"VBar\"},{\"attributes\":{\"active_drag\":\"auto\",\"active_inspect\":\"auto\",\"active_multi\":null,\"active_scroll\":\"auto\",\"active_tap\":\"auto\",\"tools\":[{\"id\":\"705f32db-1c12-4597-a167-aa53ea969c28\",\"type\":\"PanTool\"},{\"id\":\"7a8ddf41-7fa7-4718-afca-8e1dee4a8a0c\",\"type\":\"WheelZoomTool\"},{\"id\":\"d20891a6-a1b9-4b82-8a3e-5750b3515b40\",\"type\":\"BoxZoomTool\"},{\"id\":\"7ed75470-6ae5-4f2c-9fd8-8a3494c65f4b\",\"type\":\"SaveTool\"},{\"id\":\"5cf2beec-3c20-4d8b-9e2b-b527666b9fb7\",\"type\":\"ResetTool\"},{\"id\":\"7081e40e-5179-42fe-9454-c0d723203a7c\",\"type\":\"HelpTool\"}]},\"id\":\"02d3cb28-3ed9-4b3a-b72b-1d2254b53f1d\",\"type\":\"Toolbar\"},{\"attributes\":{},\"id\":\"86ffd0ba-2ff3-480e-931b-b678d3ac8bce\",\"type\":\"BasicTickFormatter\"},{\"attributes\":{},\"id\":\"aca063a9-c4b6-4832-b132-74e760677bd3\",\"type\":\"BasicTicker\"},{\"attributes\":{\"plot\":null,\"text\":\"My plot\"},\"id\":\"472c9d66-49f3-4268-babc-ac59dd6f2d93\",\"type\":\"Title\"},{\"attributes\":{\"callback\":null,\"data\":{\"4\":[0,12,3,0,33,4,51],\"class\":[\"2seater\",\"compact\",\"midsize\",\"minivan\",\"pickup\",\"subcompact\",\"suv\"],\"f\":[0,35,38,11,0,22,0],\"r\":[5,0,0,0,0,9,11]},\"selected\":{\"id\":\"67bd8cc6-5b12-4b5e-9139-485937d11fcf\",\"type\":\"Selection\"},\"selection_policy\":{\"id\":\"22b9144b-5348-4ff5-aff7-a751b4447412\",\"type\":\"UnionRenderers\"}},\"id\":\"9e05ff48-4afd-45a4-b4cd-d91968880a93\",\"type\":\"ColumnDataSource\"},{\"attributes\":{},\"id\":\"99b28211-baba-421f-a2b2-f4d32f227a09\",\"type\":\"CategoricalTicker\"},{\"attributes\":{\"bottom\":{\"expr\":{\"id\":\"2813174d-6318-46a3-8082-59cbc541e103\",\"type\":\"Stack\"}},\"fill_color\":{\"value\":\"#99d594\"},\"line_color\":{\"value\":\"#99d594\"},\"top\":{\"expr\":{\"id\":\"80c8a1e2-5677-4218-9d8b-3f951f91ee16\",\"type\":\"Stack\"}},\"width\":{\"value\":0.9},\"x\":{\"field\":\"class\"}},\"id\":\"21dbcfb2-7755-4d66-9e78-7aded4c083be\",\"type\":\"VBar\"},{\"attributes\":{\"callback\":null,\"factors\":[\"2seater\",\"compact\",\"midsize\",\"minivan\",\"pickup\",\"subcompact\",\"suv\"]},\"id\":\"6ad55cc3-8931-4b21-aa40-b1e64a45daf4\",\"type\":\"FactorRange\"},{\"attributes\":{},\"id\":\"380c86d1-d9bb-4fc9-a44e-5d0a20f6a36d\",\"type\":\"UnionRenderers\"},{\"attributes\":{\"source\":{\"id\":\"9e05ff48-4afd-45a4-b4cd-d91968880a93\",\"type\":\"ColumnDataSource\"}},\"id\":\"6df84795-8ade-46c8-b9d6-2482b1c194e3\",\"type\":\"CDSView\"},{\"attributes\":{\"fields\":[]},\"id\":\"bf2bf0bc-31ff-418a-ad32-b5d1a4c27701\",\"type\":\"Stack\"},{\"attributes\":{\"data_source\":{\"id\":\"9e05ff48-4afd-45a4-b4cd-d91968880a93\",\"type\":\"ColumnDataSource\"},\"glyph\":{\"id\":\"21dbcfb2-7755-4d66-9e78-7aded4c083be\",\"type\":\"VBar\"},\"hover_glyph\":null,\"muted_glyph\":null,\"name\":\"f\",\"nonselection_glyph\":{\"id\":\"fc0b532b-ee90-4fff-a174-f7a5543673aa\",\"type\":\"VBar\"},\"selection_glyph\":null,\"view\":{\"id\":\"6df84795-8ade-46c8-b9d6-2482b1c194e3\",\"type\":\"CDSView\"}},\"id\":\"5c40ab4b-b4c1-43bd-a98a-b685ab86bd97\",\"type\":\"GlyphRenderer\"},{\"attributes\":{\"formatter\":{\"id\":\"86ffd0ba-2ff3-480e-931b-b678d3ac8bce\",\"type\":\"BasicTickFormatter\"},\"plot\":{\"id\":\"3d53222f-805b-4af7-8a38-5dfc7a77b446\",\"subtype\":\"Figure\",\"type\":\"Plot\"},\"ticker\":{\"id\":\"aca063a9-c4b6-4832-b132-74e760677bd3\",\"type\":\"BasicTicker\"}},\"id\":\"b1b2c6a0-1a29-472c-b275-0cdf2c78b231\",\"type\":\"LinearAxis\"},{\"attributes\":{\"bottom\":{\"expr\":{\"id\":\"2813174d-6318-46a3-8082-59cbc541e103\",\"type\":\"Stack\"}},\"fill_alpha\":{\"value\":0.1},\"fill_color\":{\"value\":\"#1f77b4\"},\"line_alpha\":{\"value\":0.1},\"line_color\":{\"value\":\"#1f77b4\"},\"top\":{\"expr\":{\"id\":\"80c8a1e2-5677-4218-9d8b-3f951f91ee16\",\"type\":\"Stack\"}},\"width\":{\"value\":0.9},\"x\":{\"field\":\"class\"}},\"id\":\"fc0b532b-ee90-4fff-a174-f7a5543673aa\",\"type\":\"VBar\"},{\"attributes\":{\"below\":[{\"id\":\"cc45a356-4d86-4e9d-857a-455acda6c638\",\"type\":\"CategoricalAxis\"}],\"left\":[{\"id\":\"b1b2c6a0-1a29-472c-b275-0cdf2c78b231\",\"type\":\"LinearAxis\"}],\"plot_height\":400,\"plot_width\":800,\"renderers\":[{\"id\":\"cc45a356-4d86-4e9d-857a-455acda6c638\",\"type\":\"CategoricalAxis\"},{\"id\":\"e24f07b1-ee8a-4724-b2b5-bafa50deafc8\",\"type\":\"Grid\"},{\"id\":\"b1b2c6a0-1a29-472c-b275-0cdf2c78b231\",\"type\":\"LinearAxis\"},{\"id\":\"eeeb0960-295d-4119-be70-9988c27dd426\",\"type\":\"Grid\"},{\"id\":\"2813f088-9c14-496a-b642-7e460fd38c7a\",\"type\":\"BoxAnnotation\"},{\"id\":\"82884591-1000-4299-ac91-448961c99e8c\",\"type\":\"Legend\"},{\"id\":\"85a9367e-c566-4525-ab03-7b968ffc8afb\",\"type\":\"GlyphRenderer\"},{\"id\":\"5c40ab4b-b4c1-43bd-a98a-b685ab86bd97\",\"type\":\"GlyphRenderer\"},{\"id\":\"bb9c004a-842b-41f4-bd09-39ae3c77b304\",\"type\":\"GlyphRenderer\"}],\"title\":{\"id\":\"472c9d66-49f3-4268-babc-ac59dd6f2d93\",\"type\":\"Title\"},\"toolbar\":{\"id\":\"02d3cb28-3ed9-4b3a-b72b-1d2254b53f1d\",\"type\":\"Toolbar\"},\"x_range\":{\"id\":\"6ad55cc3-8931-4b21-aa40-b1e64a45daf4\",\"type\":\"FactorRange\"},\"x_scale\":{\"id\":\"cf1a4f5a-cd4b-44af-a4e2-5d493706c29f\",\"type\":\"CategoricalScale\"},\"y_range\":{\"id\":\"a8a06683-3a47-457f-bb02-2a6aeb66cd24\",\"type\":\"DataRange1d\"},\"y_scale\":{\"id\":\"a833fc84-eb7e-4677-966c-94372df543a4\",\"type\":\"LinearScale\"}},\"id\":\"3d53222f-805b-4af7-8a38-5dfc7a77b446\",\"subtype\":\"Figure\",\"type\":\"Plot\"},{\"attributes\":{\"callback\":null,\"data\":{\"4\":[0,12,3,0,33,4,51],\"class\":[\"2seater\",\"compact\",\"midsize\",\"minivan\",\"pickup\",\"subcompact\",\"suv\"],\"f\":[0,35,38,11,0,22,0],\"r\":[5,0,0,0,0,9,11]},\"selected\":{\"id\":\"08f0a02a-96f3-4391-a6ee-8f3a55599edf\",\"type\":\"Selection\"},\"selection_policy\":{\"id\":\"7ecff2ed-1026-46b2-bec4-919017ab44de\",\"type\":\"UnionRenderers\"}},\"id\":\"c204501b-3793-4f0d-9f80-bf15d15fb9da\",\"type\":\"ColumnDataSource\"},{\"attributes\":{},\"id\":\"a833fc84-eb7e-4677-966c-94372df543a4\",\"type\":\"LinearScale\"},{\"attributes\":{},\"id\":\"b2e35927-0737-45af-a461-133d56ba215c\",\"type\":\"Selection\"},{\"attributes\":{\"fields\":[\"4\",\"f\"]},\"id\":\"6faeb11e-27db-4c98-97b8-b061065152e7\",\"type\":\"Stack\"},{\"attributes\":{\"label\":{\"value\":\"f\"},\"renderers\":[{\"id\":\"5c40ab4b-b4c1-43bd-a98a-b685ab86bd97\",\"type\":\"GlyphRenderer\"}]},\"id\":\"b5c1f58c-366e-4b73-8c75-c0da79d5d469\",\"type\":\"LegendItem\"},{\"attributes\":{\"dimension\":1,\"plot\":{\"id\":\"3d53222f-805b-4af7-8a38-5dfc7a77b446\",\"subtype\":\"Figure\",\"type\":\"Plot\"},\"ticker\":{\"id\":\"aca063a9-c4b6-4832-b132-74e760677bd3\",\"type\":\"BasicTicker\"}},\"id\":\"eeeb0960-295d-4119-be70-9988c27dd426\",\"type\":\"Grid\"},{\"attributes\":{},\"id\":\"7ecff2ed-1026-46b2-bec4-919017ab44de\",\"type\":\"UnionRenderers\"},{\"attributes\":{\"plot\":{\"id\":\"3d53222f-805b-4af7-8a38-5dfc7a77b446\",\"subtype\":\"Figure\",\"type\":\"Plot\"},\"ticker\":{\"id\":\"99b28211-baba-421f-a2b2-f4d32f227a09\",\"type\":\"CategoricalTicker\"}},\"id\":\"e24f07b1-ee8a-4724-b2b5-bafa50deafc8\",\"type\":\"Grid\"},{\"attributes\":{\"bottom\":{\"expr\":{\"id\":\"6faeb11e-27db-4c98-97b8-b061065152e7\",\"type\":\"Stack\"}},\"fill_color\":{\"value\":\"#d53e4f\"},\"line_color\":{\"value\":\"#d53e4f\"},\"top\":{\"expr\":{\"id\":\"16cb73f9-4933-4e1a-b9f8-54e35b3280c5\",\"type\":\"Stack\"}},\"width\":{\"value\":0.9},\"x\":{\"field\":\"class\"}},\"id\":\"85c27255-910e-4fbd-a492-9d7900745ad1\",\"type\":\"VBar\"},{\"attributes\":{\"formatter\":{\"id\":\"3fa14621-d1b7-4bd7-b3e9-f0c0b50d82e1\",\"type\":\"CategoricalTickFormatter\"},\"plot\":{\"id\":\"3d53222f-805b-4af7-8a38-5dfc7a77b446\",\"subtype\":\"Figure\",\"type\":\"Plot\"},\"ticker\":{\"id\":\"99b28211-baba-421f-a2b2-f4d32f227a09\",\"type\":\"CategoricalTicker\"}},\"id\":\"cc45a356-4d86-4e9d-857a-455acda6c638\",\"type\":\"CategoricalAxis\"},{\"attributes\":{},\"id\":\"22b9144b-5348-4ff5-aff7-a751b4447412\",\"type\":\"UnionRenderers\"},{\"attributes\":{},\"id\":\"cf1a4f5a-cd4b-44af-a4e2-5d493706c29f\",\"type\":\"CategoricalScale\"},{\"attributes\":{\"source\":{\"id\":\"c204501b-3793-4f0d-9f80-bf15d15fb9da\",\"type\":\"ColumnDataSource\"}},\"id\":\"3b747ce3-582e-4ae4-857b-4757899dceb4\",\"type\":\"CDSView\"},{\"attributes\":{\"fields\":[\"4\",\"f\"]},\"id\":\"80c8a1e2-5677-4218-9d8b-3f951f91ee16\",\"type\":\"Stack\"},{\"attributes\":{\"data_source\":{\"id\":\"c204501b-3793-4f0d-9f80-bf15d15fb9da\",\"type\":\"ColumnDataSource\"},\"glyph\":{\"id\":\"85c27255-910e-4fbd-a492-9d7900745ad1\",\"type\":\"VBar\"},\"hover_glyph\":null,\"muted_glyph\":null,\"name\":\"r\",\"nonselection_glyph\":{\"id\":\"2de7e181-c1d3-4d6c-8a58-9007d11d4d00\",\"type\":\"VBar\"},\"selection_glyph\":null,\"view\":{\"id\":\"3b747ce3-582e-4ae4-857b-4757899dceb4\",\"type\":\"CDSView\"}},\"id\":\"bb9c004a-842b-41f4-bd09-39ae3c77b304\",\"type\":\"GlyphRenderer\"},{\"attributes\":{\"bottom\":{\"expr\":{\"id\":\"bf2bf0bc-31ff-418a-ad32-b5d1a4c27701\",\"type\":\"Stack\"}},\"fill_color\":{\"value\":\"#3288bd\"},\"line_color\":{\"value\":\"#3288bd\"},\"top\":{\"expr\":{\"id\":\"2550be0b-0c8b-4378-968f-e81d6c3936fa\",\"type\":\"Stack\"}},\"width\":{\"value\":0.9},\"x\":{\"field\":\"class\"}},\"id\":\"044808f3-c254-41bf-b5e6-5986a607b6e7\",\"type\":\"VBar\"},{\"attributes\":{},\"id\":\"705f32db-1c12-4597-a167-aa53ea969c28\",\"type\":\"PanTool\"},{\"attributes\":{\"bottom\":{\"expr\":{\"id\":\"6faeb11e-27db-4c98-97b8-b061065152e7\",\"type\":\"Stack\"}},\"fill_alpha\":{\"value\":0.1},\"fill_color\":{\"value\":\"#1f77b4\"},\"line_alpha\":{\"value\":0.1},\"line_color\":{\"value\":\"#1f77b4\"},\"top\":{\"expr\":{\"id\":\"16cb73f9-4933-4e1a-b9f8-54e35b3280c5\",\"type\":\"Stack\"}},\"width\":{\"value\":0.9},\"x\":{\"field\":\"class\"}},\"id\":\"2de7e181-c1d3-4d6c-8a58-9007d11d4d00\",\"type\":\"VBar\"},{\"attributes\":{\"label\":{\"value\":\"4\"},\"renderers\":[{\"id\":\"85a9367e-c566-4525-ab03-7b968ffc8afb\",\"type\":\"GlyphRenderer\"}]},\"id\":\"52e847c9-45bc-4294-aafc-ee260bab0591\",\"type\":\"LegendItem\"},{\"attributes\":{\"fields\":[\"4\"]},\"id\":\"2813174d-6318-46a3-8082-59cbc541e103\",\"type\":\"Stack\"},{\"attributes\":{},\"id\":\"7a8ddf41-7fa7-4718-afca-8e1dee4a8a0c\",\"type\":\"WheelZoomTool\"},{\"attributes\":{},\"id\":\"67bd8cc6-5b12-4b5e-9139-485937d11fcf\",\"type\":\"Selection\"},{\"attributes\":{\"overlay\":{\"id\":\"2813f088-9c14-496a-b642-7e460fd38c7a\",\"type\":\"BoxAnnotation\"}},\"id\":\"d20891a6-a1b9-4b82-8a3e-5750b3515b40\",\"type\":\"BoxZoomTool\"},{\"attributes\":{\"label\":{\"value\":\"r\"},\"renderers\":[{\"id\":\"bb9c004a-842b-41f4-bd09-39ae3c77b304\",\"type\":\"GlyphRenderer\"}]},\"id\":\"83297a8e-8bd6-4ad1-950a-5bb826fbc236\",\"type\":\"LegendItem\"},{\"attributes\":{},\"id\":\"7ed75470-6ae5-4f2c-9fd8-8a3494c65f4b\",\"type\":\"SaveTool\"},{\"attributes\":{},\"id\":\"08f0a02a-96f3-4391-a6ee-8f3a55599edf\",\"type\":\"Selection\"},{\"attributes\":{},\"id\":\"5cf2beec-3c20-4d8b-9e2b-b527666b9fb7\",\"type\":\"ResetTool\"},{\"attributes\":{},\"id\":\"7081e40e-5179-42fe-9454-c0d723203a7c\",\"type\":\"HelpTool\"},{\"attributes\":{\"bottom_units\":\"screen\",\"fill_alpha\":{\"value\":0.5},\"fill_color\":{\"value\":\"lightgrey\"},\"left_units\":\"screen\",\"level\":\"overlay\",\"line_alpha\":{\"value\":1.0},\"line_color\":{\"value\":\"black\"},\"line_dash\":[4,4],\"line_width\":{\"value\":2},\"plot\":null,\"render_mode\":\"css\",\"right_units\":\"screen\",\"top_units\":\"screen\"},\"id\":\"2813f088-9c14-496a-b642-7e460fd38c7a\",\"type\":\"BoxAnnotation\"}],\"root_ids\":[\"3d53222f-805b-4af7-8a38-5dfc7a77b446\"]},\"title\":\"Bokeh Application\",\"version\":\"0.13.0\"}};\n",
       "  var render_items = [{\"docid\":\"eecaa7cc-73a3-4b3c-bac8-e3af31e9ca4d\",\"roots\":{\"3d53222f-805b-4af7-8a38-5dfc7a77b446\":\"68766908-22c7-4b16-b09b-e49648d29886\"}}];\n",
       "  root.Bokeh.embed.embed_items_notebook(docs_json, render_items);\n",
       "\n",
       "  }\n",
       "  if (root.Bokeh !== undefined) {\n",
       "    embed_document(root);\n",
       "  } else {\n",
       "    var attempts = 0;\n",
       "    var timer = setInterval(function(root) {\n",
       "      if (root.Bokeh !== undefined) {\n",
       "        embed_document(root);\n",
       "        clearInterval(timer);\n",
       "      }\n",
       "      attempts++;\n",
       "      if (attempts > 100) {\n",
       "        console.log(\"Bokeh: ERROR: Unable to run BokehJS code because BokehJS library is missing\")\n",
       "        clearInterval(timer);\n",
       "      }\n",
       "    }, 10, root)\n",
       "  }\n",
       "})(window);"
      ],
      "application/vnd.bokehjs_exec.v0+json": ""
     },
     "metadata": {
      "application/vnd.bokehjs_exec.v0+json": {
       "id": "3d53222f-805b-4af7-8a38-5dfc7a77b446"
      }
     },
     "output_type": "display_data"
    }
   ],
   "source": [
    "from bokeh.core.properties import value\n",
    "from bokeh.palettes import Spectral6\n",
    "\n",
    "mycolors = [Spectral6[0],Spectral6[1],Spectral6[5]]\n",
    "mpg_plot = mpg[['class','drv','counts']].groupby(by=['class','drv']).count().unstack(fill_value=0)\n",
    "mylegend = [colname[1] for colname in mpg_plot.columns]\n",
    "mpg_plot.columns = mylegend\n",
    "mpg_plot['class'] = mpg_plot.index\n",
    "g = create_gv()\n",
    "#g + geom_bar(aes(fill = drv))\n",
    "g.vbar_stack(mylegend, x='class', width=0.9, source = mpg_plot,\n",
    "             color = mycolors,\n",
    "             legend = [value(colname) for colname in mylegend])\n",
    "g.legend.location = \"top_left\"\n",
    "show(g)"
   ]
  },
  {
   "cell_type": "code",
   "execution_count": 11,
   "metadata": {},
   "outputs": [
    {
     "data": {
      "text/html": [
       "\n",
       "\n",
       "\n",
       "\n",
       "\n",
       "\n",
       "  <div class=\"bk-root\" id=\"b961430e-6928-4b61-b8e4-e6b4a65c82de\"></div>\n"
      ]
     },
     "metadata": {},
     "output_type": "display_data"
    },
    {
     "data": {
      "application/javascript": [
       "(function(root) {\n",
       "  function embed_document(root) {\n",
       "    \n",
       "  var docs_json = {\"49246ba8-e9cd-4558-bbbb-ee762452de87\":{\"roots\":{\"references\":[{\"attributes\":{\"dimension\":1,\"plot\":{\"id\":\"2ac489a6-55af-46c6-b4f5-be6ded865335\",\"subtype\":\"Figure\",\"type\":\"Plot\"},\"ticker\":{\"id\":\"76b78cae-c52b-4258-8fd2-1a2ee2869e14\",\"type\":\"CategoricalTicker\"}},\"id\":\"1041aec3-a103-4217-8164-e41f3980ae75\",\"type\":\"Grid\"},{\"attributes\":{},\"id\":\"3dbedfd9-0535-42bc-8790-2645457c360b\",\"type\":\"ResetTool\"},{\"attributes\":{},\"id\":\"afc23ca3-c7dd-4c4c-b4d5-5fe989c67e2f\",\"type\":\"Selection\"},{\"attributes\":{\"fields\":[]},\"id\":\"f85b0664-b172-4d36-8340-4c469cb14725\",\"type\":\"Stack\"},{\"attributes\":{},\"id\":\"03eee948-b918-4d82-9bca-2f5ef92759ca\",\"type\":\"PanTool\"},{\"attributes\":{\"overlay\":{\"id\":\"257953b1-3c04-494d-8949-cf0de088f910\",\"type\":\"BoxAnnotation\"}},\"id\":\"cd9c34dd-51f9-45ed-afa6-2d90a1a5ed93\",\"type\":\"BoxZoomTool\"},{\"attributes\":{\"callback\":null,\"data\":{\"4\":[0,12,3,0,33,4,51],\"class\":[\"2seater\",\"compact\",\"midsize\",\"minivan\",\"pickup\",\"subcompact\",\"suv\"],\"f\":[0,35,38,11,0,22,0],\"r\":[5,0,0,0,0,9,11]},\"selected\":{\"id\":\"a79f1c35-532c-4dac-9a8c-fcf8441ec882\",\"type\":\"Selection\"},\"selection_policy\":{\"id\":\"05e91450-2a7e-4948-bb75-dcf255e2ffed\",\"type\":\"UnionRenderers\"}},\"id\":\"2e227ee6-82f7-4e96-be5b-f25d012c0833\",\"type\":\"ColumnDataSource\"},{\"attributes\":{\"fill_color\":{\"value\":\"#99d594\"},\"height\":{\"value\":0.9},\"left\":{\"expr\":{\"id\":\"030c661f-6bfe-4f1d-ab26-ff814f2c0f42\",\"type\":\"Stack\"}},\"line_color\":{\"value\":\"#99d594\"},\"right\":{\"expr\":{\"id\":\"7082b2b2-e7e6-450a-bcd7-f92890a52061\",\"type\":\"Stack\"}},\"y\":{\"field\":\"class\"}},\"id\":\"c95c36ea-11de-418c-8c0c-17028ea44fc6\",\"type\":\"HBar\"},{\"attributes\":{\"label\":{\"value\":\"f\"},\"renderers\":[{\"id\":\"99c5991e-f643-446e-a088-acfd0c5afc14\",\"type\":\"GlyphRenderer\"}]},\"id\":\"56132c97-2c58-4f9e-b12f-da6df146e878\",\"type\":\"LegendItem\"},{\"attributes\":{\"fields\":[\"4\"]},\"id\":\"030c661f-6bfe-4f1d-ab26-ff814f2c0f42\",\"type\":\"Stack\"},{\"attributes\":{\"fields\":[\"4\",\"f\",\"r\"]},\"id\":\"a33a5036-573a-4229-84cd-c883cadca208\",\"type\":\"Stack\"},{\"attributes\":{\"fill_alpha\":{\"value\":0.1},\"fill_color\":{\"value\":\"#1f77b4\"},\"height\":{\"value\":0.9},\"left\":{\"expr\":{\"id\":\"f85b0664-b172-4d36-8340-4c469cb14725\",\"type\":\"Stack\"}},\"line_alpha\":{\"value\":0.1},\"line_color\":{\"value\":\"#1f77b4\"},\"right\":{\"expr\":{\"id\":\"7db35fd6-28ef-4449-b7f6-a540b30599ec\",\"type\":\"Stack\"}},\"y\":{\"field\":\"class\"}},\"id\":\"fe6ef6be-049d-4885-a7e2-6de119c1507d\",\"type\":\"HBar\"},{\"attributes\":{\"label\":{\"value\":\"4\"},\"renderers\":[{\"id\":\"55b9204f-3f07-4b02-860c-c26c92f6e648\",\"type\":\"GlyphRenderer\"}]},\"id\":\"28138933-2032-42aa-afe9-93cfe0d35e10\",\"type\":\"LegendItem\"},{\"attributes\":{\"data_source\":{\"id\":\"2e227ee6-82f7-4e96-be5b-f25d012c0833\",\"type\":\"ColumnDataSource\"},\"glyph\":{\"id\":\"a707c1b3-7221-4cd7-9045-e35e2a99cdbb\",\"type\":\"HBar\"},\"hover_glyph\":null,\"muted_glyph\":null,\"name\":\"4\",\"nonselection_glyph\":{\"id\":\"fe6ef6be-049d-4885-a7e2-6de119c1507d\",\"type\":\"HBar\"},\"selection_glyph\":null,\"view\":{\"id\":\"cad25012-b5d9-439d-912d-c00f4134e30b\",\"type\":\"CDSView\"}},\"id\":\"55b9204f-3f07-4b02-860c-c26c92f6e648\",\"type\":\"GlyphRenderer\"},{\"attributes\":{\"callback\":null,\"factors\":[\"2seater\",\"compact\",\"midsize\",\"minivan\",\"pickup\",\"subcompact\",\"suv\"]},\"id\":\"c5420b31-557e-435f-9b5f-f7fe1e80618a\",\"type\":\"FactorRange\"},{\"attributes\":{\"fill_color\":{\"value\":\"#3288bd\"},\"height\":{\"value\":0.9},\"left\":{\"expr\":{\"id\":\"f85b0664-b172-4d36-8340-4c469cb14725\",\"type\":\"Stack\"}},\"line_color\":{\"value\":\"#3288bd\"},\"right\":{\"expr\":{\"id\":\"7db35fd6-28ef-4449-b7f6-a540b30599ec\",\"type\":\"Stack\"}},\"y\":{\"field\":\"class\"}},\"id\":\"a707c1b3-7221-4cd7-9045-e35e2a99cdbb\",\"type\":\"HBar\"},{\"attributes\":{},\"id\":\"a9b6c3a3-cb46-43f1-9e26-1f202da289b1\",\"type\":\"CategoricalScale\"},{\"attributes\":{},\"id\":\"559e2cf2-0d90-4655-a197-5a84f0aa26ba\",\"type\":\"BasicTickFormatter\"},{\"attributes\":{\"fields\":[\"4\",\"f\"]},\"id\":\"d19443cc-9294-4165-89fc-4df500871870\",\"type\":\"Stack\"},{\"attributes\":{},\"id\":\"fe391c60-0481-4932-a8c4-e9ac7d8af06c\",\"type\":\"LinearScale\"},{\"attributes\":{\"source\":{\"id\":\"2e227ee6-82f7-4e96-be5b-f25d012c0833\",\"type\":\"ColumnDataSource\"}},\"id\":\"cad25012-b5d9-439d-912d-c00f4134e30b\",\"type\":\"CDSView\"},{\"attributes\":{\"callback\":null,\"data\":{\"4\":[0,12,3,0,33,4,51],\"class\":[\"2seater\",\"compact\",\"midsize\",\"minivan\",\"pickup\",\"subcompact\",\"suv\"],\"f\":[0,35,38,11,0,22,0],\"r\":[5,0,0,0,0,9,11]},\"selected\":{\"id\":\"afc23ca3-c7dd-4c4c-b4d5-5fe989c67e2f\",\"type\":\"Selection\"},\"selection_policy\":{\"id\":\"c6796599-4e02-4298-9b72-1e34ab117a79\",\"type\":\"UnionRenderers\"}},\"id\":\"27ec15bb-9c12-427c-9ba4-b7fa8287afac\",\"type\":\"ColumnDataSource\"},{\"attributes\":{\"callback\":null,\"data\":{\"4\":[0,12,3,0,33,4,51],\"class\":[\"2seater\",\"compact\",\"midsize\",\"minivan\",\"pickup\",\"subcompact\",\"suv\"],\"f\":[0,35,38,11,0,22,0],\"r\":[5,0,0,0,0,9,11]},\"selected\":{\"id\":\"f4db1d09-a42b-4c45-b64b-468b45a43b93\",\"type\":\"Selection\"},\"selection_policy\":{\"id\":\"65b0af76-524f-4fd2-af69-4f06a9f7774c\",\"type\":\"UnionRenderers\"}},\"id\":\"0127e4b4-96ec-46ac-b54f-e059d712e4d6\",\"type\":\"ColumnDataSource\"},{\"attributes\":{\"source\":{\"id\":\"0127e4b4-96ec-46ac-b54f-e059d712e4d6\",\"type\":\"ColumnDataSource\"}},\"id\":\"9af8a629-f204-483b-859e-3b810664c4f1\",\"type\":\"CDSView\"},{\"attributes\":{},\"id\":\"c6796599-4e02-4298-9b72-1e34ab117a79\",\"type\":\"UnionRenderers\"},{\"attributes\":{},\"id\":\"a79f1c35-532c-4dac-9a8c-fcf8441ec882\",\"type\":\"Selection\"},{\"attributes\":{},\"id\":\"144cd829-4d11-4a80-9c97-bc18e3f2b0a3\",\"type\":\"WheelZoomTool\"},{\"attributes\":{},\"id\":\"8da9093d-1875-4006-99e5-a07d89f8b2e4\",\"type\":\"CategoricalTickFormatter\"},{\"attributes\":{},\"id\":\"65b0af76-524f-4fd2-af69-4f06a9f7774c\",\"type\":\"UnionRenderers\"},{\"attributes\":{\"items\":[{\"id\":\"28138933-2032-42aa-afe9-93cfe0d35e10\",\"type\":\"LegendItem\"},{\"id\":\"56132c97-2c58-4f9e-b12f-da6df146e878\",\"type\":\"LegendItem\"},{\"id\":\"b6f0184e-1c86-4e8e-8fa5-d67e8d400c2b\",\"type\":\"LegendItem\"}],\"location\":\"bottom_right\",\"plot\":{\"id\":\"2ac489a6-55af-46c6-b4f5-be6ded865335\",\"subtype\":\"Figure\",\"type\":\"Plot\"}},\"id\":\"09027d98-f21f-4725-8604-d83f2c987686\",\"type\":\"Legend\"},{\"attributes\":{\"bottom_units\":\"screen\",\"fill_alpha\":{\"value\":0.5},\"fill_color\":{\"value\":\"lightgrey\"},\"left_units\":\"screen\",\"level\":\"overlay\",\"line_alpha\":{\"value\":1.0},\"line_color\":{\"value\":\"black\"},\"line_dash\":[4,4],\"line_width\":{\"value\":2},\"plot\":null,\"render_mode\":\"css\",\"right_units\":\"screen\",\"top_units\":\"screen\"},\"id\":\"257953b1-3c04-494d-8949-cf0de088f910\",\"type\":\"BoxAnnotation\"},{\"attributes\":{},\"id\":\"05e91450-2a7e-4948-bb75-dcf255e2ffed\",\"type\":\"UnionRenderers\"},{\"attributes\":{},\"id\":\"67da17f8-93ac-4068-b4f3-f509ce811607\",\"type\":\"SaveTool\"},{\"attributes\":{\"data_source\":{\"id\":\"27ec15bb-9c12-427c-9ba4-b7fa8287afac\",\"type\":\"ColumnDataSource\"},\"glyph\":{\"id\":\"78ec7bde-c438-4251-9dc0-c50c70062b6d\",\"type\":\"HBar\"},\"hover_glyph\":null,\"muted_glyph\":null,\"name\":\"r\",\"nonselection_glyph\":{\"id\":\"cfe09f41-f82a-4e83-8ea9-fc2abe09afb8\",\"type\":\"HBar\"},\"selection_glyph\":null,\"view\":{\"id\":\"89126f16-a33a-4747-b85d-78965d46e7ac\",\"type\":\"CDSView\"}},\"id\":\"44fc80a0-b047-4ee0-bc55-febd4f708373\",\"type\":\"GlyphRenderer\"},{\"attributes\":{\"callback\":null},\"id\":\"183193ff-6ba8-4bf6-846c-9e4626687749\",\"type\":\"DataRange1d\"},{\"attributes\":{\"fields\":[\"4\",\"f\"]},\"id\":\"7082b2b2-e7e6-450a-bcd7-f92890a52061\",\"type\":\"Stack\"},{\"attributes\":{\"label\":{\"value\":\"r\"},\"renderers\":[{\"id\":\"44fc80a0-b047-4ee0-bc55-febd4f708373\",\"type\":\"GlyphRenderer\"}]},\"id\":\"b6f0184e-1c86-4e8e-8fa5-d67e8d400c2b\",\"type\":\"LegendItem\"},{\"attributes\":{\"active_drag\":\"auto\",\"active_inspect\":\"auto\",\"active_multi\":null,\"active_scroll\":\"auto\",\"active_tap\":\"auto\",\"tools\":[{\"id\":\"03eee948-b918-4d82-9bca-2f5ef92759ca\",\"type\":\"PanTool\"},{\"id\":\"144cd829-4d11-4a80-9c97-bc18e3f2b0a3\",\"type\":\"WheelZoomTool\"},{\"id\":\"cd9c34dd-51f9-45ed-afa6-2d90a1a5ed93\",\"type\":\"BoxZoomTool\"},{\"id\":\"67da17f8-93ac-4068-b4f3-f509ce811607\",\"type\":\"SaveTool\"},{\"id\":\"3dbedfd9-0535-42bc-8790-2645457c360b\",\"type\":\"ResetTool\"},{\"id\":\"e128f057-185b-4112-8be4-661cd896af7a\",\"type\":\"HelpTool\"}]},\"id\":\"60c09aa2-b788-4d45-8331-acc881742620\",\"type\":\"Toolbar\"},{\"attributes\":{\"data_source\":{\"id\":\"0127e4b4-96ec-46ac-b54f-e059d712e4d6\",\"type\":\"ColumnDataSource\"},\"glyph\":{\"id\":\"c95c36ea-11de-418c-8c0c-17028ea44fc6\",\"type\":\"HBar\"},\"hover_glyph\":null,\"muted_glyph\":null,\"name\":\"f\",\"nonselection_glyph\":{\"id\":\"36fb943d-0eb2-4392-9023-e2b9a970d6c6\",\"type\":\"HBar\"},\"selection_glyph\":null,\"view\":{\"id\":\"9af8a629-f204-483b-859e-3b810664c4f1\",\"type\":\"CDSView\"}},\"id\":\"99c5991e-f643-446e-a088-acfd0c5afc14\",\"type\":\"GlyphRenderer\"},{\"attributes\":{\"below\":[{\"id\":\"4bd14eee-97ee-46af-9f44-f56a2d82af0e\",\"type\":\"LinearAxis\"}],\"left\":[{\"id\":\"952035b6-7838-498e-aa43-d8c934343aa5\",\"type\":\"CategoricalAxis\"}],\"plot_height\":400,\"plot_width\":800,\"renderers\":[{\"id\":\"4bd14eee-97ee-46af-9f44-f56a2d82af0e\",\"type\":\"LinearAxis\"},{\"id\":\"ef3dd344-078d-4e09-91ce-040e78f0c5ae\",\"type\":\"Grid\"},{\"id\":\"952035b6-7838-498e-aa43-d8c934343aa5\",\"type\":\"CategoricalAxis\"},{\"id\":\"1041aec3-a103-4217-8164-e41f3980ae75\",\"type\":\"Grid\"},{\"id\":\"257953b1-3c04-494d-8949-cf0de088f910\",\"type\":\"BoxAnnotation\"},{\"id\":\"09027d98-f21f-4725-8604-d83f2c987686\",\"type\":\"Legend\"},{\"id\":\"55b9204f-3f07-4b02-860c-c26c92f6e648\",\"type\":\"GlyphRenderer\"},{\"id\":\"99c5991e-f643-446e-a088-acfd0c5afc14\",\"type\":\"GlyphRenderer\"},{\"id\":\"44fc80a0-b047-4ee0-bc55-febd4f708373\",\"type\":\"GlyphRenderer\"}],\"title\":{\"id\":\"b5679b00-5c6b-458b-8035-f7edd39e87aa\",\"type\":\"Title\"},\"toolbar\":{\"id\":\"60c09aa2-b788-4d45-8331-acc881742620\",\"type\":\"Toolbar\"},\"x_range\":{\"id\":\"183193ff-6ba8-4bf6-846c-9e4626687749\",\"type\":\"DataRange1d\"},\"x_scale\":{\"id\":\"fe391c60-0481-4932-a8c4-e9ac7d8af06c\",\"type\":\"LinearScale\"},\"y_range\":{\"id\":\"c5420b31-557e-435f-9b5f-f7fe1e80618a\",\"type\":\"FactorRange\"},\"y_scale\":{\"id\":\"a9b6c3a3-cb46-43f1-9e26-1f202da289b1\",\"type\":\"CategoricalScale\"}},\"id\":\"2ac489a6-55af-46c6-b4f5-be6ded865335\",\"subtype\":\"Figure\",\"type\":\"Plot\"},{\"attributes\":{},\"id\":\"f4db1d09-a42b-4c45-b64b-468b45a43b93\",\"type\":\"Selection\"},{\"attributes\":{\"plot\":null,\"text\":\"My plot\"},\"id\":\"b5679b00-5c6b-458b-8035-f7edd39e87aa\",\"type\":\"Title\"},{\"attributes\":{},\"id\":\"e128f057-185b-4112-8be4-661cd896af7a\",\"type\":\"HelpTool\"},{\"attributes\":{\"fields\":[\"4\"]},\"id\":\"7db35fd6-28ef-4449-b7f6-a540b30599ec\",\"type\":\"Stack\"},{\"attributes\":{\"fill_alpha\":{\"value\":0.1},\"fill_color\":{\"value\":\"#1f77b4\"},\"height\":{\"value\":0.9},\"left\":{\"expr\":{\"id\":\"d19443cc-9294-4165-89fc-4df500871870\",\"type\":\"Stack\"}},\"line_alpha\":{\"value\":0.1},\"line_color\":{\"value\":\"#1f77b4\"},\"right\":{\"expr\":{\"id\":\"a33a5036-573a-4229-84cd-c883cadca208\",\"type\":\"Stack\"}},\"y\":{\"field\":\"class\"}},\"id\":\"cfe09f41-f82a-4e83-8ea9-fc2abe09afb8\",\"type\":\"HBar\"},{\"attributes\":{\"plot\":{\"id\":\"2ac489a6-55af-46c6-b4f5-be6ded865335\",\"subtype\":\"Figure\",\"type\":\"Plot\"},\"ticker\":{\"id\":\"66b172fd-114c-46b4-9465-60616abee27b\",\"type\":\"BasicTicker\"}},\"id\":\"ef3dd344-078d-4e09-91ce-040e78f0c5ae\",\"type\":\"Grid\"},{\"attributes\":{\"source\":{\"id\":\"27ec15bb-9c12-427c-9ba4-b7fa8287afac\",\"type\":\"ColumnDataSource\"}},\"id\":\"89126f16-a33a-4747-b85d-78965d46e7ac\",\"type\":\"CDSView\"},{\"attributes\":{},\"id\":\"66b172fd-114c-46b4-9465-60616abee27b\",\"type\":\"BasicTicker\"},{\"attributes\":{\"formatter\":{\"id\":\"8da9093d-1875-4006-99e5-a07d89f8b2e4\",\"type\":\"CategoricalTickFormatter\"},\"plot\":{\"id\":\"2ac489a6-55af-46c6-b4f5-be6ded865335\",\"subtype\":\"Figure\",\"type\":\"Plot\"},\"ticker\":{\"id\":\"76b78cae-c52b-4258-8fd2-1a2ee2869e14\",\"type\":\"CategoricalTicker\"}},\"id\":\"952035b6-7838-498e-aa43-d8c934343aa5\",\"type\":\"CategoricalAxis\"},{\"attributes\":{\"fill_color\":{\"value\":\"#d53e4f\"},\"height\":{\"value\":0.9},\"left\":{\"expr\":{\"id\":\"d19443cc-9294-4165-89fc-4df500871870\",\"type\":\"Stack\"}},\"line_color\":{\"value\":\"#d53e4f\"},\"right\":{\"expr\":{\"id\":\"a33a5036-573a-4229-84cd-c883cadca208\",\"type\":\"Stack\"}},\"y\":{\"field\":\"class\"}},\"id\":\"78ec7bde-c438-4251-9dc0-c50c70062b6d\",\"type\":\"HBar\"},{\"attributes\":{},\"id\":\"76b78cae-c52b-4258-8fd2-1a2ee2869e14\",\"type\":\"CategoricalTicker\"},{\"attributes\":{\"fill_alpha\":{\"value\":0.1},\"fill_color\":{\"value\":\"#1f77b4\"},\"height\":{\"value\":0.9},\"left\":{\"expr\":{\"id\":\"030c661f-6bfe-4f1d-ab26-ff814f2c0f42\",\"type\":\"Stack\"}},\"line_alpha\":{\"value\":0.1},\"line_color\":{\"value\":\"#1f77b4\"},\"right\":{\"expr\":{\"id\":\"7082b2b2-e7e6-450a-bcd7-f92890a52061\",\"type\":\"Stack\"}},\"y\":{\"field\":\"class\"}},\"id\":\"36fb943d-0eb2-4392-9023-e2b9a970d6c6\",\"type\":\"HBar\"},{\"attributes\":{\"formatter\":{\"id\":\"559e2cf2-0d90-4655-a197-5a84f0aa26ba\",\"type\":\"BasicTickFormatter\"},\"plot\":{\"id\":\"2ac489a6-55af-46c6-b4f5-be6ded865335\",\"subtype\":\"Figure\",\"type\":\"Plot\"},\"ticker\":{\"id\":\"66b172fd-114c-46b4-9465-60616abee27b\",\"type\":\"BasicTicker\"}},\"id\":\"4bd14eee-97ee-46af-9f44-f56a2d82af0e\",\"type\":\"LinearAxis\"}],\"root_ids\":[\"2ac489a6-55af-46c6-b4f5-be6ded865335\"]},\"title\":\"Bokeh Application\",\"version\":\"0.13.0\"}};\n",
       "  var render_items = [{\"docid\":\"49246ba8-e9cd-4558-bbbb-ee762452de87\",\"roots\":{\"2ac489a6-55af-46c6-b4f5-be6ded865335\":\"b961430e-6928-4b61-b8e4-e6b4a65c82de\"}}];\n",
       "  root.Bokeh.embed.embed_items_notebook(docs_json, render_items);\n",
       "\n",
       "  }\n",
       "  if (root.Bokeh !== undefined) {\n",
       "    embed_document(root);\n",
       "  } else {\n",
       "    var attempts = 0;\n",
       "    var timer = setInterval(function(root) {\n",
       "      if (root.Bokeh !== undefined) {\n",
       "        embed_document(root);\n",
       "        clearInterval(timer);\n",
       "      }\n",
       "      attempts++;\n",
       "      if (attempts > 100) {\n",
       "        console.log(\"Bokeh: ERROR: Unable to run BokehJS code because BokehJS library is missing\")\n",
       "        clearInterval(timer);\n",
       "      }\n",
       "    }, 10, root)\n",
       "  }\n",
       "})(window);"
      ],
      "application/vnd.bokehjs_exec.v0+json": ""
     },
     "metadata": {
      "application/vnd.bokehjs_exec.v0+json": {
       "id": "2ac489a6-55af-46c6-b4f5-be6ded865335"
      }
     },
     "output_type": "display_data"
    }
   ],
   "source": [
    "g = create_gh()\n",
    "#g +\n",
    "# geom_bar(aes(fill = drv), position = position_stack(reverse = TRUE)) +\n",
    "# coord_flip() +\n",
    "# theme(legend.position = \"top\")\n",
    "g.hbar_stack(mylegend, y='class', height=0.9, source = mpg_plot,\n",
    "             color = mycolors,\n",
    "             legend = [value(colname) for colname in mylegend])\n",
    "g.legend.location = \"bottom_right\"\n",
    "show(g)"
   ]
  },
  {
   "cell_type": "markdown",
   "metadata": {},
   "source": [
    "#### geom_bin2d() stat_bin_2d() \n",
    "Again, ggplot2 excels in plotting stats. geom_bin2d divides the plane into rectangles, counts the number of cases in each rectangle. In bokeh, stats functions are not included yet, so the pandas Series functionality is used prior to plotting.  "
   ]
  },
  {
   "cell_type": "code",
   "execution_count": 12,
   "metadata": {},
   "outputs": [],
   "source": [
    "#d <- ggplot(diamonds, aes(x, y)) + xlim(4, 10) + ylim(4, 10)\n",
    "x_range = (4, 10); y_range = (4, 10)\n",
    "def create_d():\n",
    "    d = figure(title=\"My plot\", plot_width=800, plot_height=400,\n",
    "              x_range = x_range, y_range = y_range)\n",
    "    return d"
   ]
  },
  {
   "cell_type": "code",
   "execution_count": 13,
   "metadata": {},
   "outputs": [
    {
     "data": {
      "text/html": [
       "\n",
       "\n",
       "\n",
       "\n",
       "\n",
       "\n",
       "  <div class=\"bk-root\" id=\"0a819d18-4a7b-45a7-8d9b-90fac90356d9\"></div>\n"
      ]
     },
     "metadata": {},
     "output_type": "display_data"
    },
    {
     "data": {
      "application/javascript": [
       "(function(root) {\n",
       "  function embed_document(root) {\n",
       "    \n",
       "  var docs_json = {\"0d7746d5-66d4-45e9-a27e-61f79f93846c\":{\"roots\":{\"references\":[{\"attributes\":{\"dimension\":1,\"plot\":{\"id\":\"83f7566d-8af5-484d-9f60-96982bd37039\",\"subtype\":\"Figure\",\"type\":\"Plot\"},\"ticker\":{\"id\":\"24f5fd1a-5a24-41e5-b142-abbe2a95ddbb\",\"type\":\"BasicTicker\"}},\"id\":\"1f4bac0a-7d65-461b-a7f7-53851448b072\",\"type\":\"Grid\"},{\"attributes\":{},\"id\":\"9647ce75-db9e-4066-bd85-200d79c4e3ca\",\"type\":\"UnionRenderers\"},{\"attributes\":{\"color_mapper\":{\"id\":\"a714014f-9906-42fd-876f-0c847ec0ac5f\",\"type\":\"LinearColorMapper\"},\"formatter\":{\"id\":\"41efb9a7-b132-4a88-9465-77551a769207\",\"type\":\"BasicTickFormatter\"},\"label_standoff\":12,\"location\":[0,0],\"major_label_text_font_size\":{\"value\":\"10pt\"},\"plot\":{\"id\":\"83f7566d-8af5-484d-9f60-96982bd37039\",\"subtype\":\"Figure\",\"type\":\"Plot\"},\"ticker\":{\"id\":\"550cc4e3-73ea-47f3-ade5-3b37f38da49a\",\"type\":\"BasicTicker\"}},\"id\":\"f608000b-e9ef-4819-803e-1d5f56e5073b\",\"type\":\"ColorBar\"},{\"attributes\":{},\"id\":\"96384914-7d93-495f-8367-859139a4f4f6\",\"type\":\"BasicTickFormatter\"},{\"attributes\":{},\"id\":\"746828e3-47b5-4ef1-9c44-b2bc3ef34263\",\"type\":\"PanTool\"},{\"attributes\":{\"callback\":null,\"end\":10,\"start\":4},\"id\":\"352f0c5f-06fe-4ec7-b83b-1038a47c785c\",\"type\":\"Range1d\"},{\"attributes\":{},\"id\":\"27f8c205-9ae4-42a4-8d0c-4b2dc7c952c5\",\"type\":\"WheelZoomTool\"},{\"attributes\":{\"overlay\":{\"id\":\"5a4a1dcc-0c6f-48b2-81c1-3fc7f3a5e51e\",\"type\":\"BoxAnnotation\"}},\"id\":\"04dbdacb-02cb-4b8b-a719-259727fc5576\",\"type\":\"BoxZoomTool\"},{\"attributes\":{},\"id\":\"07bb7209-8f87-4c28-ac65-0d99edb52574\",\"type\":\"SaveTool\"},{\"attributes\":{},\"id\":\"88af18e8-cfb1-458d-bc46-c813c5a2389c\",\"type\":\"ResetTool\"},{\"attributes\":{},\"id\":\"fce0c743-b7ab-44ef-b561-dc04229a41ad\",\"type\":\"HelpTool\"},{\"attributes\":{},\"id\":\"be51fa3d-2d83-4916-89f5-e012a96556b9\",\"type\":\"LinearScale\"},{\"attributes\":{\"bottom_units\":\"screen\",\"fill_alpha\":{\"value\":0.5},\"fill_color\":{\"value\":\"lightgrey\"},\"left_units\":\"screen\",\"level\":\"overlay\",\"line_alpha\":{\"value\":1.0},\"line_color\":{\"value\":\"black\"},\"line_dash\":[4,4],\"line_width\":{\"value\":2},\"plot\":null,\"render_mode\":\"css\",\"right_units\":\"screen\",\"top_units\":\"screen\"},\"id\":\"5a4a1dcc-0c6f-48b2-81c1-3fc7f3a5e51e\",\"type\":\"BoxAnnotation\"},{\"attributes\":{\"desired_num_ticks\":5},\"id\":\"550cc4e3-73ea-47f3-ade5-3b37f38da49a\",\"type\":\"BasicTicker\"},{\"attributes\":{\"fill_color\":{\"field\":\"counts\",\"transform\":{\"id\":\"a714014f-9906-42fd-876f-0c847ec0ac5f\",\"type\":\"LinearColorMapper\"}},\"height\":{\"units\":\"data\",\"value\":0.16666666666666696},\"line_color\":{\"value\":null},\"width\":{\"units\":\"data\",\"value\":0.16666666666666696},\"x\":{\"field\":\"x\"},\"y\":{\"field\":\"y\"}},\"id\":\"49e0bd6f-1949-4f05-805e-9e052b91b05b\",\"type\":\"Rect\"},{\"attributes\":{},\"id\":\"073f4a74-5b1b-4a98-b9da-8b6f05fb61bc\",\"type\":\"Selection\"},{\"attributes\":{\"source\":{\"id\":\"14f0b138-c330-4cc5-a758-eef54dc9fe23\",\"type\":\"ColumnDataSource\"}},\"id\":\"0977869e-6a2e-45a2-a0e9-c869d15b7335\",\"type\":\"CDSView\"},{\"attributes\":{\"data_source\":{\"id\":\"14f0b138-c330-4cc5-a758-eef54dc9fe23\",\"type\":\"ColumnDataSource\"},\"glyph\":{\"id\":\"49e0bd6f-1949-4f05-805e-9e052b91b05b\",\"type\":\"Rect\"},\"hover_glyph\":null,\"muted_glyph\":null,\"nonselection_glyph\":{\"id\":\"69330047-df5c-4a70-b2ae-b94605a0d475\",\"type\":\"Rect\"},\"selection_glyph\":null,\"view\":{\"id\":\"0977869e-6a2e-45a2-a0e9-c869d15b7335\",\"type\":\"CDSView\"}},\"id\":\"6cb10bc8-bb3a-4f8a-ab54-28ae35c83698\",\"type\":\"GlyphRenderer\"},{\"attributes\":{},\"id\":\"bb9ed8ec-f6b8-447f-961c-5124e90d44e7\",\"type\":\"LinearScale\"},{\"attributes\":{\"fill_alpha\":{\"value\":0.1},\"fill_color\":{\"value\":\"#1f77b4\"},\"height\":{\"units\":\"data\",\"value\":0.16666666666666696},\"line_alpha\":{\"value\":0.1},\"line_color\":{\"value\":\"#1f77b4\"},\"width\":{\"units\":\"data\",\"value\":0.16666666666666696},\"x\":{\"field\":\"x\"},\"y\":{\"field\":\"y\"}},\"id\":\"69330047-df5c-4a70-b2ae-b94605a0d475\",\"type\":\"Rect\"},{\"attributes\":{\"high\":4437.0,\"low\":1.0,\"palette\":[\"#08306b\",\"#08519c\",\"#2171b5\",\"#4292c6\",\"#6baed6\",\"#9ecae1\",\"#c6dbef\",\"#deebf7\",\"#f7fbff\"]},\"id\":\"a714014f-9906-42fd-876f-0c847ec0ac5f\",\"type\":\"LinearColorMapper\"},{\"attributes\":{\"callback\":null,\"end\":10,\"start\":4},\"id\":\"86ef823f-b89a-4721-9180-841cabdeb103\",\"type\":\"Range1d\"},{\"attributes\":{\"below\":[{\"id\":\"5b7f5470-1f71-4f41-ac6c-262282257f19\",\"type\":\"LinearAxis\"}],\"left\":[{\"id\":\"6ec41c11-6a4a-4fdd-8696-11249ed7d03d\",\"type\":\"LinearAxis\"}],\"plot_height\":400,\"plot_width\":800,\"renderers\":[{\"id\":\"5b7f5470-1f71-4f41-ac6c-262282257f19\",\"type\":\"LinearAxis\"},{\"id\":\"31207d23-73ea-4415-8eea-71a5d7486e3f\",\"type\":\"Grid\"},{\"id\":\"6ec41c11-6a4a-4fdd-8696-11249ed7d03d\",\"type\":\"LinearAxis\"},{\"id\":\"1f4bac0a-7d65-461b-a7f7-53851448b072\",\"type\":\"Grid\"},{\"id\":\"5a4a1dcc-0c6f-48b2-81c1-3fc7f3a5e51e\",\"type\":\"BoxAnnotation\"},{\"id\":\"6cb10bc8-bb3a-4f8a-ab54-28ae35c83698\",\"type\":\"GlyphRenderer\"},{\"id\":\"f608000b-e9ef-4819-803e-1d5f56e5073b\",\"type\":\"ColorBar\"}],\"right\":[{\"id\":\"f608000b-e9ef-4819-803e-1d5f56e5073b\",\"type\":\"ColorBar\"}],\"title\":{\"id\":\"88005623-a7aa-4ccb-a299-3cf405625d9b\",\"type\":\"Title\"},\"toolbar\":{\"id\":\"4ced698f-6e53-4d04-bfd6-88f4a6aefea3\",\"type\":\"Toolbar\"},\"x_range\":{\"id\":\"352f0c5f-06fe-4ec7-b83b-1038a47c785c\",\"type\":\"Range1d\"},\"x_scale\":{\"id\":\"be51fa3d-2d83-4916-89f5-e012a96556b9\",\"type\":\"LinearScale\"},\"y_range\":{\"id\":\"86ef823f-b89a-4721-9180-841cabdeb103\",\"type\":\"Range1d\"},\"y_scale\":{\"id\":\"bb9ed8ec-f6b8-447f-961c-5124e90d44e7\",\"type\":\"LinearScale\"}},\"id\":\"83f7566d-8af5-484d-9f60-96982bd37039\",\"subtype\":\"Figure\",\"type\":\"Plot\"},{\"attributes\":{\"plot\":null,\"text\":\"My plot\"},\"id\":\"88005623-a7aa-4ccb-a299-3cf405625d9b\",\"type\":\"Title\"},{\"attributes\":{\"plot\":{\"id\":\"83f7566d-8af5-484d-9f60-96982bd37039\",\"subtype\":\"Figure\",\"type\":\"Plot\"},\"ticker\":{\"id\":\"8afaa7c5-94da-4b16-9969-0fba842e5ef7\",\"type\":\"BasicTicker\"}},\"id\":\"31207d23-73ea-4415-8eea-71a5d7486e3f\",\"type\":\"Grid\"},{\"attributes\":{},\"id\":\"409696d1-b555-4ef7-971b-f2daca2f9967\",\"type\":\"BasicTickFormatter\"},{\"attributes\":{},\"id\":\"41efb9a7-b132-4a88-9465-77551a769207\",\"type\":\"BasicTickFormatter\"},{\"attributes\":{\"active_drag\":\"auto\",\"active_inspect\":\"auto\",\"active_multi\":null,\"active_scroll\":\"auto\",\"active_tap\":\"auto\",\"tools\":[{\"id\":\"746828e3-47b5-4ef1-9c44-b2bc3ef34263\",\"type\":\"PanTool\"},{\"id\":\"27f8c205-9ae4-42a4-8d0c-4b2dc7c952c5\",\"type\":\"WheelZoomTool\"},{\"id\":\"04dbdacb-02cb-4b8b-a719-259727fc5576\",\"type\":\"BoxZoomTool\"},{\"id\":\"07bb7209-8f87-4c28-ac65-0d99edb52574\",\"type\":\"SaveTool\"},{\"id\":\"88af18e8-cfb1-458d-bc46-c813c5a2389c\",\"type\":\"ResetTool\"},{\"id\":\"fce0c743-b7ab-44ef-b561-dc04229a41ad\",\"type\":\"HelpTool\"}]},\"id\":\"4ced698f-6e53-4d04-bfd6-88f4a6aefea3\",\"type\":\"Toolbar\"},{\"attributes\":{\"formatter\":{\"id\":\"96384914-7d93-495f-8367-859139a4f4f6\",\"type\":\"BasicTickFormatter\"},\"plot\":{\"id\":\"83f7566d-8af5-484d-9f60-96982bd37039\",\"subtype\":\"Figure\",\"type\":\"Plot\"},\"ticker\":{\"id\":\"8afaa7c5-94da-4b16-9969-0fba842e5ef7\",\"type\":\"BasicTicker\"}},\"id\":\"5b7f5470-1f71-4f41-ac6c-262282257f19\",\"type\":\"LinearAxis\"},{\"attributes\":{},\"id\":\"8afaa7c5-94da-4b16-9969-0fba842e5ef7\",\"type\":\"BasicTicker\"},{\"attributes\":{\"formatter\":{\"id\":\"409696d1-b555-4ef7-971b-f2daca2f9967\",\"type\":\"BasicTickFormatter\"},\"plot\":{\"id\":\"83f7566d-8af5-484d-9f60-96982bd37039\",\"subtype\":\"Figure\",\"type\":\"Plot\"},\"ticker\":{\"id\":\"24f5fd1a-5a24-41e5-b142-abbe2a95ddbb\",\"type\":\"BasicTicker\"}},\"id\":\"6ec41c11-6a4a-4fdd-8696-11249ed7d03d\",\"type\":\"LinearAxis\"},{\"attributes\":{\"callback\":null,\"data\":{\"counts\":{\"__ndarray__\":\"AAAAAAC4gkAAAAAAAIBeQAAAAAAAADhAAAAAAAA+o0AAAAAAAAiLQAAAAAAAiIBAAAAAAABVsUAAAAAAAFB6QAAAAAAAUHBAAAAAAADwnUAAAAAAAMB6QAAAAAAAAPA/AAAAAADgbEAAAAAAACapQAAAAAAAEHlAAAAAAAAA8D8AAAAAAADwPwAAAAAAkHFAAAAAAAC4iEAAAAAAAABfQAAAAAAAAABAAAAAAABAWkAAAAAAAFSfQAAAAAAA4H5AAAAAAAAAAEAAAAAAAADwPwAAAAAAUHVAAAAAAAAEo0AAAAAAADB3QAAAAAAAABBAAAAAAAAQcEAAAAAAAMiOQAAAAAAAIGJAAAAAAAAA8D8AAAAAAADwPwAAAAAAAPA/AAAAAABgYEAAAAAAAAiMQAAAAAAAAH9AAAAAAAAAAEAAAAAAANB2QAAAAAAAvKZAAAAAAACAekAAAAAAAADwPwAAAAAAEHJAAAAAAAAckkAAAAAAAMBmQAAAAAAAAAhAAAAAAAAAakAAAAAAANiSQAAAAAAAkHhAAAAAAAAACEAAAAAAAFB0QAAAAAAASJZAAAAAAAAQfkAAAAAAAADwPwAAAAAAAPA/AAAAAADAgEAAAAAAAFylQAAAAAAAeIFAAAAAAAAA8D8AAAAAAADwPwAAAAAAAABAAAAAAAAA8D8AAAAAAADwPwAAAAAAuIJAAAAAAAAAoUAAAAAAANB3QAAAAAAAAPA/AAAAAAAA8D8AAAAAAKB7QAAAAAAAJJhAAAAAAACwc0AAAAAAAAAAQAAAAAAAAPA/AAAAAAAweEAAAAAAAKyRQAAAAAAAYGhAAAAAAAAA8D8AAAAAAADwPwAAAAAA4G5AAAAAAACAgUAAAAAAAEBYQAAAAAAAYGVAAAAAAACgikAAAAAAAHBxQAAAAAAAAPA/AAAAAABAdkAAAAAAALCNQAAAAAAAYGdAAAAAAAAA8D8AAAAAAOBrQAAAAAAAYIJAAAAAAACAVEAAAAAAAADwPwAAAAAAYGJAAAAAAACwcEAAAAAAAABAQAAAAAAAAPA/AAAAAAAA8D8AAAAAAIBWQAAAAAAAgGZAAAAAAADAU0AAAAAAACBjQAAAAAAAQH5AAAAAAABAW0AAAAAAAAAUQAAAAAAA4GJAAAAAAADwdkAAAAAAAABHQAAAAAAAAABAAAAAAACAVEAAAAAAAABnQAAAAAAAADlAAAAAAAAARkAAAAAAAMBWQAAAAAAAABRAAAAAAAAA8D8AAAAAAAA9QAAAAAAAgEVAAAAAAAAACEAAAAAAAADwPwAAAAAAADBAAAAAAAAAKEAAAAAAAAAUQAAAAAAAACBAAAAAAAAAEEAAAAAAAAAIQAAAAAAAABRAAAAAAAAAFEAAAAAAAAAIQAAAAAAAAABAAAAAAAAA8D8AAAAAAADwPw==\",\"dtype\":\"float64\",\"shape\":[134]},\"index\":[0,1,36,37,38,73,74,75,110,111,112,120,147,148,149,150,183,184,185,186,220,221,222,223,224,229,258,259,260,294,295,296,297,327,330,331,332,333,334,368,369,370,371,405,406,407,408,442,443,444,445,479,480,481,482,515,516,517,518,519,540,543,550,552,553,554,555,556,577,590,591,592,593,623,627,628,629,630,652,664,665,666,667,702,703,704,735,739,740,741,775,776,777,778,811,813,814,815,838,849,850,851,852,887,888,889,923,924,925,926,960,961,962,963,998,999,1000,1033,1035,1036,1037,1071,1072,1073,1109,1110,1146,1147,1183,1184,1220,1221,1294,1295],\"x\":{\"__ndarray__\":\"AAAAAAAAEEAAAAAAAAAQQKuqqqqqqhBAq6qqqqqqEECrqqqqqqoQQFVVVVVVVRFAVVVVVVVVEUBVVVVVVVURQAAAAAAAABJAAAAAAAAAEkAAAAAAAAASQAAAAAAAABJAq6qqqqqqEkCrqqqqqqoSQKuqqqqqqhJAq6qqqqqqEkBVVVVVVVUTQFVVVVVVVRNAVVVVVVVVE0BVVVVVVVUTQAAAAAAAABRAAAAAAAAAFEAAAAAAAAAUQAAAAAAAABRAAAAAAAAAFEAAAAAAAAAUQKqqqqqqqhRAqqqqqqqqFECqqqqqqqoUQFVVVVVVVRVAVVVVVVVVFUBVVVVVVVUVQFVVVVVVVRVAAAAAAAAAFkAAAAAAAAAWQAAAAAAAABZAAAAAAAAAFkAAAAAAAAAWQAAAAAAAABZAqqqqqqqqFkCqqqqqqqoWQKqqqqqqqhZAqqqqqqqqFkBVVVVVVVUXQFVVVVVVVRdAVVVVVVVVF0BVVVVVVVUXQAAAAAAAABhAAAAAAAAAGEAAAAAAAAAYQAAAAAAAABhAqqqqqqqqGECqqqqqqqoYQKqqqqqqqhhAqqqqqqqqGEBVVVVVVVUZQFVVVVVVVRlAVVVVVVVVGUBVVVVVVVUZQFVVVVVVVRlAAAAAAAAAGkAAAAAAAAAaQAAAAAAAABpAAAAAAAAAGkAAAAAAAAAaQAAAAAAAABpAAAAAAAAAGkAAAAAAAAAaQKqqqqqqqhpAqqqqqqqqGkCqqqqqqqoaQKqqqqqqqhpAqqqqqqqqGkBVVVVVVVUbQFVVVVVVVRtAVVVVVVVVG0BVVVVVVVUbQFVVVVVVVRtAAAAAAAAAHEAAAAAAAAAcQAAAAAAAABxAAAAAAAAAHEAAAAAAAAAcQKqqqqqqqhxAqqqqqqqqHECqqqqqqqocQFVVVVVVVR1AVVVVVVVVHUBVVVVVVVUdQFVVVVVVVR1AAAAAAAAAHkAAAAAAAAAeQAAAAAAAAB5AAAAAAAAAHkCqqqqqqqoeQKqqqqqqqh5AqqqqqqqqHkCqqqqqqqoeQFVVVVVVVR9AVVVVVVVVH0BVVVVVVVUfQFVVVVVVVR9AVVVVVVVVH0AAAAAAAAAgQAAAAAAAACBAAAAAAAAAIEBVVVVVVVUgQFVVVVVVVSBAVVVVVVVVIEBVVVVVVVUgQKqqqqqqqiBAqqqqqqqqIECqqqqqqqogQKqqqqqqqiBAAAAAAAAAIUAAAAAAAAAhQAAAAAAAACFAVVVVVVVVIUBVVVVVVVUhQFVVVVVVVSFAVVVVVVVVIUCqqqqqqqohQKqqqqqqqiFAqqqqqqqqIUAAAAAAAAAiQAAAAAAAACJAVVVVVVVVIkBVVVVVVVUiQKqqqqqqqiJAqqqqqqqqIkAAAAAAAAAjQAAAAAAAACNAqqqqqqqqI0CqqqqqqqojQA==\",\"dtype\":\"float64\",\"shape\":[134]},\"y\":{\"__ndarray__\":\"AAAAAAAAEECrqqqqqqoQQAAAAAAAABBAq6qqqqqqEEBVVVVVVVURQKuqqqqqqhBAVVVVVVVVEUAAAAAAAAASQFVVVVVVVRFAAAAAAAAAEkCrqqqqqqoSQAAAAAAAABhAAAAAAAAAEkCrqqqqqqoSQFVVVVVVVRNAAAAAAAAAFEAAAAAAAAASQKuqqqqqqhJAVVVVVVVVE0AAAAAAAAAUQKuqqqqqqhJAVVVVVVVVE0AAAAAAAAAUQKqqqqqqqhRAVVVVVVVVFUCqqqqqqqoYQAAAAAAAABRAqqqqqqqqFEBVVVVVVVUVQAAAAAAAABRAqqqqqqqqFEBVVVVVVVUVQAAAAAAAABZAAAAAAAAAEkAAAAAAAAAUQKqqqqqqqhRAVVVVVVVVFUAAAAAAAAAWQKqqqqqqqhZAVVVVVVVVFUAAAAAAAAAWQKqqqqqqqhZAVVVVVVVVF0AAAAAAAAAWQKqqqqqqqhZAVVVVVVVVF0AAAAAAAAAYQKqqqqqqqhZAVVVVVVVVF0AAAAAAAAAYQKqqqqqqqhhAVVVVVVVVF0AAAAAAAAAYQKqqqqqqqhhAVVVVVVVVGUBVVVVVVVUXQAAAAAAAABhAqqqqqqqqGEBVVVVVVVUZQAAAAAAAABpAAAAAAAAAEEAAAAAAAAASQKqqqqqqqhZAAAAAAAAAGECqqqqqqqoYQFVVVVVVVRlAAAAAAAAAGkCqqqqqqqoaQKuqqqqqqhBAVVVVVVVVGUAAAAAAAAAaQKqqqqqqqhpAVVVVVVVVG0BVVVVVVVUXQAAAAAAAABpAqqqqqqqqGkBVVVVVVVUbQAAAAAAAABxAq6qqqqqqEkCqqqqqqqoaQFVVVVVVVRtAAAAAAAAAHECqqqqqqqocQAAAAAAAABxAqqqqqqqqHEBVVVVVVVUdQAAAAAAAABpAqqqqqqqqHEBVVVVVVVUdQAAAAAAAAB5AqqqqqqqqHEBVVVVVVVUdQAAAAAAAAB5AqqqqqqqqHkCqqqqqqqocQAAAAAAAAB5AqqqqqqqqHkBVVVVVVVUfQKqqqqqqqhZAAAAAAAAAHkCqqqqqqqoeQFVVVVVVVR9AAAAAAAAAIEBVVVVVVVUfQAAAAAAAACBAVVVVVVVVIEBVVVVVVVUfQAAAAAAAACBAVVVVVVVVIECqqqqqqqogQAAAAAAAACBAVVVVVVVVIECqqqqqqqogQAAAAAAAACFAqqqqqqqqIEAAAAAAAAAhQFVVVVVVVSFAVVVVVVVVIEAAAAAAAAAhQFVVVVVVVSFAqqqqqqqqIUAAAAAAAAAhQFVVVVVVVSFAqqqqqqqqIUCqqqqqqqohQAAAAAAAACJAAAAAAAAAIkBVVVVVVVUiQFVVVVVVVSJAqqqqqqqqIkCqqqqqqqoiQAAAAAAAACNAVVVVVVVVI0CqqqqqqqojQA==\",\"dtype\":\"float64\",\"shape\":[134]}},\"selected\":{\"id\":\"073f4a74-5b1b-4a98-b9da-8b6f05fb61bc\",\"type\":\"Selection\"},\"selection_policy\":{\"id\":\"9647ce75-db9e-4066-bd85-200d79c4e3ca\",\"type\":\"UnionRenderers\"}},\"id\":\"14f0b138-c330-4cc5-a758-eef54dc9fe23\",\"type\":\"ColumnDataSource\"},{\"attributes\":{},\"id\":\"24f5fd1a-5a24-41e5-b142-abbe2a95ddbb\",\"type\":\"BasicTicker\"}],\"root_ids\":[\"83f7566d-8af5-484d-9f60-96982bd37039\"]},\"title\":\"Bokeh Application\",\"version\":\"0.13.0\"}};\n",
       "  var render_items = [{\"docid\":\"0d7746d5-66d4-45e9-a27e-61f79f93846c\",\"roots\":{\"83f7566d-8af5-484d-9f60-96982bd37039\":\"0a819d18-4a7b-45a7-8d9b-90fac90356d9\"}}];\n",
       "  root.Bokeh.embed.embed_items_notebook(docs_json, render_items);\n",
       "\n",
       "  }\n",
       "  if (root.Bokeh !== undefined) {\n",
       "    embed_document(root);\n",
       "  } else {\n",
       "    var attempts = 0;\n",
       "    var timer = setInterval(function(root) {\n",
       "      if (root.Bokeh !== undefined) {\n",
       "        embed_document(root);\n",
       "        clearInterval(timer);\n",
       "      }\n",
       "      attempts++;\n",
       "      if (attempts > 100) {\n",
       "        console.log(\"Bokeh: ERROR: Unable to run BokehJS code because BokehJS library is missing\")\n",
       "        clearInterval(timer);\n",
       "      }\n",
       "    }, 10, root)\n",
       "  }\n",
       "})(window);"
      ],
      "application/vnd.bokehjs_exec.v0+json": ""
     },
     "metadata": {
      "application/vnd.bokehjs_exec.v0+json": {
       "id": "83f7566d-8af5-484d-9f60-96982bd37039"
      }
     },
     "output_type": "display_data"
    }
   ],
   "source": [
    "from bokeh.palettes import Blues9\n",
    "from bokeh.models import ColumnDataSource, LinearColorMapper, ColorBar, BasicTicker\n",
    "\n",
    "d = create_d()\n",
    "#Prepare 2d count data\n",
    "H, xedges, yedges = np.histogram2d(diamonds.x, diamonds.y, bins=36, range = [x_range, y_range])\n",
    "bw = xedges[1]-xedges[0]; bh = yedges[1]-yedges[0]\n",
    "diamonds_plot = pd.DataFrame(data=H, index=xedges[:-1], columns=yedges[:-1]).stack().reset_index()\n",
    "diamonds_plot.columns = ['x','y','counts']\n",
    "diamonds_plot.drop(diamonds_plot[diamonds_plot['counts']==0].index, inplace = True)\n",
    "mapper = LinearColorMapper(palette=Blues9, low=diamonds_plot['counts'].min(), high=diamonds_plot['counts'].max())\n",
    "\n",
    "#d + geom_bin2d()\n",
    "d.rect(x=\"x\", y=\"y\", width=bw, height=bh,\n",
    "       source=diamonds_plot,\n",
    "       fill_color={'field': 'counts', 'transform': mapper},\n",
    "       line_color=None)\n",
    "\n",
    "color_bar = ColorBar(color_mapper=mapper, major_label_text_font_size=\"10pt\",\n",
    "                     ticker=BasicTicker(desired_num_ticks=5),\n",
    "                     label_standoff=12, border_line_color=None, location=(0, 0))\n",
    "d.add_layout(color_bar, 'right')\n",
    "\n",
    "show(d)"
   ]
  },
  {
   "cell_type": "markdown",
   "metadata": {},
   "source": [
    "#### geom_boxplot() stat_boxplot()\n",
    "ggplot2 provides a good shorcut to this useful plot. Boxplots visualize five summary statistics (the median, two hinges and two whiskers), and all \"outlying\" points individually. In bokeh, creating these plots are quite involved."
   ]
  },
  {
   "cell_type": "code",
   "execution_count": 14,
   "metadata": {
    "scrolled": true
   },
   "outputs": [
    {
     "data": {
      "text/html": [
       "\n",
       "\n",
       "\n",
       "\n",
       "\n",
       "\n",
       "  <div class=\"bk-root\" id=\"ce49f251-f46d-441b-8c4e-2a03b808439d\"></div>\n"
      ]
     },
     "metadata": {},
     "output_type": "display_data"
    },
    {
     "data": {
      "application/javascript": [
       "(function(root) {\n",
       "  function embed_document(root) {\n",
       "    \n",
       "  var docs_json = {\"0d657af4-f378-4981-95c0-263848ade5f0\":{\"roots\":{\"references\":[{\"attributes\":{\"callback\":null,\"factors\":[\"2seater\",\"compact\",\"midsize\",\"minivan\",\"pickup\",\"subcompact\",\"suv\"]},\"id\":\"35fa0017-2382-4313-9f65-6c7be602134f\",\"type\":\"FactorRange\"},{\"attributes\":{\"active_drag\":\"auto\",\"active_inspect\":\"auto\",\"active_multi\":null,\"active_scroll\":\"auto\",\"active_tap\":\"auto\",\"tools\":[{\"id\":\"e534f9c2-4b97-4571-b579-1aba5ae35b6a\",\"type\":\"PanTool\"},{\"id\":\"a66aca88-5f90-4170-9dcb-d441013390fd\",\"type\":\"WheelZoomTool\"},{\"id\":\"9082bfad-ee0a-4fd7-a0cb-d5741032792c\",\"type\":\"BoxZoomTool\"},{\"id\":\"abee21f3-aa86-4cb7-999b-dc0bec8b1d6f\",\"type\":\"SaveTool\"},{\"id\":\"b7b206fb-4609-4007-b7ed-07701d2e0c54\",\"type\":\"ResetTool\"},{\"id\":\"5bf43bcb-aedc-4f10-b0fb-8d30bdf91aba\",\"type\":\"HelpTool\"}]},\"id\":\"d681bc65-a882-49c0-b605-6292f9c1fbb7\",\"type\":\"Toolbar\"},{\"attributes\":{\"formatter\":{\"id\":\"cbf33dd8-3082-4729-9a7b-dbdb50784b35\",\"type\":\"BasicTickFormatter\"},\"plot\":{\"id\":\"5ca8ea99-2d9a-4640-a97e-a0f9a996f595\",\"subtype\":\"Figure\",\"type\":\"Plot\"},\"ticker\":{\"id\":\"cee23776-1b34-4399-bec6-dcaa6e90f165\",\"type\":\"BasicTicker\"}},\"id\":\"a9b3d06f-f7cf-44d3-b1c2-3449809495b4\",\"type\":\"LinearAxis\"},{\"attributes\":{\"source\":{\"id\":\"c1e7c1c0-60aa-4967-b219-8f7979d24625\",\"type\":\"ColumnDataSource\"}},\"id\":\"63904716-26c9-4170-a105-c355530de244\",\"type\":\"CDSView\"},{\"attributes\":{},\"id\":\"504b527c-c334-4875-9001-7431bd96595f\",\"type\":\"CategoricalScale\"},{\"attributes\":{\"callback\":null},\"id\":\"b4250c1a-3528-4519-8be8-d9bbeabe59a5\",\"type\":\"DataRange1d\"},{\"attributes\":{},\"id\":\"86609dbf-0b1b-42aa-8056-63a90b965ac4\",\"type\":\"LinearScale\"},{\"attributes\":{\"plot\":{\"id\":\"5ca8ea99-2d9a-4640-a97e-a0f9a996f595\",\"subtype\":\"Figure\",\"type\":\"Plot\"},\"ticker\":{\"id\":\"b41e12c9-3cfe-4b7a-b153-a83ee380a0ad\",\"type\":\"CategoricalTicker\"}},\"id\":\"1c045d18-fc2d-4a3b-a65b-ec8e86201640\",\"type\":\"Grid\"},{\"attributes\":{\"formatter\":{\"id\":\"e2651902-1c1e-41a6-9e96-a084174f0b0b\",\"type\":\"CategoricalTickFormatter\"},\"major_label_text_font_size\":{\"value\":\"12pt\"},\"plot\":{\"id\":\"5ca8ea99-2d9a-4640-a97e-a0f9a996f595\",\"subtype\":\"Figure\",\"type\":\"Plot\"},\"ticker\":{\"id\":\"b41e12c9-3cfe-4b7a-b153-a83ee380a0ad\",\"type\":\"CategoricalTicker\"}},\"id\":\"03868d77-62a2-4ba8-b6e9-bce08a4b8ef2\",\"type\":\"CategoricalAxis\"},{\"attributes\":{},\"id\":\"b41e12c9-3cfe-4b7a-b153-a83ee380a0ad\",\"type\":\"CategoricalTicker\"},{\"attributes\":{\"fill_alpha\":{\"value\":0.1},\"fill_color\":{\"value\":\"#1f77b4\"},\"height\":{\"units\":\"data\",\"value\":0.01},\"line_alpha\":{\"value\":0.1},\"line_color\":{\"value\":\"#1f77b4\"},\"width\":{\"units\":\"data\",\"value\":0.2},\"x\":{\"field\":\"x\"},\"y\":{\"field\":\"y\"}},\"id\":\"fdcfa2d5-f3aa-4063-a338-aeb3ac83a06e\",\"type\":\"Rect\"},{\"attributes\":{\"data_source\":{\"id\":\"c1e7c1c0-60aa-4967-b219-8f7979d24625\",\"type\":\"ColumnDataSource\"},\"glyph\":{\"id\":\"c27b8b92-3ec3-40e1-920c-fd08e917eb2d\",\"type\":\"VBar\"},\"hover_glyph\":null,\"muted_glyph\":null,\"nonselection_glyph\":{\"id\":\"36d0d059-065d-4570-9879-84cdaf4a1755\",\"type\":\"VBar\"},\"selection_glyph\":null,\"view\":{\"id\":\"63904716-26c9-4170-a105-c355530de244\",\"type\":\"CDSView\"}},\"id\":\"b90ce567-c82c-4aa5-9d71-5dbeab85b536\",\"type\":\"GlyphRenderer\"},{\"attributes\":{},\"id\":\"cee23776-1b34-4399-bec6-dcaa6e90f165\",\"type\":\"BasicTicker\"},{\"attributes\":{\"dimension\":1,\"plot\":{\"id\":\"5ca8ea99-2d9a-4640-a97e-a0f9a996f595\",\"subtype\":\"Figure\",\"type\":\"Plot\"},\"ticker\":{\"id\":\"cee23776-1b34-4399-bec6-dcaa6e90f165\",\"type\":\"BasicTicker\"}},\"id\":\"b5d36bd7-901e-4d70-bee2-1f59a0951083\",\"type\":\"Grid\"},{\"attributes\":{\"fill_color\":{\"value\":\"#1f77b4\"},\"height\":{\"units\":\"data\",\"value\":0.01},\"width\":{\"units\":\"data\",\"value\":0.2},\"x\":{\"field\":\"x\"},\"y\":{\"field\":\"y\"}},\"id\":\"f9da4f0b-1e88-4b5a-a2aa-07a6c25339dd\",\"type\":\"Rect\"},{\"attributes\":{\"callback\":null,\"data\":{\"x\":[\"2seater\",\"compact\",\"midsize\",\"minivan\",\"pickup\",\"subcompact\",\"suv\"],\"y\":{\"__ndarray__\":\"AAAAAAAAPUAAAAAAAMBAQAAAAAAAwEBAAAAAAAAAO0AAAAAAAAA1QAAAAAAAwENAAAAAAAAANkA=\",\"dtype\":\"float64\",\"shape\":[7]}},\"selected\":{\"id\":\"c34d9280-e9b2-4236-8f1b-5e9654e17f89\",\"type\":\"Selection\"},\"selection_policy\":{\"id\":\"efeaf3ea-da55-427c-96ad-db5e1cfa890b\",\"type\":\"UnionRenderers\"}},\"id\":\"c6c5de19-7fb0-4fec-aff4-a8a49b371148\",\"type\":\"ColumnDataSource\"},{\"attributes\":{\"callback\":null,\"data\":{\"x0\":[\"2seater\",\"compact\",\"midsize\",\"minivan\",\"pickup\",\"subcompact\",\"suv\"],\"x1\":[\"2seater\",\"compact\",\"midsize\",\"minivan\",\"pickup\",\"subcompact\",\"suv\"],\"y0\":{\"__ndarray__\":\"AAAAAAAAPUAAAAAAAMBAQAAAAAAAwEBAAAAAAAAAO0AAAAAAAAA1QAAAAAAAwENAAAAAAAAANkA=\",\"dtype\":\"float64\",\"shape\":[7]},\"y1\":{\"__ndarray__\":\"AAAAAAAAOkAAAAAAAAA9QAAAAAAAAD1AAAAAAAAAOEAAAAAAAAAyQAAAAAAAgD5AAAAAAAAAM0A=\",\"dtype\":\"float64\",\"shape\":[7]}},\"selected\":{\"id\":\"9d8a7733-693a-4cb1-bc59-0211d457288b\",\"type\":\"Selection\"},\"selection_policy\":{\"id\":\"0c50cc76-6315-408d-867e-9106604cceac\",\"type\":\"UnionRenderers\"}},\"id\":\"35278e2e-3f05-49bf-ad25-9f8b5f7096fe\",\"type\":\"ColumnDataSource\"},{\"attributes\":{\"data_source\":{\"id\":\"17a202df-17cb-4938-9867-e40c8092a578\",\"type\":\"ColumnDataSource\"},\"glyph\":{\"id\":\"f9da4f0b-1e88-4b5a-a2aa-07a6c25339dd\",\"type\":\"Rect\"},\"hover_glyph\":null,\"muted_glyph\":null,\"nonselection_glyph\":{\"id\":\"fdcfa2d5-f3aa-4063-a338-aeb3ac83a06e\",\"type\":\"Rect\"},\"selection_glyph\":null,\"view\":{\"id\":\"bb986a8f-b18e-4789-b72d-f5b0a0cd37e5\",\"type\":\"CDSView\"}},\"id\":\"23ddbee8-f864-435d-938c-5018e56b6d18\",\"type\":\"GlyphRenderer\"},{\"attributes\":{\"bottom\":{\"field\":\"bottom\"},\"fill_alpha\":{\"value\":0.1},\"fill_color\":{\"value\":\"#1f77b4\"},\"line_alpha\":{\"value\":0.1},\"line_color\":{\"value\":\"#1f77b4\"},\"top\":{\"field\":\"top\"},\"width\":{\"value\":0.7},\"x\":{\"field\":\"x\"}},\"id\":\"36d0d059-065d-4570-9879-84cdaf4a1755\",\"type\":\"VBar\"},{\"attributes\":{},\"id\":\"e534f9c2-4b97-4571-b579-1aba5ae35b6a\",\"type\":\"PanTool\"},{\"attributes\":{\"fill_alpha\":{\"value\":0.1},\"fill_color\":{\"value\":\"#1f77b4\"},\"height\":{\"units\":\"data\",\"value\":0.01},\"line_alpha\":{\"value\":0.1},\"line_color\":{\"value\":\"#1f77b4\"},\"width\":{\"units\":\"data\",\"value\":0.2},\"x\":{\"field\":\"x\"},\"y\":{\"field\":\"y\"}},\"id\":\"693ccd13-80e1-4b57-a771-bbb145db984a\",\"type\":\"Rect\"},{\"attributes\":{},\"id\":\"a66aca88-5f90-4170-9dcb-d441013390fd\",\"type\":\"WheelZoomTool\"},{\"attributes\":{\"overlay\":{\"id\":\"96fb9fb1-985e-466b-8568-2906a7edcfcf\",\"type\":\"BoxAnnotation\"}},\"id\":\"9082bfad-ee0a-4fd7-a0cb-d5741032792c\",\"type\":\"BoxZoomTool\"},{\"attributes\":{},\"id\":\"abee21f3-aa86-4cb7-999b-dc0bec8b1d6f\",\"type\":\"SaveTool\"},{\"attributes\":{},\"id\":\"b7b206fb-4609-4007-b7ed-07701d2e0c54\",\"type\":\"ResetTool\"},{\"attributes\":{},\"id\":\"5bf43bcb-aedc-4f10-b0fb-8d30bdf91aba\",\"type\":\"HelpTool\"},{\"attributes\":{\"plot\":null,\"text\":\"My plot\"},\"id\":\"146823da-20f3-4917-87a1-6fa369c0317b\",\"type\":\"Title\"},{\"attributes\":{\"bottom_units\":\"screen\",\"fill_alpha\":{\"value\":0.5},\"fill_color\":{\"value\":\"lightgrey\"},\"left_units\":\"screen\",\"level\":\"overlay\",\"line_alpha\":{\"value\":1.0},\"line_color\":{\"value\":\"black\"},\"line_dash\":[4,4],\"line_width\":{\"value\":2},\"plot\":null,\"render_mode\":\"css\",\"right_units\":\"screen\",\"top_units\":\"screen\"},\"id\":\"96fb9fb1-985e-466b-8568-2906a7edcfcf\",\"type\":\"BoxAnnotation\"},{\"attributes\":{\"callback\":null,\"data\":{\"x\":[\"compact\",\"compact\",\"compact\",\"compact\",\"minivan\",\"pickup\",\"pickup\",\"pickup\",\"pickup\",\"subcompact\",\"subcompact\",\"suv\",\"suv\",\"suv\",\"suv\",\"suv\",\"suv\",\"suv\",\"suv\"],\"y\":[35,37,35,44,17,12,12,12,22,44,41,12,12,25,24,27,25,26,23]},\"selected\":{\"id\":\"ad0a295f-286e-45b2-8ce1-355b9d8d13e6\",\"type\":\"Selection\"},\"selection_policy\":{\"id\":\"ae2bc3c7-c6f4-4bbc-80d7-a49794d8a964\",\"type\":\"UnionRenderers\"}},\"id\":\"87d7e738-8f79-4189-b5fc-670a2df38137\",\"type\":\"ColumnDataSource\"},{\"attributes\":{\"below\":[{\"id\":\"03868d77-62a2-4ba8-b6e9-bce08a4b8ef2\",\"type\":\"CategoricalAxis\"}],\"left\":[{\"id\":\"a9b3d06f-f7cf-44d3-b1c2-3449809495b4\",\"type\":\"LinearAxis\"}],\"plot_height\":400,\"plot_width\":800,\"renderers\":[{\"id\":\"03868d77-62a2-4ba8-b6e9-bce08a4b8ef2\",\"type\":\"CategoricalAxis\"},{\"id\":\"1c045d18-fc2d-4a3b-a65b-ec8e86201640\",\"type\":\"Grid\"},{\"id\":\"a9b3d06f-f7cf-44d3-b1c2-3449809495b4\",\"type\":\"LinearAxis\"},{\"id\":\"b5d36bd7-901e-4d70-bee2-1f59a0951083\",\"type\":\"Grid\"},{\"id\":\"96fb9fb1-985e-466b-8568-2906a7edcfcf\",\"type\":\"BoxAnnotation\"},{\"id\":\"2b040edc-4474-420c-b0f9-bd092770990e\",\"type\":\"GlyphRenderer\"},{\"id\":\"11d74f50-2ccc-459f-99b7-b799c06a1a06\",\"type\":\"GlyphRenderer\"},{\"id\":\"7de10090-e64c-4b00-907d-9d2d18cc51e8\",\"type\":\"GlyphRenderer\"},{\"id\":\"b90ce567-c82c-4aa5-9d71-5dbeab85b536\",\"type\":\"GlyphRenderer\"},{\"id\":\"23ddbee8-f864-435d-938c-5018e56b6d18\",\"type\":\"GlyphRenderer\"},{\"id\":\"0658deb8-bb4d-442b-853a-e120bb4f4d63\",\"type\":\"GlyphRenderer\"},{\"id\":\"d5f8685a-9acb-481b-81c9-a932c65c3612\",\"type\":\"GlyphRenderer\"}],\"title\":{\"id\":\"146823da-20f3-4917-87a1-6fa369c0317b\",\"type\":\"Title\"},\"toolbar\":{\"id\":\"d681bc65-a882-49c0-b605-6292f9c1fbb7\",\"type\":\"Toolbar\"},\"x_range\":{\"id\":\"35fa0017-2382-4313-9f65-6c7be602134f\",\"type\":\"FactorRange\"},\"x_scale\":{\"id\":\"504b527c-c334-4875-9001-7431bd96595f\",\"type\":\"CategoricalScale\"},\"y_range\":{\"id\":\"b4250c1a-3528-4519-8be8-d9bbeabe59a5\",\"type\":\"DataRange1d\"},\"y_scale\":{\"id\":\"86609dbf-0b1b-42aa-8056-63a90b965ac4\",\"type\":\"LinearScale\"}},\"id\":\"5ca8ea99-2d9a-4640-a97e-a0f9a996f595\",\"subtype\":\"Figure\",\"type\":\"Plot\"},{\"attributes\":{\"source\":{\"id\":\"17a202df-17cb-4938-9867-e40c8092a578\",\"type\":\"ColumnDataSource\"}},\"id\":\"bb986a8f-b18e-4789-b72d-f5b0a0cd37e5\",\"type\":\"CDSView\"},{\"attributes\":{\"fill_color\":{\"value\":\"#1f77b4\"},\"height\":{\"units\":\"data\",\"value\":0.01},\"width\":{\"units\":\"data\",\"value\":0.2},\"x\":{\"field\":\"x\"},\"y\":{\"field\":\"y\"}},\"id\":\"fe25e6d9-e117-4e04-b874-6edcfbed8d4a\",\"type\":\"Rect\"},{\"attributes\":{\"data_source\":{\"id\":\"87d7e738-8f79-4189-b5fc-670a2df38137\",\"type\":\"ColumnDataSource\"},\"glyph\":{\"id\":\"070e8b4f-9ea9-4177-9e9f-99ff401ba17d\",\"type\":\"Circle\"},\"hover_glyph\":null,\"muted_glyph\":null,\"nonselection_glyph\":{\"id\":\"ed45f929-d883-4548-94cf-9570657c1cf1\",\"type\":\"Circle\"},\"selection_glyph\":null,\"view\":{\"id\":\"ec5c4e7e-995f-49cc-9694-6e618792e8e6\",\"type\":\"CDSView\"}},\"id\":\"d5f8685a-9acb-481b-81c9-a932c65c3612\",\"type\":\"GlyphRenderer\"},{\"attributes\":{\"source\":{\"id\":\"44c85ad7-fbbe-462e-9f88-f37112469675\",\"type\":\"ColumnDataSource\"}},\"id\":\"dcd0d15a-6c52-48d9-9c36-20432532e0ad\",\"type\":\"CDSView\"},{\"attributes\":{\"data_source\":{\"id\":\"c6c5de19-7fb0-4fec-aff4-a8a49b371148\",\"type\":\"ColumnDataSource\"},\"glyph\":{\"id\":\"fe25e6d9-e117-4e04-b874-6edcfbed8d4a\",\"type\":\"Rect\"},\"hover_glyph\":null,\"muted_glyph\":null,\"nonselection_glyph\":{\"id\":\"693ccd13-80e1-4b57-a771-bbb145db984a\",\"type\":\"Rect\"},\"selection_glyph\":null,\"view\":{\"id\":\"710b6e8f-c6dd-42c5-886a-5e696fe1f9d3\",\"type\":\"CDSView\"}},\"id\":\"0658deb8-bb4d-442b-853a-e120bb4f4d63\",\"type\":\"GlyphRenderer\"},{\"attributes\":{\"source\":{\"id\":\"c6c5de19-7fb0-4fec-aff4-a8a49b371148\",\"type\":\"ColumnDataSource\"}},\"id\":\"710b6e8f-c6dd-42c5-886a-5e696fe1f9d3\",\"type\":\"CDSView\"},{\"attributes\":{\"fill_alpha\":{\"value\":0.6},\"fill_color\":{\"value\":\"black\"},\"size\":{\"units\":\"screen\",\"value\":6},\"x\":{\"field\":\"x\"},\"y\":{\"field\":\"y\"}},\"id\":\"070e8b4f-9ea9-4177-9e9f-99ff401ba17d\",\"type\":\"Circle\"},{\"attributes\":{},\"id\":\"9d8a7733-693a-4cb1-bc59-0211d457288b\",\"type\":\"Selection\"},{\"attributes\":{\"source\":{\"id\":\"87d7e738-8f79-4189-b5fc-670a2df38137\",\"type\":\"ColumnDataSource\"}},\"id\":\"ec5c4e7e-995f-49cc-9694-6e618792e8e6\",\"type\":\"CDSView\"},{\"attributes\":{},\"id\":\"0c50cc76-6315-408d-867e-9106604cceac\",\"type\":\"UnionRenderers\"},{\"attributes\":{},\"id\":\"db0334a5-8286-4180-8dda-6ec1ae89ce94\",\"type\":\"UnionRenderers\"},{\"attributes\":{\"source\":{\"id\":\"35278e2e-3f05-49bf-ad25-9f8b5f7096fe\",\"type\":\"ColumnDataSource\"}},\"id\":\"202ee596-037b-4533-96cc-cee6db11aade\",\"type\":\"CDSView\"},{\"attributes\":{},\"id\":\"2f53b9c1-0a27-41b0-a328-94daaa5e50ca\",\"type\":\"Selection\"},{\"attributes\":{},\"id\":\"4aac2f49-856e-427e-991f-98b61e84c7d5\",\"type\":\"UnionRenderers\"},{\"attributes\":{},\"id\":\"74f3e425-020d-4956-a641-132dc912664e\",\"type\":\"Selection\"},{\"attributes\":{},\"id\":\"5b2739cd-dead-4cc3-b204-d47fe1de2644\",\"type\":\"UnionRenderers\"},{\"attributes\":{},\"id\":\"809dab9d-2a6d-44b2-a557-ee10198bbc9e\",\"type\":\"Selection\"},{\"attributes\":{},\"id\":\"495d47a6-3a12-40d2-99aa-e85c1ff7efee\",\"type\":\"UnionRenderers\"},{\"attributes\":{},\"id\":\"bbc7ed8a-184f-4cb7-97d9-ae91338ac53c\",\"type\":\"Selection\"},{\"attributes\":{},\"id\":\"efeaf3ea-da55-427c-96ad-db5e1cfa890b\",\"type\":\"UnionRenderers\"},{\"attributes\":{},\"id\":\"c34d9280-e9b2-4236-8f1b-5e9654e17f89\",\"type\":\"Selection\"},{\"attributes\":{},\"id\":\"ae2bc3c7-c6f4-4bbc-80d7-a49794d8a964\",\"type\":\"UnionRenderers\"},{\"attributes\":{},\"id\":\"ad0a295f-286e-45b2-8ce1-355b9d8d13e6\",\"type\":\"Selection\"},{\"attributes\":{\"bottom\":{\"field\":\"bottom\"},\"fill_alpha\":{\"value\":0.1},\"fill_color\":{\"value\":\"#1f77b4\"},\"line_alpha\":{\"value\":0.1},\"line_color\":{\"value\":\"#1f77b4\"},\"top\":{\"field\":\"top\"},\"width\":{\"value\":0.7},\"x\":{\"field\":\"x\"}},\"id\":\"4f17f098-5bea-4962-a52d-e3b59957d1a6\",\"type\":\"VBar\"},{\"attributes\":{\"source\":{\"id\":\"908f7bda-0f15-4ed9-926e-ad4030692dd2\",\"type\":\"ColumnDataSource\"}},\"id\":\"a67cab37-6224-41e2-a79c-1899f4df39c5\",\"type\":\"CDSView\"},{\"attributes\":{\"callback\":null,\"data\":{\"x\":[\"2seater\",\"compact\",\"midsize\",\"minivan\",\"pickup\",\"subcompact\",\"suv\"],\"y\":{\"__ndarray__\":\"AAAAAAAANUAAAAAAAIA1QAAAAAAAgDVAAAAAAAAAM0AAAAAAAAAqQAAAAAAAAC9AAAAAAAAALEA=\",\"dtype\":\"float64\",\"shape\":[7]}},\"selected\":{\"id\":\"bbc7ed8a-184f-4cb7-97d9-ae91338ac53c\",\"type\":\"Selection\"},\"selection_policy\":{\"id\":\"495d47a6-3a12-40d2-99aa-e85c1ff7efee\",\"type\":\"UnionRenderers\"}},\"id\":\"17a202df-17cb-4938-9867-e40c8092a578\",\"type\":\"ColumnDataSource\"},{\"attributes\":{\"data_source\":{\"id\":\"44c85ad7-fbbe-462e-9f88-f37112469675\",\"type\":\"ColumnDataSource\"},\"glyph\":{\"id\":\"3faa783e-1b55-4147-bd32-4896fe1383ef\",\"type\":\"VBar\"},\"hover_glyph\":null,\"muted_glyph\":null,\"nonselection_glyph\":{\"id\":\"4f17f098-5bea-4962-a52d-e3b59957d1a6\",\"type\":\"VBar\"},\"selection_glyph\":null,\"view\":{\"id\":\"dcd0d15a-6c52-48d9-9c36-20432532e0ad\",\"type\":\"CDSView\"}},\"id\":\"7de10090-e64c-4b00-907d-9d2d18cc51e8\",\"type\":\"GlyphRenderer\"},{\"attributes\":{\"line_alpha\":{\"value\":0.1},\"line_color\":{\"value\":\"#1f77b4\"},\"x0\":{\"field\":\"x0\"},\"x1\":{\"field\":\"x1\"},\"y0\":{\"field\":\"y0\"},\"y1\":{\"field\":\"y1\"}},\"id\":\"a54d9e62-fc6b-46ad-b1b5-134b8d78156d\",\"type\":\"Segment\"},{\"attributes\":{\"bottom\":{\"field\":\"bottom\"},\"fill_color\":{\"value\":\"white\"},\"top\":{\"field\":\"top\"},\"width\":{\"value\":0.7},\"x\":{\"field\":\"x\"}},\"id\":\"c27b8b92-3ec3-40e1-920c-fd08e917eb2d\",\"type\":\"VBar\"},{\"attributes\":{\"callback\":null,\"data\":{\"bottom\":{\"__ndarray__\":\"AAAAAAAAOkAAAAAAAAA9QAAAAAAAAD1AAAAAAAAAOEAAAAAAAAAyQAAAAAAAgD5AAAAAAAAAM0A=\",\"dtype\":\"float64\",\"shape\":[7]},\"top\":{\"__ndarray__\":\"AAAAAAAAOUAAAAAAAAA7QAAAAAAAADtAAAAAAAAAN0AAAAAAAAAxQAAAAAAAADpAAAAAAACAMUA=\",\"dtype\":\"float64\",\"shape\":[7]},\"x\":[\"2seater\",\"compact\",\"midsize\",\"minivan\",\"pickup\",\"subcompact\",\"suv\"]},\"selected\":{\"id\":\"74f3e425-020d-4956-a641-132dc912664e\",\"type\":\"Selection\"},\"selection_policy\":{\"id\":\"4aac2f49-856e-427e-991f-98b61e84c7d5\",\"type\":\"UnionRenderers\"}},\"id\":\"44c85ad7-fbbe-462e-9f88-f37112469675\",\"type\":\"ColumnDataSource\"},{\"attributes\":{\"fill_alpha\":{\"value\":0.1},\"fill_color\":{\"value\":\"#1f77b4\"},\"line_alpha\":{\"value\":0.1},\"line_color\":{\"value\":\"#1f77b4\"},\"size\":{\"units\":\"screen\",\"value\":6},\"x\":{\"field\":\"x\"},\"y\":{\"field\":\"y\"}},\"id\":\"ed45f929-d883-4548-94cf-9570657c1cf1\",\"type\":\"Circle\"},{\"attributes\":{},\"id\":\"cbf33dd8-3082-4729-9a7b-dbdb50784b35\",\"type\":\"BasicTickFormatter\"},{\"attributes\":{\"bottom\":{\"field\":\"bottom\"},\"fill_color\":{\"value\":\"white\"},\"top\":{\"field\":\"top\"},\"width\":{\"value\":0.7},\"x\":{\"field\":\"x\"}},\"id\":\"3faa783e-1b55-4147-bd32-4896fe1383ef\",\"type\":\"VBar\"},{\"attributes\":{},\"id\":\"e2651902-1c1e-41a6-9e96-a084174f0b0b\",\"type\":\"CategoricalTickFormatter\"},{\"attributes\":{\"callback\":null,\"data\":{\"bottom\":{\"__ndarray__\":\"AAAAAAAAOUAAAAAAAAA7QAAAAAAAADtAAAAAAAAAN0AAAAAAAAAxQAAAAAAAADpAAAAAAACAMUA=\",\"dtype\":\"float64\",\"shape\":[7]},\"top\":{\"__ndarray__\":\"AAAAAAAAOEAAAAAAAAA6QAAAAAAAADpAAAAAAAAANkAAAAAAAAAwQAAAAAAAgDhAAAAAAAAAMUA=\",\"dtype\":\"float64\",\"shape\":[7]},\"x\":[\"2seater\",\"compact\",\"midsize\",\"minivan\",\"pickup\",\"subcompact\",\"suv\"]},\"selected\":{\"id\":\"809dab9d-2a6d-44b2-a557-ee10198bbc9e\",\"type\":\"Selection\"},\"selection_policy\":{\"id\":\"5b2739cd-dead-4cc3-b204-d47fe1de2644\",\"type\":\"UnionRenderers\"}},\"id\":\"c1e7c1c0-60aa-4967-b219-8f7979d24625\",\"type\":\"ColumnDataSource\"},{\"attributes\":{\"data_source\":{\"id\":\"35278e2e-3f05-49bf-ad25-9f8b5f7096fe\",\"type\":\"ColumnDataSource\"},\"glyph\":{\"id\":\"3fa0e5f5-eba1-48fe-8c9c-a6806a6f4855\",\"type\":\"Segment\"},\"hover_glyph\":null,\"muted_glyph\":null,\"nonselection_glyph\":{\"id\":\"771fb507-1026-4bbd-a326-50aebfed76ea\",\"type\":\"Segment\"},\"selection_glyph\":null,\"view\":{\"id\":\"202ee596-037b-4533-96cc-cee6db11aade\",\"type\":\"CDSView\"}},\"id\":\"2b040edc-4474-420c-b0f9-bd092770990e\",\"type\":\"GlyphRenderer\"},{\"attributes\":{\"data_source\":{\"id\":\"908f7bda-0f15-4ed9-926e-ad4030692dd2\",\"type\":\"ColumnDataSource\"},\"glyph\":{\"id\":\"ca3ccc4e-c91f-488b-8e37-789d933c8416\",\"type\":\"Segment\"},\"hover_glyph\":null,\"muted_glyph\":null,\"nonselection_glyph\":{\"id\":\"a54d9e62-fc6b-46ad-b1b5-134b8d78156d\",\"type\":\"Segment\"},\"selection_glyph\":null,\"view\":{\"id\":\"a67cab37-6224-41e2-a79c-1899f4df39c5\",\"type\":\"CDSView\"}},\"id\":\"11d74f50-2ccc-459f-99b7-b799c06a1a06\",\"type\":\"GlyphRenderer\"},{\"attributes\":{\"line_alpha\":{\"value\":0.1},\"line_color\":{\"value\":\"#1f77b4\"},\"x0\":{\"field\":\"x0\"},\"x1\":{\"field\":\"x1\"},\"y0\":{\"field\":\"y0\"},\"y1\":{\"field\":\"y1\"}},\"id\":\"771fb507-1026-4bbd-a326-50aebfed76ea\",\"type\":\"Segment\"},{\"attributes\":{\"x0\":{\"field\":\"x0\"},\"x1\":{\"field\":\"x1\"},\"y0\":{\"field\":\"y0\"},\"y1\":{\"field\":\"y1\"}},\"id\":\"ca3ccc4e-c91f-488b-8e37-789d933c8416\",\"type\":\"Segment\"},{\"attributes\":{\"callback\":null,\"data\":{\"x0\":[\"2seater\",\"compact\",\"midsize\",\"minivan\",\"pickup\",\"subcompact\",\"suv\"],\"x1\":[\"2seater\",\"compact\",\"midsize\",\"minivan\",\"pickup\",\"subcompact\",\"suv\"],\"y0\":{\"__ndarray__\":\"AAAAAAAANUAAAAAAAIA1QAAAAAAAgDVAAAAAAAAAM0AAAAAAAAAqQAAAAAAAAC9AAAAAAAAALEA=\",\"dtype\":\"float64\",\"shape\":[7]},\"y1\":{\"__ndarray__\":\"AAAAAAAAOEAAAAAAAAA6QAAAAAAAADpAAAAAAAAANkAAAAAAAAAwQAAAAAAAgDhAAAAAAAAAMUA=\",\"dtype\":\"float64\",\"shape\":[7]}},\"selected\":{\"id\":\"2f53b9c1-0a27-41b0-a328-94daaa5e50ca\",\"type\":\"Selection\"},\"selection_policy\":{\"id\":\"db0334a5-8286-4180-8dda-6ec1ae89ce94\",\"type\":\"UnionRenderers\"}},\"id\":\"908f7bda-0f15-4ed9-926e-ad4030692dd2\",\"type\":\"ColumnDataSource\"},{\"attributes\":{\"x0\":{\"field\":\"x0\"},\"x1\":{\"field\":\"x1\"},\"y0\":{\"field\":\"y0\"},\"y1\":{\"field\":\"y1\"}},\"id\":\"3fa0e5f5-eba1-48fe-8c9c-a6806a6f4855\",\"type\":\"Segment\"}],\"root_ids\":[\"5ca8ea99-2d9a-4640-a97e-a0f9a996f595\"]},\"title\":\"Bokeh Application\",\"version\":\"0.13.0\"}};\n",
       "  var render_items = [{\"docid\":\"0d657af4-f378-4981-95c0-263848ade5f0\",\"roots\":{\"5ca8ea99-2d9a-4640-a97e-a0f9a996f595\":\"ce49f251-f46d-441b-8c4e-2a03b808439d\"}}];\n",
       "  root.Bokeh.embed.embed_items_notebook(docs_json, render_items);\n",
       "\n",
       "  }\n",
       "  if (root.Bokeh !== undefined) {\n",
       "    embed_document(root);\n",
       "  } else {\n",
       "    var attempts = 0;\n",
       "    var timer = setInterval(function(root) {\n",
       "      if (root.Bokeh !== undefined) {\n",
       "        embed_document(root);\n",
       "        clearInterval(timer);\n",
       "      }\n",
       "      attempts++;\n",
       "      if (attempts > 100) {\n",
       "        console.log(\"Bokeh: ERROR: Unable to run BokehJS code because BokehJS library is missing\")\n",
       "        clearInterval(timer);\n",
       "      }\n",
       "    }, 10, root)\n",
       "  }\n",
       "})(window);"
      ],
      "application/vnd.bokehjs_exec.v0+json": ""
     },
     "metadata": {
      "application/vnd.bokehjs_exec.v0+json": {
       "id": "5ca8ea99-2d9a-4640-a97e-a0f9a996f595"
      }
     },
     "output_type": "display_data"
    }
   ],
   "source": [
    "#p <- ggplot(mpg, aes(class, hwy))\n",
    "#Prepare the data\n",
    "# find the quartiles and IQR for each category\n",
    "groups = mpg[['class','hwy']].groupby('class')\n",
    "q1 = groups.quantile(q=0.25)\n",
    "q2 = groups.quantile(q=0.5)\n",
    "q3 = groups.quantile(q=0.75)\n",
    "iqr = q3 - q1\n",
    "upper = q3 + 1.5*iqr\n",
    "lower = q1 - 1.5*iqr\n",
    "\n",
    "# find the outliers for each category\n",
    "def outliers(group):\n",
    "    cat = group.name\n",
    "    return group[(group.hwy > upper.loc[cat]['hwy']) | (group.hwy < lower.loc[cat]['hwy'])]['hwy']\n",
    "out = groups.apply(outliers).dropna()\n",
    "# prepare outlier data for plotting, we need coordinates for every outlier.\n",
    "if not out.empty:\n",
    "    outx = []\n",
    "    outy = []\n",
    "    for keys in out.index:\n",
    "        outx.append(keys[0])\n",
    "        outy.append(out.loc[keys[0]].loc[keys[1]])\n",
    "cats = list(groups.groups.keys())\n",
    "\n",
    "p = create_gv()\n",
    "# stems\n",
    "p.segment(cats, upper.hwy, cats, q3.hwy, line_color=\"black\")\n",
    "p.segment(cats, lower.hwy, cats, q1.hwy, line_color=\"black\")\n",
    "\n",
    "# boxes\n",
    "p.vbar(cats, 0.7, q2.hwy, q3.hwy, fill_color=\"white\", line_color=\"black\")\n",
    "p.vbar(cats, 0.7, q1.hwy, q2.hwy, fill_color=\"white\", line_color=\"black\")\n",
    "\n",
    "# whiskers (almost-0 height rects simpler than segments)\n",
    "p.rect(cats, lower.hwy, 0.2, 0.01, line_color=\"black\")\n",
    "p.rect(cats, upper.hwy, 0.2, 0.01, line_color=\"black\")\n",
    "\n",
    "# outliers\n",
    "if not out.empty:\n",
    "    p.circle(outx, outy, size=6, color=\"black\", fill_alpha=0.6)\n",
    "\n",
    "p.xaxis.major_label_text_font_size=\"12pt\"\n",
    "\n",
    "show(p)\n",
    "#p + geom_boxplot()"
   ]
  },
  {
   "cell_type": "markdown",
   "metadata": {},
   "source": [
    "#geom_bar() geom_col() stat_count()\n",
    "geom_abline() geom_hline() geom_vline() \n",
    "\n",
    "\n",
    "geom_bar() geom_col() stat_count() \n",
    "Bar charts\n",
    "\n",
    "geom_bin2d() stat_bin_2d() \n",
    "Heatmap of 2d bin counts\n",
    "\n",
    "geom_blank() \n",
    "Draw nothing\n",
    "\n",
    "geom_boxplot() stat_boxplot() \n",
    "A box and whiskers plot (in the style of Tukey)\n",
    "\n",
    "geom_contour() stat_contour() \n",
    "2d contours of a 3d surface\n",
    "\n",
    "geom_count() stat_sum() \n",
    "Count overlapping points\n",
    "\n",
    "geom_density() stat_density() \n",
    "Smoothed density estimates\n",
    "\n",
    "geom_density_2d() stat_density_2d() \n",
    "Contours of a 2d density estimate\n",
    "\n",
    "geom_dotplot() \n",
    "Dot plot\n",
    "\n",
    "geom_errorbarh() \n",
    "Horizontal error bars\n",
    "\n",
    "geom_hex() stat_bin_hex() \n",
    "Hexagonal heatmap of 2d bin counts\n",
    "\n",
    "geom_freqpoly() geom_histogram() stat_bin() \n",
    "Histograms and frequency polygons\n",
    "\n",
    "geom_jitter() \n",
    "Jittered points\n",
    "\n",
    "geom_crossbar() geom_errorbar() geom_linerange() geom_pointrange() \n",
    "Vertical intervals: lines, crossbars & errorbars\n",
    "\n",
    "geom_map() \n",
    "Polygons from a reference map\n",
    "\n",
    "geom_path() geom_line() geom_step() \n",
    "Connect observations\n",
    "\n",
    "geom_point() \n",
    "Points\n",
    "\n",
    "geom_polygon() \n",
    "Polygons\n",
    "\n",
    "geom_qq_line() stat_qq_line() geom_qq() stat_qq() \n",
    "A quantile-quantile plot\n",
    "\n",
    "geom_quantile() stat_quantile() \n",
    "Quantile regression\n",
    "\n",
    "geom_ribbon() geom_area() \n",
    "Ribbons and area plots\n",
    "\n",
    "geom_rug() \n",
    "Rug plots in the margins\n",
    "\n",
    "geom_segment() geom_curve() \n",
    "Line segments and curves\n",
    "\n",
    "geom_smooth() stat_smooth() \n",
    "Smoothed conditional means\n",
    "\n",
    "geom_spoke() \n",
    "Line segments parameterised by location, direction and distance\n",
    "\n",
    "geom_label() geom_text() \n",
    "Text\n",
    "\n",
    "geom_raster() geom_rect() geom_tile() \n",
    "Rectangles\n",
    "\n",
    "geom_violin() stat_ydensity() \n",
    "Violin plot\n",
    "\n",
    "stat_sf() geom_sf() geom_sf_label() geom_sf_text() coord_sf() \n",
    "Visualise sf objects"
   ]
  }
 ],
 "metadata": {
  "kernelspec": {
   "display_name": "Python 3",
   "language": "python",
   "name": "python3"
  },
  "language_info": {
   "codemirror_mode": {
    "name": "ipython",
    "version": 3
   },
   "file_extension": ".py",
   "mimetype": "text/x-python",
   "name": "python",
   "nbconvert_exporter": "python",
   "pygments_lexer": "ipython3",
   "version": "3.7.0"
  }
 },
 "nbformat": 4,
 "nbformat_minor": 2
}
