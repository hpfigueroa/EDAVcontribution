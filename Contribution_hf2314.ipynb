{
 "cells": [
  {
   "cell_type": "markdown",
   "metadata": {},
   "source": [
    "## Reference to convert functions from R ggplot to Python bokeh\n",
    "\n",
    "I hope this guide helps you convert a useful graph developed used in R ggplot to Python [bokeh](https://bokeh.pydata.org/). Bokeh is a library that can create interactive plots. However, bokeh has limited integrated statistics functionality.   \n",
    "This guide converts some sections included in [the ggplot reference](https://ggplot2.tidyverse.org/reference/index.html)"
   ]
  },
  {
   "cell_type": "markdown",
   "metadata": {},
   "source": [
    "### Loading the library\n",
    "We can load multiple bokeh.plotting modules, similarly to loading library(ggplot2). To use statistical functions such as count, sum and mean, we use the numpy and pandas libraries. Bokeh, numpy and pandas are included in Anaconda.\n",
    "Also to create similar plots to the ggplot2 reference guide, we use the ggplot2 datasets from [scilab](https://forge.scilab.org/index.php/p/rdataset/source/tree/master/csv/ggplot2)"
   ]
  },
  {
   "cell_type": "code",
   "execution_count": 1,
   "metadata": {},
   "outputs": [
    {
     "data": {
      "text/html": [
       "\n",
       "    <div class=\"bk-root\">\n",
       "        <a href=\"https://bokeh.pydata.org\" target=\"_blank\" class=\"bk-logo bk-logo-small bk-logo-notebook\"></a>\n",
       "        <span id=\"64ec498e-53e9-48a5-bad4-177b730470a5\">Loading BokehJS ...</span>\n",
       "    </div>"
      ]
     },
     "metadata": {},
     "output_type": "display_data"
    },
    {
     "data": {
      "application/javascript": [
       "\n",
       "(function(root) {\n",
       "  function now() {\n",
       "    return new Date();\n",
       "  }\n",
       "\n",
       "  var force = true;\n",
       "\n",
       "  if (typeof (root._bokeh_onload_callbacks) === \"undefined\" || force === true) {\n",
       "    root._bokeh_onload_callbacks = [];\n",
       "    root._bokeh_is_loading = undefined;\n",
       "  }\n",
       "\n",
       "  var JS_MIME_TYPE = 'application/javascript';\n",
       "  var HTML_MIME_TYPE = 'text/html';\n",
       "  var EXEC_MIME_TYPE = 'application/vnd.bokehjs_exec.v0+json';\n",
       "  var CLASS_NAME = 'output_bokeh rendered_html';\n",
       "\n",
       "  /**\n",
       "   * Render data to the DOM node\n",
       "   */\n",
       "  function render(props, node) {\n",
       "    var script = document.createElement(\"script\");\n",
       "    node.appendChild(script);\n",
       "  }\n",
       "\n",
       "  /**\n",
       "   * Handle when an output is cleared or removed\n",
       "   */\n",
       "  function handleClearOutput(event, handle) {\n",
       "    var cell = handle.cell;\n",
       "\n",
       "    var id = cell.output_area._bokeh_element_id;\n",
       "    var server_id = cell.output_area._bokeh_server_id;\n",
       "    // Clean up Bokeh references\n",
       "    if (id != null && id in Bokeh.index) {\n",
       "      Bokeh.index[id].model.document.clear();\n",
       "      delete Bokeh.index[id];\n",
       "    }\n",
       "\n",
       "    if (server_id !== undefined) {\n",
       "      // Clean up Bokeh references\n",
       "      var cmd = \"from bokeh.io.state import curstate; print(curstate().uuid_to_server['\" + server_id + \"'].get_sessions()[0].document.roots[0]._id)\";\n",
       "      cell.notebook.kernel.execute(cmd, {\n",
       "        iopub: {\n",
       "          output: function(msg) {\n",
       "            var id = msg.content.text.trim();\n",
       "            if (id in Bokeh.index) {\n",
       "              Bokeh.index[id].model.document.clear();\n",
       "              delete Bokeh.index[id];\n",
       "            }\n",
       "          }\n",
       "        }\n",
       "      });\n",
       "      // Destroy server and session\n",
       "      var cmd = \"import bokeh.io.notebook as ion; ion.destroy_server('\" + server_id + \"')\";\n",
       "      cell.notebook.kernel.execute(cmd);\n",
       "    }\n",
       "  }\n",
       "\n",
       "  /**\n",
       "   * Handle when a new output is added\n",
       "   */\n",
       "  function handleAddOutput(event, handle) {\n",
       "    var output_area = handle.output_area;\n",
       "    var output = handle.output;\n",
       "\n",
       "    // limit handleAddOutput to display_data with EXEC_MIME_TYPE content only\n",
       "    if ((output.output_type != \"display_data\") || (!output.data.hasOwnProperty(EXEC_MIME_TYPE))) {\n",
       "      return\n",
       "    }\n",
       "\n",
       "    var toinsert = output_area.element.find(\".\" + CLASS_NAME.split(' ')[0]);\n",
       "\n",
       "    if (output.metadata[EXEC_MIME_TYPE][\"id\"] !== undefined) {\n",
       "      toinsert[toinsert.length - 1].firstChild.textContent = output.data[JS_MIME_TYPE];\n",
       "      // store reference to embed id on output_area\n",
       "      output_area._bokeh_element_id = output.metadata[EXEC_MIME_TYPE][\"id\"];\n",
       "    }\n",
       "    if (output.metadata[EXEC_MIME_TYPE][\"server_id\"] !== undefined) {\n",
       "      var bk_div = document.createElement(\"div\");\n",
       "      bk_div.innerHTML = output.data[HTML_MIME_TYPE];\n",
       "      var script_attrs = bk_div.children[0].attributes;\n",
       "      for (var i = 0; i < script_attrs.length; i++) {\n",
       "        toinsert[toinsert.length - 1].firstChild.setAttribute(script_attrs[i].name, script_attrs[i].value);\n",
       "      }\n",
       "      // store reference to server id on output_area\n",
       "      output_area._bokeh_server_id = output.metadata[EXEC_MIME_TYPE][\"server_id\"];\n",
       "    }\n",
       "  }\n",
       "\n",
       "  function register_renderer(events, OutputArea) {\n",
       "\n",
       "    function append_mime(data, metadata, element) {\n",
       "      // create a DOM node to render to\n",
       "      var toinsert = this.create_output_subarea(\n",
       "        metadata,\n",
       "        CLASS_NAME,\n",
       "        EXEC_MIME_TYPE\n",
       "      );\n",
       "      this.keyboard_manager.register_events(toinsert);\n",
       "      // Render to node\n",
       "      var props = {data: data, metadata: metadata[EXEC_MIME_TYPE]};\n",
       "      render(props, toinsert[toinsert.length - 1]);\n",
       "      element.append(toinsert);\n",
       "      return toinsert\n",
       "    }\n",
       "\n",
       "    /* Handle when an output is cleared or removed */\n",
       "    events.on('clear_output.CodeCell', handleClearOutput);\n",
       "    events.on('delete.Cell', handleClearOutput);\n",
       "\n",
       "    /* Handle when a new output is added */\n",
       "    events.on('output_added.OutputArea', handleAddOutput);\n",
       "\n",
       "    /**\n",
       "     * Register the mime type and append_mime function with output_area\n",
       "     */\n",
       "    OutputArea.prototype.register_mime_type(EXEC_MIME_TYPE, append_mime, {\n",
       "      /* Is output safe? */\n",
       "      safe: true,\n",
       "      /* Index of renderer in `output_area.display_order` */\n",
       "      index: 0\n",
       "    });\n",
       "  }\n",
       "\n",
       "  // register the mime type if in Jupyter Notebook environment and previously unregistered\n",
       "  if (root.Jupyter !== undefined) {\n",
       "    var events = require('base/js/events');\n",
       "    var OutputArea = require('notebook/js/outputarea').OutputArea;\n",
       "\n",
       "    if (OutputArea.prototype.mime_types().indexOf(EXEC_MIME_TYPE) == -1) {\n",
       "      register_renderer(events, OutputArea);\n",
       "    }\n",
       "  }\n",
       "\n",
       "  \n",
       "  if (typeof (root._bokeh_timeout) === \"undefined\" || force === true) {\n",
       "    root._bokeh_timeout = Date.now() + 5000;\n",
       "    root._bokeh_failed_load = false;\n",
       "  }\n",
       "\n",
       "  var NB_LOAD_WARNING = {'data': {'text/html':\n",
       "     \"<div style='background-color: #fdd'>\\n\"+\n",
       "     \"<p>\\n\"+\n",
       "     \"BokehJS does not appear to have successfully loaded. If loading BokehJS from CDN, this \\n\"+\n",
       "     \"may be due to a slow or bad network connection. Possible fixes:\\n\"+\n",
       "     \"</p>\\n\"+\n",
       "     \"<ul>\\n\"+\n",
       "     \"<li>re-rerun `output_notebook()` to attempt to load from CDN again, or</li>\\n\"+\n",
       "     \"<li>use INLINE resources instead, as so:</li>\\n\"+\n",
       "     \"</ul>\\n\"+\n",
       "     \"<code>\\n\"+\n",
       "     \"from bokeh.resources import INLINE\\n\"+\n",
       "     \"output_notebook(resources=INLINE)\\n\"+\n",
       "     \"</code>\\n\"+\n",
       "     \"</div>\"}};\n",
       "\n",
       "  function display_loaded() {\n",
       "    var el = document.getElementById(\"64ec498e-53e9-48a5-bad4-177b730470a5\");\n",
       "    if (el != null) {\n",
       "      el.textContent = \"BokehJS is loading...\";\n",
       "    }\n",
       "    if (root.Bokeh !== undefined) {\n",
       "      if (el != null) {\n",
       "        el.textContent = \"BokehJS \" + root.Bokeh.version + \" successfully loaded.\";\n",
       "      }\n",
       "    } else if (Date.now() < root._bokeh_timeout) {\n",
       "      setTimeout(display_loaded, 100)\n",
       "    }\n",
       "  }\n",
       "\n",
       "\n",
       "  function run_callbacks() {\n",
       "    try {\n",
       "      root._bokeh_onload_callbacks.forEach(function(callback) { callback() });\n",
       "    }\n",
       "    finally {\n",
       "      delete root._bokeh_onload_callbacks\n",
       "    }\n",
       "    console.info(\"Bokeh: all callbacks have finished\");\n",
       "  }\n",
       "\n",
       "  function load_libs(js_urls, callback) {\n",
       "    root._bokeh_onload_callbacks.push(callback);\n",
       "    if (root._bokeh_is_loading > 0) {\n",
       "      console.log(\"Bokeh: BokehJS is being loaded, scheduling callback at\", now());\n",
       "      return null;\n",
       "    }\n",
       "    if (js_urls == null || js_urls.length === 0) {\n",
       "      run_callbacks();\n",
       "      return null;\n",
       "    }\n",
       "    console.log(\"Bokeh: BokehJS not loaded, scheduling load and callback at\", now());\n",
       "    root._bokeh_is_loading = js_urls.length;\n",
       "    for (var i = 0; i < js_urls.length; i++) {\n",
       "      var url = js_urls[i];\n",
       "      var s = document.createElement('script');\n",
       "      s.src = url;\n",
       "      s.async = false;\n",
       "      s.onreadystatechange = s.onload = function() {\n",
       "        root._bokeh_is_loading--;\n",
       "        if (root._bokeh_is_loading === 0) {\n",
       "          console.log(\"Bokeh: all BokehJS libraries loaded\");\n",
       "          run_callbacks()\n",
       "        }\n",
       "      };\n",
       "      s.onerror = function() {\n",
       "        console.warn(\"failed to load library \" + url);\n",
       "      };\n",
       "      console.log(\"Bokeh: injecting script tag for BokehJS library: \", url);\n",
       "      document.getElementsByTagName(\"head\")[0].appendChild(s);\n",
       "    }\n",
       "  };var element = document.getElementById(\"64ec498e-53e9-48a5-bad4-177b730470a5\");\n",
       "  if (element == null) {\n",
       "    console.log(\"Bokeh: ERROR: autoload.js configured with elementid '64ec498e-53e9-48a5-bad4-177b730470a5' but no matching script tag was found. \")\n",
       "    return false;\n",
       "  }\n",
       "\n",
       "  var js_urls = [\"https://cdn.pydata.org/bokeh/release/bokeh-0.13.0.min.js\", \"https://cdn.pydata.org/bokeh/release/bokeh-widgets-0.13.0.min.js\", \"https://cdn.pydata.org/bokeh/release/bokeh-tables-0.13.0.min.js\", \"https://cdn.pydata.org/bokeh/release/bokeh-gl-0.13.0.min.js\"];\n",
       "\n",
       "  var inline_js = [\n",
       "    function(Bokeh) {\n",
       "      Bokeh.set_log_level(\"info\");\n",
       "    },\n",
       "    \n",
       "    function(Bokeh) {\n",
       "      \n",
       "    },\n",
       "    function(Bokeh) {\n",
       "      console.log(\"Bokeh: injecting CSS: https://cdn.pydata.org/bokeh/release/bokeh-0.13.0.min.css\");\n",
       "      Bokeh.embed.inject_css(\"https://cdn.pydata.org/bokeh/release/bokeh-0.13.0.min.css\");\n",
       "      console.log(\"Bokeh: injecting CSS: https://cdn.pydata.org/bokeh/release/bokeh-widgets-0.13.0.min.css\");\n",
       "      Bokeh.embed.inject_css(\"https://cdn.pydata.org/bokeh/release/bokeh-widgets-0.13.0.min.css\");\n",
       "      console.log(\"Bokeh: injecting CSS: https://cdn.pydata.org/bokeh/release/bokeh-tables-0.13.0.min.css\");\n",
       "      Bokeh.embed.inject_css(\"https://cdn.pydata.org/bokeh/release/bokeh-tables-0.13.0.min.css\");\n",
       "    }\n",
       "  ];\n",
       "\n",
       "  function run_inline_js() {\n",
       "    \n",
       "    if ((root.Bokeh !== undefined) || (force === true)) {\n",
       "      for (var i = 0; i < inline_js.length; i++) {\n",
       "        inline_js[i].call(root, root.Bokeh);\n",
       "      }if (force === true) {\n",
       "        display_loaded();\n",
       "      }} else if (Date.now() < root._bokeh_timeout) {\n",
       "      setTimeout(run_inline_js, 100);\n",
       "    } else if (!root._bokeh_failed_load) {\n",
       "      console.log(\"Bokeh: BokehJS failed to load within specified timeout.\");\n",
       "      root._bokeh_failed_load = true;\n",
       "    } else if (force !== true) {\n",
       "      var cell = $(document.getElementById(\"64ec498e-53e9-48a5-bad4-177b730470a5\")).parents('.cell').data().cell;\n",
       "      cell.output_area.append_execute_result(NB_LOAD_WARNING)\n",
       "    }\n",
       "\n",
       "  }\n",
       "\n",
       "  if (root._bokeh_is_loading === 0) {\n",
       "    console.log(\"Bokeh: BokehJS loaded, going straight to plotting\");\n",
       "    run_inline_js();\n",
       "  } else {\n",
       "    load_libs(js_urls, function() {\n",
       "      console.log(\"Bokeh: BokehJS plotting callback run at\", now());\n",
       "      run_inline_js();\n",
       "    });\n",
       "  }\n",
       "}(window));"
      ],
      "application/vnd.bokehjs_load.v0+json": "\n(function(root) {\n  function now() {\n    return new Date();\n  }\n\n  var force = true;\n\n  if (typeof (root._bokeh_onload_callbacks) === \"undefined\" || force === true) {\n    root._bokeh_onload_callbacks = [];\n    root._bokeh_is_loading = undefined;\n  }\n\n  \n\n  \n  if (typeof (root._bokeh_timeout) === \"undefined\" || force === true) {\n    root._bokeh_timeout = Date.now() + 5000;\n    root._bokeh_failed_load = false;\n  }\n\n  var NB_LOAD_WARNING = {'data': {'text/html':\n     \"<div style='background-color: #fdd'>\\n\"+\n     \"<p>\\n\"+\n     \"BokehJS does not appear to have successfully loaded. If loading BokehJS from CDN, this \\n\"+\n     \"may be due to a slow or bad network connection. Possible fixes:\\n\"+\n     \"</p>\\n\"+\n     \"<ul>\\n\"+\n     \"<li>re-rerun `output_notebook()` to attempt to load from CDN again, or</li>\\n\"+\n     \"<li>use INLINE resources instead, as so:</li>\\n\"+\n     \"</ul>\\n\"+\n     \"<code>\\n\"+\n     \"from bokeh.resources import INLINE\\n\"+\n     \"output_notebook(resources=INLINE)\\n\"+\n     \"</code>\\n\"+\n     \"</div>\"}};\n\n  function display_loaded() {\n    var el = document.getElementById(\"64ec498e-53e9-48a5-bad4-177b730470a5\");\n    if (el != null) {\n      el.textContent = \"BokehJS is loading...\";\n    }\n    if (root.Bokeh !== undefined) {\n      if (el != null) {\n        el.textContent = \"BokehJS \" + root.Bokeh.version + \" successfully loaded.\";\n      }\n    } else if (Date.now() < root._bokeh_timeout) {\n      setTimeout(display_loaded, 100)\n    }\n  }\n\n\n  function run_callbacks() {\n    try {\n      root._bokeh_onload_callbacks.forEach(function(callback) { callback() });\n    }\n    finally {\n      delete root._bokeh_onload_callbacks\n    }\n    console.info(\"Bokeh: all callbacks have finished\");\n  }\n\n  function load_libs(js_urls, callback) {\n    root._bokeh_onload_callbacks.push(callback);\n    if (root._bokeh_is_loading > 0) {\n      console.log(\"Bokeh: BokehJS is being loaded, scheduling callback at\", now());\n      return null;\n    }\n    if (js_urls == null || js_urls.length === 0) {\n      run_callbacks();\n      return null;\n    }\n    console.log(\"Bokeh: BokehJS not loaded, scheduling load and callback at\", now());\n    root._bokeh_is_loading = js_urls.length;\n    for (var i = 0; i < js_urls.length; i++) {\n      var url = js_urls[i];\n      var s = document.createElement('script');\n      s.src = url;\n      s.async = false;\n      s.onreadystatechange = s.onload = function() {\n        root._bokeh_is_loading--;\n        if (root._bokeh_is_loading === 0) {\n          console.log(\"Bokeh: all BokehJS libraries loaded\");\n          run_callbacks()\n        }\n      };\n      s.onerror = function() {\n        console.warn(\"failed to load library \" + url);\n      };\n      console.log(\"Bokeh: injecting script tag for BokehJS library: \", url);\n      document.getElementsByTagName(\"head\")[0].appendChild(s);\n    }\n  };var element = document.getElementById(\"64ec498e-53e9-48a5-bad4-177b730470a5\");\n  if (element == null) {\n    console.log(\"Bokeh: ERROR: autoload.js configured with elementid '64ec498e-53e9-48a5-bad4-177b730470a5' but no matching script tag was found. \")\n    return false;\n  }\n\n  var js_urls = [\"https://cdn.pydata.org/bokeh/release/bokeh-0.13.0.min.js\", \"https://cdn.pydata.org/bokeh/release/bokeh-widgets-0.13.0.min.js\", \"https://cdn.pydata.org/bokeh/release/bokeh-tables-0.13.0.min.js\", \"https://cdn.pydata.org/bokeh/release/bokeh-gl-0.13.0.min.js\"];\n\n  var inline_js = [\n    function(Bokeh) {\n      Bokeh.set_log_level(\"info\");\n    },\n    \n    function(Bokeh) {\n      \n    },\n    function(Bokeh) {\n      console.log(\"Bokeh: injecting CSS: https://cdn.pydata.org/bokeh/release/bokeh-0.13.0.min.css\");\n      Bokeh.embed.inject_css(\"https://cdn.pydata.org/bokeh/release/bokeh-0.13.0.min.css\");\n      console.log(\"Bokeh: injecting CSS: https://cdn.pydata.org/bokeh/release/bokeh-widgets-0.13.0.min.css\");\n      Bokeh.embed.inject_css(\"https://cdn.pydata.org/bokeh/release/bokeh-widgets-0.13.0.min.css\");\n      console.log(\"Bokeh: injecting CSS: https://cdn.pydata.org/bokeh/release/bokeh-tables-0.13.0.min.css\");\n      Bokeh.embed.inject_css(\"https://cdn.pydata.org/bokeh/release/bokeh-tables-0.13.0.min.css\");\n    }\n  ];\n\n  function run_inline_js() {\n    \n    if ((root.Bokeh !== undefined) || (force === true)) {\n      for (var i = 0; i < inline_js.length; i++) {\n        inline_js[i].call(root, root.Bokeh);\n      }if (force === true) {\n        display_loaded();\n      }} else if (Date.now() < root._bokeh_timeout) {\n      setTimeout(run_inline_js, 100);\n    } else if (!root._bokeh_failed_load) {\n      console.log(\"Bokeh: BokehJS failed to load within specified timeout.\");\n      root._bokeh_failed_load = true;\n    } else if (force !== true) {\n      var cell = $(document.getElementById(\"64ec498e-53e9-48a5-bad4-177b730470a5\")).parents('.cell').data().cell;\n      cell.output_area.append_execute_result(NB_LOAD_WARNING)\n    }\n\n  }\n\n  if (root._bokeh_is_loading === 0) {\n    console.log(\"Bokeh: BokehJS loaded, going straight to plotting\");\n    run_inline_js();\n  } else {\n    load_libs(js_urls, function() {\n      console.log(\"Bokeh: BokehJS plotting callback run at\", now());\n      run_inline_js();\n    });\n  }\n}(window));"
     },
     "metadata": {},
     "output_type": "display_data"
    }
   ],
   "source": [
    "import pandas as pd\n",
    "import numpy as np\n",
    "from bokeh.plotting import figure, show\n",
    "from bokeh.io import output_notebook\n",
    "\n",
    "mtcars = pd.read_csv('mtcars.csv', index_col=0)\n",
    "mpg =  pd.read_csv('mpg.csv', index_col=0)\n",
    "diamonds =  pd.read_csv('diamonds.csv', index_col=0)\n",
    "for var in ['x','y','carat','price']:\n",
    "    diamonds[var] = pd.to_numeric(diamonds[var])\n",
    "output_notebook()"
   ]
  },
  {
   "cell_type": "markdown",
   "metadata": {},
   "source": [
    "### Layer:geom\n",
    "A geom layer in ggplot2 combines data, aesthetic mapping, geometric objects and a position adjustment. In bokeh, a rendering level is similar to a ggplot2 layer, and geometric objects are called glyphs. The options for glyphs are similar to those in ggplot2: \n",
    "\n",
    "| ggplot2    | bokeh       |\n",
    "|-----------|-------------|\n",
    "| x         | x           |\n",
    "| y         | y           |\n",
    "| color     | line_color, fill_color |\n",
    "| alpha     | line_alpha, fill_alpha |\n",
    "\n",
    "A major difference between ggplot2 and bokeh is that in bokeh, layers are not added with the `+` operator, but by calling a plotting function from plotting object created with the figure function. This will become clear in the following examples"
   ]
  },
  {
   "cell_type": "code",
   "execution_count": 2,
   "metadata": {},
   "outputs": [],
   "source": [
    "#p <- ggplot(mtcars, aes(wt, mpg)) + geom_point()\n",
    "def create_p():\n",
    "    p = figure(title=\"My plot\", plot_width=600, plot_height=400)\n",
    "    p.circle(x='wt',y='mpg',source=mtcars)\n",
    "    return p"
   ]
  },
  {
   "cell_type": "markdown",
   "metadata": {},
   "source": [
    "#### Layer: geoms\n"
   ]
  },
  {
   "cell_type": "markdown",
   "metadata": {},
   "source": [
    "#### geom_abline() geom_hline() geom_vline() \n",
    "Reference lines: horizontal, vertical, and diagonal. Unfortunately this functionality is not directly accessible in bokeh. The vline and hline functionality can be replicated with the ray glyph and special options. The ray will maintain its angle even after changing axis limits, so we should use the segment function instead.\n",
    "Notes: The default angle_units are \"rad\" but can also be changed to \"deg\". To have an “infinite” ray, that always extends to the edge of the plot, specify 0 for the length."
   ]
  },
  {
   "cell_type": "code",
   "execution_count": 3,
   "metadata": {},
   "outputs": [
    {
     "data": {
      "text/html": [
       "\n",
       "\n",
       "\n",
       "\n",
       "\n",
       "\n",
       "  <div class=\"bk-root\" id=\"7abdf151-b109-4c31-8493-a122e36b642a\"></div>\n"
      ]
     },
     "metadata": {},
     "output_type": "display_data"
    },
    {
     "data": {
      "application/javascript": [
       "(function(root) {\n",
       "  function embed_document(root) {\n",
       "    \n",
       "  var docs_json = {\"8ab82472-923d-4287-9d66-4b50531810ea\":{\"roots\":{\"references\":[{\"attributes\":{\"bottom_units\":\"screen\",\"fill_alpha\":{\"value\":0.5},\"fill_color\":{\"value\":\"lightgrey\"},\"left_units\":\"screen\",\"level\":\"overlay\",\"line_alpha\":{\"value\":1.0},\"line_color\":{\"value\":\"black\"},\"line_dash\":[4,4],\"line_width\":{\"value\":2},\"plot\":null,\"render_mode\":\"css\",\"right_units\":\"screen\",\"top_units\":\"screen\"},\"id\":\"e1945718-12e6-4093-a9e3-b46f4886ebd5\",\"type\":\"BoxAnnotation\"},{\"attributes\":{},\"id\":\"f3a74a1c-7f69-4217-bf43-5d4b7152dfd0\",\"type\":\"ResetTool\"},{\"attributes\":{},\"id\":\"34a42f6e-d03f-424e-a24a-647ad90bcbfb\",\"type\":\"HelpTool\"},{\"attributes\":{\"source\":{\"id\":\"98243cea-459c-4f74-b456-d9c3e33a3aa4\",\"type\":\"ColumnDataSource\"}},\"id\":\"366fb0e2-653b-4408-ab74-59bcf84c4c4b\",\"type\":\"CDSView\"},{\"attributes\":{},\"id\":\"43c4f078-df65-4e69-8574-6cd066fdd5db\",\"type\":\"BasicTickFormatter\"},{\"attributes\":{\"angle\":{\"units\":\"deg\",\"value\":90},\"length\":{\"units\":\"data\",\"value\":0},\"line_color\":{\"value\":\"#1f77b4\"},\"x\":{\"value\":5},\"y\":{\"value\":0}},\"id\":\"75b75f32-52d6-43a8-b561-5e5d449cbabe\",\"type\":\"Ray\"},{\"attributes\":{\"overlay\":{\"id\":\"e1945718-12e6-4093-a9e3-b46f4886ebd5\",\"type\":\"BoxAnnotation\"}},\"id\":\"94316a17-60df-4fa6-8584-90e03cf73475\",\"type\":\"BoxZoomTool\"},{\"attributes\":{\"source\":{\"id\":\"bcf0e4a5-90df-498f-a09b-563ec4b4e09e\",\"type\":\"ColumnDataSource\"}},\"id\":\"6e315310-48b6-4479-bf36-83be78f27b09\",\"type\":\"CDSView\"},{\"attributes\":{},\"id\":\"2f95ef70-4426-4c5d-b324-5ff09d30a363\",\"type\":\"BasicTickFormatter\"},{\"attributes\":{},\"id\":\"9c2da9aa-8fc2-41dc-826b-9fd95f6fa0cf\",\"type\":\"UnionRenderers\"},{\"attributes\":{},\"id\":\"738faede-85bc-4a0d-8c93-f751875e38cf\",\"type\":\"UnionRenderers\"},{\"attributes\":{},\"id\":\"d8227733-33ce-4c31-a963-a3b810aa597a\",\"type\":\"Selection\"},{\"attributes\":{\"formatter\":{\"id\":\"2f95ef70-4426-4c5d-b324-5ff09d30a363\",\"type\":\"BasicTickFormatter\"},\"plot\":{\"id\":\"de7fe4ea-d0d2-4ad0-b6ca-5e2e4c1348d4\",\"subtype\":\"Figure\",\"type\":\"Plot\"},\"ticker\":{\"id\":\"980cb3bf-c92f-4b6b-9007-5f6adec181bf\",\"type\":\"BasicTicker\"}},\"id\":\"239d020e-3b7b-44ae-b02a-145c11fb09e4\",\"type\":\"LinearAxis\"},{\"attributes\":{\"callback\":null,\"data\":{\"am\":[1,1,1,0,0,0,0,0,0,0,0,0,0,0,0,0,0,1,1,1,0,0,0,0,0,1,1,1,1,1,1,1],\"carb\":[4,4,1,1,2,1,4,2,2,4,4,3,3,3,4,4,4,1,2,1,1,2,2,4,2,1,2,2,4,6,8,2],\"cyl\":[6,6,4,6,8,6,8,4,4,6,6,8,8,8,8,8,8,4,4,4,4,8,8,8,8,4,4,4,8,6,8,4],\"disp\":{\"__ndarray__\":\"AAAAAAAAZEAAAAAAAABkQAAAAAAAAFtAAAAAAAAgcEAAAAAAAIB2QAAAAAAAIGxAAAAAAACAdkBmZmZmZlZiQJqZmZmZmWFAMzMzMzPzZEAzMzMzM/NkQM3MzMzMPHFAzczMzMw8cUDNzMzMzDxxQAAAAAAAgH1AAAAAAADAfEAAAAAAAIB7QM3MzMzMrFNAzczMzMzsUkBmZmZmZsZRQGZmZmZmBl5AAAAAAADgc0AAAAAAAABzQAAAAAAA4HVAAAAAAAAAeUAAAAAAAMBTQDMzMzMzE15AZmZmZmbGV0AAAAAAAPB1QAAAAAAAIGJAAAAAAADQckAAAAAAAEBeQA==\",\"dtype\":\"float64\",\"shape\":[32]},\"drat\":{\"__ndarray__\":\"MzMzMzMzD0AzMzMzMzMPQM3MzMzMzA5ApHA9CtejCEAzMzMzMzMJQBSuR+F6FAZArkfhehSuCUCF61G4HoUNQFyPwvUoXA9AXI/C9ShcD0Bcj8L1KFwPQI/C9ShcjwhAj8L1KFyPCECPwvUoXI8IQHE9CtejcAdAAAAAAAAACEDXo3A9CtcJQFK4HoXrURBAuB6F61G4E0DhehSuR+EQQJqZmZmZmQ1AFK5H4XoUBkAzMzMzMzMJQNejcD0K1w1ApHA9CtejCEBSuB6F61EQQLgehetRuBFAKVyPwvUoDkDhehSuR+EQQPYoXI/C9QxAUrgehetRDEBxPQrXo3AQQA==\",\"dtype\":\"float64\",\"shape\":[32]},\"gear\":[4,4,4,3,3,3,3,4,4,4,4,3,3,3,3,3,3,4,4,4,3,3,3,3,3,4,5,5,5,5,5,4],\"hp\":[110,110,93,110,175,105,245,62,95,123,123,180,180,180,205,215,230,66,52,65,97,150,150,245,175,66,91,113,264,175,335,109],\"model\":[\"Mazda RX4\",\"Mazda RX4 Wag\",\"Datsun 710\",\"Hornet 4 Drive\",\"Hornet Sportabout\",\"Valiant\",\"Duster 360\",\"Merc 240D\",\"Merc 230\",\"Merc 280\",\"Merc 280C\",\"Merc 450SE\",\"Merc 450SL\",\"Merc 450SLC\",\"Cadillac Fleetwood\",\"Lincoln Continental\",\"Chrysler Imperial\",\"Fiat 128\",\"Honda Civic\",\"Toyota Corolla\",\"Toyota Corona\",\"Dodge Challenger\",\"AMC Javelin\",\"Camaro Z28\",\"Pontiac Firebird\",\"Fiat X1-9\",\"Porsche 914-2\",\"Lotus Europa\",\"Ford Pantera L\",\"Ferrari Dino\",\"Maserati Bora\",\"Volvo 142E\"],\"mpg\":{\"__ndarray__\":\"AAAAAAAANUAAAAAAAAA1QM3MzMzMzDZAZmZmZmZmNUAzMzMzM7MyQJqZmZmZGTJAmpmZmZmZLEBmZmZmZmY4QM3MzMzMzDZAMzMzMzMzM0DNzMzMzMwxQGZmZmZmZjBAzczMzMxMMUBmZmZmZmYuQM3MzMzMzCRAzczMzMzMJEBmZmZmZmYtQDMzMzMzM0BAZmZmZmZmPkAzMzMzM/NAQAAAAAAAgDVAAAAAAAAAL0BmZmZmZmYuQJqZmZmZmSpAMzMzMzMzM0DNzMzMzEw7QAAAAAAAADpAZmZmZmZmPkCamZmZmZkvQDMzMzMzszNAAAAAAAAALkBmZmZmZmY1QA==\",\"dtype\":\"float64\",\"shape\":[32]},\"qsec\":{\"__ndarray__\":\"9ihcj8J1MECF61G4HgUxQFyPwvUonDJAcT0K16NwM0CF61G4HgUxQLgehetRODRArkfhehSuL0AAAAAAAAA0QGZmZmZm5jZAzczMzMxMMkBmZmZmZuYyQGZmZmZmZjFAmpmZmZmZMUAAAAAAAAAyQHsUrkfh+jFAUrgehevRMUDsUbgehWsxQLgehetReDNAhetRuB6FMkBmZmZmZuYzQMP1KFyPAjRAH4XrUbjeMEDNzMzMzEwxQFK4HoXr0S5AzczMzMwMMUBmZmZmZuYyQDMzMzMzszBAZmZmZmbmMEAAAAAAAAAtQAAAAAAAAC9AMzMzMzMzLUCamZmZmZkyQA==\",\"dtype\":\"float64\",\"shape\":[32]},\"vs\":[0,0,1,1,0,1,0,1,1,1,1,0,0,0,0,0,0,1,1,1,1,0,0,0,0,1,0,1,0,0,0,1],\"wt\":{\"__ndarray__\":\"9ihcj8L1BEAAAAAAAAAHQI/C9ShcjwJAuB6F61G4CUCF61G4HoULQK5H4XoUrgtAj8L1KFyPDECF61G4HoUJQDMzMzMzMwlAhetRuB6FC0CF61G4HoULQEjhehSuRxBA16NwPQrXDUA9CtejcD0OQAAAAAAAABVAGARWDi2yFUDhehSuR2EVQJqZmZmZmQFA16NwPQrX+T9cj8L1KFz9P7gehetRuANAKVyPwvUoDEB7FK5H4XoLQLgehetRuA5Aw/UoXI/CDkD2KFyPwvX+Px+F61G4HgFAaZHtfD81+D9cj8L1KFwJQClcj8L1KAZAj8L1KFyPDEA9CtejcD0GQA==\",\"dtype\":\"float64\",\"shape\":[32]}},\"selected\":{\"id\":\"68be5d05-38c7-4fca-be65-d94ef17823e1\",\"type\":\"Selection\"},\"selection_policy\":{\"id\":\"9c2da9aa-8fc2-41dc-826b-9fd95f6fa0cf\",\"type\":\"UnionRenderers\"}},\"id\":\"bcf0e4a5-90df-498f-a09b-563ec4b4e09e\",\"type\":\"ColumnDataSource\"},{\"attributes\":{\"formatter\":{\"id\":\"43c4f078-df65-4e69-8574-6cd066fdd5db\",\"type\":\"BasicTickFormatter\"},\"plot\":{\"id\":\"de7fe4ea-d0d2-4ad0-b6ca-5e2e4c1348d4\",\"subtype\":\"Figure\",\"type\":\"Plot\"},\"ticker\":{\"id\":\"b1ada1f3-4b6d-4664-bb2c-150fc2b13e4a\",\"type\":\"BasicTicker\"}},\"id\":\"39821c1d-e741-4b97-b494-272e5ccbd31d\",\"type\":\"LinearAxis\"},{\"attributes\":{\"data_source\":{\"id\":\"bcf0e4a5-90df-498f-a09b-563ec4b4e09e\",\"type\":\"ColumnDataSource\"},\"glyph\":{\"id\":\"43c1830f-cbef-4143-ad24-aeec92d16450\",\"type\":\"Circle\"},\"hover_glyph\":null,\"muted_glyph\":null,\"nonselection_glyph\":{\"id\":\"97f884e8-7ea9-4c6d-afa5-c0b87311d08a\",\"type\":\"Circle\"},\"selection_glyph\":null,\"view\":{\"id\":\"6e315310-48b6-4479-bf36-83be78f27b09\",\"type\":\"CDSView\"}},\"id\":\"477c3e90-cdf2-4356-84e0-2fe988133f55\",\"type\":\"GlyphRenderer\"},{\"attributes\":{},\"id\":\"68be5d05-38c7-4fca-be65-d94ef17823e1\",\"type\":\"Selection\"},{\"attributes\":{\"plot\":{\"id\":\"de7fe4ea-d0d2-4ad0-b6ca-5e2e4c1348d4\",\"subtype\":\"Figure\",\"type\":\"Plot\"},\"ticker\":{\"id\":\"b1ada1f3-4b6d-4664-bb2c-150fc2b13e4a\",\"type\":\"BasicTicker\"}},\"id\":\"1e484ae5-519c-49c0-ab7d-71fde16cd55a\",\"type\":\"Grid\"},{\"attributes\":{},\"id\":\"b1ada1f3-4b6d-4664-bb2c-150fc2b13e4a\",\"type\":\"BasicTicker\"},{\"attributes\":{},\"id\":\"b7cd1b58-145a-4121-a628-85c8c6798f68\",\"type\":\"SaveTool\"},{\"attributes\":{},\"id\":\"b4e680a0-0a30-4da1-8b93-a9f1520b40ed\",\"type\":\"LinearScale\"},{\"attributes\":{},\"id\":\"e2adf780-50e8-485b-92f4-877be0e1c81c\",\"type\":\"LinearScale\"},{\"attributes\":{\"callback\":null},\"id\":\"b1755fea-e66b-48a3-89fb-3e07fba74045\",\"type\":\"DataRange1d\"},{\"attributes\":{\"callback\":null},\"id\":\"9d4372d8-197d-47b9-aa0d-8eadd655951f\",\"type\":\"DataRange1d\"},{\"attributes\":{\"active_drag\":\"auto\",\"active_inspect\":\"auto\",\"active_multi\":null,\"active_scroll\":\"auto\",\"active_tap\":\"auto\",\"tools\":[{\"id\":\"9b13da78-636d-4946-aa09-fc5d4f468c51\",\"type\":\"PanTool\"},{\"id\":\"1c6261ce-f72b-4285-8d66-93205b3be4ee\",\"type\":\"WheelZoomTool\"},{\"id\":\"94316a17-60df-4fa6-8584-90e03cf73475\",\"type\":\"BoxZoomTool\"},{\"id\":\"b7cd1b58-145a-4121-a628-85c8c6798f68\",\"type\":\"SaveTool\"},{\"id\":\"f3a74a1c-7f69-4217-bf43-5d4b7152dfd0\",\"type\":\"ResetTool\"},{\"id\":\"34a42f6e-d03f-424e-a24a-647ad90bcbfb\",\"type\":\"HelpTool\"}]},\"id\":\"ca5b47b8-e743-401d-93db-b31ef2133330\",\"type\":\"Toolbar\"},{\"attributes\":{\"below\":[{\"id\":\"39821c1d-e741-4b97-b494-272e5ccbd31d\",\"type\":\"LinearAxis\"}],\"left\":[{\"id\":\"239d020e-3b7b-44ae-b02a-145c11fb09e4\",\"type\":\"LinearAxis\"}],\"plot_height\":400,\"renderers\":[{\"id\":\"39821c1d-e741-4b97-b494-272e5ccbd31d\",\"type\":\"LinearAxis\"},{\"id\":\"1e484ae5-519c-49c0-ab7d-71fde16cd55a\",\"type\":\"Grid\"},{\"id\":\"239d020e-3b7b-44ae-b02a-145c11fb09e4\",\"type\":\"LinearAxis\"},{\"id\":\"32d7d4f2-a621-4e79-bafe-deb41d42883c\",\"type\":\"Grid\"},{\"id\":\"e1945718-12e6-4093-a9e3-b46f4886ebd5\",\"type\":\"BoxAnnotation\"},{\"id\":\"477c3e90-cdf2-4356-84e0-2fe988133f55\",\"type\":\"GlyphRenderer\"},{\"id\":\"c9a2170e-aaf1-4f24-9a8c-b4765c09ca83\",\"type\":\"GlyphRenderer\"}],\"title\":{\"id\":\"37287fc9-73cd-48a8-bed7-19294f28946b\",\"type\":\"Title\"},\"toolbar\":{\"id\":\"ca5b47b8-e743-401d-93db-b31ef2133330\",\"type\":\"Toolbar\"},\"x_range\":{\"id\":\"9d4372d8-197d-47b9-aa0d-8eadd655951f\",\"type\":\"DataRange1d\"},\"x_scale\":{\"id\":\"e2adf780-50e8-485b-92f4-877be0e1c81c\",\"type\":\"LinearScale\"},\"y_range\":{\"id\":\"b1755fea-e66b-48a3-89fb-3e07fba74045\",\"type\":\"DataRange1d\"},\"y_scale\":{\"id\":\"b4e680a0-0a30-4da1-8b93-a9f1520b40ed\",\"type\":\"LinearScale\"}},\"id\":\"de7fe4ea-d0d2-4ad0-b6ca-5e2e4c1348d4\",\"subtype\":\"Figure\",\"type\":\"Plot\"},{\"attributes\":{\"plot\":null,\"text\":\"My plot\"},\"id\":\"37287fc9-73cd-48a8-bed7-19294f28946b\",\"type\":\"Title\"},{\"attributes\":{\"angle\":{\"units\":\"deg\",\"value\":90},\"length\":{\"units\":\"data\",\"value\":0},\"line_alpha\":{\"value\":0.1},\"line_color\":{\"value\":\"#1f77b4\"},\"x\":{\"value\":5},\"y\":{\"value\":0}},\"id\":\"4bb20e4c-b6b5-4dc0-af3b-b1fdf16b4e06\",\"type\":\"Ray\"},{\"attributes\":{\"data_source\":{\"id\":\"98243cea-459c-4f74-b456-d9c3e33a3aa4\",\"type\":\"ColumnDataSource\"},\"glyph\":{\"id\":\"75b75f32-52d6-43a8-b561-5e5d449cbabe\",\"type\":\"Ray\"},\"hover_glyph\":null,\"muted_glyph\":null,\"nonselection_glyph\":{\"id\":\"4bb20e4c-b6b5-4dc0-af3b-b1fdf16b4e06\",\"type\":\"Ray\"},\"selection_glyph\":null,\"view\":{\"id\":\"366fb0e2-653b-4408-ab74-59bcf84c4c4b\",\"type\":\"CDSView\"}},\"id\":\"c9a2170e-aaf1-4f24-9a8c-b4765c09ca83\",\"type\":\"GlyphRenderer\"},{\"attributes\":{\"callback\":null,\"data\":{},\"selected\":{\"id\":\"d8227733-33ce-4c31-a963-a3b810aa597a\",\"type\":\"Selection\"},\"selection_policy\":{\"id\":\"738faede-85bc-4a0d-8c93-f751875e38cf\",\"type\":\"UnionRenderers\"}},\"id\":\"98243cea-459c-4f74-b456-d9c3e33a3aa4\",\"type\":\"ColumnDataSource\"},{\"attributes\":{},\"id\":\"1c6261ce-f72b-4285-8d66-93205b3be4ee\",\"type\":\"WheelZoomTool\"},{\"attributes\":{\"fill_alpha\":{\"value\":0.1},\"fill_color\":{\"value\":\"#1f77b4\"},\"line_alpha\":{\"value\":0.1},\"line_color\":{\"value\":\"#1f77b4\"},\"x\":{\"field\":\"wt\"},\"y\":{\"field\":\"mpg\"}},\"id\":\"97f884e8-7ea9-4c6d-afa5-c0b87311d08a\",\"type\":\"Circle\"},{\"attributes\":{},\"id\":\"9b13da78-636d-4946-aa09-fc5d4f468c51\",\"type\":\"PanTool\"},{\"attributes\":{},\"id\":\"980cb3bf-c92f-4b6b-9007-5f6adec181bf\",\"type\":\"BasicTicker\"},{\"attributes\":{\"dimension\":1,\"plot\":{\"id\":\"de7fe4ea-d0d2-4ad0-b6ca-5e2e4c1348d4\",\"subtype\":\"Figure\",\"type\":\"Plot\"},\"ticker\":{\"id\":\"980cb3bf-c92f-4b6b-9007-5f6adec181bf\",\"type\":\"BasicTicker\"}},\"id\":\"32d7d4f2-a621-4e79-bafe-deb41d42883c\",\"type\":\"Grid\"},{\"attributes\":{\"fill_color\":{\"value\":\"#1f77b4\"},\"line_color\":{\"value\":\"#1f77b4\"},\"x\":{\"field\":\"wt\"},\"y\":{\"field\":\"mpg\"}},\"id\":\"43c1830f-cbef-4143-ad24-aeec92d16450\",\"type\":\"Circle\"}],\"root_ids\":[\"de7fe4ea-d0d2-4ad0-b6ca-5e2e4c1348d4\"]},\"title\":\"Bokeh Application\",\"version\":\"0.13.0\"}};\n",
       "  var render_items = [{\"docid\":\"8ab82472-923d-4287-9d66-4b50531810ea\",\"roots\":{\"de7fe4ea-d0d2-4ad0-b6ca-5e2e4c1348d4\":\"7abdf151-b109-4c31-8493-a122e36b642a\"}}];\n",
       "  root.Bokeh.embed.embed_items_notebook(docs_json, render_items);\n",
       "\n",
       "  }\n",
       "  if (root.Bokeh !== undefined) {\n",
       "    embed_document(root);\n",
       "  } else {\n",
       "    var attempts = 0;\n",
       "    var timer = setInterval(function(root) {\n",
       "      if (root.Bokeh !== undefined) {\n",
       "        embed_document(root);\n",
       "        clearInterval(timer);\n",
       "      }\n",
       "      attempts++;\n",
       "      if (attempts > 100) {\n",
       "        console.log(\"Bokeh: ERROR: Unable to run BokehJS code because BokehJS library is missing\")\n",
       "        clearInterval(timer);\n",
       "      }\n",
       "    }, 10, root)\n",
       "  }\n",
       "})(window);"
      ],
      "application/vnd.bokehjs_exec.v0+json": ""
     },
     "metadata": {
      "application/vnd.bokehjs_exec.v0+json": {
       "id": "de7fe4ea-d0d2-4ad0-b6ca-5e2e4c1348d4"
      }
     },
     "output_type": "display_data"
    }
   ],
   "source": [
    "p = create_p()\n",
    "#p + geom_vline(xintercept = 5)\n",
    "p.ray(x=5, y=0, length=0, angle=90, angle_units=\"deg\")\n",
    "show(p)"
   ]
  },
  {
   "cell_type": "code",
   "execution_count": 4,
   "metadata": {},
   "outputs": [
    {
     "data": {
      "text/html": [
       "\n",
       "\n",
       "\n",
       "\n",
       "\n",
       "\n",
       "  <div class=\"bk-root\" id=\"e09f93cf-72f9-4966-93bc-6bfe1b3852d1\"></div>\n"
      ]
     },
     "metadata": {},
     "output_type": "display_data"
    },
    {
     "data": {
      "application/javascript": [
       "(function(root) {\n",
       "  function embed_document(root) {\n",
       "    \n",
       "  var docs_json = {\"f08a2dff-79b8-46fc-8f97-7fc2d5a2fea7\":{\"roots\":{\"references\":[{\"attributes\":{},\"id\":\"1c85f58b-0d22-4ab9-ab57-82b9f8058d6c\",\"type\":\"ResetTool\"},{\"attributes\":{},\"id\":\"bb65d763-9c4f-4fe0-9c06-5fbbc97d49e0\",\"type\":\"HelpTool\"},{\"attributes\":{\"bottom_units\":\"screen\",\"fill_alpha\":{\"value\":0.5},\"fill_color\":{\"value\":\"lightgrey\"},\"left_units\":\"screen\",\"level\":\"overlay\",\"line_alpha\":{\"value\":1.0},\"line_color\":{\"value\":\"black\"},\"line_dash\":[4,4],\"line_width\":{\"value\":2},\"plot\":null,\"render_mode\":\"css\",\"right_units\":\"screen\",\"top_units\":\"screen\"},\"id\":\"32e1c1d2-0e7c-40fd-b924-95d28eeb46dc\",\"type\":\"BoxAnnotation\"},{\"attributes\":{},\"id\":\"bb875eac-a2c6-49c2-9427-ee36d8d69940\",\"type\":\"BasicTickFormatter\"},{\"attributes\":{},\"id\":\"02317eb3-2f6c-4d4f-9c64-622c335fe9c2\",\"type\":\"UnionRenderers\"},{\"attributes\":{\"source\":{\"id\":\"9aa9a3e9-0d7a-413d-994b-4da1a316928a\",\"type\":\"ColumnDataSource\"}},\"id\":\"b5d89fa5-4b5a-4d18-b081-43ba3420276c\",\"type\":\"CDSView\"},{\"attributes\":{\"data_source\":{\"id\":\"9aa9a3e9-0d7a-413d-994b-4da1a316928a\",\"type\":\"ColumnDataSource\"},\"glyph\":{\"id\":\"5762f149-9eea-4eaf-812f-849c0c14bdf2\",\"type\":\"Ray\"},\"hover_glyph\":null,\"muted_glyph\":null,\"nonselection_glyph\":{\"id\":\"b80017d9-2a42-420a-9e9f-0877e46dd984\",\"type\":\"Ray\"},\"selection_glyph\":null,\"view\":{\"id\":\"b5d89fa5-4b5a-4d18-b081-43ba3420276c\",\"type\":\"CDSView\"}},\"id\":\"85ad7528-1a20-4fb3-acd3-743536832759\",\"type\":\"GlyphRenderer\"},{\"attributes\":{\"angle\":{\"units\":\"deg\",\"value\":90},\"length\":{\"units\":\"data\",\"value\":0},\"line_alpha\":{\"value\":0.1},\"line_color\":{\"value\":\"#1f77b4\"},\"x\":{\"field\":\"x\"},\"y\":{\"field\":\"y\"}},\"id\":\"b80017d9-2a42-420a-9e9f-0877e46dd984\",\"type\":\"Ray\"},{\"attributes\":{\"source\":{\"id\":\"6a058aa7-5579-4363-8d73-79d0a45673f8\",\"type\":\"ColumnDataSource\"}},\"id\":\"7cfdd018-f819-4652-ae50-149e94b2c51b\",\"type\":\"CDSView\"},{\"attributes\":{\"callback\":null},\"id\":\"4c8548c3-6f05-4e64-8cb1-fffd28ba9a0c\",\"type\":\"DataRange1d\"},{\"attributes\":{\"callback\":null,\"data\":{\"am\":[1,1,1,0,0,0,0,0,0,0,0,0,0,0,0,0,0,1,1,1,0,0,0,0,0,1,1,1,1,1,1,1],\"carb\":[4,4,1,1,2,1,4,2,2,4,4,3,3,3,4,4,4,1,2,1,1,2,2,4,2,1,2,2,4,6,8,2],\"cyl\":[6,6,4,6,8,6,8,4,4,6,6,8,8,8,8,8,8,4,4,4,4,8,8,8,8,4,4,4,8,6,8,4],\"disp\":{\"__ndarray__\":\"AAAAAAAAZEAAAAAAAABkQAAAAAAAAFtAAAAAAAAgcEAAAAAAAIB2QAAAAAAAIGxAAAAAAACAdkBmZmZmZlZiQJqZmZmZmWFAMzMzMzPzZEAzMzMzM/NkQM3MzMzMPHFAzczMzMw8cUDNzMzMzDxxQAAAAAAAgH1AAAAAAADAfEAAAAAAAIB7QM3MzMzMrFNAzczMzMzsUkBmZmZmZsZRQGZmZmZmBl5AAAAAAADgc0AAAAAAAABzQAAAAAAA4HVAAAAAAAAAeUAAAAAAAMBTQDMzMzMzE15AZmZmZmbGV0AAAAAAAPB1QAAAAAAAIGJAAAAAAADQckAAAAAAAEBeQA==\",\"dtype\":\"float64\",\"shape\":[32]},\"drat\":{\"__ndarray__\":\"MzMzMzMzD0AzMzMzMzMPQM3MzMzMzA5ApHA9CtejCEAzMzMzMzMJQBSuR+F6FAZArkfhehSuCUCF61G4HoUNQFyPwvUoXA9AXI/C9ShcD0Bcj8L1KFwPQI/C9ShcjwhAj8L1KFyPCECPwvUoXI8IQHE9CtejcAdAAAAAAAAACEDXo3A9CtcJQFK4HoXrURBAuB6F61G4E0DhehSuR+EQQJqZmZmZmQ1AFK5H4XoUBkAzMzMzMzMJQNejcD0K1w1ApHA9CtejCEBSuB6F61EQQLgehetRuBFAKVyPwvUoDkDhehSuR+EQQPYoXI/C9QxAUrgehetRDEBxPQrXo3AQQA==\",\"dtype\":\"float64\",\"shape\":[32]},\"gear\":[4,4,4,3,3,3,3,4,4,4,4,3,3,3,3,3,3,4,4,4,3,3,3,3,3,4,5,5,5,5,5,4],\"hp\":[110,110,93,110,175,105,245,62,95,123,123,180,180,180,205,215,230,66,52,65,97,150,150,245,175,66,91,113,264,175,335,109],\"model\":[\"Mazda RX4\",\"Mazda RX4 Wag\",\"Datsun 710\",\"Hornet 4 Drive\",\"Hornet Sportabout\",\"Valiant\",\"Duster 360\",\"Merc 240D\",\"Merc 230\",\"Merc 280\",\"Merc 280C\",\"Merc 450SE\",\"Merc 450SL\",\"Merc 450SLC\",\"Cadillac Fleetwood\",\"Lincoln Continental\",\"Chrysler Imperial\",\"Fiat 128\",\"Honda Civic\",\"Toyota Corolla\",\"Toyota Corona\",\"Dodge Challenger\",\"AMC Javelin\",\"Camaro Z28\",\"Pontiac Firebird\",\"Fiat X1-9\",\"Porsche 914-2\",\"Lotus Europa\",\"Ford Pantera L\",\"Ferrari Dino\",\"Maserati Bora\",\"Volvo 142E\"],\"mpg\":{\"__ndarray__\":\"AAAAAAAANUAAAAAAAAA1QM3MzMzMzDZAZmZmZmZmNUAzMzMzM7MyQJqZmZmZGTJAmpmZmZmZLEBmZmZmZmY4QM3MzMzMzDZAMzMzMzMzM0DNzMzMzMwxQGZmZmZmZjBAzczMzMxMMUBmZmZmZmYuQM3MzMzMzCRAzczMzMzMJEBmZmZmZmYtQDMzMzMzM0BAZmZmZmZmPkAzMzMzM/NAQAAAAAAAgDVAAAAAAAAAL0BmZmZmZmYuQJqZmZmZmSpAMzMzMzMzM0DNzMzMzEw7QAAAAAAAADpAZmZmZmZmPkCamZmZmZkvQDMzMzMzszNAAAAAAAAALkBmZmZmZmY1QA==\",\"dtype\":\"float64\",\"shape\":[32]},\"qsec\":{\"__ndarray__\":\"9ihcj8J1MECF61G4HgUxQFyPwvUonDJAcT0K16NwM0CF61G4HgUxQLgehetRODRArkfhehSuL0AAAAAAAAA0QGZmZmZm5jZAzczMzMxMMkBmZmZmZuYyQGZmZmZmZjFAmpmZmZmZMUAAAAAAAAAyQHsUrkfh+jFAUrgehevRMUDsUbgehWsxQLgehetReDNAhetRuB6FMkBmZmZmZuYzQMP1KFyPAjRAH4XrUbjeMEDNzMzMzEwxQFK4HoXr0S5AzczMzMwMMUBmZmZmZuYyQDMzMzMzszBAZmZmZmbmMEAAAAAAAAAtQAAAAAAAAC9AMzMzMzMzLUCamZmZmZkyQA==\",\"dtype\":\"float64\",\"shape\":[32]},\"vs\":[0,0,1,1,0,1,0,1,1,1,1,0,0,0,0,0,0,1,1,1,1,0,0,0,0,1,0,1,0,0,0,1],\"wt\":{\"__ndarray__\":\"9ihcj8L1BEAAAAAAAAAHQI/C9ShcjwJAuB6F61G4CUCF61G4HoULQK5H4XoUrgtAj8L1KFyPDECF61G4HoUJQDMzMzMzMwlAhetRuB6FC0CF61G4HoULQEjhehSuRxBA16NwPQrXDUA9CtejcD0OQAAAAAAAABVAGARWDi2yFUDhehSuR2EVQJqZmZmZmQFA16NwPQrX+T9cj8L1KFz9P7gehetRuANAKVyPwvUoDEB7FK5H4XoLQLgehetRuA5Aw/UoXI/CDkD2KFyPwvX+Px+F61G4HgFAaZHtfD81+D9cj8L1KFwJQClcj8L1KAZAj8L1KFyPDEA9CtejcD0GQA==\",\"dtype\":\"float64\",\"shape\":[32]}},\"selected\":{\"id\":\"f63cb160-6c65-4fb5-943c-2afd1ace4bef\",\"type\":\"Selection\"},\"selection_policy\":{\"id\":\"02317eb3-2f6c-4d4f-9c64-622c335fe9c2\",\"type\":\"UnionRenderers\"}},\"id\":\"6a058aa7-5579-4363-8d73-79d0a45673f8\",\"type\":\"ColumnDataSource\"},{\"attributes\":{},\"id\":\"becbb4aa-7582-4b11-b0e2-96d9bf6eb091\",\"type\":\"BasicTickFormatter\"},{\"attributes\":{},\"id\":\"99ff4a07-eb6d-4e66-9700-890d88aba86c\",\"type\":\"LinearScale\"},{\"attributes\":{},\"id\":\"f63cb160-6c65-4fb5-943c-2afd1ace4bef\",\"type\":\"Selection\"},{\"attributes\":{},\"id\":\"a5cb6f7b-00f5-4180-bee4-bf6bd6733dc2\",\"type\":\"BasicTicker\"},{\"attributes\":{},\"id\":\"3856a9fd-dee9-4c7c-a0d6-5150412a5625\",\"type\":\"UnionRenderers\"},{\"attributes\":{},\"id\":\"5655ff75-54f2-401b-ad52-4ddce94c8555\",\"type\":\"Selection\"},{\"attributes\":{\"below\":[{\"id\":\"539809e0-d077-4199-9a51-873be903e83c\",\"type\":\"LinearAxis\"}],\"left\":[{\"id\":\"d2027317-6951-44b0-864f-6ebd7e9aa751\",\"type\":\"LinearAxis\"}],\"plot_height\":400,\"renderers\":[{\"id\":\"539809e0-d077-4199-9a51-873be903e83c\",\"type\":\"LinearAxis\"},{\"id\":\"0a74e73b-2191-4f22-9bf3-0071371f7dc5\",\"type\":\"Grid\"},{\"id\":\"d2027317-6951-44b0-864f-6ebd7e9aa751\",\"type\":\"LinearAxis\"},{\"id\":\"74ce7975-56cf-4ce4-83f5-3668cfbc30b8\",\"type\":\"Grid\"},{\"id\":\"32e1c1d2-0e7c-40fd-b924-95d28eeb46dc\",\"type\":\"BoxAnnotation\"},{\"id\":\"8553bbda-7a05-474a-abe2-099d96a5a156\",\"type\":\"GlyphRenderer\"},{\"id\":\"85ad7528-1a20-4fb3-acd3-743536832759\",\"type\":\"GlyphRenderer\"}],\"title\":{\"id\":\"51dbe940-6118-40d9-8d1b-6167d0384317\",\"type\":\"Title\"},\"toolbar\":{\"id\":\"a30f545a-0e9d-4308-a242-22506515fe08\",\"type\":\"Toolbar\"},\"x_range\":{\"id\":\"f2b2cc42-3d79-4f6e-96c7-b1e4f05af541\",\"type\":\"DataRange1d\"},\"x_scale\":{\"id\":\"99ff4a07-eb6d-4e66-9700-890d88aba86c\",\"type\":\"LinearScale\"},\"y_range\":{\"id\":\"4c8548c3-6f05-4e64-8cb1-fffd28ba9a0c\",\"type\":\"DataRange1d\"},\"y_scale\":{\"id\":\"84403fb6-f6d7-4c51-b66c-9ca0e826a370\",\"type\":\"LinearScale\"}},\"id\":\"b72df4fc-9bbf-4440-9399-2e86fe20ed6f\",\"subtype\":\"Figure\",\"type\":\"Plot\"},{\"attributes\":{},\"id\":\"78415711-323e-4c4a-93ab-d8b83636039c\",\"type\":\"SaveTool\"},{\"attributes\":{},\"id\":\"a2d1a46c-8942-424e-b4fd-9028f774f4c2\",\"type\":\"WheelZoomTool\"},{\"attributes\":{\"callback\":null},\"id\":\"f2b2cc42-3d79-4f6e-96c7-b1e4f05af541\",\"type\":\"DataRange1d\"},{\"attributes\":{},\"id\":\"a317c576-f00b-408f-ac45-ef7c4712a76b\",\"type\":\"PanTool\"},{\"attributes\":{\"formatter\":{\"id\":\"bb875eac-a2c6-49c2-9427-ee36d8d69940\",\"type\":\"BasicTickFormatter\"},\"plot\":{\"id\":\"b72df4fc-9bbf-4440-9399-2e86fe20ed6f\",\"subtype\":\"Figure\",\"type\":\"Plot\"},\"ticker\":{\"id\":\"a5cb6f7b-00f5-4180-bee4-bf6bd6733dc2\",\"type\":\"BasicTicker\"}},\"id\":\"539809e0-d077-4199-9a51-873be903e83c\",\"type\":\"LinearAxis\"},{\"attributes\":{\"active_drag\":\"auto\",\"active_inspect\":\"auto\",\"active_multi\":null,\"active_scroll\":\"auto\",\"active_tap\":\"auto\",\"tools\":[{\"id\":\"a317c576-f00b-408f-ac45-ef7c4712a76b\",\"type\":\"PanTool\"},{\"id\":\"a2d1a46c-8942-424e-b4fd-9028f774f4c2\",\"type\":\"WheelZoomTool\"},{\"id\":\"a4c54d06-01b9-4383-af54-98b5fbad55bb\",\"type\":\"BoxZoomTool\"},{\"id\":\"78415711-323e-4c4a-93ab-d8b83636039c\",\"type\":\"SaveTool\"},{\"id\":\"1c85f58b-0d22-4ab9-ab57-82b9f8058d6c\",\"type\":\"ResetTool\"},{\"id\":\"bb65d763-9c4f-4fe0-9c06-5fbbc97d49e0\",\"type\":\"HelpTool\"}]},\"id\":\"a30f545a-0e9d-4308-a242-22506515fe08\",\"type\":\"Toolbar\"},{\"attributes\":{\"plot\":null,\"text\":\"My plot\"},\"id\":\"51dbe940-6118-40d9-8d1b-6167d0384317\",\"type\":\"Title\"},{\"attributes\":{\"fill_alpha\":{\"value\":0.1},\"fill_color\":{\"value\":\"#1f77b4\"},\"line_alpha\":{\"value\":0.1},\"line_color\":{\"value\":\"#1f77b4\"},\"x\":{\"field\":\"wt\"},\"y\":{\"field\":\"mpg\"}},\"id\":\"f0b04e89-aa25-4ed7-b935-d0e2d52890a8\",\"type\":\"Circle\"},{\"attributes\":{\"data_source\":{\"id\":\"6a058aa7-5579-4363-8d73-79d0a45673f8\",\"type\":\"ColumnDataSource\"},\"glyph\":{\"id\":\"89f9ce2f-b3e5-4dee-9e4c-1fd37beccba2\",\"type\":\"Circle\"},\"hover_glyph\":null,\"muted_glyph\":null,\"nonselection_glyph\":{\"id\":\"f0b04e89-aa25-4ed7-b935-d0e2d52890a8\",\"type\":\"Circle\"},\"selection_glyph\":null,\"view\":{\"id\":\"7cfdd018-f819-4652-ae50-149e94b2c51b\",\"type\":\"CDSView\"}},\"id\":\"8553bbda-7a05-474a-abe2-099d96a5a156\",\"type\":\"GlyphRenderer\"},{\"attributes\":{\"overlay\":{\"id\":\"32e1c1d2-0e7c-40fd-b924-95d28eeb46dc\",\"type\":\"BoxAnnotation\"}},\"id\":\"a4c54d06-01b9-4383-af54-98b5fbad55bb\",\"type\":\"BoxZoomTool\"},{\"attributes\":{\"formatter\":{\"id\":\"becbb4aa-7582-4b11-b0e2-96d9bf6eb091\",\"type\":\"BasicTickFormatter\"},\"plot\":{\"id\":\"b72df4fc-9bbf-4440-9399-2e86fe20ed6f\",\"subtype\":\"Figure\",\"type\":\"Plot\"},\"ticker\":{\"id\":\"490af778-d865-4d13-9121-c2bf652644d6\",\"type\":\"BasicTicker\"}},\"id\":\"d2027317-6951-44b0-864f-6ebd7e9aa751\",\"type\":\"LinearAxis\"},{\"attributes\":{},\"id\":\"84403fb6-f6d7-4c51-b66c-9ca0e826a370\",\"type\":\"LinearScale\"},{\"attributes\":{\"plot\":{\"id\":\"b72df4fc-9bbf-4440-9399-2e86fe20ed6f\",\"subtype\":\"Figure\",\"type\":\"Plot\"},\"ticker\":{\"id\":\"a5cb6f7b-00f5-4180-bee4-bf6bd6733dc2\",\"type\":\"BasicTicker\"}},\"id\":\"0a74e73b-2191-4f22-9bf3-0071371f7dc5\",\"type\":\"Grid\"},{\"attributes\":{\"fill_color\":{\"value\":\"#1f77b4\"},\"line_color\":{\"value\":\"#1f77b4\"},\"x\":{\"field\":\"wt\"},\"y\":{\"field\":\"mpg\"}},\"id\":\"89f9ce2f-b3e5-4dee-9e4c-1fd37beccba2\",\"type\":\"Circle\"},{\"attributes\":{},\"id\":\"490af778-d865-4d13-9121-c2bf652644d6\",\"type\":\"BasicTicker\"},{\"attributes\":{\"dimension\":1,\"plot\":{\"id\":\"b72df4fc-9bbf-4440-9399-2e86fe20ed6f\",\"subtype\":\"Figure\",\"type\":\"Plot\"},\"ticker\":{\"id\":\"490af778-d865-4d13-9121-c2bf652644d6\",\"type\":\"BasicTicker\"}},\"id\":\"74ce7975-56cf-4ce4-83f5-3668cfbc30b8\",\"type\":\"Grid\"},{\"attributes\":{\"callback\":null,\"data\":{\"x\":[1,2,3,4,5],\"y\":[0,0,0,0,0]},\"selected\":{\"id\":\"5655ff75-54f2-401b-ad52-4ddce94c8555\",\"type\":\"Selection\"},\"selection_policy\":{\"id\":\"3856a9fd-dee9-4c7c-a0d6-5150412a5625\",\"type\":\"UnionRenderers\"}},\"id\":\"9aa9a3e9-0d7a-413d-994b-4da1a316928a\",\"type\":\"ColumnDataSource\"},{\"attributes\":{\"angle\":{\"units\":\"deg\",\"value\":90},\"length\":{\"units\":\"data\",\"value\":0},\"line_color\":{\"value\":\"#1f77b4\"},\"x\":{\"field\":\"x\"},\"y\":{\"field\":\"y\"}},\"id\":\"5762f149-9eea-4eaf-812f-849c0c14bdf2\",\"type\":\"Ray\"}],\"root_ids\":[\"b72df4fc-9bbf-4440-9399-2e86fe20ed6f\"]},\"title\":\"Bokeh Application\",\"version\":\"0.13.0\"}};\n",
       "  var render_items = [{\"docid\":\"f08a2dff-79b8-46fc-8f97-7fc2d5a2fea7\",\"roots\":{\"b72df4fc-9bbf-4440-9399-2e86fe20ed6f\":\"e09f93cf-72f9-4966-93bc-6bfe1b3852d1\"}}];\n",
       "  root.Bokeh.embed.embed_items_notebook(docs_json, render_items);\n",
       "\n",
       "  }\n",
       "  if (root.Bokeh !== undefined) {\n",
       "    embed_document(root);\n",
       "  } else {\n",
       "    var attempts = 0;\n",
       "    var timer = setInterval(function(root) {\n",
       "      if (root.Bokeh !== undefined) {\n",
       "        embed_document(root);\n",
       "        clearInterval(timer);\n",
       "      }\n",
       "      attempts++;\n",
       "      if (attempts > 100) {\n",
       "        console.log(\"Bokeh: ERROR: Unable to run BokehJS code because BokehJS library is missing\")\n",
       "        clearInterval(timer);\n",
       "      }\n",
       "    }, 10, root)\n",
       "  }\n",
       "})(window);"
      ],
      "application/vnd.bokehjs_exec.v0+json": ""
     },
     "metadata": {
      "application/vnd.bokehjs_exec.v0+json": {
       "id": "b72df4fc-9bbf-4440-9399-2e86fe20ed6f"
      }
     },
     "output_type": "display_data"
    }
   ],
   "source": [
    "p = create_p()\n",
    "#p + geom_vline(xintercept = 1:5)\n",
    "p = figure(title=\"My plot\", plot_width=600, plot_height=400)\n",
    "p.circle(x='wt',y='mpg',source=mtcars)\n",
    "p.ray(x=list(range(1,6)), y=[0]*5, length=0, angle=90, angle_units=\"deg\")\n",
    "show(p)"
   ]
  },
  {
   "cell_type": "code",
   "execution_count": 5,
   "metadata": {},
   "outputs": [
    {
     "data": {
      "text/html": [
       "\n",
       "\n",
       "\n",
       "\n",
       "\n",
       "\n",
       "  <div class=\"bk-root\" id=\"2869147c-db28-40ab-9950-2a6e29d74fd5\"></div>\n"
      ]
     },
     "metadata": {},
     "output_type": "display_data"
    },
    {
     "data": {
      "application/javascript": [
       "(function(root) {\n",
       "  function embed_document(root) {\n",
       "    \n",
       "  var docs_json = {\"efe5258a-938d-4fda-a92b-a87100ddd8a0\":{\"roots\":{\"references\":[{\"attributes\":{},\"id\":\"bbad5b79-1931-4e82-a32f-90f9fce8724a\",\"type\":\"WheelZoomTool\"},{\"attributes\":{},\"id\":\"f9bcf9ce-5d16-4b71-a0b6-37a014f5d3cd\",\"type\":\"BasicTicker\"},{\"attributes\":{\"fill_color\":{\"value\":\"#1f77b4\"},\"line_color\":{\"value\":\"#1f77b4\"},\"x\":{\"field\":\"wt\"},\"y\":{\"field\":\"mpg\"}},\"id\":\"7360b5b8-fa64-40b1-88e1-a5f42ffceeb3\",\"type\":\"Circle\"},{\"attributes\":{},\"id\":\"f44cf105-5f69-417c-982a-980d86c890ce\",\"type\":\"PanTool\"},{\"attributes\":{\"below\":[{\"id\":\"63625fa0-91cb-4214-9a50-7aad59115b8f\",\"type\":\"LinearAxis\"}],\"left\":[{\"id\":\"edd0edd0-9b3e-4157-a019-352f116aaa7d\",\"type\":\"LinearAxis\"}],\"plot_height\":400,\"renderers\":[{\"id\":\"63625fa0-91cb-4214-9a50-7aad59115b8f\",\"type\":\"LinearAxis\"},{\"id\":\"e5185f6b-2b0b-4e61-a9a3-83ee4501c22d\",\"type\":\"Grid\"},{\"id\":\"edd0edd0-9b3e-4157-a019-352f116aaa7d\",\"type\":\"LinearAxis\"},{\"id\":\"2d2681c3-f602-41b8-ad8a-b4dd6c2967ed\",\"type\":\"Grid\"},{\"id\":\"5a218b31-46a5-42cc-800b-1e1dcad31ffb\",\"type\":\"BoxAnnotation\"},{\"id\":\"42b41657-673c-4d40-bf0a-ba2632d7af33\",\"type\":\"GlyphRenderer\"},{\"id\":\"e87d8dcc-8282-4c9f-8eb5-1902b2c6c9b7\",\"type\":\"GlyphRenderer\"}],\"title\":{\"id\":\"f252a83f-7e13-4ff7-94ab-20f91b21a7c2\",\"type\":\"Title\"},\"toolbar\":{\"id\":\"dcc88831-093a-49f8-b44f-17cba8ea446c\",\"type\":\"Toolbar\"},\"x_range\":{\"id\":\"d4d66d3f-f809-4344-9bb3-81a2c35ff3a0\",\"type\":\"DataRange1d\"},\"x_scale\":{\"id\":\"bc451199-120a-427d-8f76-c3eda62f488f\",\"type\":\"LinearScale\"},\"y_range\":{\"id\":\"82cc0884-9b43-4a97-8052-912531dad872\",\"type\":\"DataRange1d\"},\"y_scale\":{\"id\":\"9b3c8e7c-146f-4c98-ba08-ba9872a00b86\",\"type\":\"LinearScale\"}},\"id\":\"8437a83f-4bbe-48a0-88e3-5fb39db9f1cb\",\"subtype\":\"Figure\",\"type\":\"Plot\"},{\"attributes\":{\"callback\":null},\"id\":\"d4d66d3f-f809-4344-9bb3-81a2c35ff3a0\",\"type\":\"DataRange1d\"},{\"attributes\":{},\"id\":\"2a3f425e-0c7d-4536-8ef5-02c51d3d4013\",\"type\":\"BasicTickFormatter\"},{\"attributes\":{\"bottom_units\":\"screen\",\"fill_alpha\":{\"value\":0.5},\"fill_color\":{\"value\":\"lightgrey\"},\"left_units\":\"screen\",\"level\":\"overlay\",\"line_alpha\":{\"value\":1.0},\"line_color\":{\"value\":\"black\"},\"line_dash\":[4,4],\"line_width\":{\"value\":2},\"plot\":null,\"render_mode\":\"css\",\"right_units\":\"screen\",\"top_units\":\"screen\"},\"id\":\"5a218b31-46a5-42cc-800b-1e1dcad31ffb\",\"type\":\"BoxAnnotation\"},{\"attributes\":{},\"id\":\"3973a80d-e630-4a36-8f7a-445b1d409575\",\"type\":\"HelpTool\"},{\"attributes\":{},\"id\":\"29219a17-89a8-4c19-b9b7-a11274f34c8f\",\"type\":\"SaveTool\"},{\"attributes\":{\"plot\":null,\"text\":\"My plot\"},\"id\":\"f252a83f-7e13-4ff7-94ab-20f91b21a7c2\",\"type\":\"Title\"},{\"attributes\":{\"overlay\":{\"id\":\"5a218b31-46a5-42cc-800b-1e1dcad31ffb\",\"type\":\"BoxAnnotation\"}},\"id\":\"4c2e25c9-3758-493b-9aa1-e2ab72831434\",\"type\":\"BoxZoomTool\"},{\"attributes\":{\"callback\":null,\"data\":{\"am\":[1,1,1,0,0,0,0,0,0,0,0,0,0,0,0,0,0,1,1,1,0,0,0,0,0,1,1,1,1,1,1,1],\"carb\":[4,4,1,1,2,1,4,2,2,4,4,3,3,3,4,4,4,1,2,1,1,2,2,4,2,1,2,2,4,6,8,2],\"cyl\":[6,6,4,6,8,6,8,4,4,6,6,8,8,8,8,8,8,4,4,4,4,8,8,8,8,4,4,4,8,6,8,4],\"disp\":{\"__ndarray__\":\"AAAAAAAAZEAAAAAAAABkQAAAAAAAAFtAAAAAAAAgcEAAAAAAAIB2QAAAAAAAIGxAAAAAAACAdkBmZmZmZlZiQJqZmZmZmWFAMzMzMzPzZEAzMzMzM/NkQM3MzMzMPHFAzczMzMw8cUDNzMzMzDxxQAAAAAAAgH1AAAAAAADAfEAAAAAAAIB7QM3MzMzMrFNAzczMzMzsUkBmZmZmZsZRQGZmZmZmBl5AAAAAAADgc0AAAAAAAABzQAAAAAAA4HVAAAAAAAAAeUAAAAAAAMBTQDMzMzMzE15AZmZmZmbGV0AAAAAAAPB1QAAAAAAAIGJAAAAAAADQckAAAAAAAEBeQA==\",\"dtype\":\"float64\",\"shape\":[32]},\"drat\":{\"__ndarray__\":\"MzMzMzMzD0AzMzMzMzMPQM3MzMzMzA5ApHA9CtejCEAzMzMzMzMJQBSuR+F6FAZArkfhehSuCUCF61G4HoUNQFyPwvUoXA9AXI/C9ShcD0Bcj8L1KFwPQI/C9ShcjwhAj8L1KFyPCECPwvUoXI8IQHE9CtejcAdAAAAAAAAACEDXo3A9CtcJQFK4HoXrURBAuB6F61G4E0DhehSuR+EQQJqZmZmZmQ1AFK5H4XoUBkAzMzMzMzMJQNejcD0K1w1ApHA9CtejCEBSuB6F61EQQLgehetRuBFAKVyPwvUoDkDhehSuR+EQQPYoXI/C9QxAUrgehetRDEBxPQrXo3AQQA==\",\"dtype\":\"float64\",\"shape\":[32]},\"gear\":[4,4,4,3,3,3,3,4,4,4,4,3,3,3,3,3,3,4,4,4,3,3,3,3,3,4,5,5,5,5,5,4],\"hp\":[110,110,93,110,175,105,245,62,95,123,123,180,180,180,205,215,230,66,52,65,97,150,150,245,175,66,91,113,264,175,335,109],\"model\":[\"Mazda RX4\",\"Mazda RX4 Wag\",\"Datsun 710\",\"Hornet 4 Drive\",\"Hornet Sportabout\",\"Valiant\",\"Duster 360\",\"Merc 240D\",\"Merc 230\",\"Merc 280\",\"Merc 280C\",\"Merc 450SE\",\"Merc 450SL\",\"Merc 450SLC\",\"Cadillac Fleetwood\",\"Lincoln Continental\",\"Chrysler Imperial\",\"Fiat 128\",\"Honda Civic\",\"Toyota Corolla\",\"Toyota Corona\",\"Dodge Challenger\",\"AMC Javelin\",\"Camaro Z28\",\"Pontiac Firebird\",\"Fiat X1-9\",\"Porsche 914-2\",\"Lotus Europa\",\"Ford Pantera L\",\"Ferrari Dino\",\"Maserati Bora\",\"Volvo 142E\"],\"mpg\":{\"__ndarray__\":\"AAAAAAAANUAAAAAAAAA1QM3MzMzMzDZAZmZmZmZmNUAzMzMzM7MyQJqZmZmZGTJAmpmZmZmZLEBmZmZmZmY4QM3MzMzMzDZAMzMzMzMzM0DNzMzMzMwxQGZmZmZmZjBAzczMzMxMMUBmZmZmZmYuQM3MzMzMzCRAzczMzMzMJEBmZmZmZmYtQDMzMzMzM0BAZmZmZmZmPkAzMzMzM/NAQAAAAAAAgDVAAAAAAAAAL0BmZmZmZmYuQJqZmZmZmSpAMzMzMzMzM0DNzMzMzEw7QAAAAAAAADpAZmZmZmZmPkCamZmZmZkvQDMzMzMzszNAAAAAAAAALkBmZmZmZmY1QA==\",\"dtype\":\"float64\",\"shape\":[32]},\"qsec\":{\"__ndarray__\":\"9ihcj8J1MECF61G4HgUxQFyPwvUonDJAcT0K16NwM0CF61G4HgUxQLgehetRODRArkfhehSuL0AAAAAAAAA0QGZmZmZm5jZAzczMzMxMMkBmZmZmZuYyQGZmZmZmZjFAmpmZmZmZMUAAAAAAAAAyQHsUrkfh+jFAUrgehevRMUDsUbgehWsxQLgehetReDNAhetRuB6FMkBmZmZmZuYzQMP1KFyPAjRAH4XrUbjeMEDNzMzMzEwxQFK4HoXr0S5AzczMzMwMMUBmZmZmZuYyQDMzMzMzszBAZmZmZmbmMEAAAAAAAAAtQAAAAAAAAC9AMzMzMzMzLUCamZmZmZkyQA==\",\"dtype\":\"float64\",\"shape\":[32]},\"vs\":[0,0,1,1,0,1,0,1,1,1,1,0,0,0,0,0,0,1,1,1,1,0,0,0,0,1,0,1,0,0,0,1],\"wt\":{\"__ndarray__\":\"9ihcj8L1BEAAAAAAAAAHQI/C9ShcjwJAuB6F61G4CUCF61G4HoULQK5H4XoUrgtAj8L1KFyPDECF61G4HoUJQDMzMzMzMwlAhetRuB6FC0CF61G4HoULQEjhehSuRxBA16NwPQrXDUA9CtejcD0OQAAAAAAAABVAGARWDi2yFUDhehSuR2EVQJqZmZmZmQFA16NwPQrX+T9cj8L1KFz9P7gehetRuANAKVyPwvUoDEB7FK5H4XoLQLgehetRuA5Aw/UoXI/CDkD2KFyPwvX+Px+F61G4HgFAaZHtfD81+D9cj8L1KFwJQClcj8L1KAZAj8L1KFyPDEA9CtejcD0GQA==\",\"dtype\":\"float64\",\"shape\":[32]}},\"selected\":{\"id\":\"21c7d0c4-461a-48bf-b1d6-9c17c4286b84\",\"type\":\"Selection\"},\"selection_policy\":{\"id\":\"eade74b8-3624-4ee9-8978-fea25102f4cd\",\"type\":\"UnionRenderers\"}},\"id\":\"68fb443a-10ef-4a8a-8079-188f73d46e27\",\"type\":\"ColumnDataSource\"},{\"attributes\":{\"angle\":{\"units\":\"deg\",\"value\":0},\"length\":{\"units\":\"data\",\"value\":0},\"line_alpha\":{\"value\":0.1},\"line_color\":{\"value\":\"#1f77b4\"},\"x\":{\"value\":0},\"y\":{\"value\":20}},\"id\":\"08c41f98-79e3-4779-a3f5-780cadff90a0\",\"type\":\"Ray\"},{\"attributes\":{\"data_source\":{\"id\":\"68fb443a-10ef-4a8a-8079-188f73d46e27\",\"type\":\"ColumnDataSource\"},\"glyph\":{\"id\":\"7360b5b8-fa64-40b1-88e1-a5f42ffceeb3\",\"type\":\"Circle\"},\"hover_glyph\":null,\"muted_glyph\":null,\"nonselection_glyph\":{\"id\":\"ef0882ee-8c96-4cc5-8029-8e0baf96c87e\",\"type\":\"Circle\"},\"selection_glyph\":null,\"view\":{\"id\":\"b1414cc4-0b2f-4c91-9db0-c59b0adfeb9f\",\"type\":\"CDSView\"}},\"id\":\"42b41657-673c-4d40-bf0a-ba2632d7af33\",\"type\":\"GlyphRenderer\"},{\"attributes\":{\"active_drag\":\"auto\",\"active_inspect\":\"auto\",\"active_multi\":null,\"active_scroll\":\"auto\",\"active_tap\":\"auto\",\"tools\":[{\"id\":\"f44cf105-5f69-417c-982a-980d86c890ce\",\"type\":\"PanTool\"},{\"id\":\"bbad5b79-1931-4e82-a32f-90f9fce8724a\",\"type\":\"WheelZoomTool\"},{\"id\":\"4c2e25c9-3758-493b-9aa1-e2ab72831434\",\"type\":\"BoxZoomTool\"},{\"id\":\"29219a17-89a8-4c19-b9b7-a11274f34c8f\",\"type\":\"SaveTool\"},{\"id\":\"14d83621-13aa-4bcf-9990-0f6bae0ec6b4\",\"type\":\"ResetTool\"},{\"id\":\"3973a80d-e630-4a36-8f7a-445b1d409575\",\"type\":\"HelpTool\"}]},\"id\":\"dcc88831-093a-49f8-b44f-17cba8ea446c\",\"type\":\"Toolbar\"},{\"attributes\":{\"fill_alpha\":{\"value\":0.1},\"fill_color\":{\"value\":\"#1f77b4\"},\"line_alpha\":{\"value\":0.1},\"line_color\":{\"value\":\"#1f77b4\"},\"x\":{\"field\":\"wt\"},\"y\":{\"field\":\"mpg\"}},\"id\":\"ef0882ee-8c96-4cc5-8029-8e0baf96c87e\",\"type\":\"Circle\"},{\"attributes\":{\"angle\":{\"units\":\"deg\",\"value\":0},\"length\":{\"units\":\"data\",\"value\":0},\"line_color\":{\"value\":\"#1f77b4\"},\"x\":{\"value\":0},\"y\":{\"value\":20}},\"id\":\"dd829a7a-2b67-4a5b-9be2-d6f82115a317\",\"type\":\"Ray\"},{\"attributes\":{\"dimension\":1,\"plot\":{\"id\":\"8437a83f-4bbe-48a0-88e3-5fb39db9f1cb\",\"subtype\":\"Figure\",\"type\":\"Plot\"},\"ticker\":{\"id\":\"8d08eec8-b5ee-4c7c-b67b-d6fca8e0fbb9\",\"type\":\"BasicTicker\"}},\"id\":\"2d2681c3-f602-41b8-ad8a-b4dd6c2967ed\",\"type\":\"Grid\"},{\"attributes\":{},\"id\":\"8d08eec8-b5ee-4c7c-b67b-d6fca8e0fbb9\",\"type\":\"BasicTicker\"},{\"attributes\":{\"source\":{\"id\":\"45423ef6-8c2a-4dbd-ba41-708a6a1b7e69\",\"type\":\"ColumnDataSource\"}},\"id\":\"73085bc7-2b8f-480a-9ddf-8b2b1cf4d618\",\"type\":\"CDSView\"},{\"attributes\":{\"formatter\":{\"id\":\"35a63063-59bf-4110-833e-766d9f711a86\",\"type\":\"BasicTickFormatter\"},\"plot\":{\"id\":\"8437a83f-4bbe-48a0-88e3-5fb39db9f1cb\",\"subtype\":\"Figure\",\"type\":\"Plot\"},\"ticker\":{\"id\":\"8d08eec8-b5ee-4c7c-b67b-d6fca8e0fbb9\",\"type\":\"BasicTicker\"}},\"id\":\"edd0edd0-9b3e-4157-a019-352f116aaa7d\",\"type\":\"LinearAxis\"},{\"attributes\":{},\"id\":\"9b3c8e7c-146f-4c98-ba08-ba9872a00b86\",\"type\":\"LinearScale\"},{\"attributes\":{\"callback\":null,\"data\":{},\"selected\":{\"id\":\"6d47fcfa-29f1-4e09-8c04-7bda866309a8\",\"type\":\"Selection\"},\"selection_policy\":{\"id\":\"03915cf6-3639-4b04-be17-6ae4074d4c85\",\"type\":\"UnionRenderers\"}},\"id\":\"45423ef6-8c2a-4dbd-ba41-708a6a1b7e69\",\"type\":\"ColumnDataSource\"},{\"attributes\":{\"plot\":{\"id\":\"8437a83f-4bbe-48a0-88e3-5fb39db9f1cb\",\"subtype\":\"Figure\",\"type\":\"Plot\"},\"ticker\":{\"id\":\"f9bcf9ce-5d16-4b71-a0b6-37a014f5d3cd\",\"type\":\"BasicTicker\"}},\"id\":\"e5185f6b-2b0b-4e61-a9a3-83ee4501c22d\",\"type\":\"Grid\"},{\"attributes\":{},\"id\":\"6d47fcfa-29f1-4e09-8c04-7bda866309a8\",\"type\":\"Selection\"},{\"attributes\":{},\"id\":\"03915cf6-3639-4b04-be17-6ae4074d4c85\",\"type\":\"UnionRenderers\"},{\"attributes\":{\"formatter\":{\"id\":\"2a3f425e-0c7d-4536-8ef5-02c51d3d4013\",\"type\":\"BasicTickFormatter\"},\"plot\":{\"id\":\"8437a83f-4bbe-48a0-88e3-5fb39db9f1cb\",\"subtype\":\"Figure\",\"type\":\"Plot\"},\"ticker\":{\"id\":\"f9bcf9ce-5d16-4b71-a0b6-37a014f5d3cd\",\"type\":\"BasicTicker\"}},\"id\":\"63625fa0-91cb-4214-9a50-7aad59115b8f\",\"type\":\"LinearAxis\"},{\"attributes\":{},\"id\":\"21c7d0c4-461a-48bf-b1d6-9c17c4286b84\",\"type\":\"Selection\"},{\"attributes\":{\"callback\":null},\"id\":\"82cc0884-9b43-4a97-8052-912531dad872\",\"type\":\"DataRange1d\"},{\"attributes\":{},\"id\":\"14d83621-13aa-4bcf-9990-0f6bae0ec6b4\",\"type\":\"ResetTool\"},{\"attributes\":{},\"id\":\"35a63063-59bf-4110-833e-766d9f711a86\",\"type\":\"BasicTickFormatter\"},{\"attributes\":{\"source\":{\"id\":\"68fb443a-10ef-4a8a-8079-188f73d46e27\",\"type\":\"ColumnDataSource\"}},\"id\":\"b1414cc4-0b2f-4c91-9db0-c59b0adfeb9f\",\"type\":\"CDSView\"},{\"attributes\":{\"data_source\":{\"id\":\"45423ef6-8c2a-4dbd-ba41-708a6a1b7e69\",\"type\":\"ColumnDataSource\"},\"glyph\":{\"id\":\"dd829a7a-2b67-4a5b-9be2-d6f82115a317\",\"type\":\"Ray\"},\"hover_glyph\":null,\"muted_glyph\":null,\"nonselection_glyph\":{\"id\":\"08c41f98-79e3-4779-a3f5-780cadff90a0\",\"type\":\"Ray\"},\"selection_glyph\":null,\"view\":{\"id\":\"73085bc7-2b8f-480a-9ddf-8b2b1cf4d618\",\"type\":\"CDSView\"}},\"id\":\"e87d8dcc-8282-4c9f-8eb5-1902b2c6c9b7\",\"type\":\"GlyphRenderer\"},{\"attributes\":{},\"id\":\"bc451199-120a-427d-8f76-c3eda62f488f\",\"type\":\"LinearScale\"},{\"attributes\":{},\"id\":\"eade74b8-3624-4ee9-8978-fea25102f4cd\",\"type\":\"UnionRenderers\"}],\"root_ids\":[\"8437a83f-4bbe-48a0-88e3-5fb39db9f1cb\"]},\"title\":\"Bokeh Application\",\"version\":\"0.13.0\"}};\n",
       "  var render_items = [{\"docid\":\"efe5258a-938d-4fda-a92b-a87100ddd8a0\",\"roots\":{\"8437a83f-4bbe-48a0-88e3-5fb39db9f1cb\":\"2869147c-db28-40ab-9950-2a6e29d74fd5\"}}];\n",
       "  root.Bokeh.embed.embed_items_notebook(docs_json, render_items);\n",
       "\n",
       "  }\n",
       "  if (root.Bokeh !== undefined) {\n",
       "    embed_document(root);\n",
       "  } else {\n",
       "    var attempts = 0;\n",
       "    var timer = setInterval(function(root) {\n",
       "      if (root.Bokeh !== undefined) {\n",
       "        embed_document(root);\n",
       "        clearInterval(timer);\n",
       "      }\n",
       "      attempts++;\n",
       "      if (attempts > 100) {\n",
       "        console.log(\"Bokeh: ERROR: Unable to run BokehJS code because BokehJS library is missing\")\n",
       "        clearInterval(timer);\n",
       "      }\n",
       "    }, 10, root)\n",
       "  }\n",
       "})(window);"
      ],
      "application/vnd.bokehjs_exec.v0+json": ""
     },
     "metadata": {
      "application/vnd.bokehjs_exec.v0+json": {
       "id": "8437a83f-4bbe-48a0-88e3-5fb39db9f1cb"
      }
     },
     "output_type": "display_data"
    }
   ],
   "source": [
    "p = create_p()\n",
    "#p + geom_hline(yintercept = 20)\n",
    "p.ray(x=0, y=20, length=0, angle=0, angle_units=\"deg\")\n",
    "show(p)"
   ]
  },
  {
   "cell_type": "code",
   "execution_count": 6,
   "metadata": {},
   "outputs": [
    {
     "data": {
      "text/html": [
       "\n",
       "\n",
       "\n",
       "\n",
       "\n",
       "\n",
       "  <div class=\"bk-root\" id=\"9842d974-4a3d-4013-9927-422b9ceb769f\"></div>\n"
      ]
     },
     "metadata": {},
     "output_type": "display_data"
    },
    {
     "data": {
      "application/javascript": [
       "(function(root) {\n",
       "  function embed_document(root) {\n",
       "    \n",
       "  var docs_json = {\"0ce4ebf2-af8e-45e1-800d-9511c4523d84\":{\"roots\":{\"references\":[{\"attributes\":{},\"id\":\"d4360acc-f8da-4e44-88d9-abdbd8c57b2c\",\"type\":\"SaveTool\"},{\"attributes\":{\"plot\":null,\"text\":\"My plot\"},\"id\":\"6f3dc965-2d2c-4891-aa89-7c48e5064282\",\"type\":\"Title\"},{\"attributes\":{},\"id\":\"e338683b-4a68-44c8-a4fd-7b7ffe6d3e0b\",\"type\":\"Selection\"},{\"attributes\":{},\"id\":\"8c75e8a1-7151-4692-96d2-86ee3308031f\",\"type\":\"WheelZoomTool\"},{\"attributes\":{},\"id\":\"2d854d2e-c07c-4643-a187-b85328f742ab\",\"type\":\"UnionRenderers\"},{\"attributes\":{\"plot\":{\"id\":\"e330dd8d-82fa-4949-8933-d61099bf90a9\",\"subtype\":\"Figure\",\"type\":\"Plot\"},\"ticker\":{\"id\":\"26daaf5c-46d9-4d98-82f1-f7bd0f9813a0\",\"type\":\"BasicTicker\"}},\"id\":\"93bd8aa8-59c2-4912-be85-d08ac429f24d\",\"type\":\"Grid\"},{\"attributes\":{\"line_alpha\":{\"value\":0.1},\"line_color\":{\"value\":\"#1f77b4\"},\"x0\":{\"value\":1},\"x1\":{\"value\":6},\"y0\":{\"value\":32},\"y1\":{\"value\":7}},\"id\":\"fa50094c-4bd3-40ad-a456-f5b9b15a0539\",\"type\":\"Segment\"},{\"attributes\":{\"data_source\":{\"id\":\"b99577f1-6cfc-4f20-8cbf-cb4e98f76ca3\",\"type\":\"ColumnDataSource\"},\"glyph\":{\"id\":\"ca6f0563-fbf8-46d8-be3a-2b4ab5ea93e2\",\"type\":\"Segment\"},\"hover_glyph\":null,\"muted_glyph\":null,\"nonselection_glyph\":{\"id\":\"fa50094c-4bd3-40ad-a456-f5b9b15a0539\",\"type\":\"Segment\"},\"selection_glyph\":null,\"view\":{\"id\":\"4c502d77-86ad-4cb9-967b-593fb8672169\",\"type\":\"CDSView\"}},\"id\":\"96e67dd4-ad70-4484-ae2d-063056380177\",\"type\":\"GlyphRenderer\"},{\"attributes\":{\"fill_color\":{\"value\":\"#1f77b4\"},\"line_color\":{\"value\":\"#1f77b4\"},\"x\":{\"field\":\"wt\"},\"y\":{\"field\":\"mpg\"}},\"id\":\"665c366f-6455-4938-b28a-6ca4ef8bd70a\",\"type\":\"Circle\"},{\"attributes\":{\"callback\":null,\"data\":{\"am\":[1,1,1,0,0,0,0,0,0,0,0,0,0,0,0,0,0,1,1,1,0,0,0,0,0,1,1,1,1,1,1,1],\"carb\":[4,4,1,1,2,1,4,2,2,4,4,3,3,3,4,4,4,1,2,1,1,2,2,4,2,1,2,2,4,6,8,2],\"cyl\":[6,6,4,6,8,6,8,4,4,6,6,8,8,8,8,8,8,4,4,4,4,8,8,8,8,4,4,4,8,6,8,4],\"disp\":{\"__ndarray__\":\"AAAAAAAAZEAAAAAAAABkQAAAAAAAAFtAAAAAAAAgcEAAAAAAAIB2QAAAAAAAIGxAAAAAAACAdkBmZmZmZlZiQJqZmZmZmWFAMzMzMzPzZEAzMzMzM/NkQM3MzMzMPHFAzczMzMw8cUDNzMzMzDxxQAAAAAAAgH1AAAAAAADAfEAAAAAAAIB7QM3MzMzMrFNAzczMzMzsUkBmZmZmZsZRQGZmZmZmBl5AAAAAAADgc0AAAAAAAABzQAAAAAAA4HVAAAAAAAAAeUAAAAAAAMBTQDMzMzMzE15AZmZmZmbGV0AAAAAAAPB1QAAAAAAAIGJAAAAAAADQckAAAAAAAEBeQA==\",\"dtype\":\"float64\",\"shape\":[32]},\"drat\":{\"__ndarray__\":\"MzMzMzMzD0AzMzMzMzMPQM3MzMzMzA5ApHA9CtejCEAzMzMzMzMJQBSuR+F6FAZArkfhehSuCUCF61G4HoUNQFyPwvUoXA9AXI/C9ShcD0Bcj8L1KFwPQI/C9ShcjwhAj8L1KFyPCECPwvUoXI8IQHE9CtejcAdAAAAAAAAACEDXo3A9CtcJQFK4HoXrURBAuB6F61G4E0DhehSuR+EQQJqZmZmZmQ1AFK5H4XoUBkAzMzMzMzMJQNejcD0K1w1ApHA9CtejCEBSuB6F61EQQLgehetRuBFAKVyPwvUoDkDhehSuR+EQQPYoXI/C9QxAUrgehetRDEBxPQrXo3AQQA==\",\"dtype\":\"float64\",\"shape\":[32]},\"gear\":[4,4,4,3,3,3,3,4,4,4,4,3,3,3,3,3,3,4,4,4,3,3,3,3,3,4,5,5,5,5,5,4],\"hp\":[110,110,93,110,175,105,245,62,95,123,123,180,180,180,205,215,230,66,52,65,97,150,150,245,175,66,91,113,264,175,335,109],\"model\":[\"Mazda RX4\",\"Mazda RX4 Wag\",\"Datsun 710\",\"Hornet 4 Drive\",\"Hornet Sportabout\",\"Valiant\",\"Duster 360\",\"Merc 240D\",\"Merc 230\",\"Merc 280\",\"Merc 280C\",\"Merc 450SE\",\"Merc 450SL\",\"Merc 450SLC\",\"Cadillac Fleetwood\",\"Lincoln Continental\",\"Chrysler Imperial\",\"Fiat 128\",\"Honda Civic\",\"Toyota Corolla\",\"Toyota Corona\",\"Dodge Challenger\",\"AMC Javelin\",\"Camaro Z28\",\"Pontiac Firebird\",\"Fiat X1-9\",\"Porsche 914-2\",\"Lotus Europa\",\"Ford Pantera L\",\"Ferrari Dino\",\"Maserati Bora\",\"Volvo 142E\"],\"mpg\":{\"__ndarray__\":\"AAAAAAAANUAAAAAAAAA1QM3MzMzMzDZAZmZmZmZmNUAzMzMzM7MyQJqZmZmZGTJAmpmZmZmZLEBmZmZmZmY4QM3MzMzMzDZAMzMzMzMzM0DNzMzMzMwxQGZmZmZmZjBAzczMzMxMMUBmZmZmZmYuQM3MzMzMzCRAzczMzMzMJEBmZmZmZmYtQDMzMzMzM0BAZmZmZmZmPkAzMzMzM/NAQAAAAAAAgDVAAAAAAAAAL0BmZmZmZmYuQJqZmZmZmSpAMzMzMzMzM0DNzMzMzEw7QAAAAAAAADpAZmZmZmZmPkCamZmZmZkvQDMzMzMzszNAAAAAAAAALkBmZmZmZmY1QA==\",\"dtype\":\"float64\",\"shape\":[32]},\"qsec\":{\"__ndarray__\":\"9ihcj8J1MECF61G4HgUxQFyPwvUonDJAcT0K16NwM0CF61G4HgUxQLgehetRODRArkfhehSuL0AAAAAAAAA0QGZmZmZm5jZAzczMzMxMMkBmZmZmZuYyQGZmZmZmZjFAmpmZmZmZMUAAAAAAAAAyQHsUrkfh+jFAUrgehevRMUDsUbgehWsxQLgehetReDNAhetRuB6FMkBmZmZmZuYzQMP1KFyPAjRAH4XrUbjeMEDNzMzMzEwxQFK4HoXr0S5AzczMzMwMMUBmZmZmZuYyQDMzMzMzszBAZmZmZmbmMEAAAAAAAAAtQAAAAAAAAC9AMzMzMzMzLUCamZmZmZkyQA==\",\"dtype\":\"float64\",\"shape\":[32]},\"vs\":[0,0,1,1,0,1,0,1,1,1,1,0,0,0,0,0,0,1,1,1,1,0,0,0,0,1,0,1,0,0,0,1],\"wt\":{\"__ndarray__\":\"9ihcj8L1BEAAAAAAAAAHQI/C9ShcjwJAuB6F61G4CUCF61G4HoULQK5H4XoUrgtAj8L1KFyPDECF61G4HoUJQDMzMzMzMwlAhetRuB6FC0CF61G4HoULQEjhehSuRxBA16NwPQrXDUA9CtejcD0OQAAAAAAAABVAGARWDi2yFUDhehSuR2EVQJqZmZmZmQFA16NwPQrX+T9cj8L1KFz9P7gehetRuANAKVyPwvUoDEB7FK5H4XoLQLgehetRuA5Aw/UoXI/CDkD2KFyPwvX+Px+F61G4HgFAaZHtfD81+D9cj8L1KFwJQClcj8L1KAZAj8L1KFyPDEA9CtejcD0GQA==\",\"dtype\":\"float64\",\"shape\":[32]}},\"selected\":{\"id\":\"eb3304d9-29f8-4b69-9a79-32c38d3957f2\",\"type\":\"Selection\"},\"selection_policy\":{\"id\":\"7dd41d7c-1b32-46b3-a491-25b56869ce20\",\"type\":\"UnionRenderers\"}},\"id\":\"4dc32a09-2d50-4e9c-9477-64193d1db3f7\",\"type\":\"ColumnDataSource\"},{\"attributes\":{\"source\":{\"id\":\"b99577f1-6cfc-4f20-8cbf-cb4e98f76ca3\",\"type\":\"ColumnDataSource\"}},\"id\":\"4c502d77-86ad-4cb9-967b-593fb8672169\",\"type\":\"CDSView\"},{\"attributes\":{},\"id\":\"53ad80d9-4029-4817-838c-9871aedbb2df\",\"type\":\"PanTool\"},{\"attributes\":{},\"id\":\"7dd41d7c-1b32-46b3-a491-25b56869ce20\",\"type\":\"UnionRenderers\"},{\"attributes\":{\"callback\":null},\"id\":\"5c3d7b72-1cd8-49c9-92dd-23d42136686d\",\"type\":\"DataRange1d\"},{\"attributes\":{\"below\":[{\"id\":\"d83e8aaa-4a15-46c9-a4e1-9d3a7dbd946b\",\"type\":\"LinearAxis\"}],\"left\":[{\"id\":\"150529e7-12eb-4bd9-acf3-bb0697c30609\",\"type\":\"LinearAxis\"}],\"plot_height\":400,\"renderers\":[{\"id\":\"d83e8aaa-4a15-46c9-a4e1-9d3a7dbd946b\",\"type\":\"LinearAxis\"},{\"id\":\"93bd8aa8-59c2-4912-be85-d08ac429f24d\",\"type\":\"Grid\"},{\"id\":\"150529e7-12eb-4bd9-acf3-bb0697c30609\",\"type\":\"LinearAxis\"},{\"id\":\"9169122e-f1ce-4956-875e-cf3a86242c50\",\"type\":\"Grid\"},{\"id\":\"4254b0e1-81ab-42a8-b1ef-576bb6664c9d\",\"type\":\"BoxAnnotation\"},{\"id\":\"14e28ac4-7f85-462d-98bf-d1cbd3659e55\",\"type\":\"GlyphRenderer\"},{\"id\":\"96e67dd4-ad70-4484-ae2d-063056380177\",\"type\":\"GlyphRenderer\"}],\"title\":{\"id\":\"6f3dc965-2d2c-4891-aa89-7c48e5064282\",\"type\":\"Title\"},\"toolbar\":{\"id\":\"21ef62e7-6f85-4633-ba38-c01522be34e9\",\"type\":\"Toolbar\"},\"x_range\":{\"id\":\"5c3d7b72-1cd8-49c9-92dd-23d42136686d\",\"type\":\"DataRange1d\"},\"x_scale\":{\"id\":\"e1949578-35be-4b77-935c-7ebedc198324\",\"type\":\"LinearScale\"},\"y_range\":{\"id\":\"791922b8-d447-4d1b-85ef-e70cb1c10440\",\"type\":\"DataRange1d\"},\"y_scale\":{\"id\":\"00d5c020-1210-4201-a9d2-189f62b44eab\",\"type\":\"LinearScale\"}},\"id\":\"e330dd8d-82fa-4949-8933-d61099bf90a9\",\"subtype\":\"Figure\",\"type\":\"Plot\"},{\"attributes\":{},\"id\":\"eccaa67b-a2f3-4f27-9697-52196e8682bc\",\"type\":\"BasicTicker\"},{\"attributes\":{},\"id\":\"eb3304d9-29f8-4b69-9a79-32c38d3957f2\",\"type\":\"Selection\"},{\"attributes\":{},\"id\":\"5638ed57-17b3-4946-abdf-b5dd96051a64\",\"type\":\"HelpTool\"},{\"attributes\":{\"fill_alpha\":{\"value\":0.1},\"fill_color\":{\"value\":\"#1f77b4\"},\"line_alpha\":{\"value\":0.1},\"line_color\":{\"value\":\"#1f77b4\"},\"x\":{\"field\":\"wt\"},\"y\":{\"field\":\"mpg\"}},\"id\":\"6ca1e726-58de-4cdc-92b4-5807ba8afe7a\",\"type\":\"Circle\"},{\"attributes\":{},\"id\":\"54db96de-d653-4181-a937-673cfba6ebae\",\"type\":\"ResetTool\"},{\"attributes\":{\"active_drag\":\"auto\",\"active_inspect\":\"auto\",\"active_multi\":null,\"active_scroll\":\"auto\",\"active_tap\":\"auto\",\"tools\":[{\"id\":\"53ad80d9-4029-4817-838c-9871aedbb2df\",\"type\":\"PanTool\"},{\"id\":\"8c75e8a1-7151-4692-96d2-86ee3308031f\",\"type\":\"WheelZoomTool\"},{\"id\":\"538e7e16-4095-43b1-82fe-6c8a441f4413\",\"type\":\"BoxZoomTool\"},{\"id\":\"d4360acc-f8da-4e44-88d9-abdbd8c57b2c\",\"type\":\"SaveTool\"},{\"id\":\"54db96de-d653-4181-a937-673cfba6ebae\",\"type\":\"ResetTool\"},{\"id\":\"5638ed57-17b3-4946-abdf-b5dd96051a64\",\"type\":\"HelpTool\"}]},\"id\":\"21ef62e7-6f85-4633-ba38-c01522be34e9\",\"type\":\"Toolbar\"},{\"attributes\":{\"callback\":null,\"data\":{},\"selected\":{\"id\":\"e338683b-4a68-44c8-a4fd-7b7ffe6d3e0b\",\"type\":\"Selection\"},\"selection_policy\":{\"id\":\"2d854d2e-c07c-4643-a187-b85328f742ab\",\"type\":\"UnionRenderers\"}},\"id\":\"b99577f1-6cfc-4f20-8cbf-cb4e98f76ca3\",\"type\":\"ColumnDataSource\"},{\"attributes\":{\"dimension\":1,\"plot\":{\"id\":\"e330dd8d-82fa-4949-8933-d61099bf90a9\",\"subtype\":\"Figure\",\"type\":\"Plot\"},\"ticker\":{\"id\":\"eccaa67b-a2f3-4f27-9697-52196e8682bc\",\"type\":\"BasicTicker\"}},\"id\":\"9169122e-f1ce-4956-875e-cf3a86242c50\",\"type\":\"Grid\"},{\"attributes\":{},\"id\":\"26daaf5c-46d9-4d98-82f1-f7bd0f9813a0\",\"type\":\"BasicTicker\"},{\"attributes\":{},\"id\":\"00d5c020-1210-4201-a9d2-189f62b44eab\",\"type\":\"LinearScale\"},{\"attributes\":{},\"id\":\"e1949578-35be-4b77-935c-7ebedc198324\",\"type\":\"LinearScale\"},{\"attributes\":{\"data_source\":{\"id\":\"4dc32a09-2d50-4e9c-9477-64193d1db3f7\",\"type\":\"ColumnDataSource\"},\"glyph\":{\"id\":\"665c366f-6455-4938-b28a-6ca4ef8bd70a\",\"type\":\"Circle\"},\"hover_glyph\":null,\"muted_glyph\":null,\"nonselection_glyph\":{\"id\":\"6ca1e726-58de-4cdc-92b4-5807ba8afe7a\",\"type\":\"Circle\"},\"selection_glyph\":null,\"view\":{\"id\":\"06a3b320-6848-470e-a827-0c2c435cdea2\",\"type\":\"CDSView\"}},\"id\":\"14e28ac4-7f85-462d-98bf-d1cbd3659e55\",\"type\":\"GlyphRenderer\"},{\"attributes\":{\"callback\":null},\"id\":\"791922b8-d447-4d1b-85ef-e70cb1c10440\",\"type\":\"DataRange1d\"},{\"attributes\":{\"overlay\":{\"id\":\"4254b0e1-81ab-42a8-b1ef-576bb6664c9d\",\"type\":\"BoxAnnotation\"}},\"id\":\"538e7e16-4095-43b1-82fe-6c8a441f4413\",\"type\":\"BoxZoomTool\"},{\"attributes\":{},\"id\":\"18f7b165-a08e-4c73-aaa2-032493ea2245\",\"type\":\"BasicTickFormatter\"},{\"attributes\":{\"source\":{\"id\":\"4dc32a09-2d50-4e9c-9477-64193d1db3f7\",\"type\":\"ColumnDataSource\"}},\"id\":\"06a3b320-6848-470e-a827-0c2c435cdea2\",\"type\":\"CDSView\"},{\"attributes\":{\"formatter\":{\"id\":\"18f7b165-a08e-4c73-aaa2-032493ea2245\",\"type\":\"BasicTickFormatter\"},\"plot\":{\"id\":\"e330dd8d-82fa-4949-8933-d61099bf90a9\",\"subtype\":\"Figure\",\"type\":\"Plot\"},\"ticker\":{\"id\":\"26daaf5c-46d9-4d98-82f1-f7bd0f9813a0\",\"type\":\"BasicTicker\"}},\"id\":\"d83e8aaa-4a15-46c9-a4e1-9d3a7dbd946b\",\"type\":\"LinearAxis\"},{\"attributes\":{\"bottom_units\":\"screen\",\"fill_alpha\":{\"value\":0.5},\"fill_color\":{\"value\":\"lightgrey\"},\"left_units\":\"screen\",\"level\":\"overlay\",\"line_alpha\":{\"value\":1.0},\"line_color\":{\"value\":\"black\"},\"line_dash\":[4,4],\"line_width\":{\"value\":2},\"plot\":null,\"render_mode\":\"css\",\"right_units\":\"screen\",\"top_units\":\"screen\"},\"id\":\"4254b0e1-81ab-42a8-b1ef-576bb6664c9d\",\"type\":\"BoxAnnotation\"},{\"attributes\":{\"formatter\":{\"id\":\"6f1bbba0-c5ba-4e01-93c4-9cb4e885ef0c\",\"type\":\"BasicTickFormatter\"},\"plot\":{\"id\":\"e330dd8d-82fa-4949-8933-d61099bf90a9\",\"subtype\":\"Figure\",\"type\":\"Plot\"},\"ticker\":{\"id\":\"eccaa67b-a2f3-4f27-9697-52196e8682bc\",\"type\":\"BasicTicker\"}},\"id\":\"150529e7-12eb-4bd9-acf3-bb0697c30609\",\"type\":\"LinearAxis\"},{\"attributes\":{},\"id\":\"6f1bbba0-c5ba-4e01-93c4-9cb4e885ef0c\",\"type\":\"BasicTickFormatter\"},{\"attributes\":{\"line_color\":{\"value\":\"#1f77b4\"},\"x0\":{\"value\":1},\"x1\":{\"value\":6},\"y0\":{\"value\":32},\"y1\":{\"value\":7}},\"id\":\"ca6f0563-fbf8-46d8-be3a-2b4ab5ea93e2\",\"type\":\"Segment\"}],\"root_ids\":[\"e330dd8d-82fa-4949-8933-d61099bf90a9\"]},\"title\":\"Bokeh Application\",\"version\":\"0.13.0\"}};\n",
       "  var render_items = [{\"docid\":\"0ce4ebf2-af8e-45e1-800d-9511c4523d84\",\"roots\":{\"e330dd8d-82fa-4949-8933-d61099bf90a9\":\"9842d974-4a3d-4013-9927-422b9ceb769f\"}}];\n",
       "  root.Bokeh.embed.embed_items_notebook(docs_json, render_items);\n",
       "\n",
       "  }\n",
       "  if (root.Bokeh !== undefined) {\n",
       "    embed_document(root);\n",
       "  } else {\n",
       "    var attempts = 0;\n",
       "    var timer = setInterval(function(root) {\n",
       "      if (root.Bokeh !== undefined) {\n",
       "        embed_document(root);\n",
       "        clearInterval(timer);\n",
       "      }\n",
       "      attempts++;\n",
       "      if (attempts > 100) {\n",
       "        console.log(\"Bokeh: ERROR: Unable to run BokehJS code because BokehJS library is missing\")\n",
       "        clearInterval(timer);\n",
       "      }\n",
       "    }, 10, root)\n",
       "  }\n",
       "})(window);"
      ],
      "application/vnd.bokehjs_exec.v0+json": ""
     },
     "metadata": {
      "application/vnd.bokehjs_exec.v0+json": {
       "id": "e330dd8d-82fa-4949-8933-d61099bf90a9"
      }
     },
     "output_type": "display_data"
    }
   ],
   "source": [
    "p = create_p()\n",
    "#p + geom_abline(intercept = 37, slope = -5)\n",
    "def abline(xx, intercept, slope): return intercept + slope*xx\n",
    "p.segment(x0 = 1, x1 = 6, y0 = abline(1,37,-5), y1 = abline(6,37,-5))\n",
    "show(p)"
   ]
  },
  {
   "cell_type": "markdown",
   "metadata": {},
   "source": [
    "#### geom_bar() geom_col() stat_count()\n",
    "ggplot2 excels in plotting stats. For example, geom_bar() uses stat_count() by default while geom_col() uses stat_identity().\n",
    "In bokeh, stats functions are not included yet, so the pandas Series functionality is used prior to plotting.  \n",
    "Note: The bar `y` variable in ggplot2 is called `top` in bokeh. Also the bottom and width of the bars should be indicated. "
   ]
  },
  {
   "cell_type": "code",
   "execution_count": 7,
   "metadata": {},
   "outputs": [],
   "source": [
    "#g <- ggplot(mpg, aes(class))\n",
    "mpg['counts'] = 0\n",
    "mpg_plot = mpg[['class','counts']].groupby(by='class',as_index=False).count()\n",
    "def create_gv():\n",
    "    g = figure(title=\"My plot\", plot_width=600, plot_height=400, x_range = mpg_plot['class'])\n",
    "    return g\n",
    "def create_gh():\n",
    "    g = figure(title=\"My plot\", plot_width=600, plot_height=400, y_range = mpg_plot['class'])\n",
    "    return g"
   ]
  },
  {
   "cell_type": "code",
   "execution_count": 8,
   "metadata": {},
   "outputs": [
    {
     "data": {
      "text/html": [
       "\n",
       "\n",
       "\n",
       "\n",
       "\n",
       "\n",
       "  <div class=\"bk-root\" id=\"f5ebd021-02f6-4d41-96a8-d49373e28b7f\"></div>\n"
      ]
     },
     "metadata": {},
     "output_type": "display_data"
    },
    {
     "data": {
      "application/javascript": [
       "(function(root) {\n",
       "  function embed_document(root) {\n",
       "    \n",
       "  var docs_json = {\"00e3138d-42c0-4a81-9338-442c1665efda\":{\"roots\":{\"references\":[{\"attributes\":{\"callback\":null},\"id\":\"f9d01b2b-af31-4ba8-b17b-e35a567c8909\",\"type\":\"DataRange1d\"},{\"attributes\":{\"dimension\":1,\"plot\":{\"id\":\"dd3753fd-2a96-4bdf-8199-e0496fb11107\",\"subtype\":\"Figure\",\"type\":\"Plot\"},\"ticker\":{\"id\":\"e92ce265-8249-4aca-83b6-fc9f80b8221a\",\"type\":\"BasicTicker\"}},\"id\":\"b8b79424-9e25-421c-a997-ba58bd4264c8\",\"type\":\"Grid\"},{\"attributes\":{\"below\":[{\"id\":\"48026012-1479-4f46-b47c-b592c68fc9d0\",\"type\":\"CategoricalAxis\"}],\"left\":[{\"id\":\"7ac53861-d664-45e6-a7d2-dd2b69153092\",\"type\":\"LinearAxis\"}],\"plot_height\":400,\"renderers\":[{\"id\":\"48026012-1479-4f46-b47c-b592c68fc9d0\",\"type\":\"CategoricalAxis\"},{\"id\":\"9b65a32e-4cfa-432e-8e4a-c29d603a04e9\",\"type\":\"Grid\"},{\"id\":\"7ac53861-d664-45e6-a7d2-dd2b69153092\",\"type\":\"LinearAxis\"},{\"id\":\"b8b79424-9e25-421c-a997-ba58bd4264c8\",\"type\":\"Grid\"},{\"id\":\"abe94012-e228-49ad-87aa-dd8e7b392ee1\",\"type\":\"BoxAnnotation\"},{\"id\":\"5a5bc6ed-b5ee-44df-893a-a2c667932cae\",\"type\":\"GlyphRenderer\"}],\"title\":{\"id\":\"7d045cbd-778f-4b5e-b547-b9efbe2b9113\",\"type\":\"Title\"},\"toolbar\":{\"id\":\"34bcbec7-96c3-4881-9ce9-06220b703ab9\",\"type\":\"Toolbar\"},\"x_range\":{\"id\":\"d9307800-521b-4816-80e5-ce8d1549a92b\",\"type\":\"FactorRange\"},\"x_scale\":{\"id\":\"bcd908c0-6bc3-47ed-af66-bb27486abf4c\",\"type\":\"CategoricalScale\"},\"y_range\":{\"id\":\"f9d01b2b-af31-4ba8-b17b-e35a567c8909\",\"type\":\"DataRange1d\"},\"y_scale\":{\"id\":\"85100c6c-c4dd-46e7-abfb-591cfeeb9309\",\"type\":\"LinearScale\"}},\"id\":\"dd3753fd-2a96-4bdf-8199-e0496fb11107\",\"subtype\":\"Figure\",\"type\":\"Plot\"},{\"attributes\":{\"fill_color\":{\"value\":\"#1f77b4\"},\"line_color\":{\"value\":\"#1f77b4\"},\"top\":{\"field\":\"counts\"},\"width\":{\"value\":0.9},\"x\":{\"field\":\"class\"}},\"id\":\"4acf249e-4c51-416e-97d3-67929b59a71c\",\"type\":\"VBar\"},{\"attributes\":{\"callback\":null,\"factors\":[\"2seater\",\"compact\",\"midsize\",\"minivan\",\"pickup\",\"subcompact\",\"suv\"]},\"id\":\"d9307800-521b-4816-80e5-ce8d1549a92b\",\"type\":\"FactorRange\"},{\"attributes\":{\"data_source\":{\"id\":\"b3a00376-6855-4c32-9470-910d450c0bfc\",\"type\":\"ColumnDataSource\"},\"glyph\":{\"id\":\"4acf249e-4c51-416e-97d3-67929b59a71c\",\"type\":\"VBar\"},\"hover_glyph\":null,\"muted_glyph\":null,\"nonselection_glyph\":{\"id\":\"afbf0bf0-fd52-44bd-a2ac-44d067fbcfe9\",\"type\":\"VBar\"},\"selection_glyph\":null,\"view\":{\"id\":\"143f864c-58f9-4be8-b9b8-4641318a37a5\",\"type\":\"CDSView\"}},\"id\":\"5a5bc6ed-b5ee-44df-893a-a2c667932cae\",\"type\":\"GlyphRenderer\"},{\"attributes\":{},\"id\":\"1397ccd4-154b-45af-9040-87376881031f\",\"type\":\"HelpTool\"},{\"attributes\":{},\"id\":\"e92ce265-8249-4aca-83b6-fc9f80b8221a\",\"type\":\"BasicTicker\"},{\"attributes\":{\"bottom_units\":\"screen\",\"fill_alpha\":{\"value\":0.5},\"fill_color\":{\"value\":\"lightgrey\"},\"left_units\":\"screen\",\"level\":\"overlay\",\"line_alpha\":{\"value\":1.0},\"line_color\":{\"value\":\"black\"},\"line_dash\":[4,4],\"line_width\":{\"value\":2},\"plot\":null,\"render_mode\":\"css\",\"right_units\":\"screen\",\"top_units\":\"screen\"},\"id\":\"abe94012-e228-49ad-87aa-dd8e7b392ee1\",\"type\":\"BoxAnnotation\"},{\"attributes\":{},\"id\":\"43a7a82a-c02e-4954-a41f-b7601b5178d2\",\"type\":\"CategoricalTicker\"},{\"attributes\":{},\"id\":\"bcd908c0-6bc3-47ed-af66-bb27486abf4c\",\"type\":\"CategoricalScale\"},{\"attributes\":{},\"id\":\"9eb33106-b8d4-47e8-8e89-6688f82f885f\",\"type\":\"PanTool\"},{\"attributes\":{\"callback\":null,\"data\":{\"class\":[\"2seater\",\"compact\",\"midsize\",\"minivan\",\"pickup\",\"subcompact\",\"suv\"],\"counts\":[5,47,41,11,33,35,62],\"index\":[0,1,2,3,4,5,6]},\"selected\":{\"id\":\"22b268d4-0137-40ac-afba-bafaa16d258a\",\"type\":\"Selection\"},\"selection_policy\":{\"id\":\"80416679-301c-4ea4-ba0f-9c2881cede39\",\"type\":\"UnionRenderers\"}},\"id\":\"b3a00376-6855-4c32-9470-910d450c0bfc\",\"type\":\"ColumnDataSource\"},{\"attributes\":{},\"id\":\"489459de-a783-4364-86d7-04b3b6b9e808\",\"type\":\"CategoricalTickFormatter\"},{\"attributes\":{\"fill_alpha\":{\"value\":0.1},\"fill_color\":{\"value\":\"#1f77b4\"},\"line_alpha\":{\"value\":0.1},\"line_color\":{\"value\":\"#1f77b4\"},\"top\":{\"field\":\"counts\"},\"width\":{\"value\":0.9},\"x\":{\"field\":\"class\"}},\"id\":\"afbf0bf0-fd52-44bd-a2ac-44d067fbcfe9\",\"type\":\"VBar\"},{\"attributes\":{\"overlay\":{\"id\":\"abe94012-e228-49ad-87aa-dd8e7b392ee1\",\"type\":\"BoxAnnotation\"}},\"id\":\"6ddd734b-ea40-4213-be56-06a806d287c2\",\"type\":\"BoxZoomTool\"},{\"attributes\":{\"plot\":{\"id\":\"dd3753fd-2a96-4bdf-8199-e0496fb11107\",\"subtype\":\"Figure\",\"type\":\"Plot\"},\"ticker\":{\"id\":\"43a7a82a-c02e-4954-a41f-b7601b5178d2\",\"type\":\"CategoricalTicker\"}},\"id\":\"9b65a32e-4cfa-432e-8e4a-c29d603a04e9\",\"type\":\"Grid\"},{\"attributes\":{\"plot\":null,\"text\":\"My plot\"},\"id\":\"7d045cbd-778f-4b5e-b547-b9efbe2b9113\",\"type\":\"Title\"},{\"attributes\":{},\"id\":\"22b268d4-0137-40ac-afba-bafaa16d258a\",\"type\":\"Selection\"},{\"attributes\":{},\"id\":\"80416679-301c-4ea4-ba0f-9c2881cede39\",\"type\":\"UnionRenderers\"},{\"attributes\":{},\"id\":\"d9b04c9e-1436-46ef-99cc-c5d707b4d4b8\",\"type\":\"SaveTool\"},{\"attributes\":{},\"id\":\"b8270faa-49b5-43b7-9c15-2354cd731a6e\",\"type\":\"ResetTool\"},{\"attributes\":{},\"id\":\"85100c6c-c4dd-46e7-abfb-591cfeeb9309\",\"type\":\"LinearScale\"},{\"attributes\":{},\"id\":\"95dc0def-1fb4-447f-b171-e6b4d27393ec\",\"type\":\"WheelZoomTool\"},{\"attributes\":{\"formatter\":{\"id\":\"8ff5112c-3057-402b-b821-75ca5960d371\",\"type\":\"BasicTickFormatter\"},\"plot\":{\"id\":\"dd3753fd-2a96-4bdf-8199-e0496fb11107\",\"subtype\":\"Figure\",\"type\":\"Plot\"},\"ticker\":{\"id\":\"e92ce265-8249-4aca-83b6-fc9f80b8221a\",\"type\":\"BasicTicker\"}},\"id\":\"7ac53861-d664-45e6-a7d2-dd2b69153092\",\"type\":\"LinearAxis\"},{\"attributes\":{\"formatter\":{\"id\":\"489459de-a783-4364-86d7-04b3b6b9e808\",\"type\":\"CategoricalTickFormatter\"},\"plot\":{\"id\":\"dd3753fd-2a96-4bdf-8199-e0496fb11107\",\"subtype\":\"Figure\",\"type\":\"Plot\"},\"ticker\":{\"id\":\"43a7a82a-c02e-4954-a41f-b7601b5178d2\",\"type\":\"CategoricalTicker\"}},\"id\":\"48026012-1479-4f46-b47c-b592c68fc9d0\",\"type\":\"CategoricalAxis\"},{\"attributes\":{\"source\":{\"id\":\"b3a00376-6855-4c32-9470-910d450c0bfc\",\"type\":\"ColumnDataSource\"}},\"id\":\"143f864c-58f9-4be8-b9b8-4641318a37a5\",\"type\":\"CDSView\"},{\"attributes\":{},\"id\":\"8ff5112c-3057-402b-b821-75ca5960d371\",\"type\":\"BasicTickFormatter\"},{\"attributes\":{\"active_drag\":\"auto\",\"active_inspect\":\"auto\",\"active_multi\":null,\"active_scroll\":\"auto\",\"active_tap\":\"auto\",\"tools\":[{\"id\":\"9eb33106-b8d4-47e8-8e89-6688f82f885f\",\"type\":\"PanTool\"},{\"id\":\"95dc0def-1fb4-447f-b171-e6b4d27393ec\",\"type\":\"WheelZoomTool\"},{\"id\":\"6ddd734b-ea40-4213-be56-06a806d287c2\",\"type\":\"BoxZoomTool\"},{\"id\":\"d9b04c9e-1436-46ef-99cc-c5d707b4d4b8\",\"type\":\"SaveTool\"},{\"id\":\"b8270faa-49b5-43b7-9c15-2354cd731a6e\",\"type\":\"ResetTool\"},{\"id\":\"1397ccd4-154b-45af-9040-87376881031f\",\"type\":\"HelpTool\"}]},\"id\":\"34bcbec7-96c3-4881-9ce9-06220b703ab9\",\"type\":\"Toolbar\"}],\"root_ids\":[\"dd3753fd-2a96-4bdf-8199-e0496fb11107\"]},\"title\":\"Bokeh Application\",\"version\":\"0.13.0\"}};\n",
       "  var render_items = [{\"docid\":\"00e3138d-42c0-4a81-9338-442c1665efda\",\"roots\":{\"dd3753fd-2a96-4bdf-8199-e0496fb11107\":\"f5ebd021-02f6-4d41-96a8-d49373e28b7f\"}}];\n",
       "  root.Bokeh.embed.embed_items_notebook(docs_json, render_items);\n",
       "\n",
       "  }\n",
       "  if (root.Bokeh !== undefined) {\n",
       "    embed_document(root);\n",
       "  } else {\n",
       "    var attempts = 0;\n",
       "    var timer = setInterval(function(root) {\n",
       "      if (root.Bokeh !== undefined) {\n",
       "        embed_document(root);\n",
       "        clearInterval(timer);\n",
       "      }\n",
       "      attempts++;\n",
       "      if (attempts > 100) {\n",
       "        console.log(\"Bokeh: ERROR: Unable to run BokehJS code because BokehJS library is missing\")\n",
       "        clearInterval(timer);\n",
       "      }\n",
       "    }, 10, root)\n",
       "  }\n",
       "})(window);"
      ],
      "application/vnd.bokehjs_exec.v0+json": ""
     },
     "metadata": {
      "application/vnd.bokehjs_exec.v0+json": {
       "id": "dd3753fd-2a96-4bdf-8199-e0496fb11107"
      }
     },
     "output_type": "display_data"
    }
   ],
   "source": [
    "g = create_gv()\n",
    "#g + geom_bar()\n",
    "g.vbar(x='class', top='counts', width=0.9, bottom=0, source = mpg_plot)\n",
    "show(g)"
   ]
  },
  {
   "cell_type": "code",
   "execution_count": 9,
   "metadata": {},
   "outputs": [
    {
     "data": {
      "text/html": [
       "\n",
       "\n",
       "\n",
       "\n",
       "\n",
       "\n",
       "  <div class=\"bk-root\" id=\"c2579e23-4c0f-43b5-b234-ca5b03322bc5\"></div>\n"
      ]
     },
     "metadata": {},
     "output_type": "display_data"
    },
    {
     "data": {
      "application/javascript": [
       "(function(root) {\n",
       "  function embed_document(root) {\n",
       "    \n",
       "  var docs_json = {\"4ef2c6ff-8ada-4bf9-9a3d-75746532d0b0\":{\"roots\":{\"references\":[{\"attributes\":{},\"id\":\"11a6f416-fc7b-401e-a9c0-9b83346aef70\",\"type\":\"CategoricalTickFormatter\"},{\"attributes\":{},\"id\":\"a002ad0b-4991-47ba-9728-54d968dd5d75\",\"type\":\"PanTool\"},{\"attributes\":{\"plot\":null,\"text\":\"My plot\"},\"id\":\"2ed5630a-7879-47f8-a21f-bce5cbde987a\",\"type\":\"Title\"},{\"attributes\":{},\"id\":\"bec6d6ae-24bf-48b6-86de-bd8ccb81c5ec\",\"type\":\"WheelZoomTool\"},{\"attributes\":{\"callback\":null,\"factors\":[\"2seater\",\"compact\",\"midsize\",\"minivan\",\"pickup\",\"subcompact\",\"suv\"]},\"id\":\"0bad2bd7-0a43-40bf-af80-f4a7aeddc2f9\",\"type\":\"FactorRange\"},{\"attributes\":{\"overlay\":{\"id\":\"0a362644-9ab2-41be-bed0-3837dc64b77b\",\"type\":\"BoxAnnotation\"}},\"id\":\"59849fce-ae75-4e09-b470-420bc05d1d04\",\"type\":\"BoxZoomTool\"},{\"attributes\":{\"active_drag\":\"auto\",\"active_inspect\":\"auto\",\"active_multi\":null,\"active_scroll\":\"auto\",\"active_tap\":\"auto\",\"tools\":[{\"id\":\"a002ad0b-4991-47ba-9728-54d968dd5d75\",\"type\":\"PanTool\"},{\"id\":\"bec6d6ae-24bf-48b6-86de-bd8ccb81c5ec\",\"type\":\"WheelZoomTool\"},{\"id\":\"59849fce-ae75-4e09-b470-420bc05d1d04\",\"type\":\"BoxZoomTool\"},{\"id\":\"59c8ac53-757a-4915-9bea-440ec983be99\",\"type\":\"SaveTool\"},{\"id\":\"7560184a-0f4a-4411-b2b9-44190735a428\",\"type\":\"ResetTool\"},{\"id\":\"045f6c60-e44c-4d28-a613-eebdb22741ec\",\"type\":\"HelpTool\"}]},\"id\":\"90f05e85-9a60-4880-919a-dfb7ff4b914b\",\"type\":\"Toolbar\"},{\"attributes\":{},\"id\":\"59c8ac53-757a-4915-9bea-440ec983be99\",\"type\":\"SaveTool\"},{\"attributes\":{\"formatter\":{\"id\":\"dc7b0989-4b83-4e35-b0ad-8d6488f7f196\",\"type\":\"BasicTickFormatter\"},\"plot\":{\"id\":\"f9da77dd-8c15-43e0-a6a5-1a7a43122767\",\"subtype\":\"Figure\",\"type\":\"Plot\"},\"ticker\":{\"id\":\"8a7ca5a3-5c0d-447a-8fce-0d484321091b\",\"type\":\"BasicTicker\"}},\"id\":\"6f5aba5e-32f8-482b-859e-280535640a55\",\"type\":\"LinearAxis\"},{\"attributes\":{},\"id\":\"7560184a-0f4a-4411-b2b9-44190735a428\",\"type\":\"ResetTool\"},{\"attributes\":{},\"id\":\"6a34033c-ef1d-449e-991a-936c09a4ee98\",\"type\":\"CategoricalScale\"},{\"attributes\":{},\"id\":\"045f6c60-e44c-4d28-a613-eebdb22741ec\",\"type\":\"HelpTool\"},{\"attributes\":{\"callback\":null},\"id\":\"b843bf86-3b28-4c38-a670-d9e64b4b1a20\",\"type\":\"DataRange1d\"},{\"attributes\":{\"bottom_units\":\"screen\",\"fill_alpha\":{\"value\":0.5},\"fill_color\":{\"value\":\"lightgrey\"},\"left_units\":\"screen\",\"level\":\"overlay\",\"line_alpha\":{\"value\":1.0},\"line_color\":{\"value\":\"black\"},\"line_dash\":[4,4],\"line_width\":{\"value\":2},\"plot\":null,\"render_mode\":\"css\",\"right_units\":\"screen\",\"top_units\":\"screen\"},\"id\":\"0a362644-9ab2-41be-bed0-3837dc64b77b\",\"type\":\"BoxAnnotation\"},{\"attributes\":{},\"id\":\"a292dc19-bb4b-4fdd-a4a5-661785e7e9d3\",\"type\":\"LinearScale\"},{\"attributes\":{\"plot\":{\"id\":\"f9da77dd-8c15-43e0-a6a5-1a7a43122767\",\"subtype\":\"Figure\",\"type\":\"Plot\"},\"ticker\":{\"id\":\"ddee3c5c-7591-4bbb-889b-c3e38ffe1417\",\"type\":\"CategoricalTicker\"}},\"id\":\"7c139cbf-3845-419c-87b7-7c3161986426\",\"type\":\"Grid\"},{\"attributes\":{\"callback\":null,\"data\":{\"class\":[\"2seater\",\"compact\",\"midsize\",\"minivan\",\"pickup\",\"subcompact\",\"suv\"],\"displ\":{\"__ndarray__\":\"zczMzMzMPkAyMzMzM1NbQDIzMzMz811AZ2ZmZmamQkCbmZmZmTliQGhmZmZmRldAy8zMzMxEcUA=\",\"dtype\":\"float64\",\"shape\":[7]},\"index\":[0,1,2,3,4,5,6]},\"selected\":{\"id\":\"c73a9e27-14fc-4791-8f58-78affedfd052\",\"type\":\"Selection\"},\"selection_policy\":{\"id\":\"19ccbaaf-ebaf-4bab-86e0-e1d512b6678d\",\"type\":\"UnionRenderers\"}},\"id\":\"0c4d3f3c-ae84-40e1-b6c6-2cb980b7a49d\",\"type\":\"ColumnDataSource\"},{\"attributes\":{},\"id\":\"19ccbaaf-ebaf-4bab-86e0-e1d512b6678d\",\"type\":\"UnionRenderers\"},{\"attributes\":{\"formatter\":{\"id\":\"11a6f416-fc7b-401e-a9c0-9b83346aef70\",\"type\":\"CategoricalTickFormatter\"},\"plot\":{\"id\":\"f9da77dd-8c15-43e0-a6a5-1a7a43122767\",\"subtype\":\"Figure\",\"type\":\"Plot\"},\"ticker\":{\"id\":\"ddee3c5c-7591-4bbb-889b-c3e38ffe1417\",\"type\":\"CategoricalTicker\"}},\"id\":\"ddc688da-f910-4ae7-83d7-0b47d0a2901a\",\"type\":\"CategoricalAxis\"},{\"attributes\":{\"below\":[{\"id\":\"ddc688da-f910-4ae7-83d7-0b47d0a2901a\",\"type\":\"CategoricalAxis\"}],\"left\":[{\"id\":\"6f5aba5e-32f8-482b-859e-280535640a55\",\"type\":\"LinearAxis\"}],\"plot_height\":400,\"renderers\":[{\"id\":\"ddc688da-f910-4ae7-83d7-0b47d0a2901a\",\"type\":\"CategoricalAxis\"},{\"id\":\"7c139cbf-3845-419c-87b7-7c3161986426\",\"type\":\"Grid\"},{\"id\":\"6f5aba5e-32f8-482b-859e-280535640a55\",\"type\":\"LinearAxis\"},{\"id\":\"0064a78b-88da-48a7-a13b-84ba39d073f7\",\"type\":\"Grid\"},{\"id\":\"0a362644-9ab2-41be-bed0-3837dc64b77b\",\"type\":\"BoxAnnotation\"},{\"id\":\"e5138d16-e126-4df0-b9c2-29f1891b6335\",\"type\":\"GlyphRenderer\"}],\"title\":{\"id\":\"2ed5630a-7879-47f8-a21f-bce5cbde987a\",\"type\":\"Title\"},\"toolbar\":{\"id\":\"90f05e85-9a60-4880-919a-dfb7ff4b914b\",\"type\":\"Toolbar\"},\"x_range\":{\"id\":\"0bad2bd7-0a43-40bf-af80-f4a7aeddc2f9\",\"type\":\"FactorRange\"},\"x_scale\":{\"id\":\"6a34033c-ef1d-449e-991a-936c09a4ee98\",\"type\":\"CategoricalScale\"},\"y_range\":{\"id\":\"b843bf86-3b28-4c38-a670-d9e64b4b1a20\",\"type\":\"DataRange1d\"},\"y_scale\":{\"id\":\"a292dc19-bb4b-4fdd-a4a5-661785e7e9d3\",\"type\":\"LinearScale\"}},\"id\":\"f9da77dd-8c15-43e0-a6a5-1a7a43122767\",\"subtype\":\"Figure\",\"type\":\"Plot\"},{\"attributes\":{},\"id\":\"ddee3c5c-7591-4bbb-889b-c3e38ffe1417\",\"type\":\"CategoricalTicker\"},{\"attributes\":{\"fill_alpha\":{\"value\":0.1},\"fill_color\":{\"value\":\"#1f77b4\"},\"line_alpha\":{\"value\":0.1},\"line_color\":{\"value\":\"#1f77b4\"},\"top\":{\"field\":\"displ\"},\"width\":{\"value\":0.9},\"x\":{\"field\":\"class\"}},\"id\":\"18201697-496e-4a45-a0f5-36b281ab43d4\",\"type\":\"VBar\"},{\"attributes\":{},\"id\":\"8a7ca5a3-5c0d-447a-8fce-0d484321091b\",\"type\":\"BasicTicker\"},{\"attributes\":{\"dimension\":1,\"plot\":{\"id\":\"f9da77dd-8c15-43e0-a6a5-1a7a43122767\",\"subtype\":\"Figure\",\"type\":\"Plot\"},\"ticker\":{\"id\":\"8a7ca5a3-5c0d-447a-8fce-0d484321091b\",\"type\":\"BasicTicker\"}},\"id\":\"0064a78b-88da-48a7-a13b-84ba39d073f7\",\"type\":\"Grid\"},{\"attributes\":{},\"id\":\"dc7b0989-4b83-4e35-b0ad-8d6488f7f196\",\"type\":\"BasicTickFormatter\"},{\"attributes\":{\"source\":{\"id\":\"0c4d3f3c-ae84-40e1-b6c6-2cb980b7a49d\",\"type\":\"ColumnDataSource\"}},\"id\":\"c9a517d5-9ee2-440a-a7f4-30fbb6b65ff7\",\"type\":\"CDSView\"},{\"attributes\":{\"fill_color\":{\"value\":\"#1f77b4\"},\"line_color\":{\"value\":\"#1f77b4\"},\"top\":{\"field\":\"displ\"},\"width\":{\"value\":0.9},\"x\":{\"field\":\"class\"}},\"id\":\"ae3c7715-29e7-44bc-aade-c2fd5531d711\",\"type\":\"VBar\"},{\"attributes\":{},\"id\":\"c73a9e27-14fc-4791-8f58-78affedfd052\",\"type\":\"Selection\"},{\"attributes\":{\"data_source\":{\"id\":\"0c4d3f3c-ae84-40e1-b6c6-2cb980b7a49d\",\"type\":\"ColumnDataSource\"},\"glyph\":{\"id\":\"ae3c7715-29e7-44bc-aade-c2fd5531d711\",\"type\":\"VBar\"},\"hover_glyph\":null,\"muted_glyph\":null,\"nonselection_glyph\":{\"id\":\"18201697-496e-4a45-a0f5-36b281ab43d4\",\"type\":\"VBar\"},\"selection_glyph\":null,\"view\":{\"id\":\"c9a517d5-9ee2-440a-a7f4-30fbb6b65ff7\",\"type\":\"CDSView\"}},\"id\":\"e5138d16-e126-4df0-b9c2-29f1891b6335\",\"type\":\"GlyphRenderer\"}],\"root_ids\":[\"f9da77dd-8c15-43e0-a6a5-1a7a43122767\"]},\"title\":\"Bokeh Application\",\"version\":\"0.13.0\"}};\n",
       "  var render_items = [{\"docid\":\"4ef2c6ff-8ada-4bf9-9a3d-75746532d0b0\",\"roots\":{\"f9da77dd-8c15-43e0-a6a5-1a7a43122767\":\"c2579e23-4c0f-43b5-b234-ca5b03322bc5\"}}];\n",
       "  root.Bokeh.embed.embed_items_notebook(docs_json, render_items);\n",
       "\n",
       "  }\n",
       "  if (root.Bokeh !== undefined) {\n",
       "    embed_document(root);\n",
       "  } else {\n",
       "    var attempts = 0;\n",
       "    var timer = setInterval(function(root) {\n",
       "      if (root.Bokeh !== undefined) {\n",
       "        embed_document(root);\n",
       "        clearInterval(timer);\n",
       "      }\n",
       "      attempts++;\n",
       "      if (attempts > 100) {\n",
       "        console.log(\"Bokeh: ERROR: Unable to run BokehJS code because BokehJS library is missing\")\n",
       "        clearInterval(timer);\n",
       "      }\n",
       "    }, 10, root)\n",
       "  }\n",
       "})(window);"
      ],
      "application/vnd.bokehjs_exec.v0+json": ""
     },
     "metadata": {
      "application/vnd.bokehjs_exec.v0+json": {
       "id": "f9da77dd-8c15-43e0-a6a5-1a7a43122767"
      }
     },
     "output_type": "display_data"
    }
   ],
   "source": [
    "g = create_gv()\n",
    "#g + geom_bar(aes(weight = displ))\n",
    "mpg_plot = mpg[['class','displ']].groupby(by='class',as_index=False).sum()\n",
    "g.vbar(x='class', top='displ', width=0.9, bottom=0, source = mpg_plot)\n",
    "show(g)"
   ]
  },
  {
   "cell_type": "code",
   "execution_count": 10,
   "metadata": {},
   "outputs": [
    {
     "data": {
      "text/html": [
       "\n",
       "\n",
       "\n",
       "\n",
       "\n",
       "\n",
       "  <div class=\"bk-root\" id=\"99e7c40e-f986-474c-a4d8-fafce1bb1095\"></div>\n"
      ]
     },
     "metadata": {},
     "output_type": "display_data"
    },
    {
     "data": {
      "application/javascript": [
       "(function(root) {\n",
       "  function embed_document(root) {\n",
       "    \n",
       "  var docs_json = {\"b037fdff-16a9-449f-9b17-2226b02f94a7\":{\"roots\":{\"references\":[{\"attributes\":{},\"id\":\"cd77e124-59c0-45a0-8a09-1d64f96a37b9\",\"type\":\"CategoricalTickFormatter\"},{\"attributes\":{},\"id\":\"67995f75-f61e-4ad4-bbe5-35661ed04a83\",\"type\":\"BasicTicker\"},{\"attributes\":{\"bottom\":{\"expr\":{\"id\":\"7050a681-8a3a-41d4-9afc-7117abf6cf2d\",\"type\":\"Stack\"}},\"fill_alpha\":{\"value\":0.1},\"fill_color\":{\"value\":\"#1f77b4\"},\"line_alpha\":{\"value\":0.1},\"line_color\":{\"value\":\"#1f77b4\"},\"top\":{\"expr\":{\"id\":\"5895321f-fcab-437e-b2b2-1009a1b03968\",\"type\":\"Stack\"}},\"width\":{\"value\":0.9},\"x\":{\"field\":\"class\"}},\"id\":\"d19e6456-d655-487d-bab7-d3856825f859\",\"type\":\"VBar\"},{\"attributes\":{},\"id\":\"1ff09fc6-bb3a-4693-854e-395b2ac9c01e\",\"type\":\"BasicTickFormatter\"},{\"attributes\":{\"active_drag\":\"auto\",\"active_inspect\":\"auto\",\"active_multi\":null,\"active_scroll\":\"auto\",\"active_tap\":\"auto\",\"tools\":[{\"id\":\"c065e6d1-8667-4789-9130-92412ee6b2b5\",\"type\":\"PanTool\"},{\"id\":\"c8037993-7d21-45b1-a837-fa80c9f68c37\",\"type\":\"WheelZoomTool\"},{\"id\":\"a3ba698d-6906-4860-8a7d-f811f4fa43aa\",\"type\":\"BoxZoomTool\"},{\"id\":\"da7191a5-b5f3-4543-b4fa-0008cb4f9cac\",\"type\":\"SaveTool\"},{\"id\":\"06765612-68c7-40e6-8b1e-1ca1daa12d31\",\"type\":\"ResetTool\"},{\"id\":\"3bdb0f7f-432c-4dc6-8928-a10c26744d4d\",\"type\":\"HelpTool\"}]},\"id\":\"f5235a5c-a26b-4797-ac11-ab4942799d42\",\"type\":\"Toolbar\"},{\"attributes\":{\"label\":{\"value\":\"r\"},\"renderers\":[{\"id\":\"f37db4fe-b774-43c8-b2c4-977a05d3e7a7\",\"type\":\"GlyphRenderer\"}]},\"id\":\"f4d653c3-a219-4eca-bbfa-b53a8d856252\",\"type\":\"LegendItem\"},{\"attributes\":{\"source\":{\"id\":\"4520d342-9aae-42d4-871f-e3f49b192374\",\"type\":\"ColumnDataSource\"}},\"id\":\"d3867e63-e3e2-48c8-acec-2c3b599ab390\",\"type\":\"CDSView\"},{\"attributes\":{\"fields\":[\"4\"]},\"id\":\"5895321f-fcab-437e-b2b2-1009a1b03968\",\"type\":\"Stack\"},{\"attributes\":{\"data_source\":{\"id\":\"4520d342-9aae-42d4-871f-e3f49b192374\",\"type\":\"ColumnDataSource\"},\"glyph\":{\"id\":\"0fa3f21c-e085-428e-93af-8c32e4703e26\",\"type\":\"VBar\"},\"hover_glyph\":null,\"muted_glyph\":null,\"name\":\"4\",\"nonselection_glyph\":{\"id\":\"d19e6456-d655-487d-bab7-d3856825f859\",\"type\":\"VBar\"},\"selection_glyph\":null,\"view\":{\"id\":\"d3867e63-e3e2-48c8-acec-2c3b599ab390\",\"type\":\"CDSView\"}},\"id\":\"6f797626-279b-49e6-a946-b6e61375ebdd\",\"type\":\"GlyphRenderer\"},{\"attributes\":{\"formatter\":{\"id\":\"cd77e124-59c0-45a0-8a09-1d64f96a37b9\",\"type\":\"CategoricalTickFormatter\"},\"plot\":{\"id\":\"28051430-7936-4fce-ba57-f08d6a3449f4\",\"subtype\":\"Figure\",\"type\":\"Plot\"},\"ticker\":{\"id\":\"d549aa07-34fd-459a-a823-fc8599242fe5\",\"type\":\"CategoricalTicker\"}},\"id\":\"f1533218-4cec-4ffd-9651-aab44e5e19cd\",\"type\":\"CategoricalAxis\"},{\"attributes\":{\"items\":[{\"id\":\"eb3f036e-c46d-4ff6-84d8-a558de6c8bd5\",\"type\":\"LegendItem\"},{\"id\":\"6daf2ee9-b669-4bae-b58e-d2c5008530fb\",\"type\":\"LegendItem\"},{\"id\":\"f4d653c3-a219-4eca-bbfa-b53a8d856252\",\"type\":\"LegendItem\"}],\"location\":\"top_left\",\"plot\":{\"id\":\"28051430-7936-4fce-ba57-f08d6a3449f4\",\"subtype\":\"Figure\",\"type\":\"Plot\"}},\"id\":\"2addb743-6f8e-4a64-bcc3-51817ac04dcb\",\"type\":\"Legend\"},{\"attributes\":{},\"id\":\"1951e851-54b9-4237-981f-ff779f35a88f\",\"type\":\"LinearScale\"},{\"attributes\":{\"label\":{\"value\":\"4\"},\"renderers\":[{\"id\":\"6f797626-279b-49e6-a946-b6e61375ebdd\",\"type\":\"GlyphRenderer\"}]},\"id\":\"eb3f036e-c46d-4ff6-84d8-a558de6c8bd5\",\"type\":\"LegendItem\"},{\"attributes\":{\"callback\":null,\"data\":{\"4\":[0,12,3,0,33,4,51],\"class\":[\"2seater\",\"compact\",\"midsize\",\"minivan\",\"pickup\",\"subcompact\",\"suv\"],\"f\":[0,35,38,11,0,22,0],\"r\":[5,0,0,0,0,9,11]},\"selected\":{\"id\":\"92686289-4d1f-4421-975b-3a15fa79e453\",\"type\":\"Selection\"},\"selection_policy\":{\"id\":\"f7c695bc-1234-4332-a97a-88b08b11e3e4\",\"type\":\"UnionRenderers\"}},\"id\":\"a70a9a0a-0358-409b-a0ea-8102007b258c\",\"type\":\"ColumnDataSource\"},{\"attributes\":{},\"id\":\"d549aa07-34fd-459a-a823-fc8599242fe5\",\"type\":\"CategoricalTicker\"},{\"attributes\":{\"bottom\":{\"expr\":{\"id\":\"eafaa034-be84-40d5-93c4-c2f980bcfb9b\",\"type\":\"Stack\"}},\"fill_color\":{\"value\":\"#99d594\"},\"line_color\":{\"value\":\"#99d594\"},\"top\":{\"expr\":{\"id\":\"dbe178a8-f9ee-4214-bc12-bc53ea19d7a1\",\"type\":\"Stack\"}},\"width\":{\"value\":0.9},\"x\":{\"field\":\"class\"}},\"id\":\"58984254-9e29-449d-ae37-4de05b71574d\",\"type\":\"VBar\"},{\"attributes\":{\"dimension\":1,\"plot\":{\"id\":\"28051430-7936-4fce-ba57-f08d6a3449f4\",\"subtype\":\"Figure\",\"type\":\"Plot\"},\"ticker\":{\"id\":\"67995f75-f61e-4ad4-bbe5-35661ed04a83\",\"type\":\"BasicTicker\"}},\"id\":\"2b874726-5b70-444c-95f6-5e683a2ff071\",\"type\":\"Grid\"},{\"attributes\":{},\"id\":\"5dadfd73-3712-4e3f-9040-615de2b60292\",\"type\":\"UnionRenderers\"},{\"attributes\":{\"source\":{\"id\":\"a70a9a0a-0358-409b-a0ea-8102007b258c\",\"type\":\"ColumnDataSource\"}},\"id\":\"5b363455-4e2d-40d5-8556-2b8ff32b7aa3\",\"type\":\"CDSView\"},{\"attributes\":{\"plot\":{\"id\":\"28051430-7936-4fce-ba57-f08d6a3449f4\",\"subtype\":\"Figure\",\"type\":\"Plot\"},\"ticker\":{\"id\":\"d549aa07-34fd-459a-a823-fc8599242fe5\",\"type\":\"CategoricalTicker\"}},\"id\":\"f04be538-3400-4fc1-a62a-45dd2b61f233\",\"type\":\"Grid\"},{\"attributes\":{\"data_source\":{\"id\":\"a70a9a0a-0358-409b-a0ea-8102007b258c\",\"type\":\"ColumnDataSource\"},\"glyph\":{\"id\":\"58984254-9e29-449d-ae37-4de05b71574d\",\"type\":\"VBar\"},\"hover_glyph\":null,\"muted_glyph\":null,\"name\":\"f\",\"nonselection_glyph\":{\"id\":\"efc2458d-2110-4aca-b4c8-22a778350fd8\",\"type\":\"VBar\"},\"selection_glyph\":null,\"view\":{\"id\":\"5b363455-4e2d-40d5-8556-2b8ff32b7aa3\",\"type\":\"CDSView\"}},\"id\":\"0202ff9c-3cb6-4978-9d0f-bb897a7c757b\",\"type\":\"GlyphRenderer\"},{\"attributes\":{\"plot\":null,\"text\":\"My plot\"},\"id\":\"3dd0e414-e98f-439c-9cef-f9f814e0d0e4\",\"type\":\"Title\"},{\"attributes\":{\"bottom\":{\"expr\":{\"id\":\"eafaa034-be84-40d5-93c4-c2f980bcfb9b\",\"type\":\"Stack\"}},\"fill_alpha\":{\"value\":0.1},\"fill_color\":{\"value\":\"#1f77b4\"},\"line_alpha\":{\"value\":0.1},\"line_color\":{\"value\":\"#1f77b4\"},\"top\":{\"expr\":{\"id\":\"dbe178a8-f9ee-4214-bc12-bc53ea19d7a1\",\"type\":\"Stack\"}},\"width\":{\"value\":0.9},\"x\":{\"field\":\"class\"}},\"id\":\"efc2458d-2110-4aca-b4c8-22a778350fd8\",\"type\":\"VBar\"},{\"attributes\":{\"callback\":null,\"data\":{\"4\":[0,12,3,0,33,4,51],\"class\":[\"2seater\",\"compact\",\"midsize\",\"minivan\",\"pickup\",\"subcompact\",\"suv\"],\"f\":[0,35,38,11,0,22,0],\"r\":[5,0,0,0,0,9,11]},\"selected\":{\"id\":\"4d16c814-27f4-44e2-8096-b2654bba195e\",\"type\":\"Selection\"},\"selection_policy\":{\"id\":\"c761e77e-d2b3-44f1-aedf-7b6f2e218e87\",\"type\":\"UnionRenderers\"}},\"id\":\"d7c5e8db-296d-4c37-80f8-c6fe0753e45e\",\"type\":\"ColumnDataSource\"},{\"attributes\":{\"below\":[{\"id\":\"f1533218-4cec-4ffd-9651-aab44e5e19cd\",\"type\":\"CategoricalAxis\"}],\"left\":[{\"id\":\"f27cb334-53b3-4afe-a70b-fe8f47696508\",\"type\":\"LinearAxis\"}],\"plot_height\":400,\"renderers\":[{\"id\":\"f1533218-4cec-4ffd-9651-aab44e5e19cd\",\"type\":\"CategoricalAxis\"},{\"id\":\"f04be538-3400-4fc1-a62a-45dd2b61f233\",\"type\":\"Grid\"},{\"id\":\"f27cb334-53b3-4afe-a70b-fe8f47696508\",\"type\":\"LinearAxis\"},{\"id\":\"2b874726-5b70-444c-95f6-5e683a2ff071\",\"type\":\"Grid\"},{\"id\":\"08db3c62-352a-4e80-9f98-f3aee56b4011\",\"type\":\"BoxAnnotation\"},{\"id\":\"2addb743-6f8e-4a64-bcc3-51817ac04dcb\",\"type\":\"Legend\"},{\"id\":\"6f797626-279b-49e6-a946-b6e61375ebdd\",\"type\":\"GlyphRenderer\"},{\"id\":\"0202ff9c-3cb6-4978-9d0f-bb897a7c757b\",\"type\":\"GlyphRenderer\"},{\"id\":\"f37db4fe-b774-43c8-b2c4-977a05d3e7a7\",\"type\":\"GlyphRenderer\"}],\"title\":{\"id\":\"3dd0e414-e98f-439c-9cef-f9f814e0d0e4\",\"type\":\"Title\"},\"toolbar\":{\"id\":\"f5235a5c-a26b-4797-ac11-ab4942799d42\",\"type\":\"Toolbar\"},\"x_range\":{\"id\":\"8102a323-f0c9-4bff-8ccb-683772308541\",\"type\":\"FactorRange\"},\"x_scale\":{\"id\":\"130334f4-fa91-4825-9075-8bcb09531423\",\"type\":\"CategoricalScale\"},\"y_range\":{\"id\":\"630aa7da-752e-4f85-87f4-0bffd93a21da\",\"type\":\"DataRange1d\"},\"y_scale\":{\"id\":\"1951e851-54b9-4237-981f-ff779f35a88f\",\"type\":\"LinearScale\"}},\"id\":\"28051430-7936-4fce-ba57-f08d6a3449f4\",\"subtype\":\"Figure\",\"type\":\"Plot\"},{\"attributes\":{},\"id\":\"85c076bd-2f06-4db1-918a-62e1dfe3a602\",\"type\":\"Selection\"},{\"attributes\":{\"formatter\":{\"id\":\"1ff09fc6-bb3a-4693-854e-395b2ac9c01e\",\"type\":\"BasicTickFormatter\"},\"plot\":{\"id\":\"28051430-7936-4fce-ba57-f08d6a3449f4\",\"subtype\":\"Figure\",\"type\":\"Plot\"},\"ticker\":{\"id\":\"67995f75-f61e-4ad4-bbe5-35661ed04a83\",\"type\":\"BasicTicker\"}},\"id\":\"f27cb334-53b3-4afe-a70b-fe8f47696508\",\"type\":\"LinearAxis\"},{\"attributes\":{\"label\":{\"value\":\"f\"},\"renderers\":[{\"id\":\"0202ff9c-3cb6-4978-9d0f-bb897a7c757b\",\"type\":\"GlyphRenderer\"}]},\"id\":\"6daf2ee9-b669-4bae-b58e-d2c5008530fb\",\"type\":\"LegendItem\"},{\"attributes\":{},\"id\":\"c761e77e-d2b3-44f1-aedf-7b6f2e218e87\",\"type\":\"UnionRenderers\"},{\"attributes\":{\"fields\":[]},\"id\":\"7050a681-8a3a-41d4-9afc-7117abf6cf2d\",\"type\":\"Stack\"},{\"attributes\":{\"callback\":null,\"data\":{\"4\":[0,12,3,0,33,4,51],\"class\":[\"2seater\",\"compact\",\"midsize\",\"minivan\",\"pickup\",\"subcompact\",\"suv\"],\"f\":[0,35,38,11,0,22,0],\"r\":[5,0,0,0,0,9,11]},\"selected\":{\"id\":\"85c076bd-2f06-4db1-918a-62e1dfe3a602\",\"type\":\"Selection\"},\"selection_policy\":{\"id\":\"5dadfd73-3712-4e3f-9040-615de2b60292\",\"type\":\"UnionRenderers\"}},\"id\":\"4520d342-9aae-42d4-871f-e3f49b192374\",\"type\":\"ColumnDataSource\"},{\"attributes\":{\"bottom\":{\"expr\":{\"id\":\"5bcd99a1-04a3-4113-86f6-8f8d911f6a7b\",\"type\":\"Stack\"}},\"fill_color\":{\"value\":\"#d53e4f\"},\"line_color\":{\"value\":\"#d53e4f\"},\"top\":{\"expr\":{\"id\":\"cd8ae29e-f007-4d74-91da-f6225ab01a0f\",\"type\":\"Stack\"}},\"width\":{\"value\":0.9},\"x\":{\"field\":\"class\"}},\"id\":\"4c55da7a-802a-4ddd-871b-223df463c952\",\"type\":\"VBar\"},{\"attributes\":{\"fields\":[\"4\",\"f\"]},\"id\":\"dbe178a8-f9ee-4214-bc12-bc53ea19d7a1\",\"type\":\"Stack\"},{\"attributes\":{},\"id\":\"f7c695bc-1234-4332-a97a-88b08b11e3e4\",\"type\":\"UnionRenderers\"},{\"attributes\":{},\"id\":\"130334f4-fa91-4825-9075-8bcb09531423\",\"type\":\"CategoricalScale\"},{\"attributes\":{\"source\":{\"id\":\"d7c5e8db-296d-4c37-80f8-c6fe0753e45e\",\"type\":\"ColumnDataSource\"}},\"id\":\"06463d87-6367-415a-98f9-fd376436850b\",\"type\":\"CDSView\"},{\"attributes\":{\"callback\":null},\"id\":\"630aa7da-752e-4f85-87f4-0bffd93a21da\",\"type\":\"DataRange1d\"},{\"attributes\":{\"data_source\":{\"id\":\"d7c5e8db-296d-4c37-80f8-c6fe0753e45e\",\"type\":\"ColumnDataSource\"},\"glyph\":{\"id\":\"4c55da7a-802a-4ddd-871b-223df463c952\",\"type\":\"VBar\"},\"hover_glyph\":null,\"muted_glyph\":null,\"name\":\"r\",\"nonselection_glyph\":{\"id\":\"673de17b-2609-40bd-aaff-12a50864bf2a\",\"type\":\"VBar\"},\"selection_glyph\":null,\"view\":{\"id\":\"06463d87-6367-415a-98f9-fd376436850b\",\"type\":\"CDSView\"}},\"id\":\"f37db4fe-b774-43c8-b2c4-977a05d3e7a7\",\"type\":\"GlyphRenderer\"},{\"attributes\":{\"callback\":null,\"factors\":[\"2seater\",\"compact\",\"midsize\",\"minivan\",\"pickup\",\"subcompact\",\"suv\"]},\"id\":\"8102a323-f0c9-4bff-8ccb-683772308541\",\"type\":\"FactorRange\"},{\"attributes\":{\"bottom\":{\"expr\":{\"id\":\"5bcd99a1-04a3-4113-86f6-8f8d911f6a7b\",\"type\":\"Stack\"}},\"fill_alpha\":{\"value\":0.1},\"fill_color\":{\"value\":\"#1f77b4\"},\"line_alpha\":{\"value\":0.1},\"line_color\":{\"value\":\"#1f77b4\"},\"top\":{\"expr\":{\"id\":\"cd8ae29e-f007-4d74-91da-f6225ab01a0f\",\"type\":\"Stack\"}},\"width\":{\"value\":0.9},\"x\":{\"field\":\"class\"}},\"id\":\"673de17b-2609-40bd-aaff-12a50864bf2a\",\"type\":\"VBar\"},{\"attributes\":{},\"id\":\"c065e6d1-8667-4789-9130-92412ee6b2b5\",\"type\":\"PanTool\"},{\"attributes\":{\"fields\":[\"4\"]},\"id\":\"eafaa034-be84-40d5-93c4-c2f980bcfb9b\",\"type\":\"Stack\"},{\"attributes\":{},\"id\":\"92686289-4d1f-4421-975b-3a15fa79e453\",\"type\":\"Selection\"},{\"attributes\":{},\"id\":\"c8037993-7d21-45b1-a837-fa80c9f68c37\",\"type\":\"WheelZoomTool\"},{\"attributes\":{\"overlay\":{\"id\":\"08db3c62-352a-4e80-9f98-f3aee56b4011\",\"type\":\"BoxAnnotation\"}},\"id\":\"a3ba698d-6906-4860-8a7d-f811f4fa43aa\",\"type\":\"BoxZoomTool\"},{\"attributes\":{},\"id\":\"4d16c814-27f4-44e2-8096-b2654bba195e\",\"type\":\"Selection\"},{\"attributes\":{},\"id\":\"da7191a5-b5f3-4543-b4fa-0008cb4f9cac\",\"type\":\"SaveTool\"},{\"attributes\":{},\"id\":\"06765612-68c7-40e6-8b1e-1ca1daa12d31\",\"type\":\"ResetTool\"},{\"attributes\":{},\"id\":\"3bdb0f7f-432c-4dc6-8928-a10c26744d4d\",\"type\":\"HelpTool\"},{\"attributes\":{\"bottom\":{\"expr\":{\"id\":\"7050a681-8a3a-41d4-9afc-7117abf6cf2d\",\"type\":\"Stack\"}},\"fill_color\":{\"value\":\"#3288bd\"},\"line_color\":{\"value\":\"#3288bd\"},\"top\":{\"expr\":{\"id\":\"5895321f-fcab-437e-b2b2-1009a1b03968\",\"type\":\"Stack\"}},\"width\":{\"value\":0.9},\"x\":{\"field\":\"class\"}},\"id\":\"0fa3f21c-e085-428e-93af-8c32e4703e26\",\"type\":\"VBar\"},{\"attributes\":{\"bottom_units\":\"screen\",\"fill_alpha\":{\"value\":0.5},\"fill_color\":{\"value\":\"lightgrey\"},\"left_units\":\"screen\",\"level\":\"overlay\",\"line_alpha\":{\"value\":1.0},\"line_color\":{\"value\":\"black\"},\"line_dash\":[4,4],\"line_width\":{\"value\":2},\"plot\":null,\"render_mode\":\"css\",\"right_units\":\"screen\",\"top_units\":\"screen\"},\"id\":\"08db3c62-352a-4e80-9f98-f3aee56b4011\",\"type\":\"BoxAnnotation\"},{\"attributes\":{\"fields\":[\"4\",\"f\",\"r\"]},\"id\":\"cd8ae29e-f007-4d74-91da-f6225ab01a0f\",\"type\":\"Stack\"},{\"attributes\":{\"fields\":[\"4\",\"f\"]},\"id\":\"5bcd99a1-04a3-4113-86f6-8f8d911f6a7b\",\"type\":\"Stack\"}],\"root_ids\":[\"28051430-7936-4fce-ba57-f08d6a3449f4\"]},\"title\":\"Bokeh Application\",\"version\":\"0.13.0\"}};\n",
       "  var render_items = [{\"docid\":\"b037fdff-16a9-449f-9b17-2226b02f94a7\",\"roots\":{\"28051430-7936-4fce-ba57-f08d6a3449f4\":\"99e7c40e-f986-474c-a4d8-fafce1bb1095\"}}];\n",
       "  root.Bokeh.embed.embed_items_notebook(docs_json, render_items);\n",
       "\n",
       "  }\n",
       "  if (root.Bokeh !== undefined) {\n",
       "    embed_document(root);\n",
       "  } else {\n",
       "    var attempts = 0;\n",
       "    var timer = setInterval(function(root) {\n",
       "      if (root.Bokeh !== undefined) {\n",
       "        embed_document(root);\n",
       "        clearInterval(timer);\n",
       "      }\n",
       "      attempts++;\n",
       "      if (attempts > 100) {\n",
       "        console.log(\"Bokeh: ERROR: Unable to run BokehJS code because BokehJS library is missing\")\n",
       "        clearInterval(timer);\n",
       "      }\n",
       "    }, 10, root)\n",
       "  }\n",
       "})(window);"
      ],
      "application/vnd.bokehjs_exec.v0+json": ""
     },
     "metadata": {
      "application/vnd.bokehjs_exec.v0+json": {
       "id": "28051430-7936-4fce-ba57-f08d6a3449f4"
      }
     },
     "output_type": "display_data"
    }
   ],
   "source": [
    "from bokeh.core.properties import value\n",
    "from bokeh.palettes import Spectral6\n",
    "\n",
    "mycolors = [Spectral6[0],Spectral6[1],Spectral6[5]]\n",
    "mpg_plot = mpg[['class','drv','counts']].groupby(by=['class','drv']).count().unstack(fill_value=0)\n",
    "mylegend = [colname[1] for colname in mpg_plot.columns]\n",
    "mpg_plot.columns = mylegend\n",
    "mpg_plot['class'] = mpg_plot.index\n",
    "g = create_gv()\n",
    "#g + geom_bar(aes(fill = drv))\n",
    "g.vbar_stack(mylegend, x='class', width=0.9, source = mpg_plot,\n",
    "             color = mycolors,\n",
    "             legend = [value(colname) for colname in mylegend])\n",
    "g.legend.location = \"top_left\"\n",
    "show(g)"
   ]
  },
  {
   "cell_type": "code",
   "execution_count": 11,
   "metadata": {},
   "outputs": [
    {
     "data": {
      "text/html": [
       "\n",
       "\n",
       "\n",
       "\n",
       "\n",
       "\n",
       "  <div class=\"bk-root\" id=\"442f30cc-3eef-4862-afc1-a5cd2b8c99e9\"></div>\n"
      ]
     },
     "metadata": {},
     "output_type": "display_data"
    },
    {
     "data": {
      "application/javascript": [
       "(function(root) {\n",
       "  function embed_document(root) {\n",
       "    \n",
       "  var docs_json = {\"2945dfb1-cd63-4c86-aa32-a602d4e43e12\":{\"roots\":{\"references\":[{\"attributes\":{\"data_source\":{\"id\":\"fc93fd10-561b-46f1-a77f-7e491b8b2ef0\",\"type\":\"ColumnDataSource\"},\"glyph\":{\"id\":\"94d2ceb4-4730-432d-96dd-94690e6609ef\",\"type\":\"HBar\"},\"hover_glyph\":null,\"muted_glyph\":null,\"name\":\"r\",\"nonselection_glyph\":{\"id\":\"5d266275-a44e-4e5f-9ffa-df19fcd3d0fa\",\"type\":\"HBar\"},\"selection_glyph\":null,\"view\":{\"id\":\"7503c0fc-7135-44c5-a332-33cb4933fe12\",\"type\":\"CDSView\"}},\"id\":\"93a2c068-4caa-47f9-bc55-f2d765eac130\",\"type\":\"GlyphRenderer\"},{\"attributes\":{\"fields\":[\"4\",\"f\"]},\"id\":\"d7078f6e-3440-4e57-a3df-43d9eb5b8bbb\",\"type\":\"Stack\"},{\"attributes\":{},\"id\":\"76142731-f623-4a7f-b2cd-34c52d4688fc\",\"type\":\"Selection\"},{\"attributes\":{},\"id\":\"9fde71e2-87de-468b-8a0f-f48c374f1932\",\"type\":\"Selection\"},{\"attributes\":{\"fields\":[\"4\"]},\"id\":\"00c73620-93aa-4ef8-ab6c-138c114d1e4d\",\"type\":\"Stack\"},{\"attributes\":{},\"id\":\"803da6b6-716f-4c9f-b2dc-5b0763fc1aa4\",\"type\":\"PanTool\"},{\"attributes\":{\"overlay\":{\"id\":\"71d47511-69c8-4d0d-bb8d-09a5d72a2b1f\",\"type\":\"BoxAnnotation\"}},\"id\":\"ea33753c-687d-4694-b19b-a2eadf563c46\",\"type\":\"BoxZoomTool\"},{\"attributes\":{\"fields\":[\"4\"]},\"id\":\"e8683095-a938-487c-879f-e666deeae5be\",\"type\":\"Stack\"},{\"attributes\":{},\"id\":\"1caff5a4-ee1d-423e-8f24-6c709bb01127\",\"type\":\"WheelZoomTool\"},{\"attributes\":{\"callback\":null,\"factors\":[\"2seater\",\"compact\",\"midsize\",\"minivan\",\"pickup\",\"subcompact\",\"suv\"]},\"id\":\"75166fe6-f301-4488-8acf-15f9e7ecd3ff\",\"type\":\"FactorRange\"},{\"attributes\":{},\"id\":\"e09da45c-2761-4726-9781-999ab1949946\",\"type\":\"SaveTool\"},{\"attributes\":{},\"id\":\"da0ad4d3-8413-4d90-ae08-b8635929acc5\",\"type\":\"ResetTool\"},{\"attributes\":{\"fill_color\":{\"value\":\"#99d594\"},\"height\":{\"value\":0.9},\"left\":{\"expr\":{\"id\":\"e8683095-a938-487c-879f-e666deeae5be\",\"type\":\"Stack\"}},\"line_color\":{\"value\":\"#99d594\"},\"right\":{\"expr\":{\"id\":\"d7078f6e-3440-4e57-a3df-43d9eb5b8bbb\",\"type\":\"Stack\"}},\"y\":{\"field\":\"class\"}},\"id\":\"ca934a79-708a-48eb-b486-067b33c00daa\",\"type\":\"HBar\"},{\"attributes\":{\"label\":{\"value\":\"r\"},\"renderers\":[{\"id\":\"93a2c068-4caa-47f9-bc55-f2d765eac130\",\"type\":\"GlyphRenderer\"}]},\"id\":\"0b91a7fd-6443-4297-8df8-bfe1fc4c1c16\",\"type\":\"LegendItem\"},{\"attributes\":{\"callback\":null,\"data\":{\"4\":[0,12,3,0,33,4,51],\"class\":[\"2seater\",\"compact\",\"midsize\",\"minivan\",\"pickup\",\"subcompact\",\"suv\"],\"f\":[0,35,38,11,0,22,0],\"r\":[5,0,0,0,0,9,11]},\"selected\":{\"id\":\"ff158c89-e36d-4bf1-a645-7c3f78af3b71\",\"type\":\"Selection\"},\"selection_policy\":{\"id\":\"f3b80c76-37d7-47a0-bd32-ef863fe1918b\",\"type\":\"UnionRenderers\"}},\"id\":\"fc93fd10-561b-46f1-a77f-7e491b8b2ef0\",\"type\":\"ColumnDataSource\"},{\"attributes\":{},\"id\":\"feb69790-b5e6-4bc5-9107-df4a58928571\",\"type\":\"HelpTool\"},{\"attributes\":{\"bottom_units\":\"screen\",\"fill_alpha\":{\"value\":0.5},\"fill_color\":{\"value\":\"lightgrey\"},\"left_units\":\"screen\",\"level\":\"overlay\",\"line_alpha\":{\"value\":1.0},\"line_color\":{\"value\":\"black\"},\"line_dash\":[4,4],\"line_width\":{\"value\":2},\"plot\":null,\"render_mode\":\"css\",\"right_units\":\"screen\",\"top_units\":\"screen\"},\"id\":\"71d47511-69c8-4d0d-bb8d-09a5d72a2b1f\",\"type\":\"BoxAnnotation\"},{\"attributes\":{\"callback\":null,\"data\":{\"4\":[0,12,3,0,33,4,51],\"class\":[\"2seater\",\"compact\",\"midsize\",\"minivan\",\"pickup\",\"subcompact\",\"suv\"],\"f\":[0,35,38,11,0,22,0],\"r\":[5,0,0,0,0,9,11]},\"selected\":{\"id\":\"9fde71e2-87de-468b-8a0f-f48c374f1932\",\"type\":\"Selection\"},\"selection_policy\":{\"id\":\"343da09c-ba3d-42a4-a918-f909791fb9c6\",\"type\":\"UnionRenderers\"}},\"id\":\"624dc0f8-f4ca-48c4-bf18-571d37545853\",\"type\":\"ColumnDataSource\"},{\"attributes\":{\"fields\":[\"4\",\"f\"]},\"id\":\"f3c5fdbd-b659-4a79-9ad8-3a94443102e1\",\"type\":\"Stack\"},{\"attributes\":{\"fields\":[]},\"id\":\"8a9681e3-7796-4e75-873d-8a661c1b3a8f\",\"type\":\"Stack\"},{\"attributes\":{\"fields\":[\"4\",\"f\",\"r\"]},\"id\":\"85bf6872-c0a8-4d77-bc55-c556ccca476a\",\"type\":\"Stack\"},{\"attributes\":{\"active_drag\":\"auto\",\"active_inspect\":\"auto\",\"active_multi\":null,\"active_scroll\":\"auto\",\"active_tap\":\"auto\",\"tools\":[{\"id\":\"803da6b6-716f-4c9f-b2dc-5b0763fc1aa4\",\"type\":\"PanTool\"},{\"id\":\"1caff5a4-ee1d-423e-8f24-6c709bb01127\",\"type\":\"WheelZoomTool\"},{\"id\":\"ea33753c-687d-4694-b19b-a2eadf563c46\",\"type\":\"BoxZoomTool\"},{\"id\":\"e09da45c-2761-4726-9781-999ab1949946\",\"type\":\"SaveTool\"},{\"id\":\"da0ad4d3-8413-4d90-ae08-b8635929acc5\",\"type\":\"ResetTool\"},{\"id\":\"feb69790-b5e6-4bc5-9107-df4a58928571\",\"type\":\"HelpTool\"}]},\"id\":\"7283c83f-8d4a-4bb4-8258-358a69303720\",\"type\":\"Toolbar\"},{\"attributes\":{\"label\":{\"value\":\"f\"},\"renderers\":[{\"id\":\"84ae8796-b954-47ba-87b8-ac46e33bd67f\",\"type\":\"GlyphRenderer\"}]},\"id\":\"a0c06405-fc0c-4fbd-8608-f5ecb8ea170b\",\"type\":\"LegendItem\"},{\"attributes\":{\"fill_color\":{\"value\":\"#3288bd\"},\"height\":{\"value\":0.9},\"left\":{\"expr\":{\"id\":\"8a9681e3-7796-4e75-873d-8a661c1b3a8f\",\"type\":\"Stack\"}},\"line_color\":{\"value\":\"#3288bd\"},\"right\":{\"expr\":{\"id\":\"00c73620-93aa-4ef8-ab6c-138c114d1e4d\",\"type\":\"Stack\"}},\"y\":{\"field\":\"class\"}},\"id\":\"add748e9-ecc2-413b-94af-93cbfe896877\",\"type\":\"HBar\"},{\"attributes\":{},\"id\":\"051e280a-c6bb-43ee-ad59-52ec52a3d87c\",\"type\":\"CategoricalTicker\"},{\"attributes\":{},\"id\":\"12d2411b-588d-423b-9d1e-d3d2ff753095\",\"type\":\"CategoricalTickFormatter\"},{\"attributes\":{\"source\":{\"id\":\"624dc0f8-f4ca-48c4-bf18-571d37545853\",\"type\":\"ColumnDataSource\"}},\"id\":\"57bc430b-a8ce-4452-adef-13541a2cea43\",\"type\":\"CDSView\"},{\"attributes\":{\"below\":[{\"id\":\"99c07d7e-83a2-489f-9507-bb24b08080e1\",\"type\":\"LinearAxis\"}],\"left\":[{\"id\":\"63365c4a-2fde-414b-a5c0-95780089c6d5\",\"type\":\"CategoricalAxis\"}],\"plot_height\":400,\"renderers\":[{\"id\":\"99c07d7e-83a2-489f-9507-bb24b08080e1\",\"type\":\"LinearAxis\"},{\"id\":\"a5f42571-bb3c-4e08-ad9d-ccdf34b16df7\",\"type\":\"Grid\"},{\"id\":\"63365c4a-2fde-414b-a5c0-95780089c6d5\",\"type\":\"CategoricalAxis\"},{\"id\":\"5eefa96a-b663-4490-900a-189be9b33c39\",\"type\":\"Grid\"},{\"id\":\"71d47511-69c8-4d0d-bb8d-09a5d72a2b1f\",\"type\":\"BoxAnnotation\"},{\"id\":\"dfe624d5-b658-4197-9acd-a34f2ffc2ee5\",\"type\":\"Legend\"},{\"id\":\"d59f3fa8-22d5-4264-bec9-78a57c9fd85f\",\"type\":\"GlyphRenderer\"},{\"id\":\"84ae8796-b954-47ba-87b8-ac46e33bd67f\",\"type\":\"GlyphRenderer\"},{\"id\":\"93a2c068-4caa-47f9-bc55-f2d765eac130\",\"type\":\"GlyphRenderer\"}],\"title\":{\"id\":\"e68382b3-6095-4a23-9e19-21a70bc129bd\",\"type\":\"Title\"},\"toolbar\":{\"id\":\"7283c83f-8d4a-4bb4-8258-358a69303720\",\"type\":\"Toolbar\"},\"x_range\":{\"id\":\"804fa1eb-bd0e-452a-8dec-966f90d7625e\",\"type\":\"DataRange1d\"},\"x_scale\":{\"id\":\"c0b9cf8a-37b8-4d7c-a143-41176e53b28b\",\"type\":\"LinearScale\"},\"y_range\":{\"id\":\"75166fe6-f301-4488-8acf-15f9e7ecd3ff\",\"type\":\"FactorRange\"},\"y_scale\":{\"id\":\"c403d46f-266d-4bb2-bbfe-278ed32ef8e1\",\"type\":\"CategoricalScale\"}},\"id\":\"e8dafd92-a0e3-41a8-9eb2-c49c1eb9c8e6\",\"subtype\":\"Figure\",\"type\":\"Plot\"},{\"attributes\":{\"data_source\":{\"id\":\"624dc0f8-f4ca-48c4-bf18-571d37545853\",\"type\":\"ColumnDataSource\"},\"glyph\":{\"id\":\"add748e9-ecc2-413b-94af-93cbfe896877\",\"type\":\"HBar\"},\"hover_glyph\":null,\"muted_glyph\":null,\"name\":\"4\",\"nonselection_glyph\":{\"id\":\"1b0c8a60-878e-419c-a3d4-a5550d04e9bb\",\"type\":\"HBar\"},\"selection_glyph\":null,\"view\":{\"id\":\"57bc430b-a8ce-4452-adef-13541a2cea43\",\"type\":\"CDSView\"}},\"id\":\"d59f3fa8-22d5-4264-bec9-78a57c9fd85f\",\"type\":\"GlyphRenderer\"},{\"attributes\":{\"formatter\":{\"id\":\"8d522953-574c-4bae-ba39-8d1088e42508\",\"type\":\"BasicTickFormatter\"},\"plot\":{\"id\":\"e8dafd92-a0e3-41a8-9eb2-c49c1eb9c8e6\",\"subtype\":\"Figure\",\"type\":\"Plot\"},\"ticker\":{\"id\":\"a7d58558-6e91-4bc4-93c4-ff4eeea8854c\",\"type\":\"BasicTicker\"}},\"id\":\"99c07d7e-83a2-489f-9507-bb24b08080e1\",\"type\":\"LinearAxis\"},{\"attributes\":{\"label\":{\"value\":\"4\"},\"renderers\":[{\"id\":\"d59f3fa8-22d5-4264-bec9-78a57c9fd85f\",\"type\":\"GlyphRenderer\"}]},\"id\":\"6c66bab7-93ad-4dee-88ef-37560b0ca147\",\"type\":\"LegendItem\"},{\"attributes\":{\"formatter\":{\"id\":\"12d2411b-588d-423b-9d1e-d3d2ff753095\",\"type\":\"CategoricalTickFormatter\"},\"plot\":{\"id\":\"e8dafd92-a0e3-41a8-9eb2-c49c1eb9c8e6\",\"subtype\":\"Figure\",\"type\":\"Plot\"},\"ticker\":{\"id\":\"051e280a-c6bb-43ee-ad59-52ec52a3d87c\",\"type\":\"CategoricalTicker\"}},\"id\":\"63365c4a-2fde-414b-a5c0-95780089c6d5\",\"type\":\"CategoricalAxis\"},{\"attributes\":{\"callback\":null,\"data\":{\"4\":[0,12,3,0,33,4,51],\"class\":[\"2seater\",\"compact\",\"midsize\",\"minivan\",\"pickup\",\"subcompact\",\"suv\"],\"f\":[0,35,38,11,0,22,0],\"r\":[5,0,0,0,0,9,11]},\"selected\":{\"id\":\"76142731-f623-4a7f-b2cd-34c52d4688fc\",\"type\":\"Selection\"},\"selection_policy\":{\"id\":\"c47ae2c3-130b-4430-9ed6-5010947fe097\",\"type\":\"UnionRenderers\"}},\"id\":\"bfa39263-6602-421d-a550-2c1a8118c92b\",\"type\":\"ColumnDataSource\"},{\"attributes\":{},\"id\":\"ff158c89-e36d-4bf1-a645-7c3f78af3b71\",\"type\":\"Selection\"},{\"attributes\":{},\"id\":\"343da09c-ba3d-42a4-a918-f909791fb9c6\",\"type\":\"UnionRenderers\"},{\"attributes\":{},\"id\":\"a7d58558-6e91-4bc4-93c4-ff4eeea8854c\",\"type\":\"BasicTicker\"},{\"attributes\":{\"fill_alpha\":{\"value\":0.1},\"fill_color\":{\"value\":\"#1f77b4\"},\"height\":{\"value\":0.9},\"left\":{\"expr\":{\"id\":\"8a9681e3-7796-4e75-873d-8a661c1b3a8f\",\"type\":\"Stack\"}},\"line_alpha\":{\"value\":0.1},\"line_color\":{\"value\":\"#1f77b4\"},\"right\":{\"expr\":{\"id\":\"00c73620-93aa-4ef8-ab6c-138c114d1e4d\",\"type\":\"Stack\"}},\"y\":{\"field\":\"class\"}},\"id\":\"1b0c8a60-878e-419c-a3d4-a5550d04e9bb\",\"type\":\"HBar\"},{\"attributes\":{\"fill_alpha\":{\"value\":0.1},\"fill_color\":{\"value\":\"#1f77b4\"},\"height\":{\"value\":0.9},\"left\":{\"expr\":{\"id\":\"f3c5fdbd-b659-4a79-9ad8-3a94443102e1\",\"type\":\"Stack\"}},\"line_alpha\":{\"value\":0.1},\"line_color\":{\"value\":\"#1f77b4\"},\"right\":{\"expr\":{\"id\":\"85bf6872-c0a8-4d77-bc55-c556ccca476a\",\"type\":\"Stack\"}},\"y\":{\"field\":\"class\"}},\"id\":\"5d266275-a44e-4e5f-9ffa-df19fcd3d0fa\",\"type\":\"HBar\"},{\"attributes\":{\"items\":[{\"id\":\"6c66bab7-93ad-4dee-88ef-37560b0ca147\",\"type\":\"LegendItem\"},{\"id\":\"a0c06405-fc0c-4fbd-8608-f5ecb8ea170b\",\"type\":\"LegendItem\"},{\"id\":\"0b91a7fd-6443-4297-8df8-bfe1fc4c1c16\",\"type\":\"LegendItem\"}],\"location\":\"bottom_right\",\"plot\":{\"id\":\"e8dafd92-a0e3-41a8-9eb2-c49c1eb9c8e6\",\"subtype\":\"Figure\",\"type\":\"Plot\"}},\"id\":\"dfe624d5-b658-4197-9acd-a34f2ffc2ee5\",\"type\":\"Legend\"},{\"attributes\":{\"plot\":null,\"text\":\"My plot\"},\"id\":\"e68382b3-6095-4a23-9e19-21a70bc129bd\",\"type\":\"Title\"},{\"attributes\":{\"plot\":{\"id\":\"e8dafd92-a0e3-41a8-9eb2-c49c1eb9c8e6\",\"subtype\":\"Figure\",\"type\":\"Plot\"},\"ticker\":{\"id\":\"a7d58558-6e91-4bc4-93c4-ff4eeea8854c\",\"type\":\"BasicTicker\"}},\"id\":\"a5f42571-bb3c-4e08-ad9d-ccdf34b16df7\",\"type\":\"Grid\"},{\"attributes\":{},\"id\":\"8d522953-574c-4bae-ba39-8d1088e42508\",\"type\":\"BasicTickFormatter\"},{\"attributes\":{\"dimension\":1,\"plot\":{\"id\":\"e8dafd92-a0e3-41a8-9eb2-c49c1eb9c8e6\",\"subtype\":\"Figure\",\"type\":\"Plot\"},\"ticker\":{\"id\":\"051e280a-c6bb-43ee-ad59-52ec52a3d87c\",\"type\":\"CategoricalTicker\"}},\"id\":\"5eefa96a-b663-4490-900a-189be9b33c39\",\"type\":\"Grid\"},{\"attributes\":{\"source\":{\"id\":\"bfa39263-6602-421d-a550-2c1a8118c92b\",\"type\":\"ColumnDataSource\"}},\"id\":\"01cd1dd6-334a-4fb0-877d-8adfc1859b43\",\"type\":\"CDSView\"},{\"attributes\":{\"fill_alpha\":{\"value\":0.1},\"fill_color\":{\"value\":\"#1f77b4\"},\"height\":{\"value\":0.9},\"left\":{\"expr\":{\"id\":\"e8683095-a938-487c-879f-e666deeae5be\",\"type\":\"Stack\"}},\"line_alpha\":{\"value\":0.1},\"line_color\":{\"value\":\"#1f77b4\"},\"right\":{\"expr\":{\"id\":\"d7078f6e-3440-4e57-a3df-43d9eb5b8bbb\",\"type\":\"Stack\"}},\"y\":{\"field\":\"class\"}},\"id\":\"c68534a1-bac8-4b9b-a2e6-dc2daf89f76f\",\"type\":\"HBar\"},{\"attributes\":{\"fill_color\":{\"value\":\"#d53e4f\"},\"height\":{\"value\":0.9},\"left\":{\"expr\":{\"id\":\"f3c5fdbd-b659-4a79-9ad8-3a94443102e1\",\"type\":\"Stack\"}},\"line_color\":{\"value\":\"#d53e4f\"},\"right\":{\"expr\":{\"id\":\"85bf6872-c0a8-4d77-bc55-c556ccca476a\",\"type\":\"Stack\"}},\"y\":{\"field\":\"class\"}},\"id\":\"94d2ceb4-4730-432d-96dd-94690e6609ef\",\"type\":\"HBar\"},{\"attributes\":{},\"id\":\"c0b9cf8a-37b8-4d7c-a143-41176e53b28b\",\"type\":\"LinearScale\"},{\"attributes\":{\"data_source\":{\"id\":\"bfa39263-6602-421d-a550-2c1a8118c92b\",\"type\":\"ColumnDataSource\"},\"glyph\":{\"id\":\"ca934a79-708a-48eb-b486-067b33c00daa\",\"type\":\"HBar\"},\"hover_glyph\":null,\"muted_glyph\":null,\"name\":\"f\",\"nonselection_glyph\":{\"id\":\"c68534a1-bac8-4b9b-a2e6-dc2daf89f76f\",\"type\":\"HBar\"},\"selection_glyph\":null,\"view\":{\"id\":\"01cd1dd6-334a-4fb0-877d-8adfc1859b43\",\"type\":\"CDSView\"}},\"id\":\"84ae8796-b954-47ba-87b8-ac46e33bd67f\",\"type\":\"GlyphRenderer\"},{\"attributes\":{},\"id\":\"c47ae2c3-130b-4430-9ed6-5010947fe097\",\"type\":\"UnionRenderers\"},{\"attributes\":{},\"id\":\"f3b80c76-37d7-47a0-bd32-ef863fe1918b\",\"type\":\"UnionRenderers\"},{\"attributes\":{\"source\":{\"id\":\"fc93fd10-561b-46f1-a77f-7e491b8b2ef0\",\"type\":\"ColumnDataSource\"}},\"id\":\"7503c0fc-7135-44c5-a332-33cb4933fe12\",\"type\":\"CDSView\"},{\"attributes\":{},\"id\":\"c403d46f-266d-4bb2-bbfe-278ed32ef8e1\",\"type\":\"CategoricalScale\"},{\"attributes\":{\"callback\":null},\"id\":\"804fa1eb-bd0e-452a-8dec-966f90d7625e\",\"type\":\"DataRange1d\"}],\"root_ids\":[\"e8dafd92-a0e3-41a8-9eb2-c49c1eb9c8e6\"]},\"title\":\"Bokeh Application\",\"version\":\"0.13.0\"}};\n",
       "  var render_items = [{\"docid\":\"2945dfb1-cd63-4c86-aa32-a602d4e43e12\",\"roots\":{\"e8dafd92-a0e3-41a8-9eb2-c49c1eb9c8e6\":\"442f30cc-3eef-4862-afc1-a5cd2b8c99e9\"}}];\n",
       "  root.Bokeh.embed.embed_items_notebook(docs_json, render_items);\n",
       "\n",
       "  }\n",
       "  if (root.Bokeh !== undefined) {\n",
       "    embed_document(root);\n",
       "  } else {\n",
       "    var attempts = 0;\n",
       "    var timer = setInterval(function(root) {\n",
       "      if (root.Bokeh !== undefined) {\n",
       "        embed_document(root);\n",
       "        clearInterval(timer);\n",
       "      }\n",
       "      attempts++;\n",
       "      if (attempts > 100) {\n",
       "        console.log(\"Bokeh: ERROR: Unable to run BokehJS code because BokehJS library is missing\")\n",
       "        clearInterval(timer);\n",
       "      }\n",
       "    }, 10, root)\n",
       "  }\n",
       "})(window);"
      ],
      "application/vnd.bokehjs_exec.v0+json": ""
     },
     "metadata": {
      "application/vnd.bokehjs_exec.v0+json": {
       "id": "e8dafd92-a0e3-41a8-9eb2-c49c1eb9c8e6"
      }
     },
     "output_type": "display_data"
    }
   ],
   "source": [
    "g = create_gh()\n",
    "#g +\n",
    "# geom_bar(aes(fill = drv), position = position_stack(reverse = TRUE)) +\n",
    "# coord_flip() +\n",
    "# theme(legend.position = \"top\")\n",
    "g.hbar_stack(mylegend, y='class', height=0.9, source = mpg_plot,\n",
    "             color = mycolors,\n",
    "             legend = [value(colname) for colname in mylegend])\n",
    "g.legend.location = \"bottom_right\"\n",
    "show(g)"
   ]
  },
  {
   "cell_type": "markdown",
   "metadata": {},
   "source": [
    "#### geom_bin2d() stat_bin_2d() \n",
    "Again, ggplot2 excels in plotting stats. geom_bin2d divides the plane into rectangles, counts the number of cases in each rectangle. In bokeh, stats functions are not included yet, so the pandas Series functionality is used prior to plotting.  "
   ]
  },
  {
   "cell_type": "code",
   "execution_count": 12,
   "metadata": {},
   "outputs": [],
   "source": [
    "#d <- ggplot(diamonds, aes(x, y)) + xlim(4, 10) + ylim(4, 10)\n",
    "x_range = (4, 10); y_range = (4, 10)\n",
    "def create_d():\n",
    "    d = figure(title=\"My plot\", plot_width=600, plot_height=400,\n",
    "              x_range = x_range, y_range = y_range)\n",
    "    return d"
   ]
  },
  {
   "cell_type": "code",
   "execution_count": 13,
   "metadata": {},
   "outputs": [
    {
     "data": {
      "text/html": [
       "\n",
       "\n",
       "\n",
       "\n",
       "\n",
       "\n",
       "  <div class=\"bk-root\" id=\"066cb6c5-7d76-4075-a32e-672c75fb607d\"></div>\n"
      ]
     },
     "metadata": {},
     "output_type": "display_data"
    },
    {
     "data": {
      "application/javascript": [
       "(function(root) {\n",
       "  function embed_document(root) {\n",
       "    \n",
       "  var docs_json = {\"427c339e-16ed-40e1-9c19-a615cb73bd2f\":{\"roots\":{\"references\":[{\"attributes\":{},\"id\":\"78ce62c3-1ed3-4c00-918e-563add148060\",\"type\":\"PanTool\"},{\"attributes\":{},\"id\":\"92da086e-ba64-4c1c-8cb1-180956267bba\",\"type\":\"WheelZoomTool\"},{\"attributes\":{\"overlay\":{\"id\":\"b6d51612-2b33-4f58-871d-0a101c99510e\",\"type\":\"BoxAnnotation\"}},\"id\":\"448bc732-3a45-4820-9bb8-bfdb46b63695\",\"type\":\"BoxZoomTool\"},{\"attributes\":{},\"id\":\"5e40896c-2444-4055-bc57-9b05b82c7c32\",\"type\":\"SaveTool\"},{\"attributes\":{},\"id\":\"943e270f-9afc-40ac-a102-4dc809fe9a05\",\"type\":\"BasicTickFormatter\"},{\"attributes\":{},\"id\":\"80002e80-a654-4824-9672-12c89d1c2f45\",\"type\":\"ResetTool\"},{\"attributes\":{\"callback\":null,\"end\":10,\"start\":4},\"id\":\"24ceb926-725b-430f-8636-8f3f4994ce85\",\"type\":\"Range1d\"},{\"attributes\":{},\"id\":\"983a5041-bcbf-46d6-91e5-c84bb8eaf328\",\"type\":\"HelpTool\"},{\"attributes\":{\"bottom_units\":\"screen\",\"fill_alpha\":{\"value\":0.5},\"fill_color\":{\"value\":\"lightgrey\"},\"left_units\":\"screen\",\"level\":\"overlay\",\"line_alpha\":{\"value\":1.0},\"line_color\":{\"value\":\"black\"},\"line_dash\":[4,4],\"line_width\":{\"value\":2},\"plot\":null,\"render_mode\":\"css\",\"right_units\":\"screen\",\"top_units\":\"screen\"},\"id\":\"b6d51612-2b33-4f58-871d-0a101c99510e\",\"type\":\"BoxAnnotation\"},{\"attributes\":{},\"id\":\"6a948ee3-c355-4004-96b6-d91b4fc4e877\",\"type\":\"Selection\"},{\"attributes\":{},\"id\":\"9241c66e-0ebd-43ca-ab49-269a44efb33d\",\"type\":\"LinearScale\"},{\"attributes\":{\"callback\":null,\"data\":{\"counts\":{\"__ndarray__\":\"AAAAAAC4gkAAAAAAAIBeQAAAAAAAADhAAAAAAAA+o0AAAAAAAAiLQAAAAAAAiIBAAAAAAABVsUAAAAAAAFB6QAAAAAAAUHBAAAAAAADwnUAAAAAAAMB6QAAAAAAAAPA/AAAAAADgbEAAAAAAACapQAAAAAAAEHlAAAAAAAAA8D8AAAAAAADwPwAAAAAAkHFAAAAAAAC4iEAAAAAAAABfQAAAAAAAAABAAAAAAABAWkAAAAAAAFSfQAAAAAAA4H5AAAAAAAAAAEAAAAAAAADwPwAAAAAAUHVAAAAAAAAEo0AAAAAAADB3QAAAAAAAABBAAAAAAAAQcEAAAAAAAMiOQAAAAAAAIGJAAAAAAAAA8D8AAAAAAADwPwAAAAAAAPA/AAAAAABgYEAAAAAAAAiMQAAAAAAAAH9AAAAAAAAAAEAAAAAAANB2QAAAAAAAvKZAAAAAAACAekAAAAAAAADwPwAAAAAAEHJAAAAAAAAckkAAAAAAAMBmQAAAAAAAAAhAAAAAAAAAakAAAAAAANiSQAAAAAAAkHhAAAAAAAAACEAAAAAAAFB0QAAAAAAASJZAAAAAAAAQfkAAAAAAAADwPwAAAAAAAPA/AAAAAADAgEAAAAAAAFylQAAAAAAAeIFAAAAAAAAA8D8AAAAAAADwPwAAAAAAAABAAAAAAAAA8D8AAAAAAADwPwAAAAAAuIJAAAAAAAAAoUAAAAAAANB3QAAAAAAAAPA/AAAAAAAA8D8AAAAAAKB7QAAAAAAAJJhAAAAAAACwc0AAAAAAAAAAQAAAAAAAAPA/AAAAAAAweEAAAAAAAKyRQAAAAAAAYGhAAAAAAAAA8D8AAAAAAADwPwAAAAAA4G5AAAAAAACAgUAAAAAAAEBYQAAAAAAAYGVAAAAAAACgikAAAAAAAHBxQAAAAAAAAPA/AAAAAABAdkAAAAAAALCNQAAAAAAAYGdAAAAAAAAA8D8AAAAAAOBrQAAAAAAAYIJAAAAAAACAVEAAAAAAAADwPwAAAAAAYGJAAAAAAACwcEAAAAAAAABAQAAAAAAAAPA/AAAAAAAA8D8AAAAAAIBWQAAAAAAAgGZAAAAAAADAU0AAAAAAACBjQAAAAAAAQH5AAAAAAABAW0AAAAAAAAAUQAAAAAAA4GJAAAAAAADwdkAAAAAAAABHQAAAAAAAAABAAAAAAACAVEAAAAAAAABnQAAAAAAAADlAAAAAAAAARkAAAAAAAMBWQAAAAAAAABRAAAAAAAAA8D8AAAAAAAA9QAAAAAAAgEVAAAAAAAAACEAAAAAAAADwPwAAAAAAADBAAAAAAAAAKEAAAAAAAAAUQAAAAAAAACBAAAAAAAAAEEAAAAAAAAAIQAAAAAAAABRAAAAAAAAAFEAAAAAAAAAIQAAAAAAAAABAAAAAAAAA8D8AAAAAAADwPw==\",\"dtype\":\"float64\",\"shape\":[134]},\"index\":[0,1,36,37,38,73,74,75,110,111,112,120,147,148,149,150,183,184,185,186,220,221,222,223,224,229,258,259,260,294,295,296,297,327,330,331,332,333,334,368,369,370,371,405,406,407,408,442,443,444,445,479,480,481,482,515,516,517,518,519,540,543,550,552,553,554,555,556,577,590,591,592,593,623,627,628,629,630,652,664,665,666,667,702,703,704,735,739,740,741,775,776,777,778,811,813,814,815,838,849,850,851,852,887,888,889,923,924,925,926,960,961,962,963,998,999,1000,1033,1035,1036,1037,1071,1072,1073,1109,1110,1146,1147,1183,1184,1220,1221,1294,1295],\"x\":{\"__ndarray__\":\"AAAAAAAAEEAAAAAAAAAQQKuqqqqqqhBAq6qqqqqqEECrqqqqqqoQQFVVVVVVVRFAVVVVVVVVEUBVVVVVVVURQAAAAAAAABJAAAAAAAAAEkAAAAAAAAASQAAAAAAAABJAq6qqqqqqEkCrqqqqqqoSQKuqqqqqqhJAq6qqqqqqEkBVVVVVVVUTQFVVVVVVVRNAVVVVVVVVE0BVVVVVVVUTQAAAAAAAABRAAAAAAAAAFEAAAAAAAAAUQAAAAAAAABRAAAAAAAAAFEAAAAAAAAAUQKqqqqqqqhRAqqqqqqqqFECqqqqqqqoUQFVVVVVVVRVAVVVVVVVVFUBVVVVVVVUVQFVVVVVVVRVAAAAAAAAAFkAAAAAAAAAWQAAAAAAAABZAAAAAAAAAFkAAAAAAAAAWQAAAAAAAABZAqqqqqqqqFkCqqqqqqqoWQKqqqqqqqhZAqqqqqqqqFkBVVVVVVVUXQFVVVVVVVRdAVVVVVVVVF0BVVVVVVVUXQAAAAAAAABhAAAAAAAAAGEAAAAAAAAAYQAAAAAAAABhAqqqqqqqqGECqqqqqqqoYQKqqqqqqqhhAqqqqqqqqGEBVVVVVVVUZQFVVVVVVVRlAVVVVVVVVGUBVVVVVVVUZQFVVVVVVVRlAAAAAAAAAGkAAAAAAAAAaQAAAAAAAABpAAAAAAAAAGkAAAAAAAAAaQAAAAAAAABpAAAAAAAAAGkAAAAAAAAAaQKqqqqqqqhpAqqqqqqqqGkCqqqqqqqoaQKqqqqqqqhpAqqqqqqqqGkBVVVVVVVUbQFVVVVVVVRtAVVVVVVVVG0BVVVVVVVUbQFVVVVVVVRtAAAAAAAAAHEAAAAAAAAAcQAAAAAAAABxAAAAAAAAAHEAAAAAAAAAcQKqqqqqqqhxAqqqqqqqqHECqqqqqqqocQFVVVVVVVR1AVVVVVVVVHUBVVVVVVVUdQFVVVVVVVR1AAAAAAAAAHkAAAAAAAAAeQAAAAAAAAB5AAAAAAAAAHkCqqqqqqqoeQKqqqqqqqh5AqqqqqqqqHkCqqqqqqqoeQFVVVVVVVR9AVVVVVVVVH0BVVVVVVVUfQFVVVVVVVR9AVVVVVVVVH0AAAAAAAAAgQAAAAAAAACBAAAAAAAAAIEBVVVVVVVUgQFVVVVVVVSBAVVVVVVVVIEBVVVVVVVUgQKqqqqqqqiBAqqqqqqqqIECqqqqqqqogQKqqqqqqqiBAAAAAAAAAIUAAAAAAAAAhQAAAAAAAACFAVVVVVVVVIUBVVVVVVVUhQFVVVVVVVSFAVVVVVVVVIUCqqqqqqqohQKqqqqqqqiFAqqqqqqqqIUAAAAAAAAAiQAAAAAAAACJAVVVVVVVVIkBVVVVVVVUiQKqqqqqqqiJAqqqqqqqqIkAAAAAAAAAjQAAAAAAAACNAqqqqqqqqI0CqqqqqqqojQA==\",\"dtype\":\"float64\",\"shape\":[134]},\"y\":{\"__ndarray__\":\"AAAAAAAAEECrqqqqqqoQQAAAAAAAABBAq6qqqqqqEEBVVVVVVVURQKuqqqqqqhBAVVVVVVVVEUAAAAAAAAASQFVVVVVVVRFAAAAAAAAAEkCrqqqqqqoSQAAAAAAAABhAAAAAAAAAEkCrqqqqqqoSQFVVVVVVVRNAAAAAAAAAFEAAAAAAAAASQKuqqqqqqhJAVVVVVVVVE0AAAAAAAAAUQKuqqqqqqhJAVVVVVVVVE0AAAAAAAAAUQKqqqqqqqhRAVVVVVVVVFUCqqqqqqqoYQAAAAAAAABRAqqqqqqqqFEBVVVVVVVUVQAAAAAAAABRAqqqqqqqqFEBVVVVVVVUVQAAAAAAAABZAAAAAAAAAEkAAAAAAAAAUQKqqqqqqqhRAVVVVVVVVFUAAAAAAAAAWQKqqqqqqqhZAVVVVVVVVFUAAAAAAAAAWQKqqqqqqqhZAVVVVVVVVF0AAAAAAAAAWQKqqqqqqqhZAVVVVVVVVF0AAAAAAAAAYQKqqqqqqqhZAVVVVVVVVF0AAAAAAAAAYQKqqqqqqqhhAVVVVVVVVF0AAAAAAAAAYQKqqqqqqqhhAVVVVVVVVGUBVVVVVVVUXQAAAAAAAABhAqqqqqqqqGEBVVVVVVVUZQAAAAAAAABpAAAAAAAAAEEAAAAAAAAASQKqqqqqqqhZAAAAAAAAAGECqqqqqqqoYQFVVVVVVVRlAAAAAAAAAGkCqqqqqqqoaQKuqqqqqqhBAVVVVVVVVGUAAAAAAAAAaQKqqqqqqqhpAVVVVVVVVG0BVVVVVVVUXQAAAAAAAABpAqqqqqqqqGkBVVVVVVVUbQAAAAAAAABxAq6qqqqqqEkCqqqqqqqoaQFVVVVVVVRtAAAAAAAAAHECqqqqqqqocQAAAAAAAABxAqqqqqqqqHEBVVVVVVVUdQAAAAAAAABpAqqqqqqqqHEBVVVVVVVUdQAAAAAAAAB5AqqqqqqqqHEBVVVVVVVUdQAAAAAAAAB5AqqqqqqqqHkCqqqqqqqocQAAAAAAAAB5AqqqqqqqqHkBVVVVVVVUfQKqqqqqqqhZAAAAAAAAAHkCqqqqqqqoeQFVVVVVVVR9AAAAAAAAAIEBVVVVVVVUfQAAAAAAAACBAVVVVVVVVIEBVVVVVVVUfQAAAAAAAACBAVVVVVVVVIECqqqqqqqogQAAAAAAAACBAVVVVVVVVIECqqqqqqqogQAAAAAAAACFAqqqqqqqqIEAAAAAAAAAhQFVVVVVVVSFAVVVVVVVVIEAAAAAAAAAhQFVVVVVVVSFAqqqqqqqqIUAAAAAAAAAhQFVVVVVVVSFAqqqqqqqqIUCqqqqqqqohQAAAAAAAACJAAAAAAAAAIkBVVVVVVVUiQFVVVVVVVSJAqqqqqqqqIkCqqqqqqqoiQAAAAAAAACNAVVVVVVVVI0CqqqqqqqojQA==\",\"dtype\":\"float64\",\"shape\":[134]}},\"selected\":{\"id\":\"6a948ee3-c355-4004-96b6-d91b4fc4e877\",\"type\":\"Selection\"},\"selection_policy\":{\"id\":\"9d2265f2-7f54-4feb-b4d4-655400a0e07b\",\"type\":\"UnionRenderers\"}},\"id\":\"f70695fa-22c3-440f-ba47-3f5f4021cdb0\",\"type\":\"ColumnDataSource\"},{\"attributes\":{\"fill_color\":{\"field\":\"counts\",\"transform\":{\"id\":\"92ea2e65-aa3e-464f-82fd-09c2f51d5df3\",\"type\":\"LinearColorMapper\"}},\"height\":{\"units\":\"data\",\"value\":0.16666666666666696},\"line_color\":{\"value\":null},\"width\":{\"units\":\"data\",\"value\":0.16666666666666696},\"x\":{\"field\":\"x\"},\"y\":{\"field\":\"y\"}},\"id\":\"6c4887cc-0078-440e-84e5-d9038d89cbb1\",\"type\":\"Rect\"},{\"attributes\":{\"source\":{\"id\":\"f70695fa-22c3-440f-ba47-3f5f4021cdb0\",\"type\":\"ColumnDataSource\"}},\"id\":\"b23fd5f2-34a5-4817-9e0e-20714c37cf7b\",\"type\":\"CDSView\"},{\"attributes\":{\"data_source\":{\"id\":\"f70695fa-22c3-440f-ba47-3f5f4021cdb0\",\"type\":\"ColumnDataSource\"},\"glyph\":{\"id\":\"6c4887cc-0078-440e-84e5-d9038d89cbb1\",\"type\":\"Rect\"},\"hover_glyph\":null,\"muted_glyph\":null,\"nonselection_glyph\":{\"id\":\"e45ff354-247f-42a9-a8da-9e6f361aa3d1\",\"type\":\"Rect\"},\"selection_glyph\":null,\"view\":{\"id\":\"b23fd5f2-34a5-4817-9e0e-20714c37cf7b\",\"type\":\"CDSView\"}},\"id\":\"f07ee3dd-5761-4cf5-8158-4da7d8c49023\",\"type\":\"GlyphRenderer\"},{\"attributes\":{\"fill_alpha\":{\"value\":0.1},\"fill_color\":{\"value\":\"#1f77b4\"},\"height\":{\"units\":\"data\",\"value\":0.16666666666666696},\"line_alpha\":{\"value\":0.1},\"line_color\":{\"value\":\"#1f77b4\"},\"width\":{\"units\":\"data\",\"value\":0.16666666666666696},\"x\":{\"field\":\"x\"},\"y\":{\"field\":\"y\"}},\"id\":\"e45ff354-247f-42a9-a8da-9e6f361aa3d1\",\"type\":\"Rect\"},{\"attributes\":{},\"id\":\"dee92aef-5e28-404d-b977-d57cd7fffdaf\",\"type\":\"BasicTickFormatter\"},{\"attributes\":{\"below\":[{\"id\":\"dade3067-4633-432d-b0ba-69f88e5171de\",\"type\":\"LinearAxis\"}],\"left\":[{\"id\":\"fc310cc7-8cb7-4493-b2a2-037956d18c75\",\"type\":\"LinearAxis\"}],\"plot_height\":400,\"renderers\":[{\"id\":\"dade3067-4633-432d-b0ba-69f88e5171de\",\"type\":\"LinearAxis\"},{\"id\":\"12a30ee8-5875-4883-a97a-384f6b7588e6\",\"type\":\"Grid\"},{\"id\":\"fc310cc7-8cb7-4493-b2a2-037956d18c75\",\"type\":\"LinearAxis\"},{\"id\":\"82539fc6-3c29-483c-a75d-d0984ee22927\",\"type\":\"Grid\"},{\"id\":\"b6d51612-2b33-4f58-871d-0a101c99510e\",\"type\":\"BoxAnnotation\"},{\"id\":\"f07ee3dd-5761-4cf5-8158-4da7d8c49023\",\"type\":\"GlyphRenderer\"},{\"id\":\"5a2542e4-9c11-4808-9b99-41c82f3c7afa\",\"type\":\"ColorBar\"}],\"right\":[{\"id\":\"5a2542e4-9c11-4808-9b99-41c82f3c7afa\",\"type\":\"ColorBar\"}],\"title\":{\"id\":\"7353b7c6-dc99-4bb3-be6b-6f9a869e69fe\",\"type\":\"Title\"},\"toolbar\":{\"id\":\"da248734-d8c9-426e-9b04-1605cfcff01f\",\"type\":\"Toolbar\"},\"x_range\":{\"id\":\"24ceb926-725b-430f-8636-8f3f4994ce85\",\"type\":\"Range1d\"},\"x_scale\":{\"id\":\"9241c66e-0ebd-43ca-ab49-269a44efb33d\",\"type\":\"LinearScale\"},\"y_range\":{\"id\":\"5464d128-8d7c-484a-a494-52e642f88658\",\"type\":\"Range1d\"},\"y_scale\":{\"id\":\"8287933d-d829-4e26-9c04-654dcbbb0e74\",\"type\":\"LinearScale\"}},\"id\":\"7bb1046e-5dd2-41a4-a5b3-4be7d2b436ea\",\"subtype\":\"Figure\",\"type\":\"Plot\"},{\"attributes\":{\"plot\":null,\"text\":\"My plot\"},\"id\":\"7353b7c6-dc99-4bb3-be6b-6f9a869e69fe\",\"type\":\"Title\"},{\"attributes\":{\"plot\":{\"id\":\"7bb1046e-5dd2-41a4-a5b3-4be7d2b436ea\",\"subtype\":\"Figure\",\"type\":\"Plot\"},\"ticker\":{\"id\":\"c39f9c48-b57f-4000-81e8-b330bd434f5b\",\"type\":\"BasicTicker\"}},\"id\":\"12a30ee8-5875-4883-a97a-384f6b7588e6\",\"type\":\"Grid\"},{\"attributes\":{\"active_drag\":\"auto\",\"active_inspect\":\"auto\",\"active_multi\":null,\"active_scroll\":\"auto\",\"active_tap\":\"auto\",\"tools\":[{\"id\":\"78ce62c3-1ed3-4c00-918e-563add148060\",\"type\":\"PanTool\"},{\"id\":\"92da086e-ba64-4c1c-8cb1-180956267bba\",\"type\":\"WheelZoomTool\"},{\"id\":\"448bc732-3a45-4820-9bb8-bfdb46b63695\",\"type\":\"BoxZoomTool\"},{\"id\":\"5e40896c-2444-4055-bc57-9b05b82c7c32\",\"type\":\"SaveTool\"},{\"id\":\"80002e80-a654-4824-9672-12c89d1c2f45\",\"type\":\"ResetTool\"},{\"id\":\"983a5041-bcbf-46d6-91e5-c84bb8eaf328\",\"type\":\"HelpTool\"}]},\"id\":\"da248734-d8c9-426e-9b04-1605cfcff01f\",\"type\":\"Toolbar\"},{\"attributes\":{\"desired_num_ticks\":5},\"id\":\"419f0e32-fc45-4bcf-b785-4614db1179ab\",\"type\":\"BasicTicker\"},{\"attributes\":{\"callback\":null,\"end\":10,\"start\":4},\"id\":\"5464d128-8d7c-484a-a494-52e642f88658\",\"type\":\"Range1d\"},{\"attributes\":{\"formatter\":{\"id\":\"dee92aef-5e28-404d-b977-d57cd7fffdaf\",\"type\":\"BasicTickFormatter\"},\"plot\":{\"id\":\"7bb1046e-5dd2-41a4-a5b3-4be7d2b436ea\",\"subtype\":\"Figure\",\"type\":\"Plot\"},\"ticker\":{\"id\":\"c39f9c48-b57f-4000-81e8-b330bd434f5b\",\"type\":\"BasicTicker\"}},\"id\":\"dade3067-4633-432d-b0ba-69f88e5171de\",\"type\":\"LinearAxis\"},{\"attributes\":{},\"id\":\"9d2265f2-7f54-4feb-b4d4-655400a0e07b\",\"type\":\"UnionRenderers\"},{\"attributes\":{},\"id\":\"8287933d-d829-4e26-9c04-654dcbbb0e74\",\"type\":\"LinearScale\"},{\"attributes\":{},\"id\":\"c39f9c48-b57f-4000-81e8-b330bd434f5b\",\"type\":\"BasicTicker\"},{\"attributes\":{\"formatter\":{\"id\":\"b291f1de-59ad-47cf-9869-37ea62efd880\",\"type\":\"BasicTickFormatter\"},\"plot\":{\"id\":\"7bb1046e-5dd2-41a4-a5b3-4be7d2b436ea\",\"subtype\":\"Figure\",\"type\":\"Plot\"},\"ticker\":{\"id\":\"f9622132-ad6c-42ba-aac3-31abaa5379aa\",\"type\":\"BasicTicker\"}},\"id\":\"fc310cc7-8cb7-4493-b2a2-037956d18c75\",\"type\":\"LinearAxis\"},{\"attributes\":{},\"id\":\"f9622132-ad6c-42ba-aac3-31abaa5379aa\",\"type\":\"BasicTicker\"},{\"attributes\":{\"dimension\":1,\"plot\":{\"id\":\"7bb1046e-5dd2-41a4-a5b3-4be7d2b436ea\",\"subtype\":\"Figure\",\"type\":\"Plot\"},\"ticker\":{\"id\":\"f9622132-ad6c-42ba-aac3-31abaa5379aa\",\"type\":\"BasicTicker\"}},\"id\":\"82539fc6-3c29-483c-a75d-d0984ee22927\",\"type\":\"Grid\"},{\"attributes\":{\"high\":4437.0,\"low\":1.0,\"palette\":[\"#08306b\",\"#08519c\",\"#2171b5\",\"#4292c6\",\"#6baed6\",\"#9ecae1\",\"#c6dbef\",\"#deebf7\",\"#f7fbff\"]},\"id\":\"92ea2e65-aa3e-464f-82fd-09c2f51d5df3\",\"type\":\"LinearColorMapper\"},{\"attributes\":{\"color_mapper\":{\"id\":\"92ea2e65-aa3e-464f-82fd-09c2f51d5df3\",\"type\":\"LinearColorMapper\"},\"formatter\":{\"id\":\"943e270f-9afc-40ac-a102-4dc809fe9a05\",\"type\":\"BasicTickFormatter\"},\"label_standoff\":12,\"location\":[0,0],\"major_label_text_font_size\":{\"value\":\"10pt\"},\"plot\":{\"id\":\"7bb1046e-5dd2-41a4-a5b3-4be7d2b436ea\",\"subtype\":\"Figure\",\"type\":\"Plot\"},\"ticker\":{\"id\":\"419f0e32-fc45-4bcf-b785-4614db1179ab\",\"type\":\"BasicTicker\"}},\"id\":\"5a2542e4-9c11-4808-9b99-41c82f3c7afa\",\"type\":\"ColorBar\"},{\"attributes\":{},\"id\":\"b291f1de-59ad-47cf-9869-37ea62efd880\",\"type\":\"BasicTickFormatter\"}],\"root_ids\":[\"7bb1046e-5dd2-41a4-a5b3-4be7d2b436ea\"]},\"title\":\"Bokeh Application\",\"version\":\"0.13.0\"}};\n",
       "  var render_items = [{\"docid\":\"427c339e-16ed-40e1-9c19-a615cb73bd2f\",\"roots\":{\"7bb1046e-5dd2-41a4-a5b3-4be7d2b436ea\":\"066cb6c5-7d76-4075-a32e-672c75fb607d\"}}];\n",
       "  root.Bokeh.embed.embed_items_notebook(docs_json, render_items);\n",
       "\n",
       "  }\n",
       "  if (root.Bokeh !== undefined) {\n",
       "    embed_document(root);\n",
       "  } else {\n",
       "    var attempts = 0;\n",
       "    var timer = setInterval(function(root) {\n",
       "      if (root.Bokeh !== undefined) {\n",
       "        embed_document(root);\n",
       "        clearInterval(timer);\n",
       "      }\n",
       "      attempts++;\n",
       "      if (attempts > 100) {\n",
       "        console.log(\"Bokeh: ERROR: Unable to run BokehJS code because BokehJS library is missing\")\n",
       "        clearInterval(timer);\n",
       "      }\n",
       "    }, 10, root)\n",
       "  }\n",
       "})(window);"
      ],
      "application/vnd.bokehjs_exec.v0+json": ""
     },
     "metadata": {
      "application/vnd.bokehjs_exec.v0+json": {
       "id": "7bb1046e-5dd2-41a4-a5b3-4be7d2b436ea"
      }
     },
     "output_type": "display_data"
    }
   ],
   "source": [
    "from bokeh.palettes import Blues9\n",
    "from bokeh.models import ColumnDataSource, LinearColorMapper, ColorBar, BasicTicker\n",
    "\n",
    "d = create_d()\n",
    "#Prepare 2d count data\n",
    "H, xedges, yedges = np.histogram2d(diamonds.x, diamonds.y, bins=36, range = [x_range, y_range])\n",
    "bw = xedges[1]-xedges[0]; bh = yedges[1]-yedges[0]\n",
    "diamonds_plot = pd.DataFrame(data=H, index=xedges[:-1], columns=yedges[:-1]).stack().reset_index()\n",
    "diamonds_plot.columns = ['x','y','counts']\n",
    "diamonds_plot.drop(diamonds_plot[diamonds_plot['counts']==0].index, inplace = True)\n",
    "mapper = LinearColorMapper(palette=Blues9, low=diamonds_plot['counts'].min(), high=diamonds_plot['counts'].max())\n",
    "\n",
    "#d + geom_bin2d()\n",
    "d.rect(x=\"x\", y=\"y\", width=bw, height=bh,\n",
    "       source=diamonds_plot,\n",
    "       fill_color={'field': 'counts', 'transform': mapper},\n",
    "       line_color=None)\n",
    "\n",
    "color_bar = ColorBar(color_mapper=mapper, major_label_text_font_size=\"10pt\",\n",
    "                     ticker=BasicTicker(desired_num_ticks=5),\n",
    "                     label_standoff=12, border_line_color=None, location=(0, 0))\n",
    "d.add_layout(color_bar, 'right')\n",
    "\n",
    "show(d)"
   ]
  },
  {
   "cell_type": "markdown",
   "metadata": {},
   "source": [
    "#### geom_boxplot() stat_boxplot()\n",
    "ggplot2 provides a good shorcut to this useful plot. Boxplots visualize five summary statistics (the median, two hinges and two whiskers), and all \"outlying\" points individually. In bokeh, creating these plots are quite involved."
   ]
  },
  {
   "cell_type": "code",
   "execution_count": 15,
   "metadata": {
    "scrolled": true
   },
   "outputs": [
    {
     "data": {
      "text/html": [
       "\n",
       "\n",
       "\n",
       "\n",
       "\n",
       "\n",
       "  <div class=\"bk-root\" id=\"da74066e-bc2e-45a6-9fe7-d093789aa255\"></div>\n"
      ]
     },
     "metadata": {},
     "output_type": "display_data"
    },
    {
     "data": {
      "application/javascript": [
       "(function(root) {\n",
       "  function embed_document(root) {\n",
       "    \n",
       "  var docs_json = {\"38734886-9216-4725-82c6-32a5de38307d\":{\"roots\":{\"references\":[{\"attributes\":{\"callback\":null,\"factors\":[\"2seater\",\"compact\",\"midsize\",\"minivan\",\"pickup\",\"subcompact\",\"suv\"]},\"id\":\"44c4a946-9f08-4125-b9b1-5b519e23631e\",\"type\":\"FactorRange\"},{\"attributes\":{\"source\":{\"id\":\"00d623d8-d058-4cb8-8f1a-4f761b928d69\",\"type\":\"ColumnDataSource\"}},\"id\":\"86c5b070-7c22-463d-beae-9b75093c18ef\",\"type\":\"CDSView\"},{\"attributes\":{\"active_drag\":\"auto\",\"active_inspect\":\"auto\",\"active_multi\":null,\"active_scroll\":\"auto\",\"active_tap\":\"auto\",\"tools\":[{\"id\":\"3614f313-b17b-4f73-8372-fc83ee2e36a4\",\"type\":\"PanTool\"},{\"id\":\"cfe778a7-46c9-45c2-868f-0e304dc5d558\",\"type\":\"WheelZoomTool\"},{\"id\":\"21a2871c-5b10-4e5b-a756-2f7ebe4589ac\",\"type\":\"BoxZoomTool\"},{\"id\":\"69de85e8-847d-4517-948b-8c60ada1a078\",\"type\":\"SaveTool\"},{\"id\":\"ab27e768-5534-44d5-bcce-d98c6a280b9d\",\"type\":\"ResetTool\"},{\"id\":\"2600197f-73ec-4171-b5ac-e8be6c622ccc\",\"type\":\"HelpTool\"}]},\"id\":\"748d3b1a-1479-40bb-8766-8ba8dc62e450\",\"type\":\"Toolbar\"},{\"attributes\":{\"source\":{\"id\":\"cbbec0fb-9026-4464-82b8-f8550d2246b9\",\"type\":\"ColumnDataSource\"}},\"id\":\"37742211-83e4-4aea-98ba-2d82b5264e65\",\"type\":\"CDSView\"},{\"attributes\":{},\"id\":\"f33f4629-62fe-471e-b371-f4295f486b1a\",\"type\":\"CategoricalScale\"},{\"attributes\":{\"callback\":null},\"id\":\"11c35b97-87ad-4ad8-a798-423b846df4d9\",\"type\":\"DataRange1d\"},{\"attributes\":{},\"id\":\"226900cd-6983-4b1a-a844-279b18ff66f3\",\"type\":\"LinearScale\"},{\"attributes\":{\"callback\":null,\"data\":{\"x\":[\"2seater\",\"compact\",\"midsize\",\"minivan\",\"pickup\",\"subcompact\",\"suv\"],\"y\":{\"__ndarray__\":\"AAAAAAAANUAAAAAAAIA1QAAAAAAAgDVAAAAAAAAAM0AAAAAAAAAqQAAAAAAAAC9AAAAAAAAALEA=\",\"dtype\":\"float64\",\"shape\":[7]}},\"selected\":{\"id\":\"f1b6bf73-879c-4ce3-bb06-908577e25005\",\"type\":\"Selection\"},\"selection_policy\":{\"id\":\"0a2adcd6-b0dc-4759-b13a-54f6eadde35d\",\"type\":\"UnionRenderers\"}},\"id\":\"9f95ede5-7eb7-4179-9733-de1d375cf04d\",\"type\":\"ColumnDataSource\"},{\"attributes\":{\"overlay\":{\"id\":\"7b9cdb77-368c-4b46-bb5a-9ce0fe32a1e7\",\"type\":\"BoxAnnotation\"}},\"id\":\"21a2871c-5b10-4e5b-a756-2f7ebe4589ac\",\"type\":\"BoxZoomTool\"},{\"attributes\":{\"formatter\":{\"id\":\"8faea731-e3ee-422a-b454-a81b6f6f59b7\",\"type\":\"CategoricalTickFormatter\"},\"major_label_text_font_size\":{\"value\":\"12pt\"},\"plot\":{\"id\":\"ae1799db-e45b-46a5-8457-504f51269d4f\",\"subtype\":\"Figure\",\"type\":\"Plot\"},\"ticker\":{\"id\":\"bed4eedc-d14c-418a-a2bd-00eac6af33da\",\"type\":\"CategoricalTicker\"}},\"id\":\"6dcc2205-32b9-449c-9e94-08e5ec08778d\",\"type\":\"CategoricalAxis\"},{\"attributes\":{\"plot\":{\"id\":\"ae1799db-e45b-46a5-8457-504f51269d4f\",\"subtype\":\"Figure\",\"type\":\"Plot\"},\"ticker\":{\"id\":\"bed4eedc-d14c-418a-a2bd-00eac6af33da\",\"type\":\"CategoricalTicker\"}},\"id\":\"cc0f22e7-9679-4be6-89f3-33bbe734a60e\",\"type\":\"Grid\"},{\"attributes\":{\"bottom\":{\"field\":\"bottom\"},\"fill_alpha\":{\"value\":0.1},\"fill_color\":{\"value\":\"#1f77b4\"},\"line_alpha\":{\"value\":0.1},\"line_color\":{\"value\":\"#1f77b4\"},\"top\":{\"field\":\"top\"},\"width\":{\"value\":0.7},\"x\":{\"field\":\"x\"}},\"id\":\"85e29123-090c-4ec7-b6fd-34fe76c80446\",\"type\":\"VBar\"},{\"attributes\":{\"bottom\":{\"field\":\"bottom\"},\"fill_color\":{\"value\":\"white\"},\"top\":{\"field\":\"top\"},\"width\":{\"value\":0.7},\"x\":{\"field\":\"x\"}},\"id\":\"08640798-5b58-458c-ba2f-b3f19235a3e6\",\"type\":\"VBar\"},{\"attributes\":{\"bottom\":{\"field\":\"bottom\"},\"fill_color\":{\"value\":\"white\"},\"top\":{\"field\":\"top\"},\"width\":{\"value\":0.7},\"x\":{\"field\":\"x\"}},\"id\":\"3dd17a5b-5f11-442e-ab08-049ff27fd5ec\",\"type\":\"VBar\"},{\"attributes\":{\"fill_alpha\":{\"value\":0.1},\"fill_color\":{\"value\":\"#1f77b4\"},\"height\":{\"units\":\"data\",\"value\":0.01},\"line_alpha\":{\"value\":0.1},\"line_color\":{\"value\":\"#1f77b4\"},\"width\":{\"units\":\"data\",\"value\":0.2},\"x\":{\"field\":\"x\"},\"y\":{\"field\":\"y\"}},\"id\":\"926fbcd1-81f5-49e9-9402-c87b19bc32f6\",\"type\":\"Rect\"},{\"attributes\":{\"data_source\":{\"id\":\"f89a2084-2a77-4211-ab23-ce7b81f2e196\",\"type\":\"ColumnDataSource\"},\"glyph\":{\"id\":\"3dd17a5b-5f11-442e-ab08-049ff27fd5ec\",\"type\":\"VBar\"},\"hover_glyph\":null,\"muted_glyph\":null,\"nonselection_glyph\":{\"id\":\"85e29123-090c-4ec7-b6fd-34fe76c80446\",\"type\":\"VBar\"},\"selection_glyph\":null,\"view\":{\"id\":\"a17a76c5-0117-47c1-a188-c233a55d8c5b\",\"type\":\"CDSView\"}},\"id\":\"e8ea9868-0cb8-4635-80f9-916b0fff4acf\",\"type\":\"GlyphRenderer\"},{\"attributes\":{\"source\":{\"id\":\"f89a2084-2a77-4211-ab23-ce7b81f2e196\",\"type\":\"ColumnDataSource\"}},\"id\":\"a17a76c5-0117-47c1-a188-c233a55d8c5b\",\"type\":\"CDSView\"},{\"attributes\":{\"callback\":null,\"data\":{\"x\":[\"2seater\",\"compact\",\"midsize\",\"minivan\",\"pickup\",\"subcompact\",\"suv\"],\"y\":{\"__ndarray__\":\"AAAAAAAAPUAAAAAAAMBAQAAAAAAAwEBAAAAAAAAAO0AAAAAAAAA1QAAAAAAAwENAAAAAAAAANkA=\",\"dtype\":\"float64\",\"shape\":[7]}},\"selected\":{\"id\":\"a95a5fd3-219f-4a31-9761-5172107bb2ad\",\"type\":\"Selection\"},\"selection_policy\":{\"id\":\"2c942207-072a-4dfd-87ce-a8e508c15682\",\"type\":\"UnionRenderers\"}},\"id\":\"f93f629d-9278-4910-accf-b317b6fac518\",\"type\":\"ColumnDataSource\"},{\"attributes\":{\"fill_color\":{\"value\":\"#1f77b4\"},\"height\":{\"units\":\"data\",\"value\":0.01},\"width\":{\"units\":\"data\",\"value\":0.2},\"x\":{\"field\":\"x\"},\"y\":{\"field\":\"y\"}},\"id\":\"5c173ace-73d5-441b-809f-1c979eced1d4\",\"type\":\"Rect\"},{\"attributes\":{\"callback\":null,\"data\":{\"bottom\":{\"__ndarray__\":\"AAAAAAAAOUAAAAAAAAA7QAAAAAAAADtAAAAAAAAAN0AAAAAAAAAxQAAAAAAAADpAAAAAAACAMUA=\",\"dtype\":\"float64\",\"shape\":[7]},\"top\":{\"__ndarray__\":\"AAAAAAAAOEAAAAAAAAA6QAAAAAAAADpAAAAAAAAANkAAAAAAAAAwQAAAAAAAgDhAAAAAAAAAMUA=\",\"dtype\":\"float64\",\"shape\":[7]},\"x\":[\"2seater\",\"compact\",\"midsize\",\"minivan\",\"pickup\",\"subcompact\",\"suv\"]},\"selected\":{\"id\":\"67706f82-6b07-4294-8db3-ef5e73f0891e\",\"type\":\"Selection\"},\"selection_policy\":{\"id\":\"e7de4eb5-1708-4ac6-b8e5-b8a668aebe5f\",\"type\":\"UnionRenderers\"}},\"id\":\"f89a2084-2a77-4211-ab23-ce7b81f2e196\",\"type\":\"ColumnDataSource\"},{\"attributes\":{\"fill_alpha\":{\"value\":0.1},\"fill_color\":{\"value\":\"#1f77b4\"},\"height\":{\"units\":\"data\",\"value\":0.01},\"line_alpha\":{\"value\":0.1},\"line_color\":{\"value\":\"#1f77b4\"},\"width\":{\"units\":\"data\",\"value\":0.2},\"x\":{\"field\":\"x\"},\"y\":{\"field\":\"y\"}},\"id\":\"9f1f987e-c32e-475d-859c-109700777e16\",\"type\":\"Rect\"},{\"attributes\":{\"data_source\":{\"id\":\"9f95ede5-7eb7-4179-9733-de1d375cf04d\",\"type\":\"ColumnDataSource\"},\"glyph\":{\"id\":\"5c173ace-73d5-441b-809f-1c979eced1d4\",\"type\":\"Rect\"},\"hover_glyph\":null,\"muted_glyph\":null,\"nonselection_glyph\":{\"id\":\"926fbcd1-81f5-49e9-9402-c87b19bc32f6\",\"type\":\"Rect\"},\"selection_glyph\":null,\"view\":{\"id\":\"b8089bb1-e643-4eec-8827-73dafcee952b\",\"type\":\"CDSView\"}},\"id\":\"4d27a6b3-856b-4c27-b92c-1bbe7d46024a\",\"type\":\"GlyphRenderer\"},{\"attributes\":{\"source\":{\"id\":\"9f95ede5-7eb7-4179-9733-de1d375cf04d\",\"type\":\"ColumnDataSource\"}},\"id\":\"b8089bb1-e643-4eec-8827-73dafcee952b\",\"type\":\"CDSView\"},{\"attributes\":{\"callback\":null,\"data\":{\"x\":[\"compact\",\"compact\",\"compact\",\"compact\",\"minivan\",\"pickup\",\"pickup\",\"pickup\",\"pickup\",\"subcompact\",\"subcompact\",\"suv\",\"suv\",\"suv\",\"suv\",\"suv\",\"suv\",\"suv\",\"suv\"],\"y\":[35,37,35,44,17,12,12,12,22,44,41,12,12,25,24,27,25,26,23]},\"selected\":{\"id\":\"e3c2776c-0d9d-4a2d-b4d8-61d44ea1928c\",\"type\":\"Selection\"},\"selection_policy\":{\"id\":\"57f5a4a6-f9a3-4315-82b1-348fddafd3d8\",\"type\":\"UnionRenderers\"}},\"id\":\"517e1381-bea3-4e9b-a571-7697dd192a2f\",\"type\":\"ColumnDataSource\"},{\"attributes\":{\"bottom_units\":\"screen\",\"fill_alpha\":{\"value\":0.5},\"fill_color\":{\"value\":\"lightgrey\"},\"left_units\":\"screen\",\"level\":\"overlay\",\"line_alpha\":{\"value\":1.0},\"line_color\":{\"value\":\"black\"},\"line_dash\":[4,4],\"line_width\":{\"value\":2},\"plot\":null,\"render_mode\":\"css\",\"right_units\":\"screen\",\"top_units\":\"screen\"},\"id\":\"7b9cdb77-368c-4b46-bb5a-9ce0fe32a1e7\",\"type\":\"BoxAnnotation\"},{\"attributes\":{\"fill_color\":{\"value\":\"#1f77b4\"},\"height\":{\"units\":\"data\",\"value\":0.01},\"width\":{\"units\":\"data\",\"value\":0.2},\"x\":{\"field\":\"x\"},\"y\":{\"field\":\"y\"}},\"id\":\"a225c43f-77b6-4a87-9e4d-e59d16bbe0b3\",\"type\":\"Rect\"},{\"attributes\":{\"formatter\":{\"id\":\"895ddf10-981a-4356-b272-34bda3dae083\",\"type\":\"BasicTickFormatter\"},\"plot\":{\"id\":\"ae1799db-e45b-46a5-8457-504f51269d4f\",\"subtype\":\"Figure\",\"type\":\"Plot\"},\"ticker\":{\"id\":\"c0ec9d75-99df-456e-89ca-3a3ea9efa6e3\",\"type\":\"BasicTicker\"}},\"id\":\"51ef7ca1-5585-450e-af5a-9f45415b454e\",\"type\":\"LinearAxis\"},{\"attributes\":{},\"id\":\"895ddf10-981a-4356-b272-34bda3dae083\",\"type\":\"BasicTickFormatter\"},{\"attributes\":{\"data_source\":{\"id\":\"f93f629d-9278-4910-accf-b317b6fac518\",\"type\":\"ColumnDataSource\"},\"glyph\":{\"id\":\"a225c43f-77b6-4a87-9e4d-e59d16bbe0b3\",\"type\":\"Rect\"},\"hover_glyph\":null,\"muted_glyph\":null,\"nonselection_glyph\":{\"id\":\"9f1f987e-c32e-475d-859c-109700777e16\",\"type\":\"Rect\"},\"selection_glyph\":null,\"view\":{\"id\":\"df57e9dd-0c01-44dd-a884-a763aba89c2d\",\"type\":\"CDSView\"}},\"id\":\"1c70fe20-0261-4ff8-b47f-e93c6bc1f10a\",\"type\":\"GlyphRenderer\"},{\"attributes\":{\"source\":{\"id\":\"f93f629d-9278-4910-accf-b317b6fac518\",\"type\":\"ColumnDataSource\"}},\"id\":\"df57e9dd-0c01-44dd-a884-a763aba89c2d\",\"type\":\"CDSView\"},{\"attributes\":{\"fill_alpha\":{\"value\":0.6},\"fill_color\":{\"value\":\"black\"},\"size\":{\"units\":\"screen\",\"value\":6},\"x\":{\"field\":\"x\"},\"y\":{\"field\":\"y\"}},\"id\":\"abf4ea91-8b25-4211-8a62-385f6b0cba89\",\"type\":\"Circle\"},{\"attributes\":{\"fill_alpha\":{\"value\":0.1},\"fill_color\":{\"value\":\"#1f77b4\"},\"line_alpha\":{\"value\":0.1},\"line_color\":{\"value\":\"#1f77b4\"},\"size\":{\"units\":\"screen\",\"value\":6},\"x\":{\"field\":\"x\"},\"y\":{\"field\":\"y\"}},\"id\":\"90f3322f-f391-4e05-bb10-f64c4c1b6d06\",\"type\":\"Circle\"},{\"attributes\":{\"data_source\":{\"id\":\"517e1381-bea3-4e9b-a571-7697dd192a2f\",\"type\":\"ColumnDataSource\"},\"glyph\":{\"id\":\"abf4ea91-8b25-4211-8a62-385f6b0cba89\",\"type\":\"Circle\"},\"hover_glyph\":null,\"muted_glyph\":null,\"nonselection_glyph\":{\"id\":\"90f3322f-f391-4e05-bb10-f64c4c1b6d06\",\"type\":\"Circle\"},\"selection_glyph\":null,\"view\":{\"id\":\"329d5a0a-cd8b-456d-bed0-af0e0881137a\",\"type\":\"CDSView\"}},\"id\":\"3eaf6f89-a982-44e8-b1cf-6979b9b80f4e\",\"type\":\"GlyphRenderer\"},{\"attributes\":{\"source\":{\"id\":\"517e1381-bea3-4e9b-a571-7697dd192a2f\",\"type\":\"ColumnDataSource\"}},\"id\":\"329d5a0a-cd8b-456d-bed0-af0e0881137a\",\"type\":\"CDSView\"},{\"attributes\":{},\"id\":\"104ad57b-11f1-4489-a814-863d8bdd4590\",\"type\":\"UnionRenderers\"},{\"attributes\":{\"callback\":null,\"data\":{\"bottom\":{\"__ndarray__\":\"AAAAAAAAOkAAAAAAAAA9QAAAAAAAAD1AAAAAAAAAOEAAAAAAAAAyQAAAAAAAgD5AAAAAAAAAM0A=\",\"dtype\":\"float64\",\"shape\":[7]},\"top\":{\"__ndarray__\":\"AAAAAAAAOUAAAAAAAAA7QAAAAAAAADtAAAAAAAAAN0AAAAAAAAAxQAAAAAAAADpAAAAAAACAMUA=\",\"dtype\":\"float64\",\"shape\":[7]},\"x\":[\"2seater\",\"compact\",\"midsize\",\"minivan\",\"pickup\",\"subcompact\",\"suv\"]},\"selected\":{\"id\":\"91577081-8eb5-48c6-a808-663c2368f82b\",\"type\":\"Selection\"},\"selection_policy\":{\"id\":\"74fd5e6a-319c-43aa-8a12-17e03667d48c\",\"type\":\"UnionRenderers\"}},\"id\":\"cbbec0fb-9026-4464-82b8-f8550d2246b9\",\"type\":\"ColumnDataSource\"},{\"attributes\":{},\"id\":\"8faea731-e3ee-422a-b454-a81b6f6f59b7\",\"type\":\"CategoricalTickFormatter\"},{\"attributes\":{},\"id\":\"35b4efc5-f690-41f1-8d94-19e2e7c1b69c\",\"type\":\"Selection\"},{\"attributes\":{\"source\":{\"id\":\"0166e757-edde-4f3f-a5fb-040c754832b2\",\"type\":\"ColumnDataSource\"}},\"id\":\"c246957d-0940-479f-930b-2cd6a3453f86\",\"type\":\"CDSView\"},{\"attributes\":{\"data_source\":{\"id\":\"0166e757-edde-4f3f-a5fb-040c754832b2\",\"type\":\"ColumnDataSource\"},\"glyph\":{\"id\":\"de218d2a-0409-445e-9263-d89237362ed8\",\"type\":\"Segment\"},\"hover_glyph\":null,\"muted_glyph\":null,\"nonselection_glyph\":{\"id\":\"117ac0cd-8e51-47fb-a9f9-ac0e34b3be4d\",\"type\":\"Segment\"},\"selection_glyph\":null,\"view\":{\"id\":\"c246957d-0940-479f-930b-2cd6a3453f86\",\"type\":\"CDSView\"}},\"id\":\"8aedfb62-899e-4a3f-8a62-19f545ab1448\",\"type\":\"GlyphRenderer\"},{\"attributes\":{},\"id\":\"89fbbe97-c2bf-4749-8c23-9ff5e510c9f1\",\"type\":\"UnionRenderers\"},{\"attributes\":{},\"id\":\"40346cfd-ca31-4793-aca0-2d5a394d140e\",\"type\":\"Selection\"},{\"attributes\":{},\"id\":\"74fd5e6a-319c-43aa-8a12-17e03667d48c\",\"type\":\"UnionRenderers\"},{\"attributes\":{},\"id\":\"2600197f-73ec-4171-b5ac-e8be6c622ccc\",\"type\":\"HelpTool\"},{\"attributes\":{},\"id\":\"91577081-8eb5-48c6-a808-663c2368f82b\",\"type\":\"Selection\"},{\"attributes\":{},\"id\":\"e7de4eb5-1708-4ac6-b8e5-b8a668aebe5f\",\"type\":\"UnionRenderers\"},{\"attributes\":{},\"id\":\"67706f82-6b07-4294-8db3-ef5e73f0891e\",\"type\":\"Selection\"},{\"attributes\":{},\"id\":\"0a2adcd6-b0dc-4759-b13a-54f6eadde35d\",\"type\":\"UnionRenderers\"},{\"attributes\":{},\"id\":\"f1b6bf73-879c-4ce3-bb06-908577e25005\",\"type\":\"Selection\"},{\"attributes\":{},\"id\":\"2c942207-072a-4dfd-87ce-a8e508c15682\",\"type\":\"UnionRenderers\"},{\"attributes\":{},\"id\":\"a95a5fd3-219f-4a31-9761-5172107bb2ad\",\"type\":\"Selection\"},{\"attributes\":{\"data_source\":{\"id\":\"00d623d8-d058-4cb8-8f1a-4f761b928d69\",\"type\":\"ColumnDataSource\"},\"glyph\":{\"id\":\"c53de7ea-f874-47a1-8206-b9aa42c19cfe\",\"type\":\"Segment\"},\"hover_glyph\":null,\"muted_glyph\":null,\"nonselection_glyph\":{\"id\":\"402bf1b2-60e0-47a2-be35-114ad3fa3fd6\",\"type\":\"Segment\"},\"selection_glyph\":null,\"view\":{\"id\":\"86c5b070-7c22-463d-beae-9b75093c18ef\",\"type\":\"CDSView\"}},\"id\":\"50ed7d95-6c7f-41fb-85f7-020dc40c80aa\",\"type\":\"GlyphRenderer\"},{\"attributes\":{},\"id\":\"57f5a4a6-f9a3-4315-82b1-348fddafd3d8\",\"type\":\"UnionRenderers\"},{\"attributes\":{},\"id\":\"e3c2776c-0d9d-4a2d-b4d8-61d44ea1928c\",\"type\":\"Selection\"},{\"attributes\":{},\"id\":\"cfe778a7-46c9-45c2-868f-0e304dc5d558\",\"type\":\"WheelZoomTool\"},{\"attributes\":{},\"id\":\"ab27e768-5534-44d5-bcce-d98c6a280b9d\",\"type\":\"ResetTool\"},{\"attributes\":{\"below\":[{\"id\":\"6dcc2205-32b9-449c-9e94-08e5ec08778d\",\"type\":\"CategoricalAxis\"}],\"left\":[{\"id\":\"51ef7ca1-5585-450e-af5a-9f45415b454e\",\"type\":\"LinearAxis\"}],\"plot_height\":400,\"renderers\":[{\"id\":\"6dcc2205-32b9-449c-9e94-08e5ec08778d\",\"type\":\"CategoricalAxis\"},{\"id\":\"cc0f22e7-9679-4be6-89f3-33bbe734a60e\",\"type\":\"Grid\"},{\"id\":\"51ef7ca1-5585-450e-af5a-9f45415b454e\",\"type\":\"LinearAxis\"},{\"id\":\"de47c4ba-7ffd-4514-b9df-88a80533fb76\",\"type\":\"Grid\"},{\"id\":\"7b9cdb77-368c-4b46-bb5a-9ce0fe32a1e7\",\"type\":\"BoxAnnotation\"},{\"id\":\"8aedfb62-899e-4a3f-8a62-19f545ab1448\",\"type\":\"GlyphRenderer\"},{\"id\":\"50ed7d95-6c7f-41fb-85f7-020dc40c80aa\",\"type\":\"GlyphRenderer\"},{\"id\":\"cc58ca41-2c30-4540-89e4-213245b6ab4c\",\"type\":\"GlyphRenderer\"},{\"id\":\"e8ea9868-0cb8-4635-80f9-916b0fff4acf\",\"type\":\"GlyphRenderer\"},{\"id\":\"4d27a6b3-856b-4c27-b92c-1bbe7d46024a\",\"type\":\"GlyphRenderer\"},{\"id\":\"1c70fe20-0261-4ff8-b47f-e93c6bc1f10a\",\"type\":\"GlyphRenderer\"},{\"id\":\"3eaf6f89-a982-44e8-b1cf-6979b9b80f4e\",\"type\":\"GlyphRenderer\"}],\"title\":{\"id\":\"8e650bfe-19fc-42a0-811b-50b9640b26a1\",\"type\":\"Title\"},\"toolbar\":{\"id\":\"748d3b1a-1479-40bb-8766-8ba8dc62e450\",\"type\":\"Toolbar\"},\"x_range\":{\"id\":\"44c4a946-9f08-4125-b9b1-5b519e23631e\",\"type\":\"FactorRange\"},\"x_scale\":{\"id\":\"f33f4629-62fe-471e-b371-f4295f486b1a\",\"type\":\"CategoricalScale\"},\"y_range\":{\"id\":\"11c35b97-87ad-4ad8-a798-423b846df4d9\",\"type\":\"DataRange1d\"},\"y_scale\":{\"id\":\"226900cd-6983-4b1a-a844-279b18ff66f3\",\"type\":\"LinearScale\"}},\"id\":\"ae1799db-e45b-46a5-8457-504f51269d4f\",\"subtype\":\"Figure\",\"type\":\"Plot\"},{\"attributes\":{\"callback\":null,\"data\":{\"x0\":[\"2seater\",\"compact\",\"midsize\",\"minivan\",\"pickup\",\"subcompact\",\"suv\"],\"x1\":[\"2seater\",\"compact\",\"midsize\",\"minivan\",\"pickup\",\"subcompact\",\"suv\"],\"y0\":{\"__ndarray__\":\"AAAAAAAANUAAAAAAAIA1QAAAAAAAgDVAAAAAAAAAM0AAAAAAAAAqQAAAAAAAAC9AAAAAAAAALEA=\",\"dtype\":\"float64\",\"shape\":[7]},\"y1\":{\"__ndarray__\":\"AAAAAAAAOEAAAAAAAAA6QAAAAAAAADpAAAAAAAAANkAAAAAAAAAwQAAAAAAAgDhAAAAAAAAAMUA=\",\"dtype\":\"float64\",\"shape\":[7]}},\"selected\":{\"id\":\"40346cfd-ca31-4793-aca0-2d5a394d140e\",\"type\":\"Selection\"},\"selection_policy\":{\"id\":\"89fbbe97-c2bf-4749-8c23-9ff5e510c9f1\",\"type\":\"UnionRenderers\"}},\"id\":\"00d623d8-d058-4cb8-8f1a-4f761b928d69\",\"type\":\"ColumnDataSource\"},{\"attributes\":{\"plot\":null,\"text\":\"My plot\"},\"id\":\"8e650bfe-19fc-42a0-811b-50b9640b26a1\",\"type\":\"Title\"},{\"attributes\":{\"data_source\":{\"id\":\"cbbec0fb-9026-4464-82b8-f8550d2246b9\",\"type\":\"ColumnDataSource\"},\"glyph\":{\"id\":\"08640798-5b58-458c-ba2f-b3f19235a3e6\",\"type\":\"VBar\"},\"hover_glyph\":null,\"muted_glyph\":null,\"nonselection_glyph\":{\"id\":\"567b87a7-d50e-4ddc-86cf-ce888dabb6af\",\"type\":\"VBar\"},\"selection_glyph\":null,\"view\":{\"id\":\"37742211-83e4-4aea-98ba-2d82b5264e65\",\"type\":\"CDSView\"}},\"id\":\"cc58ca41-2c30-4540-89e4-213245b6ab4c\",\"type\":\"GlyphRenderer\"},{\"attributes\":{\"bottom\":{\"field\":\"bottom\"},\"fill_alpha\":{\"value\":0.1},\"fill_color\":{\"value\":\"#1f77b4\"},\"line_alpha\":{\"value\":0.1},\"line_color\":{\"value\":\"#1f77b4\"},\"top\":{\"field\":\"top\"},\"width\":{\"value\":0.7},\"x\":{\"field\":\"x\"}},\"id\":\"567b87a7-d50e-4ddc-86cf-ce888dabb6af\",\"type\":\"VBar\"},{\"attributes\":{},\"id\":\"3614f313-b17b-4f73-8372-fc83ee2e36a4\",\"type\":\"PanTool\"},{\"attributes\":{},\"id\":\"69de85e8-847d-4517-948b-8c60ada1a078\",\"type\":\"SaveTool\"},{\"attributes\":{\"x0\":{\"field\":\"x0\"},\"x1\":{\"field\":\"x1\"},\"y0\":{\"field\":\"y0\"},\"y1\":{\"field\":\"y1\"}},\"id\":\"de218d2a-0409-445e-9263-d89237362ed8\",\"type\":\"Segment\"},{\"attributes\":{\"dimension\":1,\"plot\":{\"id\":\"ae1799db-e45b-46a5-8457-504f51269d4f\",\"subtype\":\"Figure\",\"type\":\"Plot\"},\"ticker\":{\"id\":\"c0ec9d75-99df-456e-89ca-3a3ea9efa6e3\",\"type\":\"BasicTicker\"}},\"id\":\"de47c4ba-7ffd-4514-b9df-88a80533fb76\",\"type\":\"Grid\"},{\"attributes\":{},\"id\":\"c0ec9d75-99df-456e-89ca-3a3ea9efa6e3\",\"type\":\"BasicTicker\"},{\"attributes\":{\"line_alpha\":{\"value\":0.1},\"line_color\":{\"value\":\"#1f77b4\"},\"x0\":{\"field\":\"x0\"},\"x1\":{\"field\":\"x1\"},\"y0\":{\"field\":\"y0\"},\"y1\":{\"field\":\"y1\"}},\"id\":\"402bf1b2-60e0-47a2-be35-114ad3fa3fd6\",\"type\":\"Segment\"},{\"attributes\":{},\"id\":\"bed4eedc-d14c-418a-a2bd-00eac6af33da\",\"type\":\"CategoricalTicker\"},{\"attributes\":{\"callback\":null,\"data\":{\"x0\":[\"2seater\",\"compact\",\"midsize\",\"minivan\",\"pickup\",\"subcompact\",\"suv\"],\"x1\":[\"2seater\",\"compact\",\"midsize\",\"minivan\",\"pickup\",\"subcompact\",\"suv\"],\"y0\":{\"__ndarray__\":\"AAAAAAAAPUAAAAAAAMBAQAAAAAAAwEBAAAAAAAAAO0AAAAAAAAA1QAAAAAAAwENAAAAAAAAANkA=\",\"dtype\":\"float64\",\"shape\":[7]},\"y1\":{\"__ndarray__\":\"AAAAAAAAOkAAAAAAAAA9QAAAAAAAAD1AAAAAAAAAOEAAAAAAAAAyQAAAAAAAgD5AAAAAAAAAM0A=\",\"dtype\":\"float64\",\"shape\":[7]}},\"selected\":{\"id\":\"35b4efc5-f690-41f1-8d94-19e2e7c1b69c\",\"type\":\"Selection\"},\"selection_policy\":{\"id\":\"104ad57b-11f1-4489-a814-863d8bdd4590\",\"type\":\"UnionRenderers\"}},\"id\":\"0166e757-edde-4f3f-a5fb-040c754832b2\",\"type\":\"ColumnDataSource\"},{\"attributes\":{\"x0\":{\"field\":\"x0\"},\"x1\":{\"field\":\"x1\"},\"y0\":{\"field\":\"y0\"},\"y1\":{\"field\":\"y1\"}},\"id\":\"c53de7ea-f874-47a1-8206-b9aa42c19cfe\",\"type\":\"Segment\"},{\"attributes\":{\"line_alpha\":{\"value\":0.1},\"line_color\":{\"value\":\"#1f77b4\"},\"x0\":{\"field\":\"x0\"},\"x1\":{\"field\":\"x1\"},\"y0\":{\"field\":\"y0\"},\"y1\":{\"field\":\"y1\"}},\"id\":\"117ac0cd-8e51-47fb-a9f9-ac0e34b3be4d\",\"type\":\"Segment\"}],\"root_ids\":[\"ae1799db-e45b-46a5-8457-504f51269d4f\"]},\"title\":\"Bokeh Application\",\"version\":\"0.13.0\"}};\n",
       "  var render_items = [{\"docid\":\"38734886-9216-4725-82c6-32a5de38307d\",\"roots\":{\"ae1799db-e45b-46a5-8457-504f51269d4f\":\"da74066e-bc2e-45a6-9fe7-d093789aa255\"}}];\n",
       "  root.Bokeh.embed.embed_items_notebook(docs_json, render_items);\n",
       "\n",
       "  }\n",
       "  if (root.Bokeh !== undefined) {\n",
       "    embed_document(root);\n",
       "  } else {\n",
       "    var attempts = 0;\n",
       "    var timer = setInterval(function(root) {\n",
       "      if (root.Bokeh !== undefined) {\n",
       "        embed_document(root);\n",
       "        clearInterval(timer);\n",
       "      }\n",
       "      attempts++;\n",
       "      if (attempts > 100) {\n",
       "        console.log(\"Bokeh: ERROR: Unable to run BokehJS code because BokehJS library is missing\")\n",
       "        clearInterval(timer);\n",
       "      }\n",
       "    }, 10, root)\n",
       "  }\n",
       "})(window);"
      ],
      "application/vnd.bokehjs_exec.v0+json": ""
     },
     "metadata": {
      "application/vnd.bokehjs_exec.v0+json": {
       "id": "ae1799db-e45b-46a5-8457-504f51269d4f"
      }
     },
     "output_type": "display_data"
    }
   ],
   "source": [
    "#p <- ggplot(mpg, aes(class, hwy))\n",
    "#Prepare the data\n",
    "# find the quartiles and IQR for each category\n",
    "groups = mpg[['class','hwy']].groupby('class')\n",
    "q1 = groups.quantile(q=0.25)\n",
    "q2 = groups.quantile(q=0.5)\n",
    "q3 = groups.quantile(q=0.75)\n",
    "iqr = q3 - q1\n",
    "upper = q3 + 1.5*iqr\n",
    "lower = q1 - 1.5*iqr\n",
    "\n",
    "# find the outliers for each category\n",
    "def outliers(group):\n",
    "    cat = group.name\n",
    "    return group[(group.hwy > upper.loc[cat]['hwy']) | (group.hwy < lower.loc[cat]['hwy'])]['hwy']\n",
    "out = groups.apply(outliers).dropna()\n",
    "# prepare outlier data for plotting, we need coordinates for every outlier.\n",
    "if not out.empty:\n",
    "    outx = []\n",
    "    outy = []\n",
    "    for keys in out.index:\n",
    "        outx.append(keys[0])\n",
    "        outy.append(out.loc[keys[0]].loc[keys[1]])\n",
    "cats = list(groups.groups.keys())\n",
    "\n",
    "p = create_gv()\n",
    "# stems\n",
    "p.segment(cats, upper.hwy, cats, q3.hwy, line_color=\"black\")\n",
    "p.segment(cats, lower.hwy, cats, q1.hwy, line_color=\"black\")\n",
    "\n",
    "# boxes\n",
    "p.vbar(cats, 0.7, q2.hwy, q3.hwy, fill_color=\"white\", line_color=\"black\")\n",
    "p.vbar(cats, 0.7, q1.hwy, q2.hwy, fill_color=\"white\", line_color=\"black\")\n",
    "\n",
    "# whiskers (almost-0 height rects simpler than segments)\n",
    "p.rect(cats, lower.hwy, 0.2, 0.01, line_color=\"black\")\n",
    "p.rect(cats, upper.hwy, 0.2, 0.01, line_color=\"black\")\n",
    "\n",
    "# outliers\n",
    "if not out.empty:\n",
    "    p.circle(outx, outy, size=6, color=\"black\", fill_alpha=0.6)\n",
    "\n",
    "p.xaxis.major_label_text_font_size=\"12pt\"\n",
    "\n",
    "show(p)\n",
    "#p + geom_boxplot()"
   ]
  },
  {
   "cell_type": "code",
   "execution_count": null,
   "metadata": {},
   "outputs": [],
   "source": []
  },
  {
   "cell_type": "code",
   "execution_count": null,
   "metadata": {},
   "outputs": [],
   "source": []
  }
 ],
 "metadata": {
  "kernelspec": {
   "display_name": "Python 3",
   "language": "python",
   "name": "python3"
  },
  "language_info": {
   "codemirror_mode": {
    "name": "ipython",
    "version": 3
   },
   "file_extension": ".py",
   "mimetype": "text/x-python",
   "name": "python",
   "nbconvert_exporter": "python",
   "pygments_lexer": "ipython3",
   "version": "3.7.0"
  }
 },
 "nbformat": 4,
 "nbformat_minor": 2
}
